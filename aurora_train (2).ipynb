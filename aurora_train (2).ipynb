{
 "cells": [
  {
   "cell_type": "markdown",
   "metadata": {
    "tags": []
   },
   "source": [
    "## imports\n"
   ]
  },
  {
   "cell_type": "code",
   "execution_count": null,
   "metadata": {},
   "outputs": [],
   "source": [
    "# !ls /datasets/aurora"
   ]
  },
  {
   "cell_type": "code",
   "execution_count": null,
   "metadata": {
    "scrolled": true
   },
   "outputs": [],
   "source": []
  },
  {
   "cell_type": "code",
   "execution_count": 2,
   "metadata": {
    "colab": {
     "base_uri": "https://localhost:8080/"
    },
    "id": "BIcWnWHS6aUa",
    "outputId": "93577fbb-3835-4855-88e2-90a327fb92c4",
    "scrolled": true,
    "tags": []
   },
   "outputs": [
    {
     "name": "stdout",
     "output_type": "stream",
     "text": [
      "Defaulting to user installation because normal site-packages is not writeable\n",
      "Looking in indexes: https://download.pytorch.org/whl/cu124\n",
      "Collecting torch==2.5.0\n",
      "  Downloading https://download.pytorch.org/whl/cu124/torch-2.5.0-cp310-cp310-linux_aarch64.whl (2359.8 MB)\n",
      "\u001b[2K     \u001b[90m━━━━━━━━━━━━━━━━━━━━━━━━━━━━━━━━━━━━━━━━\u001b[0m \u001b[32m2.4/2.4 GB\u001b[0m \u001b[31m4.7 MB/s\u001b[0m eta \u001b[36m0:00:00\u001b[0m0:00:01\u001b[0m00:01\u001b[0m\n",
      "Collecting torchvision==0.20.0\n",
      "  Downloading https://download.pytorch.org/whl/cu124/torchvision-0.20.0-cp310-cp310-linux_aarch64.whl (19.9 MB)\n",
      "\u001b[2K     \u001b[90m━━━━━━━━━━━━━━━━━━━━━━━━━━━━━━━━━━━━━━━\u001b[0m \u001b[32m19.9/19.9 MB\u001b[0m \u001b[31m130.3 MB/s\u001b[0m eta \u001b[36m0:00:00\u001b[0m00:01\u001b[0m00:01\u001b[0m\n",
      "Collecting torchaudio==2.5.0\n",
      "  Downloading https://download.pytorch.org/whl/cu124/torchaudio-2.5.0-cp310-cp310-linux_aarch64.whl (3.3 MB)\n",
      "\u001b[2K     \u001b[90m━━━━━━━━━━━━━━━━━━━━━━━━━━━━━━━━━━━━━━━━\u001b[0m \u001b[32m3.3/3.3 MB\u001b[0m \u001b[31m80.5 MB/s\u001b[0m eta \u001b[36m0:00:00\u001b[0m:00:01\u001b[0m\n",
      "\u001b[?25hRequirement already satisfied: filelock in /usr/lib/python3/dist-packages (from torch==2.5.0) (3.6.0)\n",
      "Requirement already satisfied: fsspec in /usr/lib/python3/dist-packages (from torch==2.5.0) (2024.3.1)\n",
      "Requirement already satisfied: networkx in /usr/lib/python3/dist-packages (from torch==2.5.0) (2.4)\n",
      "Requirement already satisfied: jinja2 in /usr/lib/python3/dist-packages (from torch==2.5.0) (3.0.3)\n",
      "Requirement already satisfied: typing-extensions>=4.8.0 in /usr/lib/python3/dist-packages (from torch==2.5.0) (4.9.0)\n",
      "Collecting sympy==1.13.1\n",
      "  Downloading https://download.pytorch.org/whl/sympy-1.13.1-py3-none-any.whl (6.2 MB)\n",
      "\u001b[2K     \u001b[90m━━━━━━━━━━━━━━━━━━━━━━━━━━━━━━━━━━━━━━━━\u001b[0m \u001b[32m6.2/6.2 MB\u001b[0m \u001b[31m174.9 MB/s\u001b[0m eta \u001b[36m0:00:00\u001b[0m00:01\u001b[0m\n",
      "Requirement already satisfied: pillow!=8.3.*,>=5.3.0 in /usr/lib/python3/dist-packages (from torchvision==0.20.0) (9.0.1)\n",
      "Collecting numpy\n",
      "  Downloading https://download.pytorch.org/whl/numpy-1.26.3-cp310-cp310-manylinux_2_17_aarch64.manylinux2014_aarch64.whl (14.2 MB)\n",
      "\u001b[2K     \u001b[90m━━━━━━━━━━━━━━━━━━━━━━━━━━━━━━━━━━━━━━━\u001b[0m \u001b[32m14.2/14.2 MB\u001b[0m \u001b[31m226.7 MB/s\u001b[0m eta \u001b[36m0:00:00\u001b[0m00:01\u001b[0m\n",
      "Collecting mpmath<1.4,>=1.1.0\n",
      "  Downloading https://download.pytorch.org/whl/mpmath-1.3.0-py3-none-any.whl (536 kB)\n",
      "\u001b[2K     \u001b[90m━━━━━━━━━━━━━━━━━━━━━━━━━━━━━━━━━━━━━━\u001b[0m \u001b[32m536.2/536.2 KB\u001b[0m \u001b[31m57.2 MB/s\u001b[0m eta \u001b[36m0:00:00\u001b[0m\n",
      "Installing collected packages: mpmath, sympy, numpy, torch, torchvision, torchaudio\n",
      "Successfully installed mpmath-1.3.0 numpy-1.26.3 sympy-1.13.1 torch-2.5.0 torchaudio-2.5.0 torchvision-0.20.0\n",
      "Defaulting to user installation because normal site-packages is not writeable\n",
      "Collecting cdsapi\n",
      "  Downloading cdsapi-0.7.5-py2.py3-none-any.whl (12 kB)\n",
      "Collecting dask\n",
      "  Downloading dask-2024.12.1-py3-none-any.whl (1.3 MB)\n",
      "\u001b[2K     \u001b[90m━━━━━━━━━━━━━━━━━━━━━━━━━━━━━━━━━━━━━━━━\u001b[0m \u001b[32m1.3/1.3 MB\u001b[0m \u001b[31m30.4 MB/s\u001b[0m eta \u001b[36m0:00:00\u001b[0ma \u001b[36m0:00:01\u001b[0m\n",
      "Collecting xarray\n",
      "  Downloading xarray-2025.1.1-py3-none-any.whl (1.2 MB)\n",
      "\u001b[2K     \u001b[90m━━━━━━━━━━━━━━━━━━━━━━━━━━━━━━━━━━━━━━━━\u001b[0m \u001b[32m1.2/1.2 MB\u001b[0m \u001b[31m159.2 MB/s\u001b[0m eta \u001b[36m0:00:00\u001b[0m\n",
      "Collecting netcdf4\n",
      "  Downloading netCDF4-1.7.2-cp310-cp310-manylinux_2_17_aarch64.manylinux2014_aarch64.whl (9.2 MB)\n",
      "\u001b[2K     \u001b[90m━━━━━━━━━━━━━━━━━━━━━━━━━━━━━━━━━━━━━━━━\u001b[0m \u001b[32m9.2/9.2 MB\u001b[0m \u001b[31m159.9 MB/s\u001b[0m eta \u001b[36m0:00:00\u001b[0ma \u001b[36m0:00:01\u001b[0m\n",
      "Collecting matplotlib\n",
      "  Downloading matplotlib-3.10.0-cp310-cp310-manylinux_2_17_aarch64.manylinux2014_aarch64.whl (8.4 MB)\n",
      "\u001b[2K     \u001b[90m━━━━━━━━━━━━━━━━━━━━━━━━━━━━━━━━━━━━━━━━\u001b[0m \u001b[32m8.4/8.4 MB\u001b[0m \u001b[31m155.7 MB/s\u001b[0m eta \u001b[36m0:00:00\u001b[0ma \u001b[36m0:00:01\u001b[0m\n",
      "Collecting microsoft-aurora\n",
      "  Downloading microsoft_aurora-1.4.1-py3-none-any.whl (187 kB)\n",
      "\u001b[2K     \u001b[90m━━━━━━━━━━━━━━━━━━━━━━━━━━━━━━━━━━━━━━\u001b[0m \u001b[32m187.1/187.1 KB\u001b[0m \u001b[31m67.2 MB/s\u001b[0m eta \u001b[36m0:00:00\u001b[0m\n",
      "Collecting boto3\n",
      "  Downloading boto3-1.35.97-py3-none-any.whl (139 kB)\n",
      "\u001b[2K     \u001b[90m━━━━━━━━━━━━━━━━━━━━━━━━━━━━━━━━━━━━━━\u001b[0m \u001b[32m139.2/139.2 KB\u001b[0m \u001b[31m40.9 MB/s\u001b[0m eta \u001b[36m0:00:00\u001b[0m\n",
      "Collecting awscli\n",
      "  Downloading awscli-1.36.38-py3-none-any.whl (4.6 MB)\n",
      "\u001b[2K     \u001b[90m━━━━━━━━━━━━━━━━━━━━━━━━━━━━━━━━━━━━━━━━\u001b[0m \u001b[32m4.6/4.6 MB\u001b[0m \u001b[31m214.8 MB/s\u001b[0m eta \u001b[36m0:00:00\u001b[0m\n",
      "Requirement already satisfied: requests>=2.5.0 in /usr/lib/python3/dist-packages (from cdsapi) (2.25.1)\n",
      "Collecting datapi\n",
      "  Downloading datapi-0.1.2-py3-none-any.whl (26 kB)\n",
      "Collecting tqdm\n",
      "  Downloading tqdm-4.67.1-py3-none-any.whl (78 kB)\n",
      "\u001b[2K     \u001b[90m━━━━━━━━━━━━━━━━━━━━━━━━━━━━━━━━━━━━━━━━\u001b[0m \u001b[32m78.5/78.5 KB\u001b[0m \u001b[31m40.8 MB/s\u001b[0m eta \u001b[36m0:00:00\u001b[0m\n",
      "\u001b[?25hCollecting click>=8.1\n",
      "  Downloading click-8.1.8-py3-none-any.whl (98 kB)\n",
      "\u001b[2K     \u001b[90m━━━━━━━━━━━━━━━━━━━━━━━━━━━━━━━━━━━━━━━━\u001b[0m \u001b[32m98.2/98.2 KB\u001b[0m \u001b[31m51.9 MB/s\u001b[0m eta \u001b[36m0:00:00\u001b[0m\n",
      "Collecting partd>=1.4.0\n",
      "  Downloading partd-1.4.2-py3-none-any.whl (18 kB)\n",
      "Requirement already satisfied: packaging>=20.0 in /usr/lib/python3/dist-packages (from dask) (21.3)\n",
      "Collecting importlib_metadata>=4.13.0\n",
      "  Downloading importlib_metadata-8.5.0-py3-none-any.whl (26 kB)\n",
      "Collecting cloudpickle>=3.0.0\n",
      "  Downloading cloudpickle-3.1.0-py3-none-any.whl (22 kB)\n",
      "Requirement already satisfied: fsspec>=2021.09.0 in /usr/lib/python3/dist-packages (from dask) (2024.3.1)\n",
      "Collecting toolz>=0.10.0\n",
      "  Downloading toolz-1.0.0-py3-none-any.whl (56 kB)\n",
      "\u001b[2K     \u001b[90m━━━━━━━━━━━━━━━━━━━━━━━━━━━━━━━━━━━━━━━━\u001b[0m \u001b[32m56.4/56.4 KB\u001b[0m \u001b[31m26.4 MB/s\u001b[0m eta \u001b[36m0:00:00\u001b[0m\n",
      "\u001b[?25hRequirement already satisfied: pyyaml>=5.3.1 in /usr/lib/python3/dist-packages (from dask) (5.4.1)\n",
      "Requirement already satisfied: numpy>=1.24 in /home/ubuntu/.local/lib/python3.10/site-packages (from xarray) (1.26.3)\n",
      "Collecting pandas>=2.1\n",
      "  Downloading pandas-2.2.3-cp310-cp310-manylinux2014_aarch64.manylinux_2_17_aarch64.whl (66.5 MB)\n",
      "\u001b[2K     \u001b[90m━━━━━━━━━━━━━━━━━━━━━━━━━━━━━━━━━━━━━━━━\u001b[0m \u001b[32m66.5/66.5 MB\u001b[0m \u001b[31m90.3 MB/s\u001b[0m eta \u001b[36m0:00:00\u001b[0m00:01\u001b[0m00:01\u001b[0m\n",
      "Collecting packaging>=20.0\n",
      "  Downloading packaging-24.2-py3-none-any.whl (65 kB)\n",
      "\u001b[2K     \u001b[90m━━━━━━━━━━━━━━━━━━━━━━━━━━━━━━━━━━━━━━━━\u001b[0m \u001b[32m65.5/65.5 KB\u001b[0m \u001b[31m24.5 MB/s\u001b[0m eta \u001b[36m0:00:00\u001b[0m\n",
      "\u001b[?25hRequirement already satisfied: certifi in /usr/lib/python3/dist-packages (from netcdf4) (2020.6.20)\n",
      "Collecting cftime\n",
      "  Downloading cftime-1.6.4.post1-cp310-cp310-manylinux_2_17_aarch64.manylinux2014_aarch64.whl (1.3 MB)\n",
      "\u001b[2K     \u001b[90m━━━━━━━━━━━━━━━━━━━━━━━━━━━━━━━━━━━━━━━━\u001b[0m \u001b[32m1.3/1.3 MB\u001b[0m \u001b[31m135.6 MB/s\u001b[0m eta \u001b[36m0:00:00\u001b[0m\n",
      "Collecting fonttools>=4.22.0\n",
      "  Downloading fonttools-4.55.3-cp310-cp310-manylinux_2_17_aarch64.manylinux2014_aarch64.whl (4.6 MB)\n",
      "\u001b[2K     \u001b[90m━━━━━━━━━━━━━━━━━━━━━━━━━━━━━━━━━━━━━━━━\u001b[0m \u001b[32m4.6/4.6 MB\u001b[0m \u001b[31m165.9 MB/s\u001b[0m eta \u001b[36m0:00:00\u001b[0m\n",
      "\u001b[?25hRequirement already satisfied: kiwisolver>=1.3.1 in /usr/lib/python3/dist-packages (from matplotlib) (1.3.2)\n",
      "Requirement already satisfied: cycler>=0.10 in /usr/lib/python3/dist-packages (from matplotlib) (0.11.0)\n",
      "Requirement already satisfied: python-dateutil>=2.7 in /usr/lib/python3/dist-packages (from matplotlib) (2.8.1)\n",
      "Requirement already satisfied: pyparsing>=2.3.1 in /usr/lib/python3/dist-packages (from matplotlib) (2.4.7)\n",
      "Collecting contourpy>=1.0.1\n",
      "  Downloading contourpy-1.3.1-cp310-cp310-manylinux_2_17_aarch64.manylinux2014_aarch64.whl (312 kB)\n",
      "\u001b[2K     \u001b[90m━━━━━━━━━━━━━━━━━━━━━━━━━━━━━━━━━━━━━\u001b[0m \u001b[32m312.0/312.0 KB\u001b[0m \u001b[31m121.7 MB/s\u001b[0m eta \u001b[36m0:00:00\u001b[0m\n",
      "\u001b[?25hRequirement already satisfied: pillow>=8 in /usr/lib/python3/dist-packages (from matplotlib) (9.0.1)\n",
      "Requirement already satisfied: torch in /home/ubuntu/.local/lib/python3.10/site-packages (from microsoft-aurora) (2.5.0)\n",
      "Collecting timm==0.6.13\n",
      "  Downloading timm-0.6.13-py3-none-any.whl (549 kB)\n",
      "\u001b[2K     \u001b[90m━━━━━━━━━━━━━━━━━━━━━━━━━━━━━━━━━━━━━\u001b[0m \u001b[32m549.1/549.1 KB\u001b[0m \u001b[31m170.3 MB/s\u001b[0m eta \u001b[36m0:00:00\u001b[0m\n",
      "Collecting huggingface-hub\n",
      "  Downloading huggingface_hub-0.27.1-py3-none-any.whl (450 kB)\n",
      "\u001b[2K     \u001b[90m━━━━━━━━━━━━━━━━━━━━━━━━━━━━━━━━━━━━━\u001b[0m \u001b[32m450.7/450.7 KB\u001b[0m \u001b[31m153.3 MB/s\u001b[0m eta \u001b[36m0:00:00\u001b[0m\n",
      "Collecting scipy\n",
      "  Downloading scipy-1.15.1-cp310-cp310-manylinux_2_17_aarch64.manylinux2014_aarch64.whl (38.4 MB)\n",
      "\u001b[2K     \u001b[90m━━━━━━━━━━━━━━━━━━━━━━━━━━━━━━━━━━━━━━━━\u001b[0m \u001b[32m38.4/38.4 MB\u001b[0m \u001b[31m98.2 MB/s\u001b[0m eta \u001b[36m0:00:00\u001b[0m00:01\u001b[0m00:01\u001b[0m\n",
      "Requirement already satisfied: einops in /usr/lib/python3/dist-packages (from microsoft-aurora) (0.8.0)\n",
      "Requirement already satisfied: torchvision in /home/ubuntu/.local/lib/python3.10/site-packages (from timm==0.6.13->microsoft-aurora) (0.20.0)\n",
      "Collecting s3transfer<0.11.0,>=0.10.0\n",
      "  Downloading s3transfer-0.10.4-py3-none-any.whl (83 kB)\n",
      "\u001b[2K     \u001b[90m━━━━━━━━━━━━━━━━━━━━━━━━━━━━━━━━━━━━━━━━\u001b[0m \u001b[32m83.2/83.2 KB\u001b[0m \u001b[31m31.1 MB/s\u001b[0m eta \u001b[36m0:00:00\u001b[0m\n",
      "\u001b[?25hCollecting jmespath<2.0.0,>=0.7.1\n",
      "  Downloading jmespath-1.0.1-py3-none-any.whl (20 kB)\n",
      "Collecting botocore<1.36.0,>=1.35.97\n",
      "  Downloading botocore-1.35.97-py3-none-any.whl (13.3 MB)\n",
      "\u001b[2K     \u001b[90m━━━━━━━━━━━━━━━━━━━━━━━━━━━━━━━━━━━━━━━\u001b[0m \u001b[32m13.3/13.3 MB\u001b[0m \u001b[31m235.4 MB/s\u001b[0m eta \u001b[36m0:00:00\u001b[0ma \u001b[36m0:00:01\u001b[0m\n",
      "Collecting docutils<0.17,>=0.10\n",
      "  Downloading docutils-0.16-py2.py3-none-any.whl (548 kB)\n",
      "\u001b[2K     \u001b[90m━━━━━━━━━━━━━━━━━━━━━━━━━━━━━━━━━━━━━\u001b[0m \u001b[32m548.2/548.2 KB\u001b[0m \u001b[31m142.0 MB/s\u001b[0m eta \u001b[36m0:00:00\u001b[0m\n",
      "Collecting rsa<4.8,>=3.1.2\n",
      "  Downloading rsa-4.7.2-py3-none-any.whl (34 kB)\n",
      "Requirement already satisfied: colorama<0.4.7,>=0.2.5 in /usr/lib/python3/dist-packages (from awscli) (0.4.4)\n",
      "Requirement already satisfied: urllib3!=2.2.0,<3,>=1.25.4 in /usr/lib/python3/dist-packages (from botocore<1.36.0,>=1.35.97->boto3) (1.26.5)\n",
      "Collecting zipp>=3.20\n",
      "  Downloading zipp-3.21.0-py3-none-any.whl (9.6 kB)\n",
      "Requirement already satisfied: pytz>=2020.1 in /usr/lib/python3/dist-packages (from pandas>=2.1->xarray) (2022.1)\n",
      "Collecting tzdata>=2022.7\n",
      "  Downloading tzdata-2024.2-py2.py3-none-any.whl (346 kB)\n",
      "\u001b[2K     \u001b[90m━━━━━━━━━━━━━━━━━━━━━━━━━━━━━━━━━━━━━\u001b[0m \u001b[32m346.6/346.6 KB\u001b[0m \u001b[31m116.5 MB/s\u001b[0m eta \u001b[36m0:00:00\u001b[0m\n",
      "Collecting python-dateutil>=2.7\n",
      "  Downloading python_dateutil-2.9.0.post0-py2.py3-none-any.whl (229 kB)\n",
      "\u001b[2K     \u001b[90m━━━━━━━━━━━━━━━━━━━━━━━━━━━━━━━━━━━━━━\u001b[0m \u001b[32m229.9/229.9 KB\u001b[0m \u001b[31m90.8 MB/s\u001b[0m eta \u001b[36m0:00:00\u001b[0m\n",
      "\u001b[?25hCollecting locket\n",
      "  Downloading locket-1.0.0-py2.py3-none-any.whl (4.4 kB)\n",
      "Requirement already satisfied: six>=1.5 in /usr/lib/python3/dist-packages (from python-dateutil>=2.7->matplotlib) (1.16.0)\n",
      "Requirement already satisfied: pyasn1>=0.1.3 in /usr/lib/python3/dist-packages (from rsa<4.8,>=3.1.2->awscli) (0.4.8)\n",
      "Requirement already satisfied: sympy==1.13.1 in /home/ubuntu/.local/lib/python3.10/site-packages (from torch->microsoft-aurora) (1.13.1)\n",
      "Requirement already satisfied: networkx in /usr/lib/python3/dist-packages (from torch->microsoft-aurora) (2.4)\n",
      "Requirement already satisfied: typing-extensions>=4.8.0 in /usr/lib/python3/dist-packages (from torch->microsoft-aurora) (4.9.0)\n",
      "Requirement already satisfied: jinja2 in /usr/lib/python3/dist-packages (from torch->microsoft-aurora) (3.0.3)\n",
      "Requirement already satisfied: filelock in /usr/lib/python3/dist-packages (from torch->microsoft-aurora) (3.6.0)\n",
      "Requirement already satisfied: mpmath<1.4,>=1.1.0 in /home/ubuntu/.local/lib/python3.10/site-packages (from sympy==1.13.1->torch->microsoft-aurora) (1.3.0)\n",
      "Collecting multiurl>=0.3.2\n",
      "  Downloading multiurl-0.3.3.tar.gz (18 kB)\n",
      "  Preparing metadata (setup.py) ... \u001b[?25ldone\n",
      "\u001b[?25hRequirement already satisfied: attrs in /usr/lib/python3/dist-packages (from datapi->cdsapi) (21.2.0)\n",
      "Building wheels for collected packages: multiurl\n",
      "  Building wheel for multiurl (setup.py) ... \u001b[?25ldone\n",
      "\u001b[?25h  Created wheel for multiurl: filename=multiurl-0.3.3-py3-none-any.whl size=21245 sha256=ba62b218d15f4bb377564aa2b10e680ef051a7cc2932d0f7294beed214d6c07e\n",
      "  Stored in directory: /home/ubuntu/.cache/pip/wheels/be/05/e0/65a6edb0a000498aeaefbadd80228bf5ed1bdbb82840ca1692\n",
      "Successfully built multiurl\n",
      "Installing collected packages: zipp, tzdata, tqdm, toolz, scipy, rsa, python-dateutil, packaging, locket, jmespath, fonttools, docutils, contourpy, cloudpickle, click, cftime, partd, pandas, netcdf4, multiurl, matplotlib, importlib_metadata, huggingface-hub, botocore, xarray, s3transfer, datapi, dask, timm, cdsapi, boto3, awscli, microsoft-aurora\n",
      "\u001b[31mERROR: pip's dependency resolver does not currently take into account all the packages that are installed. This behaviour is the source of the following dependency conflicts.\n",
      "pipx 1.0.0 requires argcomplete>=1.9.4, but you have argcomplete 1.8.1 which is incompatible.\u001b[0m\u001b[31m\n",
      "\u001b[0mSuccessfully installed awscli-1.36.38 boto3-1.35.97 botocore-1.35.97 cdsapi-0.7.5 cftime-1.6.4.post1 click-8.1.8 cloudpickle-3.1.0 contourpy-1.3.1 dask-2024.12.1 datapi-0.1.2 docutils-0.16 fonttools-4.55.3 huggingface-hub-0.27.1 importlib_metadata-8.5.0 jmespath-1.0.1 locket-1.0.0 matplotlib-3.10.0 microsoft-aurora-1.4.1 multiurl-0.3.3 netcdf4-1.7.2 packaging-24.2 pandas-2.2.3 partd-1.4.2 python-dateutil-2.9.0.post0 rsa-4.7.2 s3transfer-0.10.4 scipy-1.15.1 timm-0.6.13 toolz-1.0.0 tqdm-4.67.1 tzdata-2024.2 xarray-2025.1.1 zipp-3.21.0\n",
      "Defaulting to user installation because normal site-packages is not writeable\n",
      "Collecting scikit-learn\n",
      "  Downloading scikit_learn-1.6.1-cp310-cp310-manylinux_2_17_aarch64.manylinux2014_aarch64.whl (12.6 MB)\n",
      "\u001b[2K     \u001b[90m━━━━━━━━━━━━━━━━━━━━━━━━━━━━━━━━━━━━━━━━\u001b[0m \u001b[32m12.6/12.6 MB\u001b[0m \u001b[31m56.8 MB/s\u001b[0m eta \u001b[36m0:00:00\u001b[0ma \u001b[36m0:00:01\u001b[0m\n",
      "Requirement already satisfied: scipy>=1.6.0 in /home/ubuntu/.local/lib/python3.10/site-packages (from scikit-learn) (1.15.1)\n",
      "Requirement already satisfied: threadpoolctl>=3.1.0 in /usr/lib/python3/dist-packages (from scikit-learn) (3.1.0)\n",
      "Collecting joblib>=1.2.0\n",
      "  Downloading joblib-1.4.2-py3-none-any.whl (301 kB)\n",
      "\u001b[2K     \u001b[90m━━━━━━━━━━━━━━━━━━━━━━━━━━━━━━━━━━━━━\u001b[0m \u001b[32m301.8/301.8 KB\u001b[0m \u001b[31m106.1 MB/s\u001b[0m eta \u001b[36m0:00:00\u001b[0m\n",
      "\u001b[?25hRequirement already satisfied: numpy>=1.19.5 in /home/ubuntu/.local/lib/python3.10/site-packages (from scikit-learn) (1.26.3)\n",
      "Installing collected packages: joblib, scikit-learn\n",
      "Successfully installed joblib-1.4.2 scikit-learn-1.6.1\n"
     ]
    }
   ],
   "source": [
    "!sudo apt remove -y python3-numpy python3-scipy\n",
    "!pip install torch==2.5.0 torchvision==0.20.0 torchaudio==2.5.0 --index-url https://download.pytorch.org/whl/cu124\n",
    "!pip install cdsapi dask xarray netcdf4 matplotlib microsoft-aurora boto3 awscli\n",
    "!export PYTORCH_CUDA_ALLOC_CONF=expandable_segments:True\n",
    "!pip install scikit-learn\n",
    "!git config --global --add safe.directory /home/ubuntu/globfire-gooddata\n",
    "# !pip install --upgrade numpy scipy"
   ]
  },
  {
   "cell_type": "markdown",
   "metadata": {},
   "source": [
    "tthe next two boxes are used for using aws cli "
   ]
  },
  {
   "cell_type": "code",
   "execution_count": 5,
   "metadata": {},
   "outputs": [
    {
     "name": "stdout",
     "output_type": "stream",
     "text": [
      "aws-cli/1.36.22 Python/3.10.12 Linux/6.8.0-1013-nvidia-64k botocore/1.35.81\n"
     ]
    }
   ],
   "source": [
    "!aws --version"
   ]
  },
  {
   "cell_type": "code",
   "execution_count": null,
   "metadata": {},
   "outputs": [],
   "source": [
    "# see awsid"
   ]
  },
  {
   "cell_type": "code",
   "execution_count": 15,
   "metadata": {
    "tags": []
   },
   "outputs": [
    {
     "name": "stderr",
     "output_type": "stream",
     "text": [
      "/home/ubuntu/.local/lib/python3.10/site-packages/matplotlib/projections/__init__.py:63: UserWarning: Unable to import Axes3D. This may be due to multiple versions of Matplotlib being installed (e.g. as a system package and as a pip package). As a result, the 3D projection is not available.\n",
      "  warnings.warn(\"Unable to import Axes3D. This may be due to multiple versions of \"\n"
     ]
    }
   ],
   "source": [
    "import xarray as xr\n",
    "from tqdm import tqdm\n",
    "from aurora import Batch, Metadata\n",
    "import os\n",
    "import glob\n",
    "import re\n",
    "import boto3\n",
    "from io import BytesIO\n",
    "import io\n",
    "import pandas as pd\n",
    "import torch.nn.functional as F\n",
    "from aurora import Aurora\n",
    "from aurora.normalisation import locations, scales\n",
    "from torch.utils.data import Dataset, DataLoader\n",
    "from torch.utils.data import random_split\n",
    "import torch.nn as nn\n",
    "import torch.optim as optim\n",
    "import torch\n",
    "import sklearn\n",
    "import numpy as np\n",
    "import gc\n",
    "# from netCDF4 import Dataset\n",
    "# import h5py\n",
    "import matplotlib.pyplot as plt"
   ]
  },
  {
   "cell_type": "code",
   "execution_count": 3,
   "metadata": {},
   "outputs": [
    {
     "data": {
      "text/plain": [
       "True"
      ]
     },
     "execution_count": 3,
     "metadata": {},
     "output_type": "execute_result"
    }
   ],
   "source": []
  },
  {
   "cell_type": "markdown",
   "metadata": {
    "jp-MarkdownHeadingCollapsed": true,
    "tags": []
   },
   "source": [
    "## importing data"
   ]
  },
  {
   "cell_type": "code",
   "execution_count": null,
   "metadata": {
    "tags": []
   },
   "outputs": [],
   "source": [
    "# see awsid for missing line\n",
    "\n",
    "# bucket_name = 'globfire-gooddata'\n",
    "# compression_settings = {'zlib': True, 'complevel': 3}\n",
    "\n",
    "# surf_comb = xr.open_mfdataset(surf_files, combine='nested')\n",
    "# encoding_surf = {var: compression_settings for var in surf_comb.data_vars}\n",
    "# surf_comb.to_netcdf(\"surf_comb.nc\", encoding=encoding_surf)\n",
    "# s3.upload_file(\"surf_comb.nc\", bucket_name, \"surf_comb.nc\")"
   ]
  },
  {
   "cell_type": "markdown",
   "metadata": {},
   "source": [
    "code for joinging 3 days worth of data together to feed into aurora"
   ]
  },
  {
   "cell_type": "code",
   "execution_count": null,
   "metadata": {
    "tags": []
   },
   "outputs": [],
   "source": [
    "download_path = \"datasets/aurora\"\n",
    "surf_path = f\"../{download_path}/fle\"\n",
    "atmos_path = f\"../{download_path}/atmospheric\"\n",
    "\n",
    "static_vars_ds = xr.open_dataset(f\"../{download_path}/static/static.nc\", engine=\"netcdf4\")\n",
    "atmos_files = glob.glob(f\"../{download_path}/atmospheric/*/*.nc\") \n",
    "atmos_files_2021 = [f for f in atmos_files if int(f.split('/')[-2]) <= 202112]\n",
    "surf_files = glob.glob(f\"../{download_path}/fle/*.nc\") "
   ]
  },
  {
   "cell_type": "code",
   "execution_count": null,
   "metadata": {
    "tags": []
   },
   "outputs": [],
   "source": [
    "starty = 2015     ## start of 2015 to end of 2021\n",
    "endy = 2021           \n",
    "date_range = pd.date_range(start=f'{starty}-01-01', end=f'{endy}-12-31', freq='D')\n",
    "\n",
    "download_path = \"datasets/aurora\"\n",
    "surf_path = f\"../{download_path}/fle\"\n",
    "atmos_path = f\"../{download_path}/atmospheric\"\n",
    "\n",
    "atmos_files = glob.glob(f\"../{download_path}/atmospheric/*/*.nc\") \n",
    "# atmos_files = glob.glob(f\"../{download_path}/atmospheric/(201[0-9][0-9]{2}|202(0|1)[0-9]{2})/*.nc\")  \n",
    "atmos_files_2021 = [f for f in atmos_files if int(f.split('/')[-2]) <= 202112]\n",
    "surf_files = glob.glob(f\"../{download_path}/fle/*.nc\") \n",
    "\n",
    "\n",
    "days = 3\n",
    "\n",
    "# ./datasets/aurora/atmospheric/201501/atmospheric_20150111.nc'\n",
    "#../datasets/aurora/fle/surf_2021-11-17.nc'"
   ]
  },
  {
   "cell_type": "code",
   "execution_count": null,
   "metadata": {
    "scrolled": true,
    "tags": []
   },
   "outputs": [],
   "source": [
    "i=0\n",
    "date_range[i:i + days]"
   ]
  },
  {
   "cell_type": "markdown",
   "metadata": {
    "jp-MarkdownHeadingCollapsed": true,
    "tags": []
   },
   "source": [
    "## basic one day batch"
   ]
  },
  {
   "cell_type": "code",
   "execution_count": 7,
   "metadata": {
    "tags": []
   },
   "outputs": [
    {
     "name": "stderr",
     "output_type": "stream",
     "text": [
      "data loading:   0%|          | 0/3 [00:00<?, ?it/s]\n"
     ]
    },
    {
     "ename": "NameError",
     "evalue": "name 'atmos_files_2021' is not defined",
     "output_type": "error",
     "traceback": [
      "\u001b[0;31m---------------------------------------------------------------------------\u001b[0m",
      "\u001b[0;31mNameError\u001b[0m                                 Traceback (most recent call last)",
      "\u001b[0;32m/tmp/ipykernel_6270/3452403814.py\u001b[0m in \u001b[0;36m<module>\u001b[0;34m\u001b[0m\n\u001b[1;32m     11\u001b[0m         \u001b[0msurf_regex\u001b[0m\u001b[0;34m.\u001b[0m\u001b[0mappend\u001b[0m\u001b[0;34m(\u001b[0m \u001b[0mre\u001b[0m\u001b[0;34m.\u001b[0m\u001b[0mcompile\u001b[0m\u001b[0;34m(\u001b[0m \u001b[0;34mrf\".*/surf_{date_window[day].strftime('%Y-%m-%d')}\\.nc$\"\u001b[0m\u001b[0;34m)\u001b[0m\u001b[0;34m)\u001b[0m\u001b[0;34m\u001b[0m\u001b[0;34m\u001b[0m\u001b[0m\n\u001b[1;32m     12\u001b[0m \u001b[0;34m\u001b[0m\u001b[0m\n\u001b[0;32m---> 13\u001b[0;31m     \u001b[0matmos_filt\u001b[0m \u001b[0;34m=\u001b[0m \u001b[0;34m[\u001b[0m\u001b[0mf\u001b[0m \u001b[0;32mfor\u001b[0m \u001b[0mf\u001b[0m \u001b[0;32min\u001b[0m \u001b[0matmos_files_2021\u001b[0m \u001b[0;32mif\u001b[0m \u001b[0many\u001b[0m\u001b[0;34m(\u001b[0m\u001b[0md\u001b[0m\u001b[0;34m.\u001b[0m\u001b[0mmatch\u001b[0m\u001b[0;34m(\u001b[0m\u001b[0mf\u001b[0m\u001b[0;34m)\u001b[0m \u001b[0;32mfor\u001b[0m \u001b[0md\u001b[0m \u001b[0;32min\u001b[0m \u001b[0matmos_regex\u001b[0m\u001b[0;34m)\u001b[0m\u001b[0;34m]\u001b[0m\u001b[0;34m\u001b[0m\u001b[0;34m\u001b[0m\u001b[0m\n\u001b[0m\u001b[1;32m     14\u001b[0m     \u001b[0msurf_filt\u001b[0m \u001b[0;34m=\u001b[0m \u001b[0;34m[\u001b[0m\u001b[0mf\u001b[0m \u001b[0;32mfor\u001b[0m \u001b[0mf\u001b[0m \u001b[0;32min\u001b[0m \u001b[0msurf_files\u001b[0m \u001b[0;32mif\u001b[0m \u001b[0many\u001b[0m\u001b[0;34m(\u001b[0m\u001b[0md\u001b[0m\u001b[0;34m.\u001b[0m\u001b[0mmatch\u001b[0m\u001b[0;34m(\u001b[0m\u001b[0mf\u001b[0m\u001b[0;34m)\u001b[0m \u001b[0;32mfor\u001b[0m \u001b[0md\u001b[0m \u001b[0;32min\u001b[0m \u001b[0msurf_regex\u001b[0m\u001b[0;34m)\u001b[0m\u001b[0;34m]\u001b[0m\u001b[0;34m\u001b[0m\u001b[0;34m\u001b[0m\u001b[0m\n\u001b[1;32m     15\u001b[0m \u001b[0;34m\u001b[0m\u001b[0m\n",
      "\u001b[0;31mNameError\u001b[0m: name 'atmos_files_2021' is not defined"
     ]
    }
   ],
   "source": [
    "variables_to_keep = ['u10', 'v10', 't2m', 'msl', 'lst', 'fire']\n",
    "date_range = pd.date_range(start=f'{2015}-01-01', end=f'{2015}-1-03', freq='D')\n",
    "days = 1\n",
    "for i in tqdm(range(len(date_range) - days + 1), desc = \"data loading\"):\n",
    "    date_window = date_range[i:i + days]\n",
    "    \n",
    "    atmos_regex = []\n",
    "    surf_regex = []\n",
    "    for day in range(days):\n",
    "        atmos_regex.append( re.compile( rf\".*/{date_window[day].strftime('%Y%m')}/atmospheric_{date_window[day].strftime('%Y%m%d')}\\.nc$\"))\n",
    "        surf_regex.append( re.compile( rf\".*/surf_{date_window[day].strftime('%Y-%m-%d')}\\.nc$\"))\n",
    "    \n",
    "    atmos_filt = [f for f in atmos_files_2021 if any(d.match(f) for d in atmos_regex)]\n",
    "    surf_filt = [f for f in surf_files if any(d.match(f) for d in surf_regex)]\n",
    "\n",
    "    print(atmos_filt)\n",
    "    print(surf_filt)\n",
    "    \n",
    "    \n",
    "    atmos_list = []\n",
    "    surf_list = []\n",
    "    \n",
    "    for day in range(len(atmos_filt)):\n",
    "        atmos_cur = xr.open_dataset(atmos_filt[day])\n",
    "        surf_cur = xr.open_dataset(surf_filt[day])\n",
    "        \n",
    "        # code for dropping variables. makes code run slower. interpolation so fast that it doest matter. \n",
    "        surf_cur = surf_cur.drop_vars([var for var in surf_cur.data_vars if var not in variables_to_keep])\n",
    "\n",
    "        atmos_list.append(atmos_cur)\n",
    "        surf_list.append(surf_cur)\n",
    "    \n",
    "    atmos_comb = xr.concat(atmos_list, dim=\"valid_time\")\n",
    "    surf_comb = xr.concat(surf_list, dim=\"valid_time\")\n",
    "    \n",
    "static_vars_ds = xr.open_dataset(f\"../{download_path}/static/static.nc\", engine=\"netcdf4\")"
   ]
  },
  {
   "cell_type": "code",
   "execution_count": null,
   "metadata": {
    "id": "_PwqH22r8h8L",
    "tags": []
   },
   "outputs": [],
   "source": [
    "\n",
    "i = 1  # Select this time index in the downloaded data.\n",
    "\n",
    "batch = Batch(\n",
    "    surf_vars={\n",
    "        # First select time points `i` and `i - 1`. Afterwards, `[None]` inserts a\n",
    "        # batch dimension of size one.\n",
    "        \"2t\": torch.from_numpy(surf_comb[\"t2m\"].values[[i - 1, i]][None]),\n",
    "        \"10u\": torch.from_numpy(surf_comb[\"u10\"].values[[i - 1, i]][None]),\n",
    "        \"10v\": torch.from_numpy(surf_comb[\"v10\"].values[[i - 1, i]][None]),\n",
    "        \"msl\": torch.from_numpy(surf_comb[\"msl\"].values[[i - 1, i]][None]),\n",
    "        \"fire\": torch.from_numpy(surf_comb[\"fire\"].values[[i - 1, i]][None]),\n",
    "        \"lst\": torch.from_numpy(surf_comb[\"lst\"].values[[i - 1, i]][None]),\n",
    "    },\n",
    "    static_vars={\n",
    "        # The static variables are constant, so we just get them for the first time.\n",
    "        \"z\": torch.from_numpy(static_vars_ds[\"z\"].values[0]),\n",
    "        \"slt\": torch.from_numpy(static_vars_ds[\"slt\"].values[0]),\n",
    "        \"lsm\": torch.from_numpy(static_vars_ds[\"lsm\"].values[0]),\n",
    "    },\n",
    "    atmos_vars={\n",
    "        \"t\": torch.from_numpy(atmos_comb[\"t\"].values[[i - 1, i]][None]),\n",
    "        \"u\": torch.from_numpy(atmos_comb[\"u\"].values[[i - 1, i]][None]),\n",
    "        \"v\": torch.from_numpy(atmos_comb[\"v\"].values[[i - 1, i]][None]),\n",
    "        \"q\": torch.from_numpy(atmos_comb[\"q\"].values[[i - 1, i]][None]),\n",
    "        \"z\": torch.from_numpy(atmos_comb[\"z\"].values[[i - 1, i]][None]),\n",
    "    },\n",
    "    metadata=Metadata(\n",
    "        lat=torch.from_numpy(surf_comb.latitude.values),\n",
    "        lon=torch.from_numpy(surf_comb.longitude.values),\n",
    "        # Converting to `datetime64[s]` ensures that the output of `tolist()` gives\n",
    "        # `datetime.datetime`s. Note that this needs to be a tuple of length one:\n",
    "        # one value for every batch element.\n",
    "        time=(surf_comb.valid_time.values.astype(\"datetime64[s]\").tolist()[i],),\n",
    "        atmos_levels=tuple(int(level) for level in atmos_comb.pressure_level.values),\n",
    "    ),\n",
    ")"
   ]
  },
  {
   "cell_type": "code",
   "execution_count": null,
   "metadata": {
    "tags": []
   },
   "outputs": [],
   "source": [
    "# static_vars_ds = xr.open_dataset(f\"../{download_path}/static/static.nc\", engine=\"netcdf4\")\n",
    "# surf_vars_ds = xr.open_dataset(f\"../{download_path}/fle/surf_2015-01-04.nc\", engine=\"netcdf4\")\n",
    "# atmos_vars_ds = xr.open_dataset(f\"../{download_path}/atmospheric/201501/atmospheric_20150104.nc\", engine=\"netcdf4\")\n",
    "\n",
    "\n",
    "j = i+1  # Select this time index in the downloaded data.\n",
    "\n",
    "surf_size = (720, 1440)\n",
    "atmos_size = (720, 1440)\n",
    "\n",
    "surf_vars={\n",
    "    # First select time points `i` and `i - 1`. Afterwards, `[None]` inserts a\n",
    "    # batch dimension of size one.\n",
    "    \"2t\": torch.from_numpy(surf_comb[\"t2m\"].values[[j]][None]),\n",
    "    \"10u\": torch.from_numpy(surf_comb[\"u10\"].values[[j]][None]),\n",
    "    \"10v\": torch.from_numpy(surf_comb[\"v10\"].values[[j]][None]),\n",
    "    \"msl\": torch.from_numpy(surf_comb[\"msl\"].values[[j]][None]),\n",
    "    \"fire\": torch.from_numpy(surf_comb[\"fire\"].values[[j]][None]),\n",
    "    \"lst\": torch.from_numpy(surf_comb[\"lst\"].values[[j]][None]),\n",
    "}\n",
    "static_vars={\n",
    "    # The static variables are constant, so we just get them for the first time.\n",
    "    \"z\": torch.from_numpy(static_vars_ds[\"z\"].values[0]),\n",
    "    \"slt\": torch.from_numpy(static_vars_ds[\"slt\"].values[0]),\n",
    "    \"lsm\": torch.from_numpy(static_vars_ds[\"lsm\"].values[0]),\n",
    "}\n",
    "atmos_vars={\n",
    "    \"t\": torch.from_numpy(atmos_comb[\"t\"].values[[j]][None]),\n",
    "    \"u\": torch.from_numpy(atmos_comb[\"u\"].values[[j]][None]),\n",
    "    \"v\": torch.from_numpy(atmos_comb[\"v\"].values[[j]][None]),\n",
    "    \"q\": torch.from_numpy(atmos_comb[\"q\"].values[[j]][None]),\n",
    "    \"z\": torch.from_numpy(atmos_comb[\"z\"].values[[j]][None]),\n",
    "}\n",
    "\n",
    "output_size = (720, 1440)\n",
    "\n",
    "interpolated_surf_vars = {\n",
    "    key: F.interpolate(value, size=surf_size, mode='bilinear', align_corners=False)\n",
    "    for key, value in surf_vars.items()\n",
    "}\n",
    "\n",
    "interpolated_atmos_vars = {\n",
    "    key: F.interpolate(value.view(-1, 1, 721, 1440), size=atmos_size, mode='bilinear', align_corners=False).view(value.shape[0], value.shape[1], value.shape[2], 720, 1440)\n",
    "    for key, value in atmos_vars.items()\n",
    "}\n",
    "\n",
    "interpolated_static_vars = {\n",
    "    key: F.interpolate(value.unsqueeze(0).unsqueeze(0), size=output_size, mode='bilinear', align_corners=False).squeeze(0).squeeze(0)\n",
    "    for key, value in static_vars.items()\n",
    "}\n",
    "\n",
    "\n",
    "batch2 = Batch(\n",
    "    surf_vars = interpolated_surf_vars,\n",
    "    static_vars=interpolated_static_vars,\n",
    "    atmos_vars=interpolated_atmos_vars,\n",
    "    metadata=Metadata(\n",
    "        lat=torch.from_numpy(surf_comb.latitude.values),\n",
    "        lon=torch.from_numpy(surf_comb.longitude.values),\n",
    "        # Converting to `datetime64[s]` ensures that the output of `tolist()` gives\n",
    "        # `datetime.datetime`s. Note that this needs to be a tuple of length one:\n",
    "        # one value for every batch element.\n",
    "        time=(surf_comb.valid_time.values.astype(\"datetime64[s]\").tolist()[i],),\n",
    "        atmos_levels=tuple(int(level) for level in atmos_comb.pressure_level.values),\n",
    "    ),\n",
    ")"
   ]
  },
  {
   "cell_type": "markdown",
   "metadata": {
    "jp-MarkdownHeadingCollapsed": true,
    "tags": []
   },
   "source": [
    "## convert to dataset and dataloader "
   ]
  },
  {
   "cell_type": "code",
   "execution_count": 6,
   "metadata": {
    "tags": []
   },
   "outputs": [],
   "source": [
    "\n",
    "# using surf_comb is not the best solution\n",
    "# lstdata = torch.from_numpy(surf_comb[\"lst\"].values[[i - 1, i]][None])\n",
    "# Normalisation means:\n",
    "locations[\"fire\"] = 0.0\n",
    "locations[\"lst\"] = 11484.10859\n",
    "\n",
    "# Normalisation standard deviations:\n",
    "scales[\"fire\"] = 1.0\n",
    "scales[\"lst\"] = 8109.33224"
   ]
  },
  {
   "cell_type": "code",
   "execution_count": 7,
   "metadata": {
    "tags": []
   },
   "outputs": [],
   "source": [
    "def data_retreive ( atmos_files, surf_files, date_range, days, idx , variables_to_keep = None ):\n",
    "    date_window = date_range[idx:idx + days]\n",
    "\n",
    "    atmos_regex = []\n",
    "    surf_regex = []\n",
    "    for day in range(days):\n",
    "        atmos_regex.append( re.compile( rf\".*/{date_window[day].strftime('%Y%m')}/atmospheric_{date_window[day].strftime('%Y%m%d')}\\.nc$\"))\n",
    "        surf_regex.append( re.compile( rf\".*/surf_{date_window[day].strftime('%Y-%m-%d')}\\.nc$\"))\n",
    "\n",
    "    atmos_filt = [f for f in atmos_files if any(d.match(f) for d in atmos_regex)]\n",
    "    surf_filt = [f for f in surf_files if any(d.match(f) for d in surf_regex)]\n",
    "    atmos_list = []\n",
    "    surf_list = []\n",
    "\n",
    "    for day in range(len(atmos_filt)):\n",
    "        with xr.open_dataset(atmos_filt[day])as atmos_cur, xr.open_dataset(surf_filt[day]) as surf_cur :\n",
    "\n",
    "            # code for dropping variables. makes code run slower. interpolation so fast that it doest matter. \n",
    "            if variables_to_keep is not None:\n",
    "                surf_cur = surf_cur.drop_vars([var for var in surf_cur.data_vars if var not in variables_to_keep])\n",
    "\n",
    "            atmos_list.append(atmos_cur.load())\n",
    "            surf_list.append(surf_cur.load())\n",
    "\n",
    "    atmos_comb = xr.concat(atmos_list, dim=\"valid_time\")\n",
    "    surf_comb = xr.concat(surf_list, dim=\"valid_time\")\n",
    "    return atmos_comb, surf_comb\n"
   ]
  },
  {
   "cell_type": "code",
   "execution_count": 8,
   "metadata": {
    "tags": []
   },
   "outputs": [],
   "source": [
    "def feature_label_batch(atmos_comb, surf_comb, static, interpolated_static_vars):\n",
    "    i = 1  \n",
    "    batch = Batch(\n",
    "        surf_vars={\n",
    "            # First select time points `i` and `i - 1`. Afterwards, `[None]` inserts a\n",
    "            # batch dimension of size one.\n",
    "            \"2t\": torch.from_numpy(surf_comb[\"t2m\"].values[[i - 1, i]][None]),\n",
    "            \"10u\": torch.from_numpy(surf_comb[\"u10\"].values[[i - 1, i]][None]),\n",
    "            \"10v\": torch.from_numpy(surf_comb[\"v10\"].values[[i - 1, i]][None]),\n",
    "            \"msl\": torch.from_numpy(surf_comb[\"msl\"].values[[i - 1, i]][None]),\n",
    "            \"fire\": torch.from_numpy(surf_comb[\"fire\"].values[[i - 1, i]][None]),\n",
    "            \"lst\": torch.from_numpy(surf_comb[\"lst\"].values[[i - 1, i]][None]),\n",
    "        },\n",
    "        # static_vars={\n",
    "        #     # The static variables are constant, so we just get them for the first time.\n",
    "        #     \"z\": torch.from_numpy(static_vars_ds[\"z\"].values[0]),\n",
    "        #     \"slt\": torch.from_numpy(static_vars_ds[\"slt\"].values[0]),\n",
    "        #     \"lsm\": torch.from_numpy(static_vars_ds[\"lsm\"].values[0]),\n",
    "        # },\n",
    "        static_vars=static ,\n",
    "        atmos_vars={\n",
    "            \"t\": torch.from_numpy(atmos_comb[\"t\"].values[[i - 1, i]][None]),\n",
    "            \"u\": torch.from_numpy(atmos_comb[\"u\"].values[[i - 1, i]][None]),\n",
    "            \"v\": torch.from_numpy(atmos_comb[\"v\"].values[[i - 1, i]][None]),\n",
    "            \"q\": torch.from_numpy(atmos_comb[\"q\"].values[[i - 1, i]][None]),\n",
    "            \"z\": torch.from_numpy(atmos_comb[\"z\"].values[[i - 1, i]][None]),\n",
    "        },\n",
    "        metadata=Metadata(\n",
    "            lat=torch.from_numpy(surf_comb.latitude.values),\n",
    "            lon=torch.from_numpy(surf_comb.longitude.values),\n",
    "            # Converting to `datetime64[s]` ensures that the output of `tolist()` gives\n",
    "            # `datetime.datetime`s. Note that this needs to be a tuple of length one:\n",
    "            # one value for every batch element.\n",
    "            time=(surf_comb.valid_time.values.astype(\"datetime64[s]\").tolist()[i],),\n",
    "            atmos_levels=tuple(int(level) for level in atmos_comb.pressure_level.values),\n",
    "        )\n",
    "        # metadata=metadata\n",
    "    )\n",
    "    \n",
    "    j = 2  # Select this time index in the downloaded data.\n",
    "\n",
    "    surf_size = (720, 1440)\n",
    "    atmos_size = (720, 1440)\n",
    "\n",
    "    surf_vars={\n",
    "        # First select time points `i` and `i - 1`. Afterwards, `[None]` inserts a\n",
    "        # batch dimension of size one.\n",
    "        \"2t\": torch.from_numpy(surf_comb[\"t2m\"].values[[j]][None]),\n",
    "        \"10u\": torch.from_numpy(surf_comb[\"u10\"].values[[j]][None]),\n",
    "        \"10v\": torch.from_numpy(surf_comb[\"v10\"].values[[j]][None]),\n",
    "        \"msl\": torch.from_numpy(surf_comb[\"msl\"].values[[j]][None]),\n",
    "        \"fire\": torch.from_numpy(surf_comb[\"fire\"].values[[j]][None]),\n",
    "        # ************** Comment out LST\n",
    "        \"lst\": torch.from_numpy(surf_comb[\"lst\"].values[[j]][None]),\n",
    "    }\n",
    "    # static_vars={\n",
    "    #     # The static variables are constant, so we just get them for the first time.\n",
    "    #     \"z\": torch.from_numpy(static_vars_ds[\"z\"].values[0]),\n",
    "    #     \"slt\": torch.from_numpy(static_vars_ds[\"slt\"].values[0]),\n",
    "    #     \"lsm\": torch.from_numpy(static_vars_ds[\"lsm\"].values[0]),\n",
    "    # }\n",
    "    # static_vars=static \n",
    "    atmos_vars={\n",
    "        \"t\": torch.from_numpy(atmos_comb[\"t\"].values[[j]][None]),\n",
    "        \"u\": torch.from_numpy(atmos_comb[\"u\"].values[[j]][None]),\n",
    "        \"v\": torch.from_numpy(atmos_comb[\"v\"].values[[j]][None]),\n",
    "        \"q\": torch.from_numpy(atmos_comb[\"q\"].values[[j]][None]),\n",
    "        \"z\": torch.from_numpy(atmos_comb[\"z\"].values[[j]][None]),\n",
    "    }\n",
    "\n",
    "    output_size = (720, 1440)\n",
    "\n",
    "    interpolated_surf_vars = {\n",
    "        key: F.interpolate(value, size=surf_size, mode='bilinear', align_corners=False)\n",
    "        for key, value in surf_vars.items()\n",
    "    }\n",
    "\n",
    "    interpolated_atmos_vars = {\n",
    "        key: F.interpolate(value.view(-1, 1, 721, 1440), size=atmos_size, mode='bilinear', align_corners=False).view(value.shape[0], value.shape[1], value.shape[2], 720, 1440)\n",
    "        for key, value in atmos_vars.items()\n",
    "    }\n",
    "\n",
    "    # interpolated_static_vars = {\n",
    "    #     key: F.interpolate(value.unsqueeze(0).unsqueeze(0), size=output_size, mode='bilinear', align_corners=False).squeeze(0).squeeze(0)\n",
    "    #     for key, value in static_vars.items()\n",
    "    # }\n",
    "\n",
    "\n",
    "    batch2 = Batch(\n",
    "        surf_vars = interpolated_surf_vars,\n",
    "        static_vars=interpolated_static_vars,\n",
    "        atmos_vars=interpolated_atmos_vars,\n",
    "        metadata=Metadata(\n",
    "            lat=torch.from_numpy(surf_comb.latitude.values),\n",
    "            lon=torch.from_numpy(surf_comb.longitude.values),\n",
    "            # Converting to `datetime64[s]` ensures that the output of `tolist()` gives\n",
    "            # `datetime.datetime`s. Note that this needs to be a tuple of length one:\n",
    "            # one value for every batch element.\n",
    "            time=(surf_comb.valid_time.values.astype(\"datetime64[s]\").tolist()[j],),\n",
    "            atmos_levels=tuple(int(level) for level in atmos_comb.pressure_level.values),\n",
    "        ),\n",
    "        # metadata=metadata\n",
    "    )\n",
    "    return batch, batch2"
   ]
  },
  {
   "cell_type": "code",
   "execution_count": 9,
   "metadata": {
    "tags": []
   },
   "outputs": [],
   "source": [
    "class AuroraDataset(Dataset):\n",
    "    def __init__(self, download_path, variables_to_keep , starty, endy):\n",
    "        \"\"\"\n",
    "        Args:\n",
    "            folder_path (str): Path to the folder containing the daily files.\n",
    "            transform (callable, optional): A function/transform to apply to the data.\n",
    "        \"\"\"\n",
    "        with xr.open_dataset(f\"../{download_path}/static/static.nc\", engine=\"netcdf4\") as static_vars_ds:\n",
    "            self.static={\n",
    "                # The static variables are constant, so we just get them for the first time.\n",
    "                \"z\": torch.from_numpy(static_vars_ds[\"z\"].values[0]),\n",
    "                \"slt\": torch.from_numpy(static_vars_ds[\"slt\"].values[0]),\n",
    "                \"lsm\": torch.from_numpy(static_vars_ds[\"lsm\"].values[0]),\n",
    "            }\n",
    "            self.interp_static = {\n",
    "                key: F.interpolate(value.unsqueeze(0).unsqueeze(0), size=(720, 1440), mode='bilinear', align_corners=False).squeeze(0).squeeze(0)\n",
    "                for key, value in self.static.items()\n",
    "            }\n",
    "        self.atmos_files = glob.glob(f\"../{download_path}/atmospheric/*/*.nc\") \n",
    "        self.surf_files = glob.glob(f\"../{download_path}/fle/*.nc\") \n",
    "        \n",
    "        self.window = 3\n",
    "        self.variables_to_keep = variables_to_keep\n",
    "        \n",
    "        self.date_range = pd.date_range(start=f'{starty}-01-01', end=f'{endy}-12-31', freq='D')\n",
    "        \n",
    "        # self.file_names = sorted(os.listdir(folder_path))  # Sort to ensure correct order\n",
    "        # self.transform = transform\n",
    "\n",
    "    def __len__(self):\n",
    "        \"\"\"Returns the total number of files (days).\"\"\"\n",
    "        return len(self.surf_files) - self.window + 1\n",
    "\n",
    "    def __getitem__(self, idx):\n",
    "        \"\"\"\n",
    "        Args:\n",
    "            idx (int): Index of the file to load.\n",
    "        Returns:\n",
    "            (Tensor, Tensor): Features and labels for the given day.\n",
    "        \"\"\"\n",
    "#         file_path = os.path.join(self.folder_path, self.file_names[idx])\n",
    "        \n",
    "        #                       \n",
    "        atmos, surf = data_retreive(self.atmos_files, self.surf_files, self.date_range\n",
    "                             , self.window, idx, self.variables_to_keep)\n",
    "        \n",
    "        # metadata=Metadata(\n",
    "        #     lat=torch.from_numpy(surf.latitude.values),\n",
    "        #     lon=torch.from_numpy(surf.longitude.values),\n",
    "        #     # Converting to `datetime64[s]` ensures that the output of `tolist()` gives\n",
    "        #     # `datetime.datetime`s. Note that this needs to be a tuple of length one:\n",
    "        #     # one value for every batch element.\n",
    "        #     time=(surf.valid_time.values.astype(\"datetime64[s]\").tolist()[1],),\n",
    "        #     atmos_levels=tuple(int(level) for level in atmos.pressure_level.values),\n",
    "        # )\n",
    "        # Assuming the last column is the label\n",
    "        features, labels = feature_label_batch(atmos, surf, self.static, self.interp_static)\n",
    "         # = label_batch(atmos, surf, self.interp_static, metadata) # metadata technically wrong for labels\n",
    "\n",
    "        # Convert to tensors\n",
    "        return (\n",
    "            features, labels\n",
    "        )\n"
   ]
  },
  {
   "cell_type": "code",
   "execution_count": 10,
   "metadata": {
    "tags": []
   },
   "outputs": [],
   "source": [
    "def aurora_collate(batch):\n",
    "    \"\"\"\n",
    "    Custom collate function for handling Batch objects as features and labels.\n",
    "\n",
    "    Args:\n",
    "        batch (list of tuples): Each tuple contains (features, labels), where\n",
    "                                features and labels are instances of `Batch`.\n",
    "\n",
    "    Returns:\n",
    "        Batched features and labels.\n",
    "    \"\"\"\n",
    "    # Separate features and labels from the batch\n",
    "    features_list, labels_list = zip(*batch)\n",
    "\n",
    "    # Function to batch the variables in each component of the `Batch` object\n",
    "    def collate_batch_components(batch_list, key):\n",
    "        return {\n",
    "            var_key: torch.stack([getattr(b, key)[var_key] for b in batch_list])\n",
    "            for var_key in getattr(batch_list[0], key)}\n",
    "\n",
    "    # Combine `surf_vars` and `atmos_vars` for features and labels\n",
    "    batched_features = Batch(\n",
    "        surf_vars=collate_batch_components(features_list, \"surf_vars\"),\n",
    "        static_vars=collate_batch_components(features_list, \"static_vars\"),\n",
    "        atmos_vars=collate_batch_components(features_list, \"atmos_vars\"),\n",
    "        metadata=Metadata(\n",
    "            lat=torch.stack([f.metadata.lat for f in features_list]),\n",
    "            lon=torch.stack([f.metadata.lon for f in features_list]),\n",
    "            time=[f.metadata.time for f in features_list],\n",
    "            atmos_levels=[f.metadata.atmos_levels for f in features_list],\n",
    "        ),\n",
    "    )\n",
    "\n",
    "    batched_labels = Batch(\n",
    "        surf_vars=collate_batch_components(labels_list, \"surf_vars\"),\n",
    "        static_vars=collate_batch_components(features_list, \"static_vars\"),\n",
    "        atmos_vars=collate_batch_components(labels_list, \"atmos_vars\"),\n",
    "        metadata=Metadata(\n",
    "            lat=torch.stack([l.metadata.lat for l in labels_list]),\n",
    "            lon=torch.stack([l.metadata.lon for l in labels_list]),\n",
    "            time=[l.metadata.time for l in labels_list],\n",
    "            atmos_levels=[l.metadata.atmos_levels for l in labels_list],\n",
    "        ),\n",
    "    )\n",
    "\n",
    "    return features_list[0], labels_list[0]\n"
   ]
  },
  {
   "cell_type": "markdown",
   "metadata": {},
   "source": [
    "## run as single block"
   ]
  },
  {
   "cell_type": "code",
   "execution_count": 14,
   "metadata": {},
   "outputs": [],
   "source": [
    "# Normalisation means:\n",
    "# locations[\"fire\"] = 0.0\n",
    "# locations[\"lst\"] = 11484.10859\n",
    "\n",
    "# Normalisation standard deviations:\n",
    "# scales[\"fire\"] = 1.0\n",
    "# scales[\"lst\"] = 8109.33224\n",
    "\n",
    "# variables_to_keep = ['u10', 'v10', 't2m', 'msl', 'fire']\n",
    "# variables_to_keep = ['u10', 'v10', 't2m', 'msl', 'lst', 'fire']\n",
    "\n",
    "def data_retreive ( atmos_files, surf_files, date_range, days, idx , variables_to_keep = None ):\n",
    "    date_window = date_range[idx:idx + days]\n",
    "    # print(date_range)\n",
    "    # print(idx)\n",
    "    # print(days)\n",
    "    atmos_regex = []\n",
    "    surf_regex = []\n",
    "    for day in range(days):\n",
    "        # note that no need to look at download path here because its already accounted for when globing inside of aurora dataset\n",
    "        # atmos_regex.append( re.compile( rf\"\\.\\./{download_path}/atmospheric/{date_window[day].strftime('%Y%m')}/atmospheric_{date_window[day].strftime('%Y%m%d')}\\.nc$\"))\n",
    "        # surf_regex.append( re.compile( rf\"\\.\\./{download_path}/fle/surf_{date_window[day].strftime('%Y-%m-%d')}\\.nc$\"))\n",
    "        # atmos_regex.append( re.compile( rf\".*/{download_path}.*/{date_window[day].strftime('%Y%m')}/atmospheric_{date_window[day].strftime('%Y%m%d')}\\.nc$\"))\n",
    "        # surf_regex.append( re.compile( rf\".*/{download_path}.*/surf_{date_window[day].strftime('%Y-%m-%d')}\\.nc$\"))\n",
    "        atmos_regex.append( re.compile( rf\".*/{date_window[day].strftime('%Y%m')}/atmospheric_{date_window[day].strftime('%Y%m%d')}\\.nc$\"))\n",
    "        surf_regex.append( re.compile( rf\".*/surf_{date_window[day].strftime('%Y-%m-%d')}\\.nc$\"))\n",
    "\n",
    "    atmos_filt = [f for f in atmos_files if any(d.match(f) for d in atmos_regex)]\n",
    "    surf_filt = [f for f in surf_files if any(d.match(f) for d in surf_regex)]\n",
    "    atmos_list = []\n",
    "    surf_list = []\n",
    "    # print(atmos_filt)\n",
    "    # print(\"surf\")\n",
    "    # print(surf_filt)\n",
    "    ds = xr.open_dataset(atmos_filt[0]).load()\n",
    "    ds.close()\n",
    "\n",
    "    # for day in range(len(atmos_filt)):\n",
    "    for day in range(days):\n",
    "        # surf_cur = None  # Initialize to None\n",
    "        # atmos_cur = None  # Initialize to None\n",
    "        # print(atmos_filt[day])\n",
    "        # with xr.open_dataset(atmos_filt[day])as atmos_cur, xr.open_dataset(surf_filt[day]) as surf_cur :\n",
    "        # try: \n",
    "        # with xr.open_dataset(atmos_filt[day])as atmos_cur, xr.open_dataset(surf_filt[day]) as surf_cur :\n",
    "        with xr.open_dataset(atmos_filt[day])as atmos_cur, xr.open_dataset(surf_filt[day]) as surf_cur :\n",
    "            # atmos_cur = xr.open_dataset(atmos_filt[day])\n",
    "            # surf_cur = xr.open_dataset(surf_filt[day])\n",
    "        \n",
    "\n",
    "            # code for dropping variables. makes code run slower. interpolation so fast that it doest matter. \n",
    "            if variables_to_keep is not None:\n",
    "                surf_cur = surf_cur.drop_vars([var for var in surf_cur.data_vars if var not in variables_to_keep])\n",
    "\n",
    "            atmos_list.append(atmos_cur.load())\n",
    "            surf_list.append(surf_cur.load())\n",
    "            \n",
    "        # finally: \n",
    "        #     if atmos_cur is not None:\n",
    "        #         atmos_cur.close()\n",
    "        #     if surf_cur is not None:\n",
    "        #         surf_cur.close()\n",
    "\n",
    "    atmos_comb = xr.concat(atmos_list, dim=\"valid_time\")\n",
    "    surf_comb = xr.concat(surf_list, dim=\"valid_time\")\n",
    "    return atmos_comb, surf_comb\n",
    "\n",
    "def feature_label_batch(atmos_comb, surf_comb, static, interpolated_static_vars):\n",
    "    i = 1  \n",
    "    batch = Batch(\n",
    "        surf_vars={\n",
    "            # First select time points `i` and `i - 1`. Afterwards, `[None]` inserts a\n",
    "            # batch dimension of size one.\n",
    "            \"2t\": torch.from_numpy(surf_comb[\"t2m\"].values[[i - 1, i]][None]),\n",
    "            \"10u\": torch.from_numpy(surf_comb[\"u10\"].values[[i - 1, i]][None]),\n",
    "            \"10v\": torch.from_numpy(surf_comb[\"v10\"].values[[i - 1, i]][None]),\n",
    "            \"msl\": torch.from_numpy(surf_comb[\"msl\"].values[[i - 1, i]][None]),\n",
    "            \"fire\": torch.from_numpy(surf_comb[\"fire\"].values[[i - 1, i]][None]),\n",
    "            \"lst\": torch.from_numpy(surf_comb[\"lst\"].values[[i - 1, i]][None]),\n",
    "        },\n",
    "        # static_vars={\n",
    "        #     # The static variables are constant, so we just get them for the first time.\n",
    "        #     \"z\": torch.from_numpy(static_vars_ds[\"z\"].values[0]),\n",
    "        #     \"slt\": torch.from_numpy(static_vars_ds[\"slt\"].values[0]),\n",
    "        #     \"lsm\": torch.from_numpy(static_vars_ds[\"lsm\"].values[0]),\n",
    "        # },\n",
    "        static_vars=static ,\n",
    "        atmos_vars={\n",
    "            \"t\": torch.from_numpy(atmos_comb[\"t\"].values[[i - 1, i]][None]),\n",
    "            \"u\": torch.from_numpy(atmos_comb[\"u\"].values[[i - 1, i]][None]),\n",
    "            \"v\": torch.from_numpy(atmos_comb[\"v\"].values[[i - 1, i]][None]),\n",
    "            \"q\": torch.from_numpy(atmos_comb[\"q\"].values[[i - 1, i]][None]),\n",
    "            \"z\": torch.from_numpy(atmos_comb[\"z\"].values[[i - 1, i]][None]),\n",
    "        },\n",
    "        metadata=Metadata(\n",
    "            lat=torch.from_numpy(surf_comb.latitude.values),\n",
    "            lon=torch.from_numpy(surf_comb.longitude.values),\n",
    "            # Converting to `datetime64[s]` ensures that the output of `tolist()` gives\n",
    "            # `datetime.datetime`s. Note that this needs to be a tuple of length one:\n",
    "            # one value for every batch element.\n",
    "            time=(surf_comb.valid_time.values.astype(\"datetime64[s]\").tolist()[i],),\n",
    "            atmos_levels=tuple(int(level) for level in atmos_comb.pressure_level.values),\n",
    "        )\n",
    "        # metadata=metadata\n",
    "    )\n",
    "    \n",
    "    # print(np.unique(batch.surf_vars[\"fire\"].cpu().numpy()))\n",
    "    \n",
    "    j = 2  # Select this time index in the downloaded data.\n",
    "\n",
    "    surf_size = (720, 1440)\n",
    "    atmos_size = (720, 1440)\n",
    "\n",
    "    surf_vars={\n",
    "        # First select time points `i` and `i - 1`. Afterwards, `[None]` inserts a\n",
    "        # batch dimension of size one.\n",
    "        \"2t\": torch.from_numpy(surf_comb[\"t2m\"].values[[j]][None]),\n",
    "        \"10u\": torch.from_numpy(surf_comb[\"u10\"].values[[j]][None]),\n",
    "        \"10v\": torch.from_numpy(surf_comb[\"v10\"].values[[j]][None]),\n",
    "        \"msl\": torch.from_numpy(surf_comb[\"msl\"].values[[j]][None]),\n",
    "        \"fire\": torch.from_numpy(surf_comb[\"fire\"].values[[j]][None]),\n",
    "        # ************** Comment out LST\n",
    "        \"lst\": torch.from_numpy(surf_comb[\"lst\"].values[[j]][None]),\n",
    "    }\n",
    "    # print(np.unique(surf_vars[\"fire\"].cpu().numpy()))\n",
    "    atmos_vars={\n",
    "        \"t\": torch.from_numpy(atmos_comb[\"t\"].values[[j]][None]),\n",
    "        \"u\": torch.from_numpy(atmos_comb[\"u\"].values[[j]][None]),\n",
    "        \"v\": torch.from_numpy(atmos_comb[\"v\"].values[[j]][None]),\n",
    "        \"q\": torch.from_numpy(atmos_comb[\"q\"].values[[j]][None]),\n",
    "        \"z\": torch.from_numpy(atmos_comb[\"z\"].values[[j]][None]),\n",
    "    }\n",
    "\n",
    "    output_size = (720, 1440)\n",
    "\n",
    "\n",
    "    interpolated_surf_vars = {\n",
    "        key: (F.interpolate(value, size=surf_size, mode='bilinear', align_corners=False) >= 0.5).int()\n",
    "        if key == \"fire\" else  F.interpolate(value, size=surf_size, mode='bilinear', align_corners=False)\n",
    "        for key, value in surf_vars.items()\n",
    "    }\n",
    "\n",
    "    # interpolated_surf_vars = {\n",
    "    #     key: F.interpolate(value, size=surf_size, mode='bilinear', align_corners=False)\n",
    "    #     for key, value in surf_vars.items()\n",
    "    # }\n",
    "\n",
    "    # used to check interpolation having a good cutoff value\n",
    "    # print(surf_vars[\"fire\"].squeeze(0).squeeze(0).shape)\n",
    "    # print(\"before count\", surf_vars[\"fire\"].squeeze(0).squeeze(0).count_nonzero() )\n",
    "    # print(\"after count\", interpolated_surf_vars[\"fire\"].squeeze(0).squeeze(0).count_nonzero() )\n",
    "    \n",
    "    interpolated_atmos_vars = {\n",
    "        key: F.interpolate(value.view(-1, 1, 721, 1440), size=atmos_size, mode='bilinear', align_corners=False).view(value.shape[0], value.shape[1], value.shape[2], 720, 1440)\n",
    "        for key, value in atmos_vars.items()\n",
    "    }\n",
    "\n",
    "    batch2 = Batch(\n",
    "        surf_vars = interpolated_surf_vars,\n",
    "        static_vars=interpolated_static_vars,\n",
    "        atmos_vars=interpolated_atmos_vars,\n",
    "        metadata=Metadata(\n",
    "            lat=torch.from_numpy(surf_comb.latitude.values),\n",
    "            lon=torch.from_numpy(surf_comb.longitude.values),\n",
    "            # Converting to `datetime64[s]` ensures that the output of `tolist()` gives\n",
    "            # `datetime.datetime`s. Note that this needs to be a tuple of length one:\n",
    "            # one value for every batch element.\n",
    "            time=(surf_comb.valid_time.values.astype(\"datetime64[s]\").tolist()[j],),\n",
    "            atmos_levels=tuple(int(level) for level in atmos_comb.pressure_level.values),\n",
    "        ),\n",
    "        # metadata=metadata\n",
    "    )\n",
    "    return batch, batch2\n",
    "\n",
    "class AuroraDataset(Dataset):\n",
    "    def __init__(self, download_path, variables_to_keep , date_range):\n",
    "        \"\"\"\n",
    "        Args:\n",
    "            folder_path (str): Path to the folder containing the daily files.\n",
    "            transform (callable, optional): A function/transform to apply to the data.\n",
    "        \"\"\"\n",
    "        # self.sumides = 5\n",
    "        # with xr.open_dataset(f\"../{download_path}/static/static.nc\", engine=\"netcdf4\") as static_vars_ds :\n",
    "        #     # static_vars_ds = pstatic_vars_ds\n",
    "            \n",
    "        #     prestatic={\n",
    "        #         # The static variables are constant, so we just get them for the first time.\n",
    "        #         \"z\": torch.from_numpy(np.copy(static_vars_ds[\"z\"].values[0])),\n",
    "        #         \"slt\": torch.from_numpy(np.copy(static_vars_ds[\"slt\"].values[0])),\n",
    "        #         \"lsm\": torch.from_numpy(np.copy(static_vars_ds[\"lsm\"].values[0])),\n",
    "        #     }\n",
    "        #     # prestatic={\n",
    "        #     #     # The static variables are constant, so we just get them for the first time.\n",
    "        #     #     \"z\": torch.from_numpy(static_vars_ds[\"z\"].values[0].copy()),\n",
    "        #     #     \"slt\": torch.from_numpy(static_vars_ds[\"slt\"].values[0].copy()),\n",
    "        #     #     \"lsm\": torch.from_numpy(static_vars_ds[\"lsm\"].values[0].copy()),\n",
    "        #     # }\n",
    "        #     print(prestatic)\n",
    "        #     self.static= prestatic\n",
    "        #     self.interp_static = {\n",
    "        #         key: F.interpolate(value.unsqueeze(0).unsqueeze(0), size=(720, 1440), mode='bilinear', align_corners=False).squeeze(0).squeeze(0)\n",
    "        #         for key, value in prestatic.items()\n",
    "        #     }\n",
    "\n",
    "        # static_vars_ds = xr.open_dataset(f\"../{download_path}/static/static.nc\", engine=\"netcdf4\")\n",
    "        # static={\n",
    "        #         # The static variables are constant, so we just get them for the first time.\n",
    "        #         \"z\": torch.from_numpy(static_vars_ds[\"z\"].values[0]),\n",
    "        #         \"slt\": torch.from_numpy(static_vars_ds[\"slt\"].values[0]),\n",
    "        #         \"lsm\": torch.from_numpy(static_vars_ds[\"lsm\"].values[0]),\n",
    "        #     }\n",
    "        # self.interp_static = {\n",
    "        #         key: F.interpolate(value.unsqueeze(0).unsqueeze(0), size=(720, 1440), mode='bilinear', align_corners=False).squeeze(0).squeeze(0)\n",
    "        #         for key, value in static.items()\n",
    "        #     }\n",
    "        # static_vars_ds.close()\n",
    "\n",
    "        \n",
    "        with xr.open_dataset(f\"../{download_path}/static/static.nc\", engine=\"netcdf4\") as static_vars_ds:\n",
    "            self.static={\n",
    "                # The static variables are constant, so we just get them for the first time.\n",
    "                \"z\": torch.from_numpy(static_vars_ds[\"z\"].values[0]),\n",
    "                \"slt\": torch.from_numpy(static_vars_ds[\"slt\"].values[0]),\n",
    "                \"lsm\": torch.from_numpy(static_vars_ds[\"lsm\"].values[0]),\n",
    "            }\n",
    "            self.interp_static = {\n",
    "                key: F.interpolate(value.unsqueeze(0).unsqueeze(0), size=(720, 1440), mode='bilinear', align_corners=False).squeeze(0).squeeze(0)\n",
    "                for key, value in self.static.items()\n",
    "            }\n",
    "            \n",
    "        self.atmos_files = glob.glob(f\"../{download_path}/atmospheric/*/*.nc\") \n",
    "        self.surf_files = glob.glob(f\"../{download_path}/fle/*.nc\") \n",
    "        \n",
    "        self.window = 3\n",
    "        self.variables_to_keep = variables_to_keep\n",
    "        \n",
    "        self.date_range = date_range\n",
    "        self.download_path = download_path\n",
    "        \n",
    "        # self.file_names = sorted(os.listdir(folder_path))  # Sort to ensure correct order\n",
    "        # self.transform = transform\n",
    "\n",
    "    def __len__(self):\n",
    "        \"\"\"Returns the total number of files (days).\"\"\"\n",
    "        # return len(self.surf_files) - self.window + 1\n",
    "        return len(date_range) - self.window + 1\n",
    "\n",
    "    def __getitem__(self, idx):\n",
    "        \"\"\"\n",
    "        Args:\n",
    "            idx (int): Index of the file to load.\n",
    "        Returns:\n",
    "            (Tensor, Tensor): Features and labels for the given day.\n",
    "        \"\"\"\n",
    "#         file_path = os.path.join(self.folder_path, self.file_names[idx])\n",
    "        \n",
    "        #                       \n",
    "        atmos, surf = data_retreive(self.atmos_files, self.surf_files, self.date_range\n",
    "                             , self.window, idx,  self.variables_to_keep)\n",
    "        \n",
    "        # metadata=Metadata(\n",
    "        #     lat=torch.from_numpy(surf.latitude.values),\n",
    "        #     lon=torch.from_numpy(surf.longitude.values),\n",
    "        #     # Converting to `datetime64[s]` ensures that the output of `tolist()` gives\n",
    "        #     # `datetime.datetime`s. Note that this needs to be a tuple of length one:\n",
    "        #     # one value for every batch element.\n",
    "        #     time=(surf.valid_time.values.astype(\"datetime64[s]\").tolist()[1],),\n",
    "        #     atmos_levels=tuple(int(level) for level in atmos.pressure_level.values),\n",
    "        # )\n",
    "        # Assuming the last column is the label\n",
    "        features, labels = feature_label_batch(atmos, surf, self.static, self.interp_static)\n",
    "         # = label_batch(atmos, surf, self.interp_static, metadata) # metadata technically wrong for labels\n",
    "        \n",
    "        # print(\"in getitem feature:\", np.unique(features.surf_vars[\"fire\"].cpu().numpy()))\n",
    "        # print(\"in getitem label:\", np.unique(labels.surf_vars[\"fire\"].cpu().numpy()))\n",
    "        # Convert to tensors\n",
    "        return (\n",
    "            features, labels\n",
    "        )\n",
    "\n",
    "def aurora_collate(batch):\n",
    "    \"\"\"\n",
    "    Custom collate function for handling Batch objects as features and labels.\n",
    "\n",
    "    Args:\n",
    "        batch (list of tuples): Each tuple contains (features, labels), where\n",
    "                                features and labels are instances of `Batch`.\n",
    "\n",
    "    Returns:\n",
    "        Batched features and labels.\n",
    "    \"\"\"\n",
    "    # Separate features and labels from the batch\n",
    "    features_list, labels_list = zip(*batch)\n",
    "\n",
    "    # Function to batch the variables in each component of the `Batch` object\n",
    "    def collate_batch_components(batch_list, key):\n",
    "        return {\n",
    "            var_key: torch.stack([getattr(b, key)[var_key] for b in batch_list])\n",
    "            for var_key in getattr(batch_list[0], key)}\n",
    "\n",
    "    # Combine `surf_vars` and `atmos_vars` for features and labels\n",
    "    batched_features = Batch(\n",
    "        surf_vars=collate_batch_components(features_list, \"surf_vars\"),\n",
    "        static_vars=collate_batch_components(features_list, \"static_vars\"),\n",
    "        atmos_vars=collate_batch_components(features_list, \"atmos_vars\"),\n",
    "        metadata=Metadata(\n",
    "            lat=torch.stack([f.metadata.lat for f in features_list]),\n",
    "            lon=torch.stack([f.metadata.lon for f in features_list]),\n",
    "            time=[f.metadata.time for f in features_list],\n",
    "            atmos_levels=[f.metadata.atmos_levels for f in features_list],\n",
    "        ),\n",
    "    )\n",
    "\n",
    "    batched_labels = Batch(\n",
    "        surf_vars=collate_batch_components(labels_list, \"surf_vars\"),\n",
    "        static_vars=collate_batch_components(features_list, \"static_vars\"),\n",
    "        atmos_vars=collate_batch_components(labels_list, \"atmos_vars\"),\n",
    "        metadata=Metadata(\n",
    "            lat=torch.stack([l.metadata.lat for l in labels_list]),\n",
    "            lon=torch.stack([l.metadata.lon for l in labels_list]),\n",
    "            time=[l.metadata.time for l in labels_list],\n",
    "            atmos_levels=[l.metadata.atmos_levels for l in labels_list],\n",
    "        ),\n",
    "    )\n",
    "\n",
    "    return features_list[0], labels_list[0]\n"
   ]
  },
  {
   "cell_type": "markdown",
   "metadata": {
    "jp-MarkdownHeadingCollapsed": true,
    "tags": []
   },
   "source": [
    "## dataset/loader testing"
   ]
  },
  {
   "cell_type": "code",
   "execution_count": 5,
   "metadata": {
    "tags": []
   },
   "outputs": [
    {
     "ename": "TypeError",
     "evalue": "AuroraDataset.__init__() takes 4 positional arguments but 5 were given",
     "output_type": "error",
     "traceback": [
      "\u001b[0;31m---------------------------------------------------------------------------\u001b[0m",
      "\u001b[0;31mTypeError\u001b[0m                                 Traceback (most recent call last)",
      "\u001b[0;32m/tmp/ipykernel_3984/1435884618.py\u001b[0m in \u001b[0;36m<module>\u001b[0;34m\u001b[0m\n\u001b[1;32m      7\u001b[0m \u001b[0;34m\u001b[0m\u001b[0m\n\u001b[1;32m      8\u001b[0m \u001b[0;34m\u001b[0m\u001b[0m\n\u001b[0;32m----> 9\u001b[0;31m \u001b[0mdataset\u001b[0m \u001b[0;34m=\u001b[0m \u001b[0mAuroraDataset\u001b[0m\u001b[0;34m(\u001b[0m\u001b[0mdownload_path\u001b[0m\u001b[0;34m,\u001b[0m \u001b[0mvariables_to_keep\u001b[0m \u001b[0;34m,\u001b[0m \u001b[0mstarty\u001b[0m\u001b[0;34m,\u001b[0m \u001b[0mendy\u001b[0m\u001b[0;34m)\u001b[0m\u001b[0;34m\u001b[0m\u001b[0;34m\u001b[0m\u001b[0m\n\u001b[0m\u001b[1;32m     10\u001b[0m \u001b[0mdataloader\u001b[0m \u001b[0;34m=\u001b[0m \u001b[0mDataLoader\u001b[0m\u001b[0;34m(\u001b[0m\u001b[0mdataset\u001b[0m\u001b[0;34m,\u001b[0m \u001b[0mbatch_size\u001b[0m\u001b[0;34m=\u001b[0m\u001b[0;36m1\u001b[0m\u001b[0;34m,\u001b[0m \u001b[0mshuffle\u001b[0m\u001b[0;34m=\u001b[0m\u001b[0;32mTrue\u001b[0m\u001b[0;34m,\u001b[0m \u001b[0mcollate_fn\u001b[0m\u001b[0;34m=\u001b[0m\u001b[0maurora_collate\u001b[0m\u001b[0;34m)\u001b[0m\u001b[0;34m\u001b[0m\u001b[0;34m\u001b[0m\u001b[0m\n",
      "\u001b[0;31mTypeError\u001b[0m: AuroraDataset.__init__() takes 4 positional arguments but 5 were given"
     ]
    }
   ],
   "source": [
    "starty = 2015     ## start of 2015 to end of 2021\n",
    "endy = 2021           \n",
    "date_range = pd.date_range(start=f'{starty}-01-01', end=f'{endy}-12-31', freq='D')\n",
    "variables_to_keep = ['u10', 'v10', 't2m', 'msl', 'lst', 'fire']\n",
    "\n",
    "download_path = \"datasets/aurora\"\n",
    "\n",
    "\n",
    "dataset = AuroraDataset(download_path, variables_to_keep , starty, endy)\n",
    "dataloader = DataLoader(dataset, batch_size=1, shuffle=True, collate_fn=aurora_collate)"
   ]
  },
  {
   "cell_type": "code",
   "execution_count": null,
   "metadata": {
    "tags": []
   },
   "outputs": [],
   "source": [
    "for features, labels in dataloader:\n",
    "    print(features.surf_vars[\"2t\"].shape)  # Ensure shapes are correct\n",
    "    print(labels.surf_vars[\"2t\"].shape)\n",
    "    break"
   ]
  },
  {
   "cell_type": "code",
   "execution_count": null,
   "metadata": {
    "tags": []
   },
   "outputs": [],
   "source": [
    "for batch_data, batch_labels in dataloader:\n",
    "    print(batch_labels)"
   ]
  },
  {
   "cell_type": "code",
   "execution_count": null,
   "metadata": {},
   "outputs": [],
   "source": [
    "# testing cell\n",
    "\n",
    "print(batch.surf_vars['2t'].size())\n",
    "print(interpolated_surf_vars['2t'].size())\n",
    "print(interpolated_atmos_vars['t'].size())\n",
    "\n",
    "# print(.size())\n",
    "# print(f\" size: {.size()}\")\n",
    "print(atmos_vars['t'].view(-1, 1, 721, 1440).size())\n",
    "print(atmos_vars['t'].view(-1, 1, 721, 1440).shape[2])\n",
    "\n",
    "# interpolated_surf_vars\n",
    "# surf_vars\n",
    "\n",
    "# print(atmos_vars['t'].size())\n",
    "# print(atmos_vars['u'].size())\n",
    "# print(atmos_vars['v'].size())\n",
    "# print(atmos_vars['q'].size())\n",
    "# print(atmos_vars['z'].size())\n",
    "# torch.from_numpy(surf_comb[\"t2m\"].values[[i - 1, i]][None])\n",
    "\n",
    "print(static_vars['z'].unsqueeze(0).unsqueeze(0).squeeze(0).size())\n",
    "\n",
    "# atmos_vars.items()\n",
    "print(batch2.surf_vars['2t'].size())\n",
    "print(interpolated_surf_vars['2t'].size())\n",
    "batch2.surf_vars['2t']\n",
    "\n",
    "print(f\"batch2 size: {batch2.surf_vars['2t'].size()}\")\n",
    "print(f\"pred size: {pred.surf_vars['2t'].size()}\")\n",
    "batch2.surf_vars['2t']"
   ]
  },
  {
   "cell_type": "code",
   "execution_count": null,
   "metadata": {},
   "outputs": [],
   "source": [
    "# interpolated_surf_vars['2t']\n",
    "# pred.surf_vars['2t']\n",
    "batch.surf_vars['2t']"
   ]
  },
  {
   "cell_type": "code",
   "execution_count": null,
   "metadata": {},
   "outputs": [],
   "source": [
    "test =  torch.from_numpy(surf_vars_ds[\"lst\"].values[[i - 1, i]][None])\n",
    "test.mean()\n",
    "test.std()"
   ]
  },
  {
   "cell_type": "markdown",
   "metadata": {},
   "source": [
    "## model "
   ]
  },
  {
   "cell_type": "code",
   "execution_count": 5,
   "metadata": {
    "tags": []
   },
   "outputs": [],
   "source": [
    "device = \"cuda\"\n",
    "\n",
    "def loss_func(batch, pred):\n",
    "    crit = nn.L1Loss()\n",
    "    batch = batch.to('cuda')\n",
    "    pred = pred.to('cuda')\n",
    "    v_w = {}\n",
    "    alpha = 0.25\n",
    "    beta = 1\n",
    "    dataset_weight = 2\n",
    "    total_vars = len(batch.surf_vars) + len(batch.atmos_vars)\n",
    "    v_w[\"2t\"] = 3.0\n",
    "    v_w[\"10u\"] = 0.77\n",
    "    v_w[\"10v\"] = 0.66\n",
    "    v_w[\"msl\"] = 1.5\n",
    "    v_w[\"z\"] = 2.8\n",
    "    v_w[\"q\"] = 0.78\n",
    "    v_w[\"t\"] = 1.7\n",
    "    v_w[\"u\"] = 0.87\n",
    "    v_w[\"v\"] = 0.6\n",
    "    v_w[\"fire\"] = 1\n",
    "    # ******* Comment out LST for now \n",
    "    # no need to comment them out as below code only checks for existing ones\n",
    "    v_w[\"lst\"] = 1\n",
    "    l_s = torch.zeros(1, dtype=torch.float32, device=device)\n",
    "    l_a = torch.zeros(1, dtype=torch.float32, device=device)\n",
    "    for key in batch.surf_vars.keys():\n",
    "        l_s += v_w[key]*crit(pred.surf_vars[key] + 1e-8, batch.surf_vars[key] + 1e-8)/(721*1440)\n",
    "    for key in batch.atmos_vars.keys():\n",
    "        l_a += v_w[key]*crit(pred.atmos_vars[key] + 1e-8, batch.atmos_vars[key] + 1e-8)/(721*1440*13)\n",
    "    \n",
    "    l = (2/total_vars)*(l_s * alpha) + (l_a*beta)\n",
    "\n",
    "    return l   "
   ]
  },
  {
   "cell_type": "code",
   "execution_count": 9,
   "metadata": {},
   "outputs": [],
   "source": [
    "# del locations[\"fire\"]\n",
    "# del scales[\"fire\"]\n",
    "# locations\n",
    "# print(locations)"
   ]
  },
  {
   "cell_type": "markdown",
   "metadata": {},
   "source": [
    "when changing things, change out instances of it in 5, location/scales, model itself."
   ]
  },
  {
   "cell_type": "code",
   "execution_count": 7,
   "metadata": {},
   "outputs": [],
   "source": [
    "# Normalisation means:\n",
    "locations[\"fire\"] =1e-8\n",
    "locations[\"lst\"] = 11484.10859\n",
    "\n",
    "# Normalisation standard deviations:\n",
    "scales[\"fire\"] = 1.0\n",
    "scales[\"lst\"] = 8109.33224\n",
    "starty = 2015     ## start of 2015 to end of 2021\n",
    "endy = 2015           \n",
    "date_range = pd.date_range(start=f'{starty}-01-01', end=f'{endy}-01-05', freq='D')\n",
    "date_range = pd.date_range(start=f'{starty}-01-01', end=f'{endy}-12-31', freq='D')\n",
    "date_range = pd.date_range(start=f'{starty+1}-01-01', end=f'{endy+1}-12-31', freq='D')\n",
    "# if keyerror, dleete variable\n",
    "# variables_to_keep = ['u10', 'v10', 't2m', 'msl', 'fire']\n",
    "# no need to worry about dong less. manually managug from 5 is way to edit for now\n",
    "variables_to_keep = ['u10', 'v10', 't2m', 'msl', 'lst', 'fire']\n",
    "\n",
    "download_path = \"globfire-gooddata/data\"\n",
    "# download_path = \"globfire-gooddata\"\n",
    "\n",
    "dataset = AuroraDataset(download_path, variables_to_keep , date_range)\n",
    "\n",
    "train_size = int(0.8 * len(dataset))  \n",
    "# train_size = int(0.95 * len(dataset))  \n",
    "test_size = len(dataset) - train_size \n",
    "train_dataset, test_dataset = random_split(dataset, [train_size, test_size])\n",
    "\n",
    "dataloader = DataLoader(train_dataset, batch_size=1, shuffle=True, collate_fn=aurora_collate)\n",
    "dataloader_test = DataLoader(test_dataset, batch_size=1, shuffle=True, collate_fn=aurora_collate)"
   ]
  },
  {
   "cell_type": "code",
   "execution_count": 26,
   "metadata": {},
   "outputs": [
    {
     "name": "stdout",
     "output_type": "stream",
     "text": [
      "[0. 1.]\n",
      "[0. 1.]\n",
      "torch.Size([721, 1440])\n",
      "before count tensor(7876)\n",
      "after count tensor(7872)\n",
      "in getitem feature: [0. 1.]\n",
      "in getitem label: [0 1]\n",
      "1\n"
     ]
    }
   ],
   "source": [
    "# xr.set_options(file_cache_maxsize=128)\n",
    "\n",
    "# for batch in dataloader:\n",
    "#     print(1)\n",
    "#     break"
   ]
  },
  {
   "cell_type": "code",
   "execution_count": 34,
   "metadata": {
    "id": "8BjNwqwL8j3n",
    "tags": []
   },
   "outputs": [],
   "source": [
    "# from aurora import Aurora, rollout\n",
    "# from aurora.normalisation import locations, scales\n",
    "\n",
    "model = Aurora(\n",
    "    use_lora=False,\n",
    "    autocast=True,      # reduces memory usage\n",
    "    surf_vars=(\"2t\", \"10u\", \"10v\", \"msl\", \"fire\",\"lst\"),\n",
    "    static_vars=(\"lsm\", \"z\", \"slt\"),\n",
    "    atmos_vars=(\"z\", \"u\", \"v\", \"t\", \"q\"),\n",
    ")\n",
    "# model = Aurora(\n",
    "#     use_lora=False,\n",
    "#     autocast=True,      # reduces memory usage\n",
    "#     # surf_vars=(\"2t\", \"10u\", \"10v\", \"msl\"),\n",
    "#     surf_vars=(\"2t\", \"10u\", \"10v\", \"msl\", \"fire\"),\n",
    "#     static_vars=(\"lsm\", \"z\", \"slt\"),\n",
    "#     atmos_vars=(\"z\", \"u\", \"v\", \"t\", \"q\"),\n",
    "# )\n",
    "\n",
    "model.load_checkpoint(\"microsoft/aurora\", \"aurora-0.25-pretrained.ckpt\", strict=False)\n",
    "model = model.to(\"cuda\")\n"
   ]
  },
  {
   "cell_type": "code",
   "execution_count": 35,
   "metadata": {
    "scrolled": true
   },
   "outputs": [
    {
     "name": "stdout",
     "output_type": "stream",
     "text": [
      "in getitem feature: [0. 1.]\n",
      "in getitem label: [0 1]\n"
     ]
    },
    {
     "name": "stderr",
     "output_type": "stream",
     "text": [
      "/tmp/ipykernel_3001/3942127936.py:26: FutureWarning: `torch.cuda.amp.autocast(args...)` is deprecated. Please use `torch.amp.autocast('cuda', args...)` instead.\n",
      "  with torch.cuda.amp.autocast():\n",
      "/home/ubuntu/.local/lib/python3.10/site-packages/torch/autograd/graph.py:825: UserWarning: cuDNN SDPA backward got grad_output.strides() != output.strides(), attempting to materialize a grad_output with matching strides... (Triggered internally at /pytorch/aten/src/ATen/native/cudnn/MHA.cpp:674.)\n",
      "  return Variable._execution_engine.run_backward(  # Calls into the C++ engine to run the backward pass\n"
     ]
    },
    {
     "name": "stdout",
     "output_type": "stream",
     "text": [
      "computed batch 1\n",
      "Allocated: 10824.03 MB\n",
      "Reserved: 71296.00 MB\n",
      "Allocated: 10824.03 MB\n",
      "Reserved: 28614.00 MB\n",
      "in getitem feature: [0. 1.]\n",
      "in getitem label: [0 1]\n"
     ]
    },
    {
     "name": "stderr",
     "output_type": "stream",
     "text": [
      "/tmp/ipykernel_3001/3942127936.py:26: FutureWarning: `torch.cuda.amp.autocast(args...)` is deprecated. Please use `torch.amp.autocast('cuda', args...)` instead.\n",
      "  with torch.cuda.amp.autocast():\n",
      "/home/ubuntu/.local/lib/python3.10/site-packages/torch/autograd/graph.py:825: UserWarning: cuDNN SDPA backward got grad_output.strides() != output.strides(), attempting to materialize a grad_output with matching strides... (Triggered internally at /pytorch/aten/src/ATen/native/cudnn/MHA.cpp:674.)\n",
      "  return Variable._execution_engine.run_backward(  # Calls into the C++ engine to run the backward pass\n"
     ]
    },
    {
     "name": "stdout",
     "output_type": "stream",
     "text": [
      "computed batch 2\n",
      "Allocated: 10824.24 MB\n",
      "Reserved: 70906.00 MB\n",
      "Allocated: 10824.24 MB\n",
      "Reserved: 36684.00 MB\n",
      "in getitem feature: [0. 1.]\n",
      "in getitem label: [0 1]\n"
     ]
    },
    {
     "name": "stderr",
     "output_type": "stream",
     "text": [
      "/tmp/ipykernel_3001/3942127936.py:26: FutureWarning: `torch.cuda.amp.autocast(args...)` is deprecated. Please use `torch.amp.autocast('cuda', args...)` instead.\n",
      "  with torch.cuda.amp.autocast():\n",
      "/home/ubuntu/.local/lib/python3.10/site-packages/torch/autograd/graph.py:825: UserWarning: cuDNN SDPA backward got grad_output.strides() != output.strides(), attempting to materialize a grad_output with matching strides... (Triggered internally at /pytorch/aten/src/ATen/native/cudnn/MHA.cpp:674.)\n",
      "  return Variable._execution_engine.run_backward(  # Calls into the C++ engine to run the backward pass\n"
     ]
    },
    {
     "name": "stdout",
     "output_type": "stream",
     "text": [
      "computed batch 3\n",
      "Allocated: 10827.73 MB\n",
      "Reserved: 71950.00 MB\n",
      "Allocated: 10827.73 MB\n",
      "Reserved: 31616.00 MB\n",
      "in getitem feature: [0. 1.]\n",
      "in getitem label: [0 1]\n"
     ]
    },
    {
     "name": "stderr",
     "output_type": "stream",
     "text": [
      "/tmp/ipykernel_3001/3942127936.py:26: FutureWarning: `torch.cuda.amp.autocast(args...)` is deprecated. Please use `torch.amp.autocast('cuda', args...)` instead.\n",
      "  with torch.cuda.amp.autocast():\n",
      "/home/ubuntu/.local/lib/python3.10/site-packages/torch/autograd/graph.py:825: UserWarning: cuDNN SDPA backward got grad_output.strides() != output.strides(), attempting to materialize a grad_output with matching strides... (Triggered internally at /pytorch/aten/src/ATen/native/cudnn/MHA.cpp:674.)\n",
      "  return Variable._execution_engine.run_backward(  # Calls into the C++ engine to run the backward pass\n"
     ]
    },
    {
     "name": "stdout",
     "output_type": "stream",
     "text": [
      "computed batch 4\n",
      "Allocated: 10821.36 MB\n",
      "Reserved: 71376.00 MB\n",
      "Allocated: 10821.36 MB\n",
      "Reserved: 28678.00 MB\n",
      "in getitem feature: [0. 1.]\n",
      "in getitem label: [0 1]\n"
     ]
    },
    {
     "name": "stderr",
     "output_type": "stream",
     "text": [
      "/tmp/ipykernel_3001/3942127936.py:26: FutureWarning: `torch.cuda.amp.autocast(args...)` is deprecated. Please use `torch.amp.autocast('cuda', args...)` instead.\n",
      "  with torch.cuda.amp.autocast():\n",
      "/home/ubuntu/.local/lib/python3.10/site-packages/torch/autograd/graph.py:825: UserWarning: cuDNN SDPA backward got grad_output.strides() != output.strides(), attempting to materialize a grad_output with matching strides... (Triggered internally at /pytorch/aten/src/ATen/native/cudnn/MHA.cpp:674.)\n",
      "  return Variable._execution_engine.run_backward(  # Calls into the C++ engine to run the backward pass\n"
     ]
    },
    {
     "name": "stdout",
     "output_type": "stream",
     "text": [
      "computed batch 5\n",
      "Allocated: 10830.46 MB\n",
      "Reserved: 70838.00 MB\n",
      "Allocated: 10830.46 MB\n",
      "Reserved: 31674.00 MB\n",
      "in getitem feature: [0. 1.]\n",
      "in getitem label: [0 1]\n"
     ]
    },
    {
     "name": "stderr",
     "output_type": "stream",
     "text": [
      "/tmp/ipykernel_3001/3942127936.py:26: FutureWarning: `torch.cuda.amp.autocast(args...)` is deprecated. Please use `torch.amp.autocast('cuda', args...)` instead.\n",
      "  with torch.cuda.amp.autocast():\n",
      "/home/ubuntu/.local/lib/python3.10/site-packages/torch/autograd/graph.py:825: UserWarning: cuDNN SDPA backward got grad_output.strides() != output.strides(), attempting to materialize a grad_output with matching strides... (Triggered internally at /pytorch/aten/src/ATen/native/cudnn/MHA.cpp:674.)\n",
      "  return Variable._execution_engine.run_backward(  # Calls into the C++ engine to run the backward pass\n"
     ]
    },
    {
     "name": "stdout",
     "output_type": "stream",
     "text": [
      "computed batch 6\n",
      "Allocated: 10825.92 MB\n",
      "Reserved: 70992.00 MB\n",
      "Allocated: 10825.92 MB\n",
      "Reserved: 30284.00 MB\n",
      "in getitem feature: [0. 1.]\n",
      "in getitem label: [0 1]\n"
     ]
    },
    {
     "name": "stderr",
     "output_type": "stream",
     "text": [
      "/tmp/ipykernel_3001/3942127936.py:26: FutureWarning: `torch.cuda.amp.autocast(args...)` is deprecated. Please use `torch.amp.autocast('cuda', args...)` instead.\n",
      "  with torch.cuda.amp.autocast():\n",
      "/home/ubuntu/.local/lib/python3.10/site-packages/torch/autograd/graph.py:825: UserWarning: cuDNN SDPA backward got grad_output.strides() != output.strides(), attempting to materialize a grad_output with matching strides... (Triggered internally at /pytorch/aten/src/ATen/native/cudnn/MHA.cpp:674.)\n",
      "  return Variable._execution_engine.run_backward(  # Calls into the C++ engine to run the backward pass\n"
     ]
    },
    {
     "name": "stdout",
     "output_type": "stream",
     "text": [
      "computed batch 7\n",
      "Allocated: 10828.16 MB\n",
      "Reserved: 70358.00 MB\n",
      "Allocated: 10828.16 MB\n",
      "Reserved: 25124.00 MB\n",
      "in getitem feature: [0. 1.]\n",
      "in getitem label: [0 1]\n"
     ]
    },
    {
     "name": "stderr",
     "output_type": "stream",
     "text": [
      "/tmp/ipykernel_3001/3942127936.py:26: FutureWarning: `torch.cuda.amp.autocast(args...)` is deprecated. Please use `torch.amp.autocast('cuda', args...)` instead.\n",
      "  with torch.cuda.amp.autocast():\n",
      "/home/ubuntu/.local/lib/python3.10/site-packages/torch/autograd/graph.py:825: UserWarning: cuDNN SDPA backward got grad_output.strides() != output.strides(), attempting to materialize a grad_output with matching strides... (Triggered internally at /pytorch/aten/src/ATen/native/cudnn/MHA.cpp:674.)\n",
      "  return Variable._execution_engine.run_backward(  # Calls into the C++ engine to run the backward pass\n"
     ]
    },
    {
     "name": "stdout",
     "output_type": "stream",
     "text": [
      "computed batch 8\n",
      "Allocated: 10826.23 MB\n",
      "Reserved: 71468.00 MB\n",
      "Allocated: 10826.23 MB\n",
      "Reserved: 27150.00 MB\n",
      "in getitem feature: [0. 1.]\n",
      "in getitem label: [0 1]\n"
     ]
    },
    {
     "name": "stderr",
     "output_type": "stream",
     "text": [
      "/tmp/ipykernel_3001/3942127936.py:26: FutureWarning: `torch.cuda.amp.autocast(args...)` is deprecated. Please use `torch.amp.autocast('cuda', args...)` instead.\n",
      "  with torch.cuda.amp.autocast():\n",
      "/home/ubuntu/.local/lib/python3.10/site-packages/torch/autograd/graph.py:825: UserWarning: cuDNN SDPA backward got grad_output.strides() != output.strides(), attempting to materialize a grad_output with matching strides... (Triggered internally at /pytorch/aten/src/ATen/native/cudnn/MHA.cpp:674.)\n",
      "  return Variable._execution_engine.run_backward(  # Calls into the C++ engine to run the backward pass\n"
     ]
    },
    {
     "name": "stdout",
     "output_type": "stream",
     "text": [
      "computed batch 9\n",
      "Allocated: 10825.65 MB\n",
      "Reserved: 71088.00 MB\n",
      "Allocated: 10825.65 MB\n",
      "Reserved: 28352.00 MB\n",
      "in getitem feature: [0. 1.]\n",
      "in getitem label: [0 1]\n"
     ]
    },
    {
     "name": "stderr",
     "output_type": "stream",
     "text": [
      "/tmp/ipykernel_3001/3942127936.py:26: FutureWarning: `torch.cuda.amp.autocast(args...)` is deprecated. Please use `torch.amp.autocast('cuda', args...)` instead.\n",
      "  with torch.cuda.amp.autocast():\n",
      "/home/ubuntu/.local/lib/python3.10/site-packages/torch/autograd/graph.py:825: UserWarning: cuDNN SDPA backward got grad_output.strides() != output.strides(), attempting to materialize a grad_output with matching strides... (Triggered internally at /pytorch/aten/src/ATen/native/cudnn/MHA.cpp:674.)\n",
      "  return Variable._execution_engine.run_backward(  # Calls into the C++ engine to run the backward pass\n"
     ]
    },
    {
     "name": "stdout",
     "output_type": "stream",
     "text": [
      "computed batch 10\n",
      "Allocated: 10826.55 MB\n",
      "Reserved: 72482.00 MB\n",
      "Allocated: 10826.55 MB\n",
      "Reserved: 27338.00 MB\n",
      "in getitem feature: [0. 1.]\n",
      "in getitem label: [0 1]\n"
     ]
    },
    {
     "name": "stderr",
     "output_type": "stream",
     "text": [
      "/tmp/ipykernel_3001/3942127936.py:26: FutureWarning: `torch.cuda.amp.autocast(args...)` is deprecated. Please use `torch.amp.autocast('cuda', args...)` instead.\n",
      "  with torch.cuda.amp.autocast():\n",
      "/home/ubuntu/.local/lib/python3.10/site-packages/torch/autograd/graph.py:825: UserWarning: cuDNN SDPA backward got grad_output.strides() != output.strides(), attempting to materialize a grad_output with matching strides... (Triggered internally at /pytorch/aten/src/ATen/native/cudnn/MHA.cpp:674.)\n",
      "  return Variable._execution_engine.run_backward(  # Calls into the C++ engine to run the backward pass\n"
     ]
    },
    {
     "name": "stdout",
     "output_type": "stream",
     "text": [
      "computed batch 11\n",
      "Allocated: 10824.85 MB\n",
      "Reserved: 70960.00 MB\n",
      "Allocated: 10824.85 MB\n",
      "Reserved: 29366.00 MB\n",
      "in getitem feature: [0. 1.]\n",
      "in getitem label: [0 1]\n"
     ]
    },
    {
     "name": "stderr",
     "output_type": "stream",
     "text": [
      "/tmp/ipykernel_3001/3942127936.py:26: FutureWarning: `torch.cuda.amp.autocast(args...)` is deprecated. Please use `torch.amp.autocast('cuda', args...)` instead.\n",
      "  with torch.cuda.amp.autocast():\n",
      "/home/ubuntu/.local/lib/python3.10/site-packages/torch/autograd/graph.py:825: UserWarning: cuDNN SDPA backward got grad_output.strides() != output.strides(), attempting to materialize a grad_output with matching strides... (Triggered internally at /pytorch/aten/src/ATen/native/cudnn/MHA.cpp:674.)\n",
      "  return Variable._execution_engine.run_backward(  # Calls into the C++ engine to run the backward pass\n"
     ]
    },
    {
     "name": "stdout",
     "output_type": "stream",
     "text": [
      "computed batch 12\n",
      "Allocated: 10824.65 MB\n",
      "Reserved: 70896.00 MB\n",
      "Allocated: 10824.65 MB\n",
      "Reserved: 29366.00 MB\n",
      "in getitem feature: [0. 1.]\n",
      "in getitem label: [0 1]\n"
     ]
    },
    {
     "name": "stderr",
     "output_type": "stream",
     "text": [
      "/tmp/ipykernel_3001/3942127936.py:26: FutureWarning: `torch.cuda.amp.autocast(args...)` is deprecated. Please use `torch.amp.autocast('cuda', args...)` instead.\n",
      "  with torch.cuda.amp.autocast():\n",
      "/home/ubuntu/.local/lib/python3.10/site-packages/torch/autograd/graph.py:825: UserWarning: cuDNN SDPA backward got grad_output.strides() != output.strides(), attempting to materialize a grad_output with matching strides... (Triggered internally at /pytorch/aten/src/ATen/native/cudnn/MHA.cpp:674.)\n",
      "  return Variable._execution_engine.run_backward(  # Calls into the C++ engine to run the backward pass\n"
     ]
    },
    {
     "name": "stdout",
     "output_type": "stream",
     "text": [
      "computed batch 13\n",
      "Allocated: 10832.71 MB\n",
      "Reserved: 70830.00 MB\n",
      "Allocated: 10832.71 MB\n",
      "Reserved: 29238.00 MB\n",
      "in getitem feature: [0. 1.]\n",
      "in getitem label: [0 1]\n"
     ]
    },
    {
     "name": "stderr",
     "output_type": "stream",
     "text": [
      "/tmp/ipykernel_3001/3942127936.py:26: FutureWarning: `torch.cuda.amp.autocast(args...)` is deprecated. Please use `torch.amp.autocast('cuda', args...)` instead.\n",
      "  with torch.cuda.amp.autocast():\n",
      "/home/ubuntu/.local/lib/python3.10/site-packages/torch/autograd/graph.py:825: UserWarning: cuDNN SDPA backward got grad_output.strides() != output.strides(), attempting to materialize a grad_output with matching strides... (Triggered internally at /pytorch/aten/src/ATen/native/cudnn/MHA.cpp:674.)\n",
      "  return Variable._execution_engine.run_backward(  # Calls into the C++ engine to run the backward pass\n"
     ]
    },
    {
     "name": "stdout",
     "output_type": "stream",
     "text": [
      "computed batch 14\n",
      "Allocated: 10830.48 MB\n",
      "Reserved: 70198.00 MB\n",
      "Allocated: 10830.48 MB\n",
      "Reserved: 32750.00 MB\n",
      "in getitem feature: [0. 1.]\n",
      "in getitem label: [0 1]\n"
     ]
    },
    {
     "name": "stderr",
     "output_type": "stream",
     "text": [
      "/tmp/ipykernel_3001/3942127936.py:26: FutureWarning: `torch.cuda.amp.autocast(args...)` is deprecated. Please use `torch.amp.autocast('cuda', args...)` instead.\n",
      "  with torch.cuda.amp.autocast():\n",
      "/home/ubuntu/.local/lib/python3.10/site-packages/torch/autograd/graph.py:825: UserWarning: cuDNN SDPA backward got grad_output.strides() != output.strides(), attempting to materialize a grad_output with matching strides... (Triggered internally at /pytorch/aten/src/ATen/native/cudnn/MHA.cpp:674.)\n",
      "  return Variable._execution_engine.run_backward(  # Calls into the C++ engine to run the backward pass\n"
     ]
    },
    {
     "name": "stdout",
     "output_type": "stream",
     "text": [
      "computed batch 15\n",
      "Allocated: 10826.89 MB\n",
      "Reserved: 70668.00 MB\n",
      "Allocated: 10826.89 MB\n",
      "Reserved: 32496.00 MB\n",
      "in getitem feature: [0. 1.]\n",
      "in getitem label: [0 1]\n"
     ]
    },
    {
     "name": "stderr",
     "output_type": "stream",
     "text": [
      "/tmp/ipykernel_3001/3942127936.py:26: FutureWarning: `torch.cuda.amp.autocast(args...)` is deprecated. Please use `torch.amp.autocast('cuda', args...)` instead.\n",
      "  with torch.cuda.amp.autocast():\n",
      "/home/ubuntu/.local/lib/python3.10/site-packages/torch/autograd/graph.py:825: UserWarning: cuDNN SDPA backward got grad_output.strides() != output.strides(), attempting to materialize a grad_output with matching strides... (Triggered internally at /pytorch/aten/src/ATen/native/cudnn/MHA.cpp:674.)\n",
      "  return Variable._execution_engine.run_backward(  # Calls into the C++ engine to run the backward pass\n"
     ]
    },
    {
     "name": "stdout",
     "output_type": "stream",
     "text": [
      "computed batch 16\n",
      "Allocated: 10826.87 MB\n",
      "Reserved: 71302.00 MB\n",
      "Allocated: 10826.87 MB\n",
      "Reserved: 33698.00 MB\n",
      "in getitem feature: [0. 1.]\n",
      "in getitem label: [0 1]\n"
     ]
    },
    {
     "name": "stderr",
     "output_type": "stream",
     "text": [
      "/tmp/ipykernel_3001/3942127936.py:26: FutureWarning: `torch.cuda.amp.autocast(args...)` is deprecated. Please use `torch.amp.autocast('cuda', args...)` instead.\n",
      "  with torch.cuda.amp.autocast():\n",
      "/home/ubuntu/.local/lib/python3.10/site-packages/torch/autograd/graph.py:825: UserWarning: cuDNN SDPA backward got grad_output.strides() != output.strides(), attempting to materialize a grad_output with matching strides... (Triggered internally at /pytorch/aten/src/ATen/native/cudnn/MHA.cpp:674.)\n",
      "  return Variable._execution_engine.run_backward(  # Calls into the C++ engine to run the backward pass\n"
     ]
    },
    {
     "name": "stdout",
     "output_type": "stream",
     "text": [
      "computed batch 17\n",
      "Allocated: 10825.74 MB\n",
      "Reserved: 70420.00 MB\n",
      "Allocated: 10825.74 MB\n",
      "Reserved: 28510.00 MB\n",
      "in getitem feature: [0. 1.]\n",
      "in getitem label: [0 1]\n"
     ]
    },
    {
     "name": "stderr",
     "output_type": "stream",
     "text": [
      "/tmp/ipykernel_3001/3942127936.py:26: FutureWarning: `torch.cuda.amp.autocast(args...)` is deprecated. Please use `torch.amp.autocast('cuda', args...)` instead.\n",
      "  with torch.cuda.amp.autocast():\n",
      "/home/ubuntu/.local/lib/python3.10/site-packages/torch/autograd/graph.py:825: UserWarning: cuDNN SDPA backward got grad_output.strides() != output.strides(), attempting to materialize a grad_output with matching strides... (Triggered internally at /pytorch/aten/src/ATen/native/cudnn/MHA.cpp:674.)\n",
      "  return Variable._execution_engine.run_backward(  # Calls into the C++ engine to run the backward pass\n"
     ]
    },
    {
     "name": "stdout",
     "output_type": "stream",
     "text": [
      "computed batch 18\n",
      "Allocated: 10823.51 MB\n",
      "Reserved: 71370.00 MB\n",
      "Allocated: 10823.51 MB\n",
      "Reserved: 27688.00 MB\n",
      "in getitem feature: [0. 1.]\n",
      "in getitem label: [0 1]\n"
     ]
    },
    {
     "name": "stderr",
     "output_type": "stream",
     "text": [
      "/tmp/ipykernel_3001/3942127936.py:26: FutureWarning: `torch.cuda.amp.autocast(args...)` is deprecated. Please use `torch.amp.autocast('cuda', args...)` instead.\n",
      "  with torch.cuda.amp.autocast():\n",
      "/home/ubuntu/.local/lib/python3.10/site-packages/torch/autograd/graph.py:825: UserWarning: cuDNN SDPA backward got grad_output.strides() != output.strides(), attempting to materialize a grad_output with matching strides... (Triggered internally at /pytorch/aten/src/ATen/native/cudnn/MHA.cpp:674.)\n",
      "  return Variable._execution_engine.run_backward(  # Calls into the C++ engine to run the backward pass\n"
     ]
    },
    {
     "name": "stdout",
     "output_type": "stream",
     "text": [
      "computed batch 19\n",
      "Allocated: 10826.94 MB\n",
      "Reserved: 71750.00 MB\n",
      "Allocated: 10826.94 MB\n",
      "Reserved: 28574.00 MB\n",
      "in getitem feature: [0. 1.]\n",
      "in getitem label: [0 1]\n"
     ]
    },
    {
     "name": "stderr",
     "output_type": "stream",
     "text": [
      "/tmp/ipykernel_3001/3942127936.py:26: FutureWarning: `torch.cuda.amp.autocast(args...)` is deprecated. Please use `torch.amp.autocast('cuda', args...)` instead.\n",
      "  with torch.cuda.amp.autocast():\n",
      "/home/ubuntu/.local/lib/python3.10/site-packages/torch/autograd/graph.py:825: UserWarning: cuDNN SDPA backward got grad_output.strides() != output.strides(), attempting to materialize a grad_output with matching strides... (Triggered internally at /pytorch/aten/src/ATen/native/cudnn/MHA.cpp:674.)\n",
      "  return Variable._execution_engine.run_backward(  # Calls into the C++ engine to run the backward pass\n"
     ]
    },
    {
     "name": "stdout",
     "output_type": "stream",
     "text": [
      "computed batch 20\n",
      "Allocated: 10832.59 MB\n",
      "Reserved: 70674.00 MB\n",
      "Allocated: 10832.59 MB\n",
      "Reserved: 31238.00 MB\n",
      "in getitem feature: [0. 1.]\n",
      "in getitem label: [0 1]\n"
     ]
    },
    {
     "name": "stderr",
     "output_type": "stream",
     "text": [
      "/tmp/ipykernel_3001/3942127936.py:26: FutureWarning: `torch.cuda.amp.autocast(args...)` is deprecated. Please use `torch.amp.autocast('cuda', args...)` instead.\n",
      "  with torch.cuda.amp.autocast():\n",
      "/home/ubuntu/.local/lib/python3.10/site-packages/torch/autograd/graph.py:825: UserWarning: cuDNN SDPA backward got grad_output.strides() != output.strides(), attempting to materialize a grad_output with matching strides... (Triggered internally at /pytorch/aten/src/ATen/native/cudnn/MHA.cpp:674.)\n",
      "  return Variable._execution_engine.run_backward(  # Calls into the C++ engine to run the backward pass\n"
     ]
    },
    {
     "name": "stdout",
     "output_type": "stream",
     "text": [
      "computed batch 21\n",
      "Allocated: 10824.98 MB\n",
      "Reserved: 70042.00 MB\n",
      "Allocated: 10824.98 MB\n",
      "Reserved: 29622.00 MB\n",
      "in getitem feature: [0. 1.]\n",
      "in getitem label: [0 1]\n"
     ]
    },
    {
     "name": "stderr",
     "output_type": "stream",
     "text": [
      "/tmp/ipykernel_3001/3942127936.py:26: FutureWarning: `torch.cuda.amp.autocast(args...)` is deprecated. Please use `torch.amp.autocast('cuda', args...)` instead.\n",
      "  with torch.cuda.amp.autocast():\n",
      "/home/ubuntu/.local/lib/python3.10/site-packages/torch/autograd/graph.py:825: UserWarning: cuDNN SDPA backward got grad_output.strides() != output.strides(), attempting to materialize a grad_output with matching strides... (Triggered internally at /pytorch/aten/src/ATen/native/cudnn/MHA.cpp:674.)\n",
      "  return Variable._execution_engine.run_backward(  # Calls into the C++ engine to run the backward pass\n"
     ]
    },
    {
     "name": "stdout",
     "output_type": "stream",
     "text": [
      "computed batch 22\n",
      "Allocated: 10821.46 MB\n",
      "Reserved: 71592.00 MB\n",
      "Allocated: 10821.46 MB\n",
      "Reserved: 30000.00 MB\n",
      "in getitem feature: [0. 1.]\n",
      "in getitem label: [0 1]\n"
     ]
    },
    {
     "name": "stderr",
     "output_type": "stream",
     "text": [
      "/tmp/ipykernel_3001/3942127936.py:26: FutureWarning: `torch.cuda.amp.autocast(args...)` is deprecated. Please use `torch.amp.autocast('cuda', args...)` instead.\n",
      "  with torch.cuda.amp.autocast():\n",
      "/home/ubuntu/.local/lib/python3.10/site-packages/torch/autograd/graph.py:825: UserWarning: cuDNN SDPA backward got grad_output.strides() != output.strides(), attempting to materialize a grad_output with matching strides... (Triggered internally at /pytorch/aten/src/ATen/native/cudnn/MHA.cpp:674.)\n",
      "  return Variable._execution_engine.run_backward(  # Calls into the C++ engine to run the backward pass\n"
     ]
    },
    {
     "name": "stdout",
     "output_type": "stream",
     "text": [
      "computed batch 23\n",
      "Allocated: 10827.08 MB\n",
      "Reserved: 70008.00 MB\n",
      "Allocated: 10827.08 MB\n",
      "Reserved: 33036.00 MB\n",
      "in getitem feature: [0. 1.]\n",
      "in getitem label: [0 1]\n"
     ]
    },
    {
     "name": "stderr",
     "output_type": "stream",
     "text": [
      "/tmp/ipykernel_3001/3942127936.py:26: FutureWarning: `torch.cuda.amp.autocast(args...)` is deprecated. Please use `torch.amp.autocast('cuda', args...)` instead.\n",
      "  with torch.cuda.amp.autocast():\n",
      "/home/ubuntu/.local/lib/python3.10/site-packages/torch/autograd/graph.py:825: UserWarning: cuDNN SDPA backward got grad_output.strides() != output.strides(), attempting to materialize a grad_output with matching strides... (Triggered internally at /pytorch/aten/src/ATen/native/cudnn/MHA.cpp:674.)\n",
      "  return Variable._execution_engine.run_backward(  # Calls into the C++ engine to run the backward pass\n"
     ]
    },
    {
     "name": "stdout",
     "output_type": "stream",
     "text": [
      "computed batch 24\n",
      "Allocated: 10826.29 MB\n",
      "Reserved: 71970.00 MB\n",
      "Allocated: 10826.29 MB\n",
      "Reserved: 32054.00 MB\n",
      "in getitem feature: [0. 1.]\n",
      "in getitem label: [0 1]\n"
     ]
    },
    {
     "name": "stderr",
     "output_type": "stream",
     "text": [
      "/tmp/ipykernel_3001/3942127936.py:26: FutureWarning: `torch.cuda.amp.autocast(args...)` is deprecated. Please use `torch.amp.autocast('cuda', args...)` instead.\n",
      "  with torch.cuda.amp.autocast():\n",
      "/home/ubuntu/.local/lib/python3.10/site-packages/torch/autograd/graph.py:825: UserWarning: cuDNN SDPA backward got grad_output.strides() != output.strides(), attempting to materialize a grad_output with matching strides... (Triggered internally at /pytorch/aten/src/ATen/native/cudnn/MHA.cpp:674.)\n",
      "  return Variable._execution_engine.run_backward(  # Calls into the C++ engine to run the backward pass\n"
     ]
    },
    {
     "name": "stdout",
     "output_type": "stream",
     "text": [
      "computed batch 25\n",
      "Allocated: 10828.33 MB\n",
      "Reserved: 72192.00 MB\n",
      "Allocated: 10828.33 MB\n",
      "Reserved: 28572.00 MB\n",
      "in getitem feature: [0. 1.]\n",
      "in getitem label: [0 1]\n"
     ]
    },
    {
     "name": "stderr",
     "output_type": "stream",
     "text": [
      "/tmp/ipykernel_3001/3942127936.py:26: FutureWarning: `torch.cuda.amp.autocast(args...)` is deprecated. Please use `torch.amp.autocast('cuda', args...)` instead.\n",
      "  with torch.cuda.amp.autocast():\n",
      "/home/ubuntu/.local/lib/python3.10/site-packages/torch/autograd/graph.py:825: UserWarning: cuDNN SDPA backward got grad_output.strides() != output.strides(), attempting to materialize a grad_output with matching strides... (Triggered internally at /pytorch/aten/src/ATen/native/cudnn/MHA.cpp:674.)\n",
      "  return Variable._execution_engine.run_backward(  # Calls into the C++ engine to run the backward pass\n"
     ]
    },
    {
     "name": "stdout",
     "output_type": "stream",
     "text": [
      "computed batch 26\n",
      "Allocated: 10831.73 MB\n",
      "Reserved: 70038.00 MB\n",
      "Allocated: 10831.73 MB\n",
      "Reserved: 29520.00 MB\n",
      "in getitem feature: [0. 1.]\n",
      "in getitem label: [0 1]\n"
     ]
    },
    {
     "name": "stderr",
     "output_type": "stream",
     "text": [
      "/tmp/ipykernel_3001/3942127936.py:26: FutureWarning: `torch.cuda.amp.autocast(args...)` is deprecated. Please use `torch.amp.autocast('cuda', args...)` instead.\n",
      "  with torch.cuda.amp.autocast():\n",
      "/home/ubuntu/.local/lib/python3.10/site-packages/torch/autograd/graph.py:825: UserWarning: cuDNN SDPA backward got grad_output.strides() != output.strides(), attempting to materialize a grad_output with matching strides... (Triggered internally at /pytorch/aten/src/ATen/native/cudnn/MHA.cpp:674.)\n",
      "  return Variable._execution_engine.run_backward(  # Calls into the C++ engine to run the backward pass\n"
     ]
    },
    {
     "name": "stdout",
     "output_type": "stream",
     "text": [
      "computed batch 27\n",
      "Allocated: 10825.85 MB\n",
      "Reserved: 71180.00 MB\n",
      "Allocated: 10825.85 MB\n",
      "Reserved: 31422.00 MB\n",
      "in getitem feature: [0. 1.]\n",
      "in getitem label: [0 1]\n"
     ]
    },
    {
     "name": "stderr",
     "output_type": "stream",
     "text": [
      "/tmp/ipykernel_3001/3942127936.py:26: FutureWarning: `torch.cuda.amp.autocast(args...)` is deprecated. Please use `torch.amp.autocast('cuda', args...)` instead.\n",
      "  with torch.cuda.amp.autocast():\n",
      "/home/ubuntu/.local/lib/python3.10/site-packages/torch/autograd/graph.py:825: UserWarning: cuDNN SDPA backward got grad_output.strides() != output.strides(), attempting to materialize a grad_output with matching strides... (Triggered internally at /pytorch/aten/src/ATen/native/cudnn/MHA.cpp:674.)\n",
      "  return Variable._execution_engine.run_backward(  # Calls into the C++ engine to run the backward pass\n"
     ]
    },
    {
     "name": "stdout",
     "output_type": "stream",
     "text": [
      "computed batch 28\n",
      "Allocated: 10828.48 MB\n",
      "Reserved: 70860.00 MB\n",
      "Allocated: 10828.48 MB\n",
      "Reserved: 27748.00 MB\n",
      "in getitem feature: [0. 1.]\n",
      "in getitem label: [0 1]\n"
     ]
    },
    {
     "name": "stderr",
     "output_type": "stream",
     "text": [
      "/tmp/ipykernel_3001/3942127936.py:26: FutureWarning: `torch.cuda.amp.autocast(args...)` is deprecated. Please use `torch.amp.autocast('cuda', args...)` instead.\n",
      "  with torch.cuda.amp.autocast():\n",
      "/home/ubuntu/.local/lib/python3.10/site-packages/torch/autograd/graph.py:825: UserWarning: cuDNN SDPA backward got grad_output.strides() != output.strides(), attempting to materialize a grad_output with matching strides... (Triggered internally at /pytorch/aten/src/ATen/native/cudnn/MHA.cpp:674.)\n",
      "  return Variable._execution_engine.run_backward(  # Calls into the C++ engine to run the backward pass\n"
     ]
    },
    {
     "name": "stdout",
     "output_type": "stream",
     "text": [
      "computed batch 29\n",
      "Allocated: 10832.39 MB\n",
      "Reserved: 71304.00 MB\n",
      "Allocated: 10832.39 MB\n",
      "Reserved: 28760.00 MB\n",
      "in getitem feature: [0. 1.]\n",
      "in getitem label: [0 1]\n"
     ]
    },
    {
     "name": "stderr",
     "output_type": "stream",
     "text": [
      "/tmp/ipykernel_3001/3942127936.py:26: FutureWarning: `torch.cuda.amp.autocast(args...)` is deprecated. Please use `torch.amp.autocast('cuda', args...)` instead.\n",
      "  with torch.cuda.amp.autocast():\n",
      "/home/ubuntu/.local/lib/python3.10/site-packages/torch/autograd/graph.py:825: UserWarning: cuDNN SDPA backward got grad_output.strides() != output.strides(), attempting to materialize a grad_output with matching strides... (Triggered internally at /pytorch/aten/src/ATen/native/cudnn/MHA.cpp:674.)\n",
      "  return Variable._execution_engine.run_backward(  # Calls into the C++ engine to run the backward pass\n"
     ]
    },
    {
     "name": "stdout",
     "output_type": "stream",
     "text": [
      "computed batch 30\n",
      "Allocated: 10829.20 MB\n",
      "Reserved: 70798.00 MB\n",
      "Allocated: 10829.20 MB\n",
      "Reserved: 30154.00 MB\n",
      "in getitem feature: [0. 1.]\n",
      "in getitem label: [0 1]\n"
     ]
    },
    {
     "name": "stderr",
     "output_type": "stream",
     "text": [
      "/tmp/ipykernel_3001/3942127936.py:26: FutureWarning: `torch.cuda.amp.autocast(args...)` is deprecated. Please use `torch.amp.autocast('cuda', args...)` instead.\n",
      "  with torch.cuda.amp.autocast():\n",
      "/home/ubuntu/.local/lib/python3.10/site-packages/torch/autograd/graph.py:825: UserWarning: cuDNN SDPA backward got grad_output.strides() != output.strides(), attempting to materialize a grad_output with matching strides... (Triggered internally at /pytorch/aten/src/ATen/native/cudnn/MHA.cpp:674.)\n",
      "  return Variable._execution_engine.run_backward(  # Calls into the C++ engine to run the backward pass\n"
     ]
    },
    {
     "name": "stdout",
     "output_type": "stream",
     "text": [
      "computed batch 31\n",
      "Allocated: 10827.18 MB\n",
      "Reserved: 71054.00 MB\n",
      "Allocated: 10827.18 MB\n",
      "Reserved: 29206.00 MB\n",
      "in getitem feature: [0. 1.]\n",
      "in getitem label: [0 1]\n"
     ]
    },
    {
     "name": "stderr",
     "output_type": "stream",
     "text": [
      "/tmp/ipykernel_3001/3942127936.py:26: FutureWarning: `torch.cuda.amp.autocast(args...)` is deprecated. Please use `torch.amp.autocast('cuda', args...)` instead.\n",
      "  with torch.cuda.amp.autocast():\n",
      "/home/ubuntu/.local/lib/python3.10/site-packages/torch/autograd/graph.py:825: UserWarning: cuDNN SDPA backward got grad_output.strides() != output.strides(), attempting to materialize a grad_output with matching strides... (Triggered internally at /pytorch/aten/src/ATen/native/cudnn/MHA.cpp:674.)\n",
      "  return Variable._execution_engine.run_backward(  # Calls into the C++ engine to run the backward pass\n"
     ]
    },
    {
     "name": "stdout",
     "output_type": "stream",
     "text": [
      "computed batch 32\n",
      "Allocated: 10833.36 MB\n",
      "Reserved: 70166.00 MB\n",
      "Allocated: 10833.36 MB\n",
      "Reserved: 30786.00 MB\n",
      "in getitem feature: [0. 1.]\n",
      "in getitem label: [0 1]\n"
     ]
    },
    {
     "name": "stderr",
     "output_type": "stream",
     "text": [
      "/tmp/ipykernel_3001/3942127936.py:26: FutureWarning: `torch.cuda.amp.autocast(args...)` is deprecated. Please use `torch.amp.autocast('cuda', args...)` instead.\n",
      "  with torch.cuda.amp.autocast():\n",
      "/home/ubuntu/.local/lib/python3.10/site-packages/torch/autograd/graph.py:825: UserWarning: cuDNN SDPA backward got grad_output.strides() != output.strides(), attempting to materialize a grad_output with matching strides... (Triggered internally at /pytorch/aten/src/ATen/native/cudnn/MHA.cpp:674.)\n",
      "  return Variable._execution_engine.run_backward(  # Calls into the C++ engine to run the backward pass\n"
     ]
    },
    {
     "name": "stdout",
     "output_type": "stream",
     "text": [
      "computed batch 33\n",
      "Allocated: 10826.40 MB\n",
      "Reserved: 70798.00 MB\n",
      "Allocated: 10826.40 MB\n",
      "Reserved: 30408.00 MB\n",
      "in getitem feature: [0. 1.]\n",
      "in getitem label: [0 1]\n"
     ]
    },
    {
     "name": "stderr",
     "output_type": "stream",
     "text": [
      "/tmp/ipykernel_3001/3942127936.py:26: FutureWarning: `torch.cuda.amp.autocast(args...)` is deprecated. Please use `torch.amp.autocast('cuda', args...)` instead.\n",
      "  with torch.cuda.amp.autocast():\n",
      "/home/ubuntu/.local/lib/python3.10/site-packages/torch/autograd/graph.py:825: UserWarning: cuDNN SDPA backward got grad_output.strides() != output.strides(), attempting to materialize a grad_output with matching strides... (Triggered internally at /pytorch/aten/src/ATen/native/cudnn/MHA.cpp:674.)\n",
      "  return Variable._execution_engine.run_backward(  # Calls into the C++ engine to run the backward pass\n"
     ]
    },
    {
     "name": "stdout",
     "output_type": "stream",
     "text": [
      "computed batch 34\n",
      "Allocated: 10825.17 MB\n",
      "Reserved: 70228.00 MB\n",
      "Allocated: 10825.17 MB\n",
      "Reserved: 27238.00 MB\n",
      "in getitem feature: [0. 1.]\n",
      "in getitem label: [0 1]\n"
     ]
    },
    {
     "name": "stderr",
     "output_type": "stream",
     "text": [
      "/tmp/ipykernel_3001/3942127936.py:26: FutureWarning: `torch.cuda.amp.autocast(args...)` is deprecated. Please use `torch.amp.autocast('cuda', args...)` instead.\n",
      "  with torch.cuda.amp.autocast():\n",
      "/home/ubuntu/.local/lib/python3.10/site-packages/torch/autograd/graph.py:825: UserWarning: cuDNN SDPA backward got grad_output.strides() != output.strides(), attempting to materialize a grad_output with matching strides... (Triggered internally at /pytorch/aten/src/ATen/native/cudnn/MHA.cpp:674.)\n",
      "  return Variable._execution_engine.run_backward(  # Calls into the C++ engine to run the backward pass\n"
     ]
    },
    {
     "name": "stdout",
     "output_type": "stream",
     "text": [
      "computed batch 35\n",
      "Allocated: 10829.28 MB\n",
      "Reserved: 70352.00 MB\n",
      "Allocated: 10829.28 MB\n",
      "Reserved: 29804.00 MB\n",
      "in getitem feature: [0. 1.]\n",
      "in getitem label: [0 1]\n"
     ]
    },
    {
     "name": "stderr",
     "output_type": "stream",
     "text": [
      "/tmp/ipykernel_3001/3942127936.py:26: FutureWarning: `torch.cuda.amp.autocast(args...)` is deprecated. Please use `torch.amp.autocast('cuda', args...)` instead.\n",
      "  with torch.cuda.amp.autocast():\n",
      "/home/ubuntu/.local/lib/python3.10/site-packages/torch/autograd/graph.py:825: UserWarning: cuDNN SDPA backward got grad_output.strides() != output.strides(), attempting to materialize a grad_output with matching strides... (Triggered internally at /pytorch/aten/src/ATen/native/cudnn/MHA.cpp:674.)\n",
      "  return Variable._execution_engine.run_backward(  # Calls into the C++ engine to run the backward pass\n"
     ]
    },
    {
     "name": "stdout",
     "output_type": "stream",
     "text": [
      "computed batch 36\n",
      "Allocated: 10829.90 MB\n",
      "Reserved: 70700.00 MB\n",
      "Allocated: 10829.90 MB\n",
      "Reserved: 29806.00 MB\n",
      "in getitem feature: [0. 1.]\n",
      "in getitem label: [0 1]\n"
     ]
    },
    {
     "name": "stderr",
     "output_type": "stream",
     "text": [
      "/tmp/ipykernel_3001/3942127936.py:26: FutureWarning: `torch.cuda.amp.autocast(args...)` is deprecated. Please use `torch.amp.autocast('cuda', args...)` instead.\n",
      "  with torch.cuda.amp.autocast():\n",
      "/home/ubuntu/.local/lib/python3.10/site-packages/torch/autograd/graph.py:825: UserWarning: cuDNN SDPA backward got grad_output.strides() != output.strides(), attempting to materialize a grad_output with matching strides... (Triggered internally at /pytorch/aten/src/ATen/native/cudnn/MHA.cpp:674.)\n",
      "  return Variable._execution_engine.run_backward(  # Calls into the C++ engine to run the backward pass\n"
     ]
    },
    {
     "name": "stdout",
     "output_type": "stream",
     "text": [
      "computed batch 37\n",
      "Allocated: 10825.48 MB\n",
      "Reserved: 71714.00 MB\n",
      "Allocated: 10825.48 MB\n",
      "Reserved: 28412.00 MB\n",
      "in getitem feature: [0. 1.]\n",
      "in getitem label: [0 1]\n"
     ]
    },
    {
     "name": "stderr",
     "output_type": "stream",
     "text": [
      "/tmp/ipykernel_3001/3942127936.py:26: FutureWarning: `torch.cuda.amp.autocast(args...)` is deprecated. Please use `torch.amp.autocast('cuda', args...)` instead.\n",
      "  with torch.cuda.amp.autocast():\n",
      "/home/ubuntu/.local/lib/python3.10/site-packages/torch/autograd/graph.py:825: UserWarning: cuDNN SDPA backward got grad_output.strides() != output.strides(), attempting to materialize a grad_output with matching strides... (Triggered internally at /pytorch/aten/src/ATen/native/cudnn/MHA.cpp:674.)\n",
      "  return Variable._execution_engine.run_backward(  # Calls into the C++ engine to run the backward pass\n"
     ]
    },
    {
     "name": "stdout",
     "output_type": "stream",
     "text": [
      "computed batch 38\n",
      "Allocated: 10828.49 MB\n",
      "Reserved: 71336.00 MB\n",
      "Allocated: 10828.49 MB\n",
      "Reserved: 29960.00 MB\n",
      "in getitem feature: [0. 1.]\n",
      "in getitem label: [0 1]\n"
     ]
    },
    {
     "name": "stderr",
     "output_type": "stream",
     "text": [
      "/tmp/ipykernel_3001/3942127936.py:26: FutureWarning: `torch.cuda.amp.autocast(args...)` is deprecated. Please use `torch.amp.autocast('cuda', args...)` instead.\n",
      "  with torch.cuda.amp.autocast():\n",
      "/home/ubuntu/.local/lib/python3.10/site-packages/torch/autograd/graph.py:825: UserWarning: cuDNN SDPA backward got grad_output.strides() != output.strides(), attempting to materialize a grad_output with matching strides... (Triggered internally at /pytorch/aten/src/ATen/native/cudnn/MHA.cpp:674.)\n",
      "  return Variable._execution_engine.run_backward(  # Calls into the C++ engine to run the backward pass\n"
     ]
    },
    {
     "name": "stdout",
     "output_type": "stream",
     "text": [
      "computed batch 39\n",
      "Allocated: 10828.03 MB\n",
      "Reserved: 72120.00 MB\n",
      "Allocated: 10828.03 MB\n",
      "Reserved: 35906.00 MB\n",
      "in getitem feature: [0. 1.]\n",
      "in getitem label: [0 1]\n"
     ]
    },
    {
     "name": "stderr",
     "output_type": "stream",
     "text": [
      "/tmp/ipykernel_3001/3942127936.py:26: FutureWarning: `torch.cuda.amp.autocast(args...)` is deprecated. Please use `torch.amp.autocast('cuda', args...)` instead.\n",
      "  with torch.cuda.amp.autocast():\n",
      "/home/ubuntu/.local/lib/python3.10/site-packages/torch/autograd/graph.py:825: UserWarning: cuDNN SDPA backward got grad_output.strides() != output.strides(), attempting to materialize a grad_output with matching strides... (Triggered internally at /pytorch/aten/src/ATen/native/cudnn/MHA.cpp:674.)\n",
      "  return Variable._execution_engine.run_backward(  # Calls into the C++ engine to run the backward pass\n"
     ]
    },
    {
     "name": "stdout",
     "output_type": "stream",
     "text": [
      "computed batch 40\n",
      "Allocated: 10823.05 MB\n",
      "Reserved: 70976.00 MB\n",
      "Allocated: 10823.05 MB\n",
      "Reserved: 34452.00 MB\n",
      "in getitem feature: [0. 1.]\n",
      "in getitem label: [0 1]\n"
     ]
    },
    {
     "name": "stderr",
     "output_type": "stream",
     "text": [
      "/tmp/ipykernel_3001/3942127936.py:26: FutureWarning: `torch.cuda.amp.autocast(args...)` is deprecated. Please use `torch.amp.autocast('cuda', args...)` instead.\n",
      "  with torch.cuda.amp.autocast():\n",
      "/home/ubuntu/.local/lib/python3.10/site-packages/torch/autograd/graph.py:825: UserWarning: cuDNN SDPA backward got grad_output.strides() != output.strides(), attempting to materialize a grad_output with matching strides... (Triggered internally at /pytorch/aten/src/ATen/native/cudnn/MHA.cpp:674.)\n",
      "  return Variable._execution_engine.run_backward(  # Calls into the C++ engine to run the backward pass\n"
     ]
    },
    {
     "name": "stdout",
     "output_type": "stream",
     "text": [
      "computed batch 41\n",
      "Allocated: 10834.86 MB\n",
      "Reserved: 70602.00 MB\n",
      "Allocated: 10834.86 MB\n",
      "Reserved: 31224.00 MB\n",
      "in getitem feature: [0. 1.]\n",
      "in getitem label: [0 1]\n"
     ]
    },
    {
     "name": "stderr",
     "output_type": "stream",
     "text": [
      "/tmp/ipykernel_3001/3942127936.py:26: FutureWarning: `torch.cuda.amp.autocast(args...)` is deprecated. Please use `torch.amp.autocast('cuda', args...)` instead.\n",
      "  with torch.cuda.amp.autocast():\n",
      "/home/ubuntu/.local/lib/python3.10/site-packages/torch/autograd/graph.py:825: UserWarning: cuDNN SDPA backward got grad_output.strides() != output.strides(), attempting to materialize a grad_output with matching strides... (Triggered internally at /pytorch/aten/src/ATen/native/cudnn/MHA.cpp:674.)\n",
      "  return Variable._execution_engine.run_backward(  # Calls into the C++ engine to run the backward pass\n"
     ]
    },
    {
     "name": "stdout",
     "output_type": "stream",
     "text": [
      "computed batch 42\n",
      "Allocated: 10827.35 MB\n",
      "Reserved: 70536.00 MB\n",
      "Allocated: 10827.35 MB\n",
      "Reserved: 32998.00 MB\n",
      "in getitem feature: [0. 1.]\n",
      "in getitem label: [0 1]\n"
     ]
    },
    {
     "name": "stderr",
     "output_type": "stream",
     "text": [
      "/tmp/ipykernel_3001/3942127936.py:26: FutureWarning: `torch.cuda.amp.autocast(args...)` is deprecated. Please use `torch.amp.autocast('cuda', args...)` instead.\n",
      "  with torch.cuda.amp.autocast():\n",
      "/home/ubuntu/.local/lib/python3.10/site-packages/torch/autograd/graph.py:825: UserWarning: cuDNN SDPA backward got grad_output.strides() != output.strides(), attempting to materialize a grad_output with matching strides... (Triggered internally at /pytorch/aten/src/ATen/native/cudnn/MHA.cpp:674.)\n",
      "  return Variable._execution_engine.run_backward(  # Calls into the C++ engine to run the backward pass\n"
     ]
    },
    {
     "name": "stdout",
     "output_type": "stream",
     "text": [
      "computed batch 43\n",
      "Allocated: 10822.72 MB\n",
      "Reserved: 71552.00 MB\n",
      "Allocated: 10822.72 MB\n",
      "Reserved: 36414.00 MB\n",
      "in getitem feature: [0. 1.]\n",
      "in getitem label: [0 1]\n"
     ]
    },
    {
     "name": "stderr",
     "output_type": "stream",
     "text": [
      "/tmp/ipykernel_3001/3942127936.py:26: FutureWarning: `torch.cuda.amp.autocast(args...)` is deprecated. Please use `torch.amp.autocast('cuda', args...)` instead.\n",
      "  with torch.cuda.amp.autocast():\n",
      "/home/ubuntu/.local/lib/python3.10/site-packages/torch/autograd/graph.py:825: UserWarning: cuDNN SDPA backward got grad_output.strides() != output.strides(), attempting to materialize a grad_output with matching strides... (Triggered internally at /pytorch/aten/src/ATen/native/cudnn/MHA.cpp:674.)\n",
      "  return Variable._execution_engine.run_backward(  # Calls into the C++ engine to run the backward pass\n"
     ]
    },
    {
     "name": "stdout",
     "output_type": "stream",
     "text": [
      "computed batch 44\n",
      "Allocated: 10829.03 MB\n",
      "Reserved: 70598.00 MB\n",
      "Allocated: 10829.03 MB\n",
      "Reserved: 31224.00 MB\n",
      "in getitem feature: [0. 1.]\n",
      "in getitem label: [0 1]\n"
     ]
    },
    {
     "name": "stderr",
     "output_type": "stream",
     "text": [
      "/tmp/ipykernel_3001/3942127936.py:26: FutureWarning: `torch.cuda.amp.autocast(args...)` is deprecated. Please use `torch.amp.autocast('cuda', args...)` instead.\n",
      "  with torch.cuda.amp.autocast():\n",
      "/home/ubuntu/.local/lib/python3.10/site-packages/torch/autograd/graph.py:825: UserWarning: cuDNN SDPA backward got grad_output.strides() != output.strides(), attempting to materialize a grad_output with matching strides... (Triggered internally at /pytorch/aten/src/ATen/native/cudnn/MHA.cpp:674.)\n",
      "  return Variable._execution_engine.run_backward(  # Calls into the C++ engine to run the backward pass\n"
     ]
    },
    {
     "name": "stdout",
     "output_type": "stream",
     "text": [
      "computed batch 45\n",
      "Allocated: 10823.84 MB\n",
      "Reserved: 71678.00 MB\n",
      "Allocated: 10823.84 MB\n",
      "Reserved: 34454.00 MB\n",
      "in getitem feature: [0. 1.]\n",
      "in getitem label: [0 1]\n"
     ]
    },
    {
     "name": "stderr",
     "output_type": "stream",
     "text": [
      "/tmp/ipykernel_3001/3942127936.py:26: FutureWarning: `torch.cuda.amp.autocast(args...)` is deprecated. Please use `torch.amp.autocast('cuda', args...)` instead.\n",
      "  with torch.cuda.amp.autocast():\n",
      "/home/ubuntu/.local/lib/python3.10/site-packages/torch/autograd/graph.py:825: UserWarning: cuDNN SDPA backward got grad_output.strides() != output.strides(), attempting to materialize a grad_output with matching strides... (Triggered internally at /pytorch/aten/src/ATen/native/cudnn/MHA.cpp:674.)\n",
      "  return Variable._execution_engine.run_backward(  # Calls into the C++ engine to run the backward pass\n"
     ]
    },
    {
     "name": "stdout",
     "output_type": "stream",
     "text": [
      "computed batch 46\n",
      "Allocated: 10823.95 MB\n",
      "Reserved: 70032.00 MB\n",
      "Allocated: 10823.95 MB\n",
      "Reserved: 30338.00 MB\n",
      "in getitem feature: [0. 1.]\n",
      "in getitem label: [0 1]\n"
     ]
    },
    {
     "name": "stderr",
     "output_type": "stream",
     "text": [
      "/tmp/ipykernel_3001/3942127936.py:26: FutureWarning: `torch.cuda.amp.autocast(args...)` is deprecated. Please use `torch.amp.autocast('cuda', args...)` instead.\n",
      "  with torch.cuda.amp.autocast():\n",
      "/home/ubuntu/.local/lib/python3.10/site-packages/torch/autograd/graph.py:825: UserWarning: cuDNN SDPA backward got grad_output.strides() != output.strides(), attempting to materialize a grad_output with matching strides... (Triggered internally at /pytorch/aten/src/ATen/native/cudnn/MHA.cpp:674.)\n",
      "  return Variable._execution_engine.run_backward(  # Calls into the C++ engine to run the backward pass\n"
     ]
    },
    {
     "name": "stdout",
     "output_type": "stream",
     "text": [
      "computed batch 47\n",
      "Allocated: 10825.96 MB\n",
      "Reserved: 70920.00 MB\n",
      "Allocated: 10825.96 MB\n",
      "Reserved: 28820.00 MB\n",
      "in getitem feature: [0. 1.]\n",
      "in getitem label: [0 1]\n"
     ]
    },
    {
     "name": "stderr",
     "output_type": "stream",
     "text": [
      "/tmp/ipykernel_3001/3942127936.py:26: FutureWarning: `torch.cuda.amp.autocast(args...)` is deprecated. Please use `torch.amp.autocast('cuda', args...)` instead.\n",
      "  with torch.cuda.amp.autocast():\n",
      "/home/ubuntu/.local/lib/python3.10/site-packages/torch/autograd/graph.py:825: UserWarning: cuDNN SDPA backward got grad_output.strides() != output.strides(), attempting to materialize a grad_output with matching strides... (Triggered internally at /pytorch/aten/src/ATen/native/cudnn/MHA.cpp:674.)\n",
      "  return Variable._execution_engine.run_backward(  # Calls into the C++ engine to run the backward pass\n"
     ]
    },
    {
     "name": "stdout",
     "output_type": "stream",
     "text": [
      "computed batch 48\n",
      "Allocated: 10824.83 MB\n",
      "Reserved: 69906.00 MB\n",
      "Allocated: 10824.83 MB\n",
      "Reserved: 29958.00 MB\n",
      "in getitem feature: [0. 1.]\n",
      "in getitem label: [0 1]\n"
     ]
    },
    {
     "name": "stderr",
     "output_type": "stream",
     "text": [
      "/tmp/ipykernel_3001/3942127936.py:26: FutureWarning: `torch.cuda.amp.autocast(args...)` is deprecated. Please use `torch.amp.autocast('cuda', args...)` instead.\n",
      "  with torch.cuda.amp.autocast():\n",
      "/home/ubuntu/.local/lib/python3.10/site-packages/torch/autograd/graph.py:825: UserWarning: cuDNN SDPA backward got grad_output.strides() != output.strides(), attempting to materialize a grad_output with matching strides... (Triggered internally at /pytorch/aten/src/ATen/native/cudnn/MHA.cpp:674.)\n",
      "  return Variable._execution_engine.run_backward(  # Calls into the C++ engine to run the backward pass\n"
     ]
    },
    {
     "name": "stdout",
     "output_type": "stream",
     "text": [
      "computed batch 49\n",
      "Allocated: 10824.74 MB\n",
      "Reserved: 71492.00 MB\n",
      "Allocated: 10824.74 MB\n",
      "Reserved: 32492.00 MB\n",
      "in getitem feature: [0. 1.]\n",
      "in getitem label: [0 1]\n"
     ]
    },
    {
     "name": "stderr",
     "output_type": "stream",
     "text": [
      "/tmp/ipykernel_3001/3942127936.py:26: FutureWarning: `torch.cuda.amp.autocast(args...)` is deprecated. Please use `torch.amp.autocast('cuda', args...)` instead.\n",
      "  with torch.cuda.amp.autocast():\n",
      "/home/ubuntu/.local/lib/python3.10/site-packages/torch/autograd/graph.py:825: UserWarning: cuDNN SDPA backward got grad_output.strides() != output.strides(), attempting to materialize a grad_output with matching strides... (Triggered internally at /pytorch/aten/src/ATen/native/cudnn/MHA.cpp:674.)\n",
      "  return Variable._execution_engine.run_backward(  # Calls into the C++ engine to run the backward pass\n"
     ]
    },
    {
     "name": "stdout",
     "output_type": "stream",
     "text": [
      "computed batch 50\n",
      "Allocated: 10828.27 MB\n",
      "Reserved: 70412.00 MB\n",
      "Allocated: 10828.27 MB\n",
      "Reserved: 28948.00 MB\n",
      "in getitem feature: [0. 1.]\n",
      "in getitem label: [0 1]\n"
     ]
    },
    {
     "name": "stderr",
     "output_type": "stream",
     "text": [
      "/tmp/ipykernel_3001/3942127936.py:26: FutureWarning: `torch.cuda.amp.autocast(args...)` is deprecated. Please use `torch.amp.autocast('cuda', args...)` instead.\n",
      "  with torch.cuda.amp.autocast():\n",
      "/home/ubuntu/.local/lib/python3.10/site-packages/torch/autograd/graph.py:825: UserWarning: cuDNN SDPA backward got grad_output.strides() != output.strides(), attempting to materialize a grad_output with matching strides... (Triggered internally at /pytorch/aten/src/ATen/native/cudnn/MHA.cpp:674.)\n",
      "  return Variable._execution_engine.run_backward(  # Calls into the C++ engine to run the backward pass\n"
     ]
    },
    {
     "name": "stdout",
     "output_type": "stream",
     "text": [
      "computed batch 51\n",
      "Allocated: 10824.46 MB\n",
      "Reserved: 70920.00 MB\n",
      "Allocated: 10824.46 MB\n",
      "Reserved: 30594.00 MB\n",
      "in getitem feature: [0. 1.]\n",
      "in getitem label: [0 1]\n"
     ]
    },
    {
     "name": "stderr",
     "output_type": "stream",
     "text": [
      "/tmp/ipykernel_3001/3942127936.py:26: FutureWarning: `torch.cuda.amp.autocast(args...)` is deprecated. Please use `torch.amp.autocast('cuda', args...)` instead.\n",
      "  with torch.cuda.amp.autocast():\n",
      "/home/ubuntu/.local/lib/python3.10/site-packages/torch/autograd/graph.py:825: UserWarning: cuDNN SDPA backward got grad_output.strides() != output.strides(), attempting to materialize a grad_output with matching strides... (Triggered internally at /pytorch/aten/src/ATen/native/cudnn/MHA.cpp:674.)\n",
      "  return Variable._execution_engine.run_backward(  # Calls into the C++ engine to run the backward pass\n"
     ]
    },
    {
     "name": "stdout",
     "output_type": "stream",
     "text": [
      "computed batch 52\n",
      "Allocated: 10828.39 MB\n",
      "Reserved: 71046.00 MB\n",
      "Allocated: 10828.39 MB\n",
      "Reserved: 29392.00 MB\n",
      "in getitem feature: [0. 1.]\n",
      "in getitem label: [0 1]\n"
     ]
    },
    {
     "name": "stderr",
     "output_type": "stream",
     "text": [
      "/tmp/ipykernel_3001/3942127936.py:26: FutureWarning: `torch.cuda.amp.autocast(args...)` is deprecated. Please use `torch.amp.autocast('cuda', args...)` instead.\n",
      "  with torch.cuda.amp.autocast():\n",
      "/home/ubuntu/.local/lib/python3.10/site-packages/torch/autograd/graph.py:825: UserWarning: cuDNN SDPA backward got grad_output.strides() != output.strides(), attempting to materialize a grad_output with matching strides... (Triggered internally at /pytorch/aten/src/ATen/native/cudnn/MHA.cpp:674.)\n",
      "  return Variable._execution_engine.run_backward(  # Calls into the C++ engine to run the backward pass\n"
     ]
    },
    {
     "name": "stdout",
     "output_type": "stream",
     "text": [
      "computed batch 53\n",
      "Allocated: 10825.89 MB\n",
      "Reserved: 70476.00 MB\n",
      "Allocated: 10825.89 MB\n",
      "Reserved: 33064.00 MB\n",
      "in getitem feature: [0. 1.]\n",
      "in getitem label: [0 1]\n"
     ]
    },
    {
     "name": "stderr",
     "output_type": "stream",
     "text": [
      "/tmp/ipykernel_3001/3942127936.py:26: FutureWarning: `torch.cuda.amp.autocast(args...)` is deprecated. Please use `torch.amp.autocast('cuda', args...)` instead.\n",
      "  with torch.cuda.amp.autocast():\n",
      "/home/ubuntu/.local/lib/python3.10/site-packages/torch/autograd/graph.py:825: UserWarning: cuDNN SDPA backward got grad_output.strides() != output.strides(), attempting to materialize a grad_output with matching strides... (Triggered internally at /pytorch/aten/src/ATen/native/cudnn/MHA.cpp:674.)\n",
      "  return Variable._execution_engine.run_backward(  # Calls into the C++ engine to run the backward pass\n"
     ]
    },
    {
     "name": "stdout",
     "output_type": "stream",
     "text": [
      "computed batch 54\n",
      "Allocated: 10829.87 MB\n",
      "Reserved: 70478.00 MB\n",
      "Allocated: 10829.87 MB\n",
      "Reserved: 35026.00 MB\n",
      "in getitem feature: [0. 1.]\n",
      "in getitem label: [0 1]\n"
     ]
    },
    {
     "name": "stderr",
     "output_type": "stream",
     "text": [
      "/tmp/ipykernel_3001/3942127936.py:26: FutureWarning: `torch.cuda.amp.autocast(args...)` is deprecated. Please use `torch.amp.autocast('cuda', args...)` instead.\n",
      "  with torch.cuda.amp.autocast():\n",
      "/home/ubuntu/.local/lib/python3.10/site-packages/torch/autograd/graph.py:825: UserWarning: cuDNN SDPA backward got grad_output.strides() != output.strides(), attempting to materialize a grad_output with matching strides... (Triggered internally at /pytorch/aten/src/ATen/native/cudnn/MHA.cpp:674.)\n",
      "  return Variable._execution_engine.run_backward(  # Calls into the C++ engine to run the backward pass\n"
     ]
    },
    {
     "name": "stdout",
     "output_type": "stream",
     "text": [
      "computed batch 55\n",
      "Allocated: 10828.39 MB\n",
      "Reserved: 70918.00 MB\n",
      "Allocated: 10828.39 MB\n",
      "Reserved: 33126.00 MB\n",
      "in getitem feature: [0. 1.]\n",
      "in getitem label: [0 1]\n"
     ]
    },
    {
     "name": "stderr",
     "output_type": "stream",
     "text": [
      "/tmp/ipykernel_3001/3942127936.py:26: FutureWarning: `torch.cuda.amp.autocast(args...)` is deprecated. Please use `torch.amp.autocast('cuda', args...)` instead.\n",
      "  with torch.cuda.amp.autocast():\n",
      "/home/ubuntu/.local/lib/python3.10/site-packages/torch/autograd/graph.py:825: UserWarning: cuDNN SDPA backward got grad_output.strides() != output.strides(), attempting to materialize a grad_output with matching strides... (Triggered internally at /pytorch/aten/src/ATen/native/cudnn/MHA.cpp:674.)\n",
      "  return Variable._execution_engine.run_backward(  # Calls into the C++ engine to run the backward pass\n"
     ]
    },
    {
     "name": "stdout",
     "output_type": "stream",
     "text": [
      "computed batch 56\n",
      "Allocated: 10824.67 MB\n",
      "Reserved: 70854.00 MB\n",
      "Allocated: 10824.67 MB\n",
      "Reserved: 35848.00 MB\n",
      "in getitem feature: [0. 1.]\n",
      "in getitem label: [0 1]\n"
     ]
    },
    {
     "name": "stderr",
     "output_type": "stream",
     "text": [
      "/tmp/ipykernel_3001/3942127936.py:26: FutureWarning: `torch.cuda.amp.autocast(args...)` is deprecated. Please use `torch.amp.autocast('cuda', args...)` instead.\n",
      "  with torch.cuda.amp.autocast():\n",
      "/home/ubuntu/.local/lib/python3.10/site-packages/torch/autograd/graph.py:825: UserWarning: cuDNN SDPA backward got grad_output.strides() != output.strides(), attempting to materialize a grad_output with matching strides... (Triggered internally at /pytorch/aten/src/ATen/native/cudnn/MHA.cpp:674.)\n",
      "  return Variable._execution_engine.run_backward(  # Calls into the C++ engine to run the backward pass\n"
     ]
    },
    {
     "name": "stdout",
     "output_type": "stream",
     "text": [
      "computed batch 57\n",
      "Allocated: 10827.92 MB\n",
      "Reserved: 70100.00 MB\n",
      "Allocated: 10827.92 MB\n",
      "Reserved: 29266.00 MB\n",
      "in getitem feature: [0. 1.]\n",
      "in getitem label: [0 1]\n"
     ]
    },
    {
     "name": "stderr",
     "output_type": "stream",
     "text": [
      "/tmp/ipykernel_3001/3942127936.py:26: FutureWarning: `torch.cuda.amp.autocast(args...)` is deprecated. Please use `torch.amp.autocast('cuda', args...)` instead.\n",
      "  with torch.cuda.amp.autocast():\n",
      "/home/ubuntu/.local/lib/python3.10/site-packages/torch/autograd/graph.py:825: UserWarning: cuDNN SDPA backward got grad_output.strides() != output.strides(), attempting to materialize a grad_output with matching strides... (Triggered internally at /pytorch/aten/src/ATen/native/cudnn/MHA.cpp:674.)\n",
      "  return Variable._execution_engine.run_backward(  # Calls into the C++ engine to run the backward pass\n"
     ]
    },
    {
     "name": "stdout",
     "output_type": "stream",
     "text": [
      "computed batch 58\n",
      "Allocated: 10823.73 MB\n",
      "Reserved: 70226.00 MB\n",
      "Allocated: 10823.73 MB\n",
      "Reserved: 32686.00 MB\n",
      "in getitem feature: [0. 1.]\n",
      "in getitem label: [0 1]\n"
     ]
    },
    {
     "name": "stderr",
     "output_type": "stream",
     "text": [
      "/tmp/ipykernel_3001/3942127936.py:26: FutureWarning: `torch.cuda.amp.autocast(args...)` is deprecated. Please use `torch.amp.autocast('cuda', args...)` instead.\n",
      "  with torch.cuda.amp.autocast():\n",
      "/home/ubuntu/.local/lib/python3.10/site-packages/torch/autograd/graph.py:825: UserWarning: cuDNN SDPA backward got grad_output.strides() != output.strides(), attempting to materialize a grad_output with matching strides... (Triggered internally at /pytorch/aten/src/ATen/native/cudnn/MHA.cpp:674.)\n",
      "  return Variable._execution_engine.run_backward(  # Calls into the C++ engine to run the backward pass\n"
     ]
    },
    {
     "name": "stdout",
     "output_type": "stream",
     "text": [
      "computed batch 59\n",
      "Allocated: 10830.06 MB\n",
      "Reserved: 72634.00 MB\n",
      "Allocated: 10830.06 MB\n",
      "Reserved: 33002.00 MB\n",
      "in getitem feature: [0. 1.]\n",
      "in getitem label: [0 1]\n"
     ]
    },
    {
     "name": "stderr",
     "output_type": "stream",
     "text": [
      "/tmp/ipykernel_3001/3942127936.py:26: FutureWarning: `torch.cuda.amp.autocast(args...)` is deprecated. Please use `torch.amp.autocast('cuda', args...)` instead.\n",
      "  with torch.cuda.amp.autocast():\n",
      "/home/ubuntu/.local/lib/python3.10/site-packages/torch/autograd/graph.py:825: UserWarning: cuDNN SDPA backward got grad_output.strides() != output.strides(), attempting to materialize a grad_output with matching strides... (Triggered internally at /pytorch/aten/src/ATen/native/cudnn/MHA.cpp:674.)\n",
      "  return Variable._execution_engine.run_backward(  # Calls into the C++ engine to run the backward pass\n"
     ]
    },
    {
     "name": "stdout",
     "output_type": "stream",
     "text": [
      "computed batch 60\n",
      "Allocated: 10824.66 MB\n",
      "Reserved: 72380.00 MB\n",
      "Allocated: 10824.66 MB\n",
      "Reserved: 30656.00 MB\n",
      "in getitem feature: [0. 1.]\n",
      "in getitem label: [0 1]\n"
     ]
    },
    {
     "name": "stderr",
     "output_type": "stream",
     "text": [
      "/tmp/ipykernel_3001/3942127936.py:26: FutureWarning: `torch.cuda.amp.autocast(args...)` is deprecated. Please use `torch.amp.autocast('cuda', args...)` instead.\n",
      "  with torch.cuda.amp.autocast():\n",
      "/home/ubuntu/.local/lib/python3.10/site-packages/torch/autograd/graph.py:825: UserWarning: cuDNN SDPA backward got grad_output.strides() != output.strides(), attempting to materialize a grad_output with matching strides... (Triggered internally at /pytorch/aten/src/ATen/native/cudnn/MHA.cpp:674.)\n",
      "  return Variable._execution_engine.run_backward(  # Calls into the C++ engine to run the backward pass\n"
     ]
    },
    {
     "name": "stdout",
     "output_type": "stream",
     "text": [
      "computed batch 61\n",
      "Allocated: 10828.22 MB\n",
      "Reserved: 70602.00 MB\n",
      "Allocated: 10828.22 MB\n",
      "Reserved: 28692.00 MB\n",
      "in getitem feature: [0. 1.]\n",
      "in getitem label: [0 1]\n"
     ]
    },
    {
     "name": "stderr",
     "output_type": "stream",
     "text": [
      "/tmp/ipykernel_3001/3942127936.py:26: FutureWarning: `torch.cuda.amp.autocast(args...)` is deprecated. Please use `torch.amp.autocast('cuda', args...)` instead.\n",
      "  with torch.cuda.amp.autocast():\n",
      "/home/ubuntu/.local/lib/python3.10/site-packages/torch/autograd/graph.py:825: UserWarning: cuDNN SDPA backward got grad_output.strides() != output.strides(), attempting to materialize a grad_output with matching strides... (Triggered internally at /pytorch/aten/src/ATen/native/cudnn/MHA.cpp:674.)\n",
      "  return Variable._execution_engine.run_backward(  # Calls into the C++ engine to run the backward pass\n"
     ]
    },
    {
     "name": "stdout",
     "output_type": "stream",
     "text": [
      "computed batch 62\n",
      "Allocated: 10827.08 MB\n",
      "Reserved: 70604.00 MB\n",
      "Allocated: 10827.08 MB\n",
      "Reserved: 33250.00 MB\n",
      "in getitem feature: [0. 1.]\n",
      "in getitem label: [0 1]\n"
     ]
    },
    {
     "name": "stderr",
     "output_type": "stream",
     "text": [
      "/tmp/ipykernel_3001/3942127936.py:26: FutureWarning: `torch.cuda.amp.autocast(args...)` is deprecated. Please use `torch.amp.autocast('cuda', args...)` instead.\n",
      "  with torch.cuda.amp.autocast():\n",
      "/home/ubuntu/.local/lib/python3.10/site-packages/torch/autograd/graph.py:825: UserWarning: cuDNN SDPA backward got grad_output.strides() != output.strides(), attempting to materialize a grad_output with matching strides... (Triggered internally at /pytorch/aten/src/ATen/native/cudnn/MHA.cpp:674.)\n",
      "  return Variable._execution_engine.run_backward(  # Calls into the C++ engine to run the backward pass\n"
     ]
    },
    {
     "name": "stdout",
     "output_type": "stream",
     "text": [
      "computed batch 63\n",
      "Allocated: 10826.88 MB\n",
      "Reserved: 71804.00 MB\n",
      "Allocated: 10826.88 MB\n",
      "Reserved: 33122.00 MB\n",
      "in getitem feature: [0. 1.]\n",
      "in getitem label: [0 1]\n"
     ]
    },
    {
     "name": "stderr",
     "output_type": "stream",
     "text": [
      "/tmp/ipykernel_3001/3942127936.py:26: FutureWarning: `torch.cuda.amp.autocast(args...)` is deprecated. Please use `torch.amp.autocast('cuda', args...)` instead.\n",
      "  with torch.cuda.amp.autocast():\n",
      "/home/ubuntu/.local/lib/python3.10/site-packages/torch/autograd/graph.py:825: UserWarning: cuDNN SDPA backward got grad_output.strides() != output.strides(), attempting to materialize a grad_output with matching strides... (Triggered internally at /pytorch/aten/src/ATen/native/cudnn/MHA.cpp:674.)\n",
      "  return Variable._execution_engine.run_backward(  # Calls into the C++ engine to run the backward pass\n"
     ]
    },
    {
     "name": "stdout",
     "output_type": "stream",
     "text": [
      "computed batch 64\n",
      "Allocated: 10831.90 MB\n",
      "Reserved: 71994.00 MB\n",
      "Allocated: 10831.90 MB\n",
      "Reserved: 31480.00 MB\n",
      "in getitem feature: [0. 1.]\n",
      "in getitem label: [0 1]\n"
     ]
    },
    {
     "name": "stderr",
     "output_type": "stream",
     "text": [
      "/tmp/ipykernel_3001/3942127936.py:26: FutureWarning: `torch.cuda.amp.autocast(args...)` is deprecated. Please use `torch.amp.autocast('cuda', args...)` instead.\n",
      "  with torch.cuda.amp.autocast():\n",
      "/home/ubuntu/.local/lib/python3.10/site-packages/torch/autograd/graph.py:825: UserWarning: cuDNN SDPA backward got grad_output.strides() != output.strides(), attempting to materialize a grad_output with matching strides... (Triggered internally at /pytorch/aten/src/ATen/native/cudnn/MHA.cpp:674.)\n",
      "  return Variable._execution_engine.run_backward(  # Calls into the C++ engine to run the backward pass\n"
     ]
    },
    {
     "name": "stdout",
     "output_type": "stream",
     "text": [
      "computed batch 65\n",
      "Allocated: 10828.98 MB\n",
      "Reserved: 70920.00 MB\n",
      "Allocated: 10828.98 MB\n",
      "Reserved: 31860.00 MB\n",
      "in getitem feature: [0. 1.]\n",
      "in getitem label: [0 1]\n"
     ]
    },
    {
     "name": "stderr",
     "output_type": "stream",
     "text": [
      "/tmp/ipykernel_3001/3942127936.py:26: FutureWarning: `torch.cuda.amp.autocast(args...)` is deprecated. Please use `torch.amp.autocast('cuda', args...)` instead.\n",
      "  with torch.cuda.amp.autocast():\n",
      "/home/ubuntu/.local/lib/python3.10/site-packages/torch/autograd/graph.py:825: UserWarning: cuDNN SDPA backward got grad_output.strides() != output.strides(), attempting to materialize a grad_output with matching strides... (Triggered internally at /pytorch/aten/src/ATen/native/cudnn/MHA.cpp:674.)\n",
      "  return Variable._execution_engine.run_backward(  # Calls into the C++ engine to run the backward pass\n"
     ]
    },
    {
     "name": "stdout",
     "output_type": "stream",
     "text": [
      "computed batch 66\n",
      "Allocated: 10824.38 MB\n",
      "Reserved: 69780.00 MB\n",
      "Allocated: 10824.38 MB\n",
      "Reserved: 32238.00 MB\n",
      "in getitem feature: [0. 1.]\n",
      "in getitem label: [0 1]\n"
     ]
    },
    {
     "name": "stderr",
     "output_type": "stream",
     "text": [
      "/tmp/ipykernel_3001/3942127936.py:26: FutureWarning: `torch.cuda.amp.autocast(args...)` is deprecated. Please use `torch.amp.autocast('cuda', args...)` instead.\n",
      "  with torch.cuda.amp.autocast():\n",
      "/home/ubuntu/.local/lib/python3.10/site-packages/torch/autograd/graph.py:825: UserWarning: cuDNN SDPA backward got grad_output.strides() != output.strides(), attempting to materialize a grad_output with matching strides... (Triggered internally at /pytorch/aten/src/ATen/native/cudnn/MHA.cpp:674.)\n",
      "  return Variable._execution_engine.run_backward(  # Calls into the C++ engine to run the backward pass\n"
     ]
    },
    {
     "name": "stdout",
     "output_type": "stream",
     "text": [
      "computed batch 67\n",
      "Allocated: 10826.92 MB\n",
      "Reserved: 70604.00 MB\n",
      "Allocated: 10826.92 MB\n",
      "Reserved: 32178.00 MB\n",
      "in getitem feature: [0. 1.]\n",
      "in getitem label: [0 1]\n"
     ]
    },
    {
     "name": "stderr",
     "output_type": "stream",
     "text": [
      "/tmp/ipykernel_3001/3942127936.py:26: FutureWarning: `torch.cuda.amp.autocast(args...)` is deprecated. Please use `torch.amp.autocast('cuda', args...)` instead.\n",
      "  with torch.cuda.amp.autocast():\n",
      "/home/ubuntu/.local/lib/python3.10/site-packages/torch/autograd/graph.py:825: UserWarning: cuDNN SDPA backward got grad_output.strides() != output.strides(), attempting to materialize a grad_output with matching strides... (Triggered internally at /pytorch/aten/src/ATen/native/cudnn/MHA.cpp:674.)\n",
      "  return Variable._execution_engine.run_backward(  # Calls into the C++ engine to run the backward pass\n"
     ]
    },
    {
     "name": "stdout",
     "output_type": "stream",
     "text": [
      "computed batch 68\n",
      "Allocated: 10825.58 MB\n",
      "Reserved: 70288.00 MB\n",
      "Allocated: 10825.58 MB\n",
      "Reserved: 28252.00 MB\n",
      "in getitem feature: [0. 1.]\n",
      "in getitem label: [0 1]\n"
     ]
    },
    {
     "name": "stderr",
     "output_type": "stream",
     "text": [
      "/tmp/ipykernel_3001/3942127936.py:26: FutureWarning: `torch.cuda.amp.autocast(args...)` is deprecated. Please use `torch.amp.autocast('cuda', args...)` instead.\n",
      "  with torch.cuda.amp.autocast():\n",
      "/home/ubuntu/.local/lib/python3.10/site-packages/torch/autograd/graph.py:825: UserWarning: cuDNN SDPA backward got grad_output.strides() != output.strides(), attempting to materialize a grad_output with matching strides... (Triggered internally at /pytorch/aten/src/ATen/native/cudnn/MHA.cpp:674.)\n",
      "  return Variable._execution_engine.run_backward(  # Calls into the C++ engine to run the backward pass\n"
     ]
    },
    {
     "name": "stdout",
     "output_type": "stream",
     "text": [
      "computed batch 69\n",
      "Allocated: 10831.79 MB\n",
      "Reserved: 71366.00 MB\n",
      "Allocated: 10831.79 MB\n",
      "Reserved: 32236.00 MB\n",
      "in getitem feature: [0. 1.]\n",
      "in getitem label: [0 1]\n"
     ]
    },
    {
     "name": "stderr",
     "output_type": "stream",
     "text": [
      "/tmp/ipykernel_3001/3942127936.py:26: FutureWarning: `torch.cuda.amp.autocast(args...)` is deprecated. Please use `torch.amp.autocast('cuda', args...)` instead.\n",
      "  with torch.cuda.amp.autocast():\n",
      "/home/ubuntu/.local/lib/python3.10/site-packages/torch/autograd/graph.py:825: UserWarning: cuDNN SDPA backward got grad_output.strides() != output.strides(), attempting to materialize a grad_output with matching strides... (Triggered internally at /pytorch/aten/src/ATen/native/cudnn/MHA.cpp:674.)\n",
      "  return Variable._execution_engine.run_backward(  # Calls into the C++ engine to run the backward pass\n"
     ]
    },
    {
     "name": "stdout",
     "output_type": "stream",
     "text": [
      "computed batch 70\n",
      "Allocated: 10827.07 MB\n",
      "Reserved: 71614.00 MB\n",
      "Allocated: 10827.07 MB\n",
      "Reserved: 31982.00 MB\n",
      "in getitem feature: [0. 1.]\n",
      "in getitem label: [0 1]\n"
     ]
    },
    {
     "name": "stderr",
     "output_type": "stream",
     "text": [
      "/tmp/ipykernel_3001/3942127936.py:26: FutureWarning: `torch.cuda.amp.autocast(args...)` is deprecated. Please use `torch.amp.autocast('cuda', args...)` instead.\n",
      "  with torch.cuda.amp.autocast():\n",
      "/home/ubuntu/.local/lib/python3.10/site-packages/torch/autograd/graph.py:825: UserWarning: cuDNN SDPA backward got grad_output.strides() != output.strides(), attempting to materialize a grad_output with matching strides... (Triggered internally at /pytorch/aten/src/ATen/native/cudnn/MHA.cpp:674.)\n",
      "  return Variable._execution_engine.run_backward(  # Calls into the C++ engine to run the backward pass\n"
     ]
    },
    {
     "name": "stdout",
     "output_type": "stream",
     "text": [
      "computed batch 71\n",
      "Allocated: 10824.69 MB\n",
      "Reserved: 70220.00 MB\n",
      "Allocated: 10824.69 MB\n",
      "Reserved: 35910.00 MB\n",
      "in getitem feature: [0. 1.]\n",
      "in getitem label: [0 1]\n"
     ]
    },
    {
     "name": "stderr",
     "output_type": "stream",
     "text": [
      "/tmp/ipykernel_3001/3942127936.py:26: FutureWarning: `torch.cuda.amp.autocast(args...)` is deprecated. Please use `torch.amp.autocast('cuda', args...)` instead.\n",
      "  with torch.cuda.amp.autocast():\n",
      "/home/ubuntu/.local/lib/python3.10/site-packages/torch/autograd/graph.py:825: UserWarning: cuDNN SDPA backward got grad_output.strides() != output.strides(), attempting to materialize a grad_output with matching strides... (Triggered internally at /pytorch/aten/src/ATen/native/cudnn/MHA.cpp:674.)\n",
      "  return Variable._execution_engine.run_backward(  # Calls into the C++ engine to run the backward pass\n"
     ]
    },
    {
     "name": "stdout",
     "output_type": "stream",
     "text": [
      "computed batch 72\n",
      "Allocated: 10826.45 MB\n",
      "Reserved: 70918.00 MB\n",
      "Allocated: 10826.45 MB\n",
      "Reserved: 30720.00 MB\n",
      "in getitem feature: [0. 1.]\n",
      "in getitem label: [0 1]\n"
     ]
    },
    {
     "name": "stderr",
     "output_type": "stream",
     "text": [
      "/tmp/ipykernel_3001/3942127936.py:26: FutureWarning: `torch.cuda.amp.autocast(args...)` is deprecated. Please use `torch.amp.autocast('cuda', args...)` instead.\n",
      "  with torch.cuda.amp.autocast():\n",
      "/home/ubuntu/.local/lib/python3.10/site-packages/torch/autograd/graph.py:825: UserWarning: cuDNN SDPA backward got grad_output.strides() != output.strides(), attempting to materialize a grad_output with matching strides... (Triggered internally at /pytorch/aten/src/ATen/native/cudnn/MHA.cpp:674.)\n",
      "  return Variable._execution_engine.run_backward(  # Calls into the C++ engine to run the backward pass\n"
     ]
    },
    {
     "name": "stdout",
     "output_type": "stream",
     "text": [
      "computed batch 73\n",
      "Allocated: 10830.98 MB\n",
      "Reserved: 71868.00 MB\n",
      "Allocated: 10830.98 MB\n",
      "Reserved: 32806.00 MB\n",
      "in getitem feature: [0. 1.]\n",
      "in getitem label: [0 1]\n"
     ]
    },
    {
     "name": "stderr",
     "output_type": "stream",
     "text": [
      "/tmp/ipykernel_3001/3942127936.py:26: FutureWarning: `torch.cuda.amp.autocast(args...)` is deprecated. Please use `torch.amp.autocast('cuda', args...)` instead.\n",
      "  with torch.cuda.amp.autocast():\n",
      "/home/ubuntu/.local/lib/python3.10/site-packages/torch/autograd/graph.py:825: UserWarning: cuDNN SDPA backward got grad_output.strides() != output.strides(), attempting to materialize a grad_output with matching strides... (Triggered internally at /pytorch/aten/src/ATen/native/cudnn/MHA.cpp:674.)\n",
      "  return Variable._execution_engine.run_backward(  # Calls into the C++ engine to run the backward pass\n"
     ]
    },
    {
     "name": "stdout",
     "output_type": "stream",
     "text": [
      "computed batch 74\n",
      "Allocated: 10829.23 MB\n",
      "Reserved: 70852.00 MB\n",
      "Allocated: 10829.23 MB\n",
      "Reserved: 33946.00 MB\n",
      "in getitem feature: [0. 1.]\n",
      "in getitem label: [0 1]\n"
     ]
    },
    {
     "name": "stderr",
     "output_type": "stream",
     "text": [
      "/tmp/ipykernel_3001/3942127936.py:26: FutureWarning: `torch.cuda.amp.autocast(args...)` is deprecated. Please use `torch.amp.autocast('cuda', args...)` instead.\n",
      "  with torch.cuda.amp.autocast():\n",
      "/home/ubuntu/.local/lib/python3.10/site-packages/torch/autograd/graph.py:825: UserWarning: cuDNN SDPA backward got grad_output.strides() != output.strides(), attempting to materialize a grad_output with matching strides... (Triggered internally at /pytorch/aten/src/ATen/native/cudnn/MHA.cpp:674.)\n",
      "  return Variable._execution_engine.run_backward(  # Calls into the C++ engine to run the backward pass\n"
     ]
    },
    {
     "name": "stdout",
     "output_type": "stream",
     "text": [
      "computed batch 75\n",
      "Allocated: 10827.90 MB\n",
      "Reserved: 70978.00 MB\n",
      "Allocated: 10827.90 MB\n",
      "Reserved: 32428.00 MB\n",
      "in getitem feature: [0. 1.]\n",
      "in getitem label: [0 1]\n"
     ]
    },
    {
     "name": "stderr",
     "output_type": "stream",
     "text": [
      "/tmp/ipykernel_3001/3942127936.py:26: FutureWarning: `torch.cuda.amp.autocast(args...)` is deprecated. Please use `torch.amp.autocast('cuda', args...)` instead.\n",
      "  with torch.cuda.amp.autocast():\n",
      "/home/ubuntu/.local/lib/python3.10/site-packages/torch/autograd/graph.py:825: UserWarning: cuDNN SDPA backward got grad_output.strides() != output.strides(), attempting to materialize a grad_output with matching strides... (Triggered internally at /pytorch/aten/src/ATen/native/cudnn/MHA.cpp:674.)\n",
      "  return Variable._execution_engine.run_backward(  # Calls into the C++ engine to run the backward pass\n"
     ]
    },
    {
     "name": "stdout",
     "output_type": "stream",
     "text": [
      "computed batch 76\n",
      "Allocated: 10829.12 MB\n",
      "Reserved: 70412.00 MB\n",
      "Allocated: 10829.12 MB\n",
      "Reserved: 29960.00 MB\n",
      "in getitem feature: [0. 1.]\n",
      "in getitem label: [0 1]\n"
     ]
    },
    {
     "name": "stderr",
     "output_type": "stream",
     "text": [
      "/tmp/ipykernel_3001/3942127936.py:26: FutureWarning: `torch.cuda.amp.autocast(args...)` is deprecated. Please use `torch.amp.autocast('cuda', args...)` instead.\n",
      "  with torch.cuda.amp.autocast():\n",
      "/home/ubuntu/.local/lib/python3.10/site-packages/torch/autograd/graph.py:825: UserWarning: cuDNN SDPA backward got grad_output.strides() != output.strides(), attempting to materialize a grad_output with matching strides... (Triggered internally at /pytorch/aten/src/ATen/native/cudnn/MHA.cpp:674.)\n",
      "  return Variable._execution_engine.run_backward(  # Calls into the C++ engine to run the backward pass\n"
     ]
    },
    {
     "name": "stdout",
     "output_type": "stream",
     "text": [
      "computed batch 77\n",
      "Allocated: 10832.50 MB\n",
      "Reserved: 70920.00 MB\n",
      "Allocated: 10832.50 MB\n",
      "Reserved: 29704.00 MB\n",
      "in getitem feature: [0. 1.]\n",
      "in getitem label: [0 1]\n"
     ]
    },
    {
     "name": "stderr",
     "output_type": "stream",
     "text": [
      "/tmp/ipykernel_3001/3942127936.py:26: FutureWarning: `torch.cuda.amp.autocast(args...)` is deprecated. Please use `torch.amp.autocast('cuda', args...)` instead.\n",
      "  with torch.cuda.amp.autocast():\n",
      "/home/ubuntu/.local/lib/python3.10/site-packages/torch/autograd/graph.py:825: UserWarning: cuDNN SDPA backward got grad_output.strides() != output.strides(), attempting to materialize a grad_output with matching strides... (Triggered internally at /pytorch/aten/src/ATen/native/cudnn/MHA.cpp:674.)\n",
      "  return Variable._execution_engine.run_backward(  # Calls into the C++ engine to run the backward pass\n"
     ]
    },
    {
     "name": "stdout",
     "output_type": "stream",
     "text": [
      "computed batch 78\n",
      "Allocated: 10826.83 MB\n",
      "Reserved: 70538.00 MB\n",
      "Allocated: 10826.83 MB\n",
      "Reserved: 28948.00 MB\n",
      "in getitem feature: [0. 1.]\n",
      "in getitem label: [0 1]\n"
     ]
    },
    {
     "name": "stderr",
     "output_type": "stream",
     "text": [
      "/tmp/ipykernel_3001/3942127936.py:26: FutureWarning: `torch.cuda.amp.autocast(args...)` is deprecated. Please use `torch.amp.autocast('cuda', args...)` instead.\n",
      "  with torch.cuda.amp.autocast():\n",
      "/home/ubuntu/.local/lib/python3.10/site-packages/torch/autograd/graph.py:825: UserWarning: cuDNN SDPA backward got grad_output.strides() != output.strides(), attempting to materialize a grad_output with matching strides... (Triggered internally at /pytorch/aten/src/ATen/native/cudnn/MHA.cpp:674.)\n",
      "  return Variable._execution_engine.run_backward(  # Calls into the C++ engine to run the backward pass\n"
     ]
    },
    {
     "name": "stdout",
     "output_type": "stream",
     "text": [
      "computed batch 79\n",
      "Allocated: 10829.88 MB\n",
      "Reserved: 70604.00 MB\n",
      "Allocated: 10829.88 MB\n",
      "Reserved: 30148.00 MB\n",
      "in getitem feature: [0. 1.]\n",
      "in getitem label: [0 1]\n"
     ]
    },
    {
     "name": "stderr",
     "output_type": "stream",
     "text": [
      "/tmp/ipykernel_3001/3942127936.py:26: FutureWarning: `torch.cuda.amp.autocast(args...)` is deprecated. Please use `torch.amp.autocast('cuda', args...)` instead.\n",
      "  with torch.cuda.amp.autocast():\n",
      "/home/ubuntu/.local/lib/python3.10/site-packages/torch/autograd/graph.py:825: UserWarning: cuDNN SDPA backward got grad_output.strides() != output.strides(), attempting to materialize a grad_output with matching strides... (Triggered internally at /pytorch/aten/src/ATen/native/cudnn/MHA.cpp:674.)\n",
      "  return Variable._execution_engine.run_backward(  # Calls into the C++ engine to run the backward pass\n"
     ]
    },
    {
     "name": "stdout",
     "output_type": "stream",
     "text": [
      "computed batch 80\n",
      "Allocated: 10833.04 MB\n",
      "Reserved: 71618.00 MB\n",
      "Allocated: 10833.04 MB\n",
      "Reserved: 34088.00 MB\n",
      "in getitem feature: [0. 1.]\n",
      "in getitem label: [0 1]\n"
     ]
    },
    {
     "name": "stderr",
     "output_type": "stream",
     "text": [
      "/tmp/ipykernel_3001/3942127936.py:26: FutureWarning: `torch.cuda.amp.autocast(args...)` is deprecated. Please use `torch.amp.autocast('cuda', args...)` instead.\n",
      "  with torch.cuda.amp.autocast():\n",
      "/home/ubuntu/.local/lib/python3.10/site-packages/torch/autograd/graph.py:825: UserWarning: cuDNN SDPA backward got grad_output.strides() != output.strides(), attempting to materialize a grad_output with matching strides... (Triggered internally at /pytorch/aten/src/ATen/native/cudnn/MHA.cpp:674.)\n",
      "  return Variable._execution_engine.run_backward(  # Calls into the C++ engine to run the backward pass\n"
     ]
    },
    {
     "name": "stdout",
     "output_type": "stream",
     "text": [
      "computed batch 81\n",
      "Allocated: 10828.39 MB\n",
      "Reserved: 71754.00 MB\n",
      "Allocated: 10828.39 MB\n",
      "Reserved: 35608.00 MB\n",
      "in getitem feature: [0. 1.]\n",
      "in getitem label: [0 1]\n"
     ]
    },
    {
     "name": "stderr",
     "output_type": "stream",
     "text": [
      "/tmp/ipykernel_3001/3942127936.py:26: FutureWarning: `torch.cuda.amp.autocast(args...)` is deprecated. Please use `torch.amp.autocast('cuda', args...)` instead.\n",
      "  with torch.cuda.amp.autocast():\n",
      "/home/ubuntu/.local/lib/python3.10/site-packages/torch/autograd/graph.py:825: UserWarning: cuDNN SDPA backward got grad_output.strides() != output.strides(), attempting to materialize a grad_output with matching strides... (Triggered internally at /pytorch/aten/src/ATen/native/cudnn/MHA.cpp:674.)\n",
      "  return Variable._execution_engine.run_backward(  # Calls into the C++ engine to run the backward pass\n"
     ]
    },
    {
     "name": "stdout",
     "output_type": "stream",
     "text": [
      "computed batch 82\n",
      "Allocated: 10824.69 MB\n",
      "Reserved: 70740.00 MB\n",
      "Allocated: 10824.69 MB\n",
      "Reserved: 32188.00 MB\n",
      "in getitem feature: [0. 1.]\n",
      "in getitem label: [0 1]\n"
     ]
    },
    {
     "name": "stderr",
     "output_type": "stream",
     "text": [
      "/tmp/ipykernel_3001/3942127936.py:26: FutureWarning: `torch.cuda.amp.autocast(args...)` is deprecated. Please use `torch.amp.autocast('cuda', args...)` instead.\n",
      "  with torch.cuda.amp.autocast():\n",
      "/home/ubuntu/.local/lib/python3.10/site-packages/torch/autograd/graph.py:825: UserWarning: cuDNN SDPA backward got grad_output.strides() != output.strides(), attempting to materialize a grad_output with matching strides... (Triggered internally at /pytorch/aten/src/ATen/native/cudnn/MHA.cpp:674.)\n",
      "  return Variable._execution_engine.run_backward(  # Calls into the C++ engine to run the backward pass\n"
     ]
    },
    {
     "name": "stdout",
     "output_type": "stream",
     "text": [
      "computed batch 83\n",
      "Allocated: 10828.77 MB\n",
      "Reserved: 71186.00 MB\n",
      "Allocated: 10828.77 MB\n",
      "Reserved: 34722.00 MB\n",
      "in getitem feature: [0. 1.]\n",
      "in getitem label: [0 1]\n"
     ]
    },
    {
     "name": "stderr",
     "output_type": "stream",
     "text": [
      "/tmp/ipykernel_3001/3942127936.py:26: FutureWarning: `torch.cuda.amp.autocast(args...)` is deprecated. Please use `torch.amp.autocast('cuda', args...)` instead.\n",
      "  with torch.cuda.amp.autocast():\n",
      "/home/ubuntu/.local/lib/python3.10/site-packages/torch/autograd/graph.py:825: UserWarning: cuDNN SDPA backward got grad_output.strides() != output.strides(), attempting to materialize a grad_output with matching strides... (Triggered internally at /pytorch/aten/src/ATen/native/cudnn/MHA.cpp:674.)\n",
      "  return Variable._execution_engine.run_backward(  # Calls into the C++ engine to run the backward pass\n"
     ]
    },
    {
     "name": "stdout",
     "output_type": "stream",
     "text": [
      "computed batch 84\n",
      "Allocated: 10829.60 MB\n",
      "Reserved: 70172.00 MB\n",
      "Allocated: 10829.60 MB\n",
      "Reserved: 29150.00 MB\n",
      "in getitem feature: [0. 1.]\n",
      "in getitem label: [0 1]\n"
     ]
    },
    {
     "name": "stderr",
     "output_type": "stream",
     "text": [
      "/tmp/ipykernel_3001/3942127936.py:26: FutureWarning: `torch.cuda.amp.autocast(args...)` is deprecated. Please use `torch.amp.autocast('cuda', args...)` instead.\n",
      "  with torch.cuda.amp.autocast():\n",
      "/home/ubuntu/.local/lib/python3.10/site-packages/torch/autograd/graph.py:825: UserWarning: cuDNN SDPA backward got grad_output.strides() != output.strides(), attempting to materialize a grad_output with matching strides... (Triggered internally at /pytorch/aten/src/ATen/native/cudnn/MHA.cpp:674.)\n",
      "  return Variable._execution_engine.run_backward(  # Calls into the C++ engine to run the backward pass\n"
     ]
    },
    {
     "name": "stdout",
     "output_type": "stream",
     "text": [
      "computed batch 85\n",
      "Allocated: 10821.65 MB\n",
      "Reserved: 71504.00 MB\n",
      "Allocated: 10821.65 MB\n",
      "Reserved: 29910.00 MB\n",
      "in getitem feature: [0. 1.]\n",
      "in getitem label: [0 1]\n"
     ]
    },
    {
     "name": "stderr",
     "output_type": "stream",
     "text": [
      "/tmp/ipykernel_3001/3942127936.py:26: FutureWarning: `torch.cuda.amp.autocast(args...)` is deprecated. Please use `torch.amp.autocast('cuda', args...)` instead.\n",
      "  with torch.cuda.amp.autocast():\n",
      "/home/ubuntu/.local/lib/python3.10/site-packages/torch/autograd/graph.py:825: UserWarning: cuDNN SDPA backward got grad_output.strides() != output.strides(), attempting to materialize a grad_output with matching strides... (Triggered internally at /pytorch/aten/src/ATen/native/cudnn/MHA.cpp:674.)\n",
      "  return Variable._execution_engine.run_backward(  # Calls into the C++ engine to run the backward pass\n"
     ]
    },
    {
     "name": "stdout",
     "output_type": "stream",
     "text": [
      "computed batch 86\n",
      "Allocated: 10830.71 MB\n",
      "Reserved: 70490.00 MB\n",
      "Allocated: 10830.71 MB\n",
      "Reserved: 30926.00 MB\n",
      "in getitem feature: [0. 1.]\n",
      "in getitem label: [0 1]\n"
     ]
    },
    {
     "name": "stderr",
     "output_type": "stream",
     "text": [
      "/tmp/ipykernel_3001/3942127936.py:26: FutureWarning: `torch.cuda.amp.autocast(args...)` is deprecated. Please use `torch.amp.autocast('cuda', args...)` instead.\n",
      "  with torch.cuda.amp.autocast():\n",
      "/home/ubuntu/.local/lib/python3.10/site-packages/torch/autograd/graph.py:825: UserWarning: cuDNN SDPA backward got grad_output.strides() != output.strides(), attempting to materialize a grad_output with matching strides... (Triggered internally at /pytorch/aten/src/ATen/native/cudnn/MHA.cpp:674.)\n",
      "  return Variable._execution_engine.run_backward(  # Calls into the C++ engine to run the backward pass\n"
     ]
    },
    {
     "name": "stdout",
     "output_type": "stream",
     "text": [
      "computed batch 87\n",
      "Allocated: 10825.51 MB\n",
      "Reserved: 72012.00 MB\n",
      "Allocated: 10825.51 MB\n",
      "Reserved: 36118.00 MB\n",
      "in getitem feature: [0. 1.]\n",
      "in getitem label: [0 1]\n"
     ]
    },
    {
     "name": "stderr",
     "output_type": "stream",
     "text": [
      "/tmp/ipykernel_3001/3942127936.py:26: FutureWarning: `torch.cuda.amp.autocast(args...)` is deprecated. Please use `torch.amp.autocast('cuda', args...)` instead.\n",
      "  with torch.cuda.amp.autocast():\n",
      "/home/ubuntu/.local/lib/python3.10/site-packages/torch/autograd/graph.py:825: UserWarning: cuDNN SDPA backward got grad_output.strides() != output.strides(), attempting to materialize a grad_output with matching strides... (Triggered internally at /pytorch/aten/src/ATen/native/cudnn/MHA.cpp:674.)\n",
      "  return Variable._execution_engine.run_backward(  # Calls into the C++ engine to run the backward pass\n"
     ]
    },
    {
     "name": "stdout",
     "output_type": "stream",
     "text": [
      "computed batch 88\n",
      "Allocated: 10828.11 MB\n",
      "Reserved: 70742.00 MB\n",
      "Allocated: 10828.11 MB\n",
      "Reserved: 32570.00 MB\n",
      "in getitem feature: [0. 1.]\n",
      "in getitem label: [0 1]\n"
     ]
    },
    {
     "name": "stderr",
     "output_type": "stream",
     "text": [
      "/tmp/ipykernel_3001/3942127936.py:26: FutureWarning: `torch.cuda.amp.autocast(args...)` is deprecated. Please use `torch.amp.autocast('cuda', args...)` instead.\n",
      "  with torch.cuda.amp.autocast():\n",
      "/home/ubuntu/.local/lib/python3.10/site-packages/torch/autograd/graph.py:825: UserWarning: cuDNN SDPA backward got grad_output.strides() != output.strides(), attempting to materialize a grad_output with matching strides... (Triggered internally at /pytorch/aten/src/ATen/native/cudnn/MHA.cpp:674.)\n",
      "  return Variable._execution_engine.run_backward(  # Calls into the C++ engine to run the backward pass\n"
     ]
    },
    {
     "name": "stdout",
     "output_type": "stream",
     "text": [
      "computed batch 89\n",
      "Allocated: 10827.59 MB\n",
      "Reserved: 70872.00 MB\n",
      "Allocated: 10827.59 MB\n",
      "Reserved: 29534.00 MB\n",
      "in getitem feature: [0. 1.]\n",
      "in getitem label: [0 1]\n"
     ]
    },
    {
     "name": "stderr",
     "output_type": "stream",
     "text": [
      "/tmp/ipykernel_3001/3942127936.py:26: FutureWarning: `torch.cuda.amp.autocast(args...)` is deprecated. Please use `torch.amp.autocast('cuda', args...)` instead.\n",
      "  with torch.cuda.amp.autocast():\n",
      "/home/ubuntu/.local/lib/python3.10/site-packages/torch/autograd/graph.py:825: UserWarning: cuDNN SDPA backward got grad_output.strides() != output.strides(), attempting to materialize a grad_output with matching strides... (Triggered internally at /pytorch/aten/src/ATen/native/cudnn/MHA.cpp:674.)\n",
      "  return Variable._execution_engine.run_backward(  # Calls into the C++ engine to run the backward pass\n"
     ]
    },
    {
     "name": "stdout",
     "output_type": "stream",
     "text": [
      "computed batch 90\n",
      "Allocated: 10823.79 MB\n",
      "Reserved: 70746.00 MB\n",
      "Allocated: 10823.79 MB\n",
      "Reserved: 30546.00 MB\n",
      "in getitem feature: [0. 1.]\n",
      "in getitem label: [0 1]\n"
     ]
    },
    {
     "name": "stderr",
     "output_type": "stream",
     "text": [
      "/tmp/ipykernel_3001/3942127936.py:26: FutureWarning: `torch.cuda.amp.autocast(args...)` is deprecated. Please use `torch.amp.autocast('cuda', args...)` instead.\n",
      "  with torch.cuda.amp.autocast():\n",
      "/home/ubuntu/.local/lib/python3.10/site-packages/torch/autograd/graph.py:825: UserWarning: cuDNN SDPA backward got grad_output.strides() != output.strides(), attempting to materialize a grad_output with matching strides... (Triggered internally at /pytorch/aten/src/ATen/native/cudnn/MHA.cpp:674.)\n",
      "  return Variable._execution_engine.run_backward(  # Calls into the C++ engine to run the backward pass\n"
     ]
    },
    {
     "name": "stdout",
     "output_type": "stream",
     "text": [
      "computed batch 91\n",
      "Allocated: 10824.74 MB\n",
      "Reserved: 71442.00 MB\n",
      "Allocated: 10824.74 MB\n",
      "Reserved: 32444.00 MB\n",
      "in getitem feature: [0. 1.]\n",
      "in getitem label: [0 1]\n"
     ]
    },
    {
     "name": "stderr",
     "output_type": "stream",
     "text": [
      "/tmp/ipykernel_3001/3942127936.py:26: FutureWarning: `torch.cuda.amp.autocast(args...)` is deprecated. Please use `torch.amp.autocast('cuda', args...)` instead.\n",
      "  with torch.cuda.amp.autocast():\n",
      "/home/ubuntu/.local/lib/python3.10/site-packages/torch/autograd/graph.py:825: UserWarning: cuDNN SDPA backward got grad_output.strides() != output.strides(), attempting to materialize a grad_output with matching strides... (Triggered internally at /pytorch/aten/src/ATen/native/cudnn/MHA.cpp:674.)\n",
      "  return Variable._execution_engine.run_backward(  # Calls into the C++ engine to run the backward pass\n"
     ]
    },
    {
     "name": "stdout",
     "output_type": "stream",
     "text": [
      "computed batch 92\n",
      "Allocated: 10830.48 MB\n",
      "Reserved: 70110.00 MB\n",
      "Allocated: 10830.48 MB\n",
      "Reserved: 32442.00 MB\n",
      "in getitem feature: [0. 1.]\n",
      "in getitem label: [0 1]\n"
     ]
    },
    {
     "name": "stderr",
     "output_type": "stream",
     "text": [
      "/tmp/ipykernel_3001/3942127936.py:26: FutureWarning: `torch.cuda.amp.autocast(args...)` is deprecated. Please use `torch.amp.autocast('cuda', args...)` instead.\n",
      "  with torch.cuda.amp.autocast():\n",
      "/home/ubuntu/.local/lib/python3.10/site-packages/torch/autograd/graph.py:825: UserWarning: cuDNN SDPA backward got grad_output.strides() != output.strides(), attempting to materialize a grad_output with matching strides... (Triggered internally at /pytorch/aten/src/ATen/native/cudnn/MHA.cpp:674.)\n",
      "  return Variable._execution_engine.run_backward(  # Calls into the C++ engine to run the backward pass\n"
     ]
    },
    {
     "name": "stdout",
     "output_type": "stream",
     "text": [
      "computed batch 93\n",
      "Allocated: 10824.55 MB\n",
      "Reserved: 70428.00 MB\n",
      "Allocated: 10824.55 MB\n",
      "Reserved: 33328.00 MB\n",
      "in getitem feature: [0. 1.]\n",
      "in getitem label: [0 1]\n"
     ]
    },
    {
     "name": "stderr",
     "output_type": "stream",
     "text": [
      "/tmp/ipykernel_3001/3942127936.py:26: FutureWarning: `torch.cuda.amp.autocast(args...)` is deprecated. Please use `torch.amp.autocast('cuda', args...)` instead.\n",
      "  with torch.cuda.amp.autocast():\n",
      "/home/ubuntu/.local/lib/python3.10/site-packages/torch/autograd/graph.py:825: UserWarning: cuDNN SDPA backward got grad_output.strides() != output.strides(), attempting to materialize a grad_output with matching strides... (Triggered internally at /pytorch/aten/src/ATen/native/cudnn/MHA.cpp:674.)\n",
      "  return Variable._execution_engine.run_backward(  # Calls into the C++ engine to run the backward pass\n"
     ]
    },
    {
     "name": "stdout",
     "output_type": "stream",
     "text": [
      "computed batch 94\n",
      "Allocated: 10827.40 MB\n",
      "Reserved: 71186.00 MB\n",
      "Allocated: 10827.40 MB\n",
      "Reserved: 35356.00 MB\n",
      "in getitem feature: [0. 1.]\n",
      "in getitem label: [0 1]\n"
     ]
    },
    {
     "name": "stderr",
     "output_type": "stream",
     "text": [
      "/tmp/ipykernel_3001/3942127936.py:26: FutureWarning: `torch.cuda.amp.autocast(args...)` is deprecated. Please use `torch.amp.autocast('cuda', args...)` instead.\n",
      "  with torch.cuda.amp.autocast():\n",
      "/home/ubuntu/.local/lib/python3.10/site-packages/torch/autograd/graph.py:825: UserWarning: cuDNN SDPA backward got grad_output.strides() != output.strides(), attempting to materialize a grad_output with matching strides... (Triggered internally at /pytorch/aten/src/ATen/native/cudnn/MHA.cpp:674.)\n",
      "  return Variable._execution_engine.run_backward(  # Calls into the C++ engine to run the backward pass\n"
     ]
    },
    {
     "name": "stdout",
     "output_type": "stream",
     "text": [
      "computed batch 95\n",
      "Allocated: 10827.85 MB\n",
      "Reserved: 70234.00 MB\n",
      "Allocated: 10827.85 MB\n",
      "Reserved: 31304.00 MB\n",
      "in getitem feature: [0. 1.]\n",
      "in getitem label: [0 1]\n"
     ]
    },
    {
     "name": "stderr",
     "output_type": "stream",
     "text": [
      "/tmp/ipykernel_3001/3942127936.py:26: FutureWarning: `torch.cuda.amp.autocast(args...)` is deprecated. Please use `torch.amp.autocast('cuda', args...)` instead.\n",
      "  with torch.cuda.amp.autocast():\n",
      "/home/ubuntu/.local/lib/python3.10/site-packages/torch/autograd/graph.py:825: UserWarning: cuDNN SDPA backward got grad_output.strides() != output.strides(), attempting to materialize a grad_output with matching strides... (Triggered internally at /pytorch/aten/src/ATen/native/cudnn/MHA.cpp:674.)\n",
      "  return Variable._execution_engine.run_backward(  # Calls into the C++ engine to run the backward pass\n"
     ]
    },
    {
     "name": "stdout",
     "output_type": "stream",
     "text": [
      "computed batch 96\n",
      "Allocated: 10835.00 MB\n",
      "Reserved: 70618.00 MB\n",
      "Allocated: 10835.00 MB\n",
      "Reserved: 32318.00 MB\n",
      "in getitem feature: [0. 1.]\n",
      "in getitem label: [0 1]\n"
     ]
    },
    {
     "name": "stderr",
     "output_type": "stream",
     "text": [
      "/tmp/ipykernel_3001/3942127936.py:26: FutureWarning: `torch.cuda.amp.autocast(args...)` is deprecated. Please use `torch.amp.autocast('cuda', args...)` instead.\n",
      "  with torch.cuda.amp.autocast():\n",
      "/home/ubuntu/.local/lib/python3.10/site-packages/torch/autograd/graph.py:825: UserWarning: cuDNN SDPA backward got grad_output.strides() != output.strides(), attempting to materialize a grad_output with matching strides... (Triggered internally at /pytorch/aten/src/ATen/native/cudnn/MHA.cpp:674.)\n",
      "  return Variable._execution_engine.run_backward(  # Calls into the C++ engine to run the backward pass\n"
     ]
    },
    {
     "name": "stdout",
     "output_type": "stream",
     "text": [
      "computed batch 97\n",
      "Allocated: 10830.72 MB\n",
      "Reserved: 70238.00 MB\n",
      "Allocated: 10830.72 MB\n",
      "Reserved: 33206.00 MB\n",
      "in getitem feature: [0. 1.]\n",
      "in getitem label: [0 1]\n"
     ]
    },
    {
     "name": "stderr",
     "output_type": "stream",
     "text": [
      "/tmp/ipykernel_3001/3942127936.py:26: FutureWarning: `torch.cuda.amp.autocast(args...)` is deprecated. Please use `torch.amp.autocast('cuda', args...)` instead.\n",
      "  with torch.cuda.amp.autocast():\n",
      "/home/ubuntu/.local/lib/python3.10/site-packages/torch/autograd/graph.py:825: UserWarning: cuDNN SDPA backward got grad_output.strides() != output.strides(), attempting to materialize a grad_output with matching strides... (Triggered internally at /pytorch/aten/src/ATen/native/cudnn/MHA.cpp:674.)\n",
      "  return Variable._execution_engine.run_backward(  # Calls into the C++ engine to run the backward pass\n"
     ]
    },
    {
     "name": "stdout",
     "output_type": "stream",
     "text": [
      "computed batch 98\n",
      "Allocated: 10825.04 MB\n",
      "Reserved: 71760.00 MB\n",
      "Allocated: 10825.04 MB\n",
      "Reserved: 32192.00 MB\n",
      "in getitem feature: [0. 1.]\n",
      "in getitem label: [0 1]\n"
     ]
    },
    {
     "name": "stderr",
     "output_type": "stream",
     "text": [
      "/tmp/ipykernel_3001/3942127936.py:26: FutureWarning: `torch.cuda.amp.autocast(args...)` is deprecated. Please use `torch.amp.autocast('cuda', args...)` instead.\n",
      "  with torch.cuda.amp.autocast():\n",
      "/home/ubuntu/.local/lib/python3.10/site-packages/torch/autograd/graph.py:825: UserWarning: cuDNN SDPA backward got grad_output.strides() != output.strides(), attempting to materialize a grad_output with matching strides... (Triggered internally at /pytorch/aten/src/ATen/native/cudnn/MHA.cpp:674.)\n",
      "  return Variable._execution_engine.run_backward(  # Calls into the C++ engine to run the backward pass\n"
     ]
    },
    {
     "name": "stdout",
     "output_type": "stream",
     "text": [
      "computed batch 99\n",
      "Allocated: 10829.77 MB\n",
      "Reserved: 72332.00 MB\n",
      "Allocated: 10829.77 MB\n",
      "Reserved: 31750.00 MB\n",
      "in getitem feature: [0. 1.]\n",
      "in getitem label: [0 1]\n"
     ]
    },
    {
     "name": "stderr",
     "output_type": "stream",
     "text": [
      "/tmp/ipykernel_3001/3942127936.py:26: FutureWarning: `torch.cuda.amp.autocast(args...)` is deprecated. Please use `torch.amp.autocast('cuda', args...)` instead.\n",
      "  with torch.cuda.amp.autocast():\n",
      "/home/ubuntu/.local/lib/python3.10/site-packages/torch/autograd/graph.py:825: UserWarning: cuDNN SDPA backward got grad_output.strides() != output.strides(), attempting to materialize a grad_output with matching strides... (Triggered internally at /pytorch/aten/src/ATen/native/cudnn/MHA.cpp:674.)\n",
      "  return Variable._execution_engine.run_backward(  # Calls into the C++ engine to run the backward pass\n"
     ]
    },
    {
     "name": "stdout",
     "output_type": "stream",
     "text": [
      "computed batch 100\n",
      "Allocated: 10830.04 MB\n",
      "Reserved: 71066.00 MB\n",
      "Allocated: 10830.04 MB\n",
      "Reserved: 26114.00 MB\n",
      "in getitem feature: [0. 1.]\n",
      "in getitem label: [0 1]\n"
     ]
    },
    {
     "name": "stderr",
     "output_type": "stream",
     "text": [
      "/tmp/ipykernel_3001/3942127936.py:26: FutureWarning: `torch.cuda.amp.autocast(args...)` is deprecated. Please use `torch.amp.autocast('cuda', args...)` instead.\n",
      "  with torch.cuda.amp.autocast():\n",
      "/home/ubuntu/.local/lib/python3.10/site-packages/torch/autograd/graph.py:825: UserWarning: cuDNN SDPA backward got grad_output.strides() != output.strides(), attempting to materialize a grad_output with matching strides... (Triggered internally at /pytorch/aten/src/ATen/native/cudnn/MHA.cpp:674.)\n",
      "  return Variable._execution_engine.run_backward(  # Calls into the C++ engine to run the backward pass\n"
     ]
    },
    {
     "name": "stdout",
     "output_type": "stream",
     "text": [
      "computed batch 101\n",
      "Allocated: 10833.32 MB\n",
      "Reserved: 70876.00 MB\n",
      "Allocated: 10833.32 MB\n",
      "Reserved: 30926.00 MB\n",
      "in getitem feature: [0. 1.]\n",
      "in getitem label: [0 1]\n"
     ]
    },
    {
     "name": "stderr",
     "output_type": "stream",
     "text": [
      "/tmp/ipykernel_3001/3942127936.py:26: FutureWarning: `torch.cuda.amp.autocast(args...)` is deprecated. Please use `torch.amp.autocast('cuda', args...)` instead.\n",
      "  with torch.cuda.amp.autocast():\n",
      "/home/ubuntu/.local/lib/python3.10/site-packages/torch/autograd/graph.py:825: UserWarning: cuDNN SDPA backward got grad_output.strides() != output.strides(), attempting to materialize a grad_output with matching strides... (Triggered internally at /pytorch/aten/src/ATen/native/cudnn/MHA.cpp:674.)\n",
      "  return Variable._execution_engine.run_backward(  # Calls into the C++ engine to run the backward pass\n"
     ]
    },
    {
     "name": "stdout",
     "output_type": "stream",
     "text": [
      "computed batch 102\n",
      "Allocated: 10822.54 MB\n",
      "Reserved: 72204.00 MB\n",
      "Allocated: 10822.54 MB\n",
      "Reserved: 35864.00 MB\n",
      "in getitem feature: [0. 1.]\n",
      "in getitem label: [0 1]\n"
     ]
    },
    {
     "name": "stderr",
     "output_type": "stream",
     "text": [
      "/tmp/ipykernel_3001/3942127936.py:26: FutureWarning: `torch.cuda.amp.autocast(args...)` is deprecated. Please use `torch.amp.autocast('cuda', args...)` instead.\n",
      "  with torch.cuda.amp.autocast():\n",
      "/home/ubuntu/.local/lib/python3.10/site-packages/torch/autograd/graph.py:825: UserWarning: cuDNN SDPA backward got grad_output.strides() != output.strides(), attempting to materialize a grad_output with matching strides... (Triggered internally at /pytorch/aten/src/ATen/native/cudnn/MHA.cpp:674.)\n",
      "  return Variable._execution_engine.run_backward(  # Calls into the C++ engine to run the backward pass\n"
     ]
    },
    {
     "name": "stdout",
     "output_type": "stream",
     "text": [
      "computed batch 103\n",
      "Allocated: 10825.25 MB\n",
      "Reserved: 71502.00 MB\n",
      "Allocated: 10825.25 MB\n",
      "Reserved: 32824.00 MB\n",
      "in getitem feature: [0. 1.]\n",
      "in getitem label: [0 1]\n"
     ]
    },
    {
     "name": "stderr",
     "output_type": "stream",
     "text": [
      "/tmp/ipykernel_3001/3942127936.py:26: FutureWarning: `torch.cuda.amp.autocast(args...)` is deprecated. Please use `torch.amp.autocast('cuda', args...)` instead.\n",
      "  with torch.cuda.amp.autocast():\n",
      "/home/ubuntu/.local/lib/python3.10/site-packages/torch/autograd/graph.py:825: UserWarning: cuDNN SDPA backward got grad_output.strides() != output.strides(), attempting to materialize a grad_output with matching strides... (Triggered internally at /pytorch/aten/src/ATen/native/cudnn/MHA.cpp:674.)\n",
      "  return Variable._execution_engine.run_backward(  # Calls into the C++ engine to run the backward pass\n"
     ]
    },
    {
     "name": "stdout",
     "output_type": "stream",
     "text": [
      "computed batch 104\n",
      "Allocated: 10821.22 MB\n",
      "Reserved: 70492.00 MB\n",
      "Allocated: 10821.22 MB\n",
      "Reserved: 24658.00 MB\n",
      "in getitem feature: [0. 1.]\n",
      "in getitem label: [0 1]\n"
     ]
    },
    {
     "name": "stderr",
     "output_type": "stream",
     "text": [
      "/tmp/ipykernel_3001/3942127936.py:26: FutureWarning: `torch.cuda.amp.autocast(args...)` is deprecated. Please use `torch.amp.autocast('cuda', args...)` instead.\n",
      "  with torch.cuda.amp.autocast():\n",
      "/home/ubuntu/.local/lib/python3.10/site-packages/torch/autograd/graph.py:825: UserWarning: cuDNN SDPA backward got grad_output.strides() != output.strides(), attempting to materialize a grad_output with matching strides... (Triggered internally at /pytorch/aten/src/ATen/native/cudnn/MHA.cpp:674.)\n",
      "  return Variable._execution_engine.run_backward(  # Calls into the C++ engine to run the backward pass\n"
     ]
    },
    {
     "name": "stdout",
     "output_type": "stream",
     "text": [
      "computed batch 105\n",
      "Allocated: 10823.08 MB\n",
      "Reserved: 71064.00 MB\n",
      "Allocated: 10823.08 MB\n",
      "Reserved: 33838.00 MB\n",
      "in getitem feature: [0. 1.]\n",
      "in getitem label: [0 1]\n"
     ]
    },
    {
     "name": "stderr",
     "output_type": "stream",
     "text": [
      "/tmp/ipykernel_3001/3942127936.py:26: FutureWarning: `torch.cuda.amp.autocast(args...)` is deprecated. Please use `torch.amp.autocast('cuda', args...)` instead.\n",
      "  with torch.cuda.amp.autocast():\n",
      "/home/ubuntu/.local/lib/python3.10/site-packages/torch/autograd/graph.py:825: UserWarning: cuDNN SDPA backward got grad_output.strides() != output.strides(), attempting to materialize a grad_output with matching strides... (Triggered internally at /pytorch/aten/src/ATen/native/cudnn/MHA.cpp:674.)\n",
      "  return Variable._execution_engine.run_backward(  # Calls into the C++ engine to run the backward pass\n"
     ]
    },
    {
     "name": "stdout",
     "output_type": "stream",
     "text": [
      "computed batch 106\n",
      "Allocated: 10829.90 MB\n",
      "Reserved: 70238.00 MB\n",
      "Allocated: 10829.90 MB\n",
      "Reserved: 30164.00 MB\n",
      "in getitem feature: [0. 1.]\n",
      "in getitem label: [0 1]\n"
     ]
    },
    {
     "name": "stderr",
     "output_type": "stream",
     "text": [
      "/tmp/ipykernel_3001/3942127936.py:26: FutureWarning: `torch.cuda.amp.autocast(args...)` is deprecated. Please use `torch.amp.autocast('cuda', args...)` instead.\n",
      "  with torch.cuda.amp.autocast():\n",
      "/home/ubuntu/.local/lib/python3.10/site-packages/torch/autograd/graph.py:825: UserWarning: cuDNN SDPA backward got grad_output.strides() != output.strides(), attempting to materialize a grad_output with matching strides... (Triggered internally at /pytorch/aten/src/ATen/native/cudnn/MHA.cpp:674.)\n",
      "  return Variable._execution_engine.run_backward(  # Calls into the C++ engine to run the backward pass\n"
     ]
    },
    {
     "name": "stdout",
     "output_type": "stream",
     "text": [
      "computed batch 107\n",
      "Allocated: 10829.29 MB\n",
      "Reserved: 69794.00 MB\n",
      "Allocated: 10829.29 MB\n",
      "Reserved: 28964.00 MB\n",
      "in getitem feature: [0. 1.]\n",
      "in getitem label: [0 1]\n"
     ]
    },
    {
     "name": "stderr",
     "output_type": "stream",
     "text": [
      "/tmp/ipykernel_3001/3942127936.py:26: FutureWarning: `torch.cuda.amp.autocast(args...)` is deprecated. Please use `torch.amp.autocast('cuda', args...)` instead.\n",
      "  with torch.cuda.amp.autocast():\n",
      "/home/ubuntu/.local/lib/python3.10/site-packages/torch/autograd/graph.py:825: UserWarning: cuDNN SDPA backward got grad_output.strides() != output.strides(), attempting to materialize a grad_output with matching strides... (Triggered internally at /pytorch/aten/src/ATen/native/cudnn/MHA.cpp:674.)\n",
      "  return Variable._execution_engine.run_backward(  # Calls into the C++ engine to run the backward pass\n"
     ]
    },
    {
     "name": "stdout",
     "output_type": "stream",
     "text": [
      "computed batch 108\n",
      "Allocated: 10827.48 MB\n",
      "Reserved: 70366.00 MB\n",
      "Allocated: 10827.48 MB\n",
      "Reserved: 30228.00 MB\n",
      "in getitem feature: [0. 1.]\n",
      "in getitem label: [0 1]\n"
     ]
    },
    {
     "name": "stderr",
     "output_type": "stream",
     "text": [
      "/tmp/ipykernel_3001/3942127936.py:26: FutureWarning: `torch.cuda.amp.autocast(args...)` is deprecated. Please use `torch.amp.autocast('cuda', args...)` instead.\n",
      "  with torch.cuda.amp.autocast():\n",
      "/home/ubuntu/.local/lib/python3.10/site-packages/torch/autograd/graph.py:825: UserWarning: cuDNN SDPA backward got grad_output.strides() != output.strides(), attempting to materialize a grad_output with matching strides... (Triggered internally at /pytorch/aten/src/ATen/native/cudnn/MHA.cpp:674.)\n",
      "  return Variable._execution_engine.run_backward(  # Calls into the C++ engine to run the backward pass\n"
     ]
    },
    {
     "name": "stdout",
     "output_type": "stream",
     "text": [
      "computed batch 109\n",
      "Allocated: 10822.95 MB\n",
      "Reserved: 71826.00 MB\n",
      "Allocated: 10822.95 MB\n",
      "Reserved: 31434.00 MB\n",
      "in getitem feature: [0. 1.]\n",
      "in getitem label: [0 1]\n"
     ]
    },
    {
     "name": "stderr",
     "output_type": "stream",
     "text": [
      "/tmp/ipykernel_3001/3942127936.py:26: FutureWarning: `torch.cuda.amp.autocast(args...)` is deprecated. Please use `torch.amp.autocast('cuda', args...)` instead.\n",
      "  with torch.cuda.amp.autocast():\n",
      "/home/ubuntu/.local/lib/python3.10/site-packages/torch/autograd/graph.py:825: UserWarning: cuDNN SDPA backward got grad_output.strides() != output.strides(), attempting to materialize a grad_output with matching strides... (Triggered internally at /pytorch/aten/src/ATen/native/cudnn/MHA.cpp:674.)\n",
      "  return Variable._execution_engine.run_backward(  # Calls into the C++ engine to run the backward pass\n"
     ]
    },
    {
     "name": "stdout",
     "output_type": "stream",
     "text": [
      "computed batch 110\n",
      "Allocated: 10826.03 MB\n",
      "Reserved: 71192.00 MB\n",
      "Allocated: 10826.03 MB\n",
      "Reserved: 32888.00 MB\n",
      "in getitem feature: [0. 1.]\n",
      "in getitem label: [0 1]\n"
     ]
    },
    {
     "name": "stderr",
     "output_type": "stream",
     "text": [
      "/tmp/ipykernel_3001/3942127936.py:26: FutureWarning: `torch.cuda.amp.autocast(args...)` is deprecated. Please use `torch.amp.autocast('cuda', args...)` instead.\n",
      "  with torch.cuda.amp.autocast():\n",
      "/home/ubuntu/.local/lib/python3.10/site-packages/torch/autograd/graph.py:825: UserWarning: cuDNN SDPA backward got grad_output.strides() != output.strides(), attempting to materialize a grad_output with matching strides... (Triggered internally at /pytorch/aten/src/ATen/native/cudnn/MHA.cpp:674.)\n",
      "  return Variable._execution_engine.run_backward(  # Calls into the C++ engine to run the backward pass\n"
     ]
    },
    {
     "name": "stdout",
     "output_type": "stream",
     "text": [
      "computed batch 111\n",
      "Allocated: 10819.87 MB\n",
      "Reserved: 70934.00 MB\n",
      "Allocated: 10819.87 MB\n",
      "Reserved: 36240.00 MB\n",
      "in getitem feature: [0. 1.]\n",
      "in getitem label: [0 1]\n"
     ]
    },
    {
     "name": "stderr",
     "output_type": "stream",
     "text": [
      "/tmp/ipykernel_3001/3942127936.py:26: FutureWarning: `torch.cuda.amp.autocast(args...)` is deprecated. Please use `torch.amp.autocast('cuda', args...)` instead.\n",
      "  with torch.cuda.amp.autocast():\n",
      "/home/ubuntu/.local/lib/python3.10/site-packages/torch/autograd/graph.py:825: UserWarning: cuDNN SDPA backward got grad_output.strides() != output.strides(), attempting to materialize a grad_output with matching strides... (Triggered internally at /pytorch/aten/src/ATen/native/cudnn/MHA.cpp:674.)\n",
      "  return Variable._execution_engine.run_backward(  # Calls into the C++ engine to run the backward pass\n"
     ]
    },
    {
     "name": "stdout",
     "output_type": "stream",
     "text": [
      "computed batch 112\n",
      "Allocated: 10825.59 MB\n",
      "Reserved: 71440.00 MB\n",
      "Allocated: 10825.59 MB\n",
      "Reserved: 34782.00 MB\n",
      "in getitem feature: [0. 1.]\n",
      "in getitem label: [0 1]\n"
     ]
    },
    {
     "name": "stderr",
     "output_type": "stream",
     "text": [
      "/tmp/ipykernel_3001/3942127936.py:26: FutureWarning: `torch.cuda.amp.autocast(args...)` is deprecated. Please use `torch.amp.autocast('cuda', args...)` instead.\n",
      "  with torch.cuda.amp.autocast():\n",
      "/home/ubuntu/.local/lib/python3.10/site-packages/torch/autograd/graph.py:825: UserWarning: cuDNN SDPA backward got grad_output.strides() != output.strides(), attempting to materialize a grad_output with matching strides... (Triggered internally at /pytorch/aten/src/ATen/native/cudnn/MHA.cpp:674.)\n",
      "  return Variable._execution_engine.run_backward(  # Calls into the C++ engine to run the backward pass\n"
     ]
    },
    {
     "name": "stdout",
     "output_type": "stream",
     "text": [
      "computed batch 113\n",
      "Allocated: 10820.76 MB\n",
      "Reserved: 71376.00 MB\n",
      "Allocated: 10820.76 MB\n",
      "Reserved: 31810.00 MB\n",
      "in getitem feature: [0. 1.]\n",
      "in getitem label: [0 1]\n"
     ]
    },
    {
     "name": "stderr",
     "output_type": "stream",
     "text": [
      "/tmp/ipykernel_3001/3942127936.py:26: FutureWarning: `torch.cuda.amp.autocast(args...)` is deprecated. Please use `torch.amp.autocast('cuda', args...)` instead.\n",
      "  with torch.cuda.amp.autocast():\n",
      "/home/ubuntu/.local/lib/python3.10/site-packages/torch/autograd/graph.py:825: UserWarning: cuDNN SDPA backward got grad_output.strides() != output.strides(), attempting to materialize a grad_output with matching strides... (Triggered internally at /pytorch/aten/src/ATen/native/cudnn/MHA.cpp:674.)\n",
      "  return Variable._execution_engine.run_backward(  # Calls into the C++ engine to run the backward pass\n"
     ]
    },
    {
     "name": "stdout",
     "output_type": "stream",
     "text": [
      "computed batch 114\n",
      "Allocated: 10824.70 MB\n",
      "Reserved: 71884.00 MB\n",
      "Allocated: 10824.70 MB\n",
      "Reserved: 35486.00 MB\n",
      "in getitem feature: [0. 1.]\n",
      "in getitem label: [0 1]\n"
     ]
    },
    {
     "name": "stderr",
     "output_type": "stream",
     "text": [
      "/tmp/ipykernel_3001/3942127936.py:26: FutureWarning: `torch.cuda.amp.autocast(args...)` is deprecated. Please use `torch.amp.autocast('cuda', args...)` instead.\n",
      "  with torch.cuda.amp.autocast():\n",
      "/home/ubuntu/.local/lib/python3.10/site-packages/torch/autograd/graph.py:825: UserWarning: cuDNN SDPA backward got grad_output.strides() != output.strides(), attempting to materialize a grad_output with matching strides... (Triggered internally at /pytorch/aten/src/ATen/native/cudnn/MHA.cpp:674.)\n",
      "  return Variable._execution_engine.run_backward(  # Calls into the C++ engine to run the backward pass\n"
     ]
    },
    {
     "name": "stdout",
     "output_type": "stream",
     "text": [
      "computed batch 115\n",
      "Allocated: 10823.96 MB\n",
      "Reserved: 71822.00 MB\n",
      "Allocated: 10823.96 MB\n",
      "Reserved: 31810.00 MB\n",
      "in getitem feature: [0. 1.]\n",
      "in getitem label: [0 1]\n"
     ]
    },
    {
     "name": "stderr",
     "output_type": "stream",
     "text": [
      "/tmp/ipykernel_3001/3942127936.py:26: FutureWarning: `torch.cuda.amp.autocast(args...)` is deprecated. Please use `torch.amp.autocast('cuda', args...)` instead.\n",
      "  with torch.cuda.amp.autocast():\n",
      "/home/ubuntu/.local/lib/python3.10/site-packages/torch/autograd/graph.py:825: UserWarning: cuDNN SDPA backward got grad_output.strides() != output.strides(), attempting to materialize a grad_output with matching strides... (Triggered internally at /pytorch/aten/src/ATen/native/cudnn/MHA.cpp:674.)\n",
      "  return Variable._execution_engine.run_backward(  # Calls into the C++ engine to run the backward pass\n"
     ]
    },
    {
     "name": "stdout",
     "output_type": "stream",
     "text": [
      "computed batch 116\n",
      "Allocated: 10824.84 MB\n",
      "Reserved: 70870.00 MB\n",
      "Allocated: 10824.84 MB\n",
      "Reserved: 37380.00 MB\n",
      "in getitem feature: [0. 1.]\n",
      "in getitem label: [0 1]\n"
     ]
    },
    {
     "name": "stderr",
     "output_type": "stream",
     "text": [
      "/tmp/ipykernel_3001/3942127936.py:26: FutureWarning: `torch.cuda.amp.autocast(args...)` is deprecated. Please use `torch.amp.autocast('cuda', args...)` instead.\n",
      "  with torch.cuda.amp.autocast():\n",
      "/home/ubuntu/.local/lib/python3.10/site-packages/torch/autograd/graph.py:825: UserWarning: cuDNN SDPA backward got grad_output.strides() != output.strides(), attempting to materialize a grad_output with matching strides... (Triggered internally at /pytorch/aten/src/ATen/native/cudnn/MHA.cpp:674.)\n",
      "  return Variable._execution_engine.run_backward(  # Calls into the C++ engine to run the backward pass\n"
     ]
    },
    {
     "name": "stdout",
     "output_type": "stream",
     "text": [
      "computed batch 117\n",
      "Allocated: 10823.46 MB\n",
      "Reserved: 70236.00 MB\n",
      "Allocated: 10823.46 MB\n",
      "Reserved: 32954.00 MB\n",
      "in getitem feature: [0. 1.]\n",
      "in getitem label: [0 1]\n"
     ]
    },
    {
     "name": "stderr",
     "output_type": "stream",
     "text": [
      "/tmp/ipykernel_3001/3942127936.py:26: FutureWarning: `torch.cuda.amp.autocast(args...)` is deprecated. Please use `torch.amp.autocast('cuda', args...)` instead.\n",
      "  with torch.cuda.amp.autocast():\n",
      "/home/ubuntu/.local/lib/python3.10/site-packages/torch/autograd/graph.py:825: UserWarning: cuDNN SDPA backward got grad_output.strides() != output.strides(), attempting to materialize a grad_output with matching strides... (Triggered internally at /pytorch/aten/src/ATen/native/cudnn/MHA.cpp:674.)\n",
      "  return Variable._execution_engine.run_backward(  # Calls into the C++ engine to run the backward pass\n"
     ]
    },
    {
     "name": "stdout",
     "output_type": "stream",
     "text": [
      "computed batch 118\n",
      "Allocated: 10823.35 MB\n",
      "Reserved: 70238.00 MB\n",
      "Allocated: 10823.35 MB\n",
      "Reserved: 29280.00 MB\n",
      "in getitem feature: [0. 1.]\n",
      "in getitem label: [0 1]\n"
     ]
    },
    {
     "name": "stderr",
     "output_type": "stream",
     "text": [
      "/tmp/ipykernel_3001/3942127936.py:26: FutureWarning: `torch.cuda.amp.autocast(args...)` is deprecated. Please use `torch.amp.autocast('cuda', args...)` instead.\n",
      "  with torch.cuda.amp.autocast():\n",
      "/home/ubuntu/.local/lib/python3.10/site-packages/torch/autograd/graph.py:825: UserWarning: cuDNN SDPA backward got grad_output.strides() != output.strides(), attempting to materialize a grad_output with matching strides... (Triggered internally at /pytorch/aten/src/ATen/native/cudnn/MHA.cpp:674.)\n",
      "  return Variable._execution_engine.run_backward(  # Calls into the C++ engine to run the backward pass\n"
     ]
    },
    {
     "name": "stdout",
     "output_type": "stream",
     "text": [
      "computed batch 119\n",
      "Allocated: 10828.09 MB\n",
      "Reserved: 72332.00 MB\n",
      "Allocated: 10828.09 MB\n",
      "Reserved: 30926.00 MB\n",
      "in getitem feature: [0. 1.]\n",
      "in getitem label: [0 1]\n"
     ]
    },
    {
     "name": "stderr",
     "output_type": "stream",
     "text": [
      "/tmp/ipykernel_3001/3942127936.py:26: FutureWarning: `torch.cuda.amp.autocast(args...)` is deprecated. Please use `torch.amp.autocast('cuda', args...)` instead.\n",
      "  with torch.cuda.amp.autocast():\n",
      "/home/ubuntu/.local/lib/python3.10/site-packages/torch/autograd/graph.py:825: UserWarning: cuDNN SDPA backward got grad_output.strides() != output.strides(), attempting to materialize a grad_output with matching strides... (Triggered internally at /pytorch/aten/src/ATen/native/cudnn/MHA.cpp:674.)\n",
      "  return Variable._execution_engine.run_backward(  # Calls into the C++ engine to run the backward pass\n"
     ]
    },
    {
     "name": "stdout",
     "output_type": "stream",
     "text": [
      "computed batch 120\n",
      "Allocated: 10825.75 MB\n",
      "Reserved: 71316.00 MB\n",
      "Allocated: 10825.75 MB\n",
      "Reserved: 29406.00 MB\n",
      "in getitem feature: [0. 1.]\n",
      "in getitem label: [0 1]\n"
     ]
    },
    {
     "name": "stderr",
     "output_type": "stream",
     "text": [
      "/tmp/ipykernel_3001/3942127936.py:26: FutureWarning: `torch.cuda.amp.autocast(args...)` is deprecated. Please use `torch.amp.autocast('cuda', args...)` instead.\n",
      "  with torch.cuda.amp.autocast():\n",
      "/home/ubuntu/.local/lib/python3.10/site-packages/torch/autograd/graph.py:825: UserWarning: cuDNN SDPA backward got grad_output.strides() != output.strides(), attempting to materialize a grad_output with matching strides... (Triggered internally at /pytorch/aten/src/ATen/native/cudnn/MHA.cpp:674.)\n",
      "  return Variable._execution_engine.run_backward(  # Calls into the C++ engine to run the backward pass\n"
     ]
    },
    {
     "name": "stdout",
     "output_type": "stream",
     "text": [
      "computed batch 121\n",
      "Allocated: 10819.81 MB\n",
      "Reserved: 70872.00 MB\n",
      "Allocated: 10819.81 MB\n",
      "Reserved: 32446.00 MB\n",
      "in getitem feature: [0. 1.]\n",
      "in getitem label: [0 1]\n"
     ]
    },
    {
     "name": "stderr",
     "output_type": "stream",
     "text": [
      "/tmp/ipykernel_3001/3942127936.py:26: FutureWarning: `torch.cuda.amp.autocast(args...)` is deprecated. Please use `torch.amp.autocast('cuda', args...)` instead.\n",
      "  with torch.cuda.amp.autocast():\n",
      "/home/ubuntu/.local/lib/python3.10/site-packages/torch/autograd/graph.py:825: UserWarning: cuDNN SDPA backward got grad_output.strides() != output.strides(), attempting to materialize a grad_output with matching strides... (Triggered internally at /pytorch/aten/src/ATen/native/cudnn/MHA.cpp:674.)\n",
      "  return Variable._execution_engine.run_backward(  # Calls into the C++ engine to run the backward pass\n"
     ]
    },
    {
     "name": "stdout",
     "output_type": "stream",
     "text": [
      "computed batch 122\n",
      "Allocated: 10824.83 MB\n",
      "Reserved: 71378.00 MB\n",
      "Allocated: 10824.83 MB\n",
      "Reserved: 31432.00 MB\n",
      "in getitem feature: [0. 1.]\n",
      "in getitem label: [0 1]\n"
     ]
    },
    {
     "name": "stderr",
     "output_type": "stream",
     "text": [
      "/tmp/ipykernel_3001/3942127936.py:26: FutureWarning: `torch.cuda.amp.autocast(args...)` is deprecated. Please use `torch.amp.autocast('cuda', args...)` instead.\n",
      "  with torch.cuda.amp.autocast():\n",
      "/home/ubuntu/.local/lib/python3.10/site-packages/torch/autograd/graph.py:825: UserWarning: cuDNN SDPA backward got grad_output.strides() != output.strides(), attempting to materialize a grad_output with matching strides... (Triggered internally at /pytorch/aten/src/ATen/native/cudnn/MHA.cpp:674.)\n",
      "  return Variable._execution_engine.run_backward(  # Calls into the C++ engine to run the backward pass\n"
     ]
    },
    {
     "name": "stdout",
     "output_type": "stream",
     "text": [
      "computed batch 123\n",
      "Allocated: 10825.32 MB\n",
      "Reserved: 71824.00 MB\n",
      "Allocated: 10825.32 MB\n",
      "Reserved: 29406.00 MB\n",
      "in getitem feature: [0. 1.]\n",
      "in getitem label: [0 1]\n"
     ]
    },
    {
     "name": "stderr",
     "output_type": "stream",
     "text": [
      "/tmp/ipykernel_3001/3942127936.py:26: FutureWarning: `torch.cuda.amp.autocast(args...)` is deprecated. Please use `torch.amp.autocast('cuda', args...)` instead.\n",
      "  with torch.cuda.amp.autocast():\n",
      "/home/ubuntu/.local/lib/python3.10/site-packages/torch/autograd/graph.py:825: UserWarning: cuDNN SDPA backward got grad_output.strides() != output.strides(), attempting to materialize a grad_output with matching strides... (Triggered internally at /pytorch/aten/src/ATen/native/cudnn/MHA.cpp:674.)\n",
      "  return Variable._execution_engine.run_backward(  # Calls into the C++ engine to run the backward pass\n"
     ]
    },
    {
     "name": "stdout",
     "output_type": "stream",
     "text": [
      "computed batch 124\n",
      "Allocated: 10821.88 MB\n",
      "Reserved: 70746.00 MB\n",
      "Allocated: 10821.88 MB\n",
      "Reserved: 31306.00 MB\n",
      "in getitem feature: [0. 1.]\n",
      "in getitem label: [0 1]\n"
     ]
    },
    {
     "name": "stderr",
     "output_type": "stream",
     "text": [
      "/tmp/ipykernel_3001/3942127936.py:26: FutureWarning: `torch.cuda.amp.autocast(args...)` is deprecated. Please use `torch.amp.autocast('cuda', args...)` instead.\n",
      "  with torch.cuda.amp.autocast():\n",
      "/home/ubuntu/.local/lib/python3.10/site-packages/torch/autograd/graph.py:825: UserWarning: cuDNN SDPA backward got grad_output.strides() != output.strides(), attempting to materialize a grad_output with matching strides... (Triggered internally at /pytorch/aten/src/ATen/native/cudnn/MHA.cpp:674.)\n",
      "  return Variable._execution_engine.run_backward(  # Calls into the C++ engine to run the backward pass\n"
     ]
    },
    {
     "name": "stdout",
     "output_type": "stream",
     "text": [
      "computed batch 125\n",
      "Allocated: 10830.32 MB\n",
      "Reserved: 70746.00 MB\n",
      "Allocated: 10830.32 MB\n",
      "Reserved: 29154.00 MB\n",
      "in getitem feature: [0. 1.]\n",
      "in getitem label: [0 1]\n"
     ]
    },
    {
     "name": "stderr",
     "output_type": "stream",
     "text": [
      "/tmp/ipykernel_3001/3942127936.py:26: FutureWarning: `torch.cuda.amp.autocast(args...)` is deprecated. Please use `torch.amp.autocast('cuda', args...)` instead.\n",
      "  with torch.cuda.amp.autocast():\n",
      "/home/ubuntu/.local/lib/python3.10/site-packages/torch/autograd/graph.py:825: UserWarning: cuDNN SDPA backward got grad_output.strides() != output.strides(), attempting to materialize a grad_output with matching strides... (Triggered internally at /pytorch/aten/src/ATen/native/cudnn/MHA.cpp:674.)\n",
      "  return Variable._execution_engine.run_backward(  # Calls into the C++ engine to run the backward pass\n"
     ]
    },
    {
     "name": "stdout",
     "output_type": "stream",
     "text": [
      "computed batch 126\n",
      "Allocated: 10824.06 MB\n",
      "Reserved: 69986.00 MB\n",
      "Allocated: 10824.06 MB\n",
      "Reserved: 28802.00 MB\n",
      "in getitem feature: [0. 1.]\n",
      "in getitem label: [0 1]\n"
     ]
    },
    {
     "name": "stderr",
     "output_type": "stream",
     "text": [
      "/tmp/ipykernel_3001/3942127936.py:26: FutureWarning: `torch.cuda.amp.autocast(args...)` is deprecated. Please use `torch.amp.autocast('cuda', args...)` instead.\n",
      "  with torch.cuda.amp.autocast():\n",
      "/home/ubuntu/.local/lib/python3.10/site-packages/torch/autograd/graph.py:825: UserWarning: cuDNN SDPA backward got grad_output.strides() != output.strides(), attempting to materialize a grad_output with matching strides... (Triggered internally at /pytorch/aten/src/ATen/native/cudnn/MHA.cpp:674.)\n",
      "  return Variable._execution_engine.run_backward(  # Calls into the C++ engine to run the backward pass\n"
     ]
    },
    {
     "name": "stdout",
     "output_type": "stream",
     "text": [
      "computed batch 127\n",
      "Allocated: 10824.38 MB\n",
      "Reserved: 70648.00 MB\n",
      "Allocated: 10824.38 MB\n",
      "Reserved: 33238.00 MB\n",
      "in getitem feature: [0. 1.]\n",
      "in getitem label: [0 1]\n"
     ]
    },
    {
     "name": "stderr",
     "output_type": "stream",
     "text": [
      "/tmp/ipykernel_3001/3942127936.py:26: FutureWarning: `torch.cuda.amp.autocast(args...)` is deprecated. Please use `torch.amp.autocast('cuda', args...)` instead.\n",
      "  with torch.cuda.amp.autocast():\n",
      "/home/ubuntu/.local/lib/python3.10/site-packages/torch/autograd/graph.py:825: UserWarning: cuDNN SDPA backward got grad_output.strides() != output.strides(), attempting to materialize a grad_output with matching strides... (Triggered internally at /pytorch/aten/src/ATen/native/cudnn/MHA.cpp:674.)\n",
      "  return Variable._execution_engine.run_backward(  # Calls into the C++ engine to run the backward pass\n"
     ]
    },
    {
     "name": "stdout",
     "output_type": "stream",
     "text": [
      "computed batch 128\n",
      "Allocated: 10825.24 MB\n",
      "Reserved: 71094.00 MB\n",
      "Allocated: 10825.24 MB\n",
      "Reserved: 31718.00 MB\n",
      "in getitem feature: [0. 1.]\n",
      "in getitem label: [0 1]\n"
     ]
    },
    {
     "name": "stderr",
     "output_type": "stream",
     "text": [
      "/tmp/ipykernel_3001/3942127936.py:26: FutureWarning: `torch.cuda.amp.autocast(args...)` is deprecated. Please use `torch.amp.autocast('cuda', args...)` instead.\n",
      "  with torch.cuda.amp.autocast():\n",
      "/home/ubuntu/.local/lib/python3.10/site-packages/torch/autograd/graph.py:825: UserWarning: cuDNN SDPA backward got grad_output.strides() != output.strides(), attempting to materialize a grad_output with matching strides... (Triggered internally at /pytorch/aten/src/ATen/native/cudnn/MHA.cpp:674.)\n",
      "  return Variable._execution_engine.run_backward(  # Calls into the C++ engine to run the backward pass\n"
     ]
    },
    {
     "name": "stdout",
     "output_type": "stream",
     "text": [
      "computed batch 129\n",
      "Allocated: 10821.86 MB\n",
      "Reserved: 71158.00 MB\n",
      "Allocated: 10821.86 MB\n",
      "Reserved: 31210.00 MB\n",
      "in getitem feature: [0. 1.]\n",
      "in getitem label: [0 1]\n"
     ]
    },
    {
     "name": "stderr",
     "output_type": "stream",
     "text": [
      "/tmp/ipykernel_3001/3942127936.py:26: FutureWarning: `torch.cuda.amp.autocast(args...)` is deprecated. Please use `torch.amp.autocast('cuda', args...)` instead.\n",
      "  with torch.cuda.amp.autocast():\n",
      "/home/ubuntu/.local/lib/python3.10/site-packages/torch/autograd/graph.py:825: UserWarning: cuDNN SDPA backward got grad_output.strides() != output.strides(), attempting to materialize a grad_output with matching strides... (Triggered internally at /pytorch/aten/src/ATen/native/cudnn/MHA.cpp:674.)\n",
      "  return Variable._execution_engine.run_backward(  # Calls into the C++ engine to run the backward pass\n"
     ]
    },
    {
     "name": "stdout",
     "output_type": "stream",
     "text": [
      "computed batch 130\n",
      "Allocated: 10819.59 MB\n",
      "Reserved: 71158.00 MB\n",
      "Allocated: 10819.59 MB\n",
      "Reserved: 36146.00 MB\n",
      "in getitem feature: [0. 1.]\n",
      "in getitem label: [0 1]\n"
     ]
    },
    {
     "name": "stderr",
     "output_type": "stream",
     "text": [
      "/tmp/ipykernel_3001/3942127936.py:26: FutureWarning: `torch.cuda.amp.autocast(args...)` is deprecated. Please use `torch.amp.autocast('cuda', args...)` instead.\n",
      "  with torch.cuda.amp.autocast():\n",
      "/home/ubuntu/.local/lib/python3.10/site-packages/torch/autograd/graph.py:825: UserWarning: cuDNN SDPA backward got grad_output.strides() != output.strides(), attempting to materialize a grad_output with matching strides... (Triggered internally at /pytorch/aten/src/ATen/native/cudnn/MHA.cpp:674.)\n",
      "  return Variable._execution_engine.run_backward(  # Calls into the C++ engine to run the backward pass\n"
     ]
    },
    {
     "name": "stdout",
     "output_type": "stream",
     "text": [
      "computed batch 131\n",
      "Allocated: 10824.75 MB\n",
      "Reserved: 71156.00 MB\n",
      "Allocated: 10824.75 MB\n",
      "Reserved: 32602.00 MB\n",
      "in getitem feature: [0. 1.]\n",
      "in getitem label: [0 1]\n"
     ]
    },
    {
     "name": "stderr",
     "output_type": "stream",
     "text": [
      "/tmp/ipykernel_3001/3942127936.py:26: FutureWarning: `torch.cuda.amp.autocast(args...)` is deprecated. Please use `torch.amp.autocast('cuda', args...)` instead.\n",
      "  with torch.cuda.amp.autocast():\n",
      "/home/ubuntu/.local/lib/python3.10/site-packages/torch/autograd/graph.py:825: UserWarning: cuDNN SDPA backward got grad_output.strides() != output.strides(), attempting to materialize a grad_output with matching strides... (Triggered internally at /pytorch/aten/src/ATen/native/cudnn/MHA.cpp:674.)\n",
      "  return Variable._execution_engine.run_backward(  # Calls into the C++ engine to run the backward pass\n"
     ]
    },
    {
     "name": "stdout",
     "output_type": "stream",
     "text": [
      "computed batch 132\n",
      "Allocated: 10825.39 MB\n",
      "Reserved: 70398.00 MB\n",
      "Allocated: 10825.39 MB\n",
      "Reserved: 29816.00 MB\n",
      "in getitem feature: [0. 1.]\n",
      "in getitem label: [0 1]\n"
     ]
    },
    {
     "name": "stderr",
     "output_type": "stream",
     "text": [
      "/tmp/ipykernel_3001/3942127936.py:26: FutureWarning: `torch.cuda.amp.autocast(args...)` is deprecated. Please use `torch.amp.autocast('cuda', args...)` instead.\n",
      "  with torch.cuda.amp.autocast():\n",
      "/home/ubuntu/.local/lib/python3.10/site-packages/torch/autograd/graph.py:825: UserWarning: cuDNN SDPA backward got grad_output.strides() != output.strides(), attempting to materialize a grad_output with matching strides... (Triggered internally at /pytorch/aten/src/ATen/native/cudnn/MHA.cpp:674.)\n",
      "  return Variable._execution_engine.run_backward(  # Calls into the C++ engine to run the backward pass\n"
     ]
    },
    {
     "name": "stdout",
     "output_type": "stream",
     "text": [
      "computed batch 133\n",
      "Allocated: 10825.17 MB\n",
      "Reserved: 70586.00 MB\n",
      "Allocated: 10825.17 MB\n",
      "Reserved: 34056.00 MB\n",
      "in getitem feature: [0. 1.]\n",
      "in getitem label: [0 1]\n"
     ]
    },
    {
     "name": "stderr",
     "output_type": "stream",
     "text": [
      "/tmp/ipykernel_3001/3942127936.py:26: FutureWarning: `torch.cuda.amp.autocast(args...)` is deprecated. Please use `torch.amp.autocast('cuda', args...)` instead.\n",
      "  with torch.cuda.amp.autocast():\n",
      "/home/ubuntu/.local/lib/python3.10/site-packages/torch/autograd/graph.py:825: UserWarning: cuDNN SDPA backward got grad_output.strides() != output.strides(), attempting to materialize a grad_output with matching strides... (Triggered internally at /pytorch/aten/src/ATen/native/cudnn/MHA.cpp:674.)\n",
      "  return Variable._execution_engine.run_backward(  # Calls into the C++ engine to run the backward pass\n"
     ]
    },
    {
     "name": "stdout",
     "output_type": "stream",
     "text": [
      "computed batch 134\n",
      "Allocated: 10829.35 MB\n",
      "Reserved: 70456.00 MB\n",
      "Allocated: 10829.35 MB\n",
      "Reserved: 32980.00 MB\n",
      "in getitem feature: [0. 1.]\n",
      "in getitem label: [0 1]\n"
     ]
    },
    {
     "name": "stderr",
     "output_type": "stream",
     "text": [
      "/tmp/ipykernel_3001/3942127936.py:26: FutureWarning: `torch.cuda.amp.autocast(args...)` is deprecated. Please use `torch.amp.autocast('cuda', args...)` instead.\n",
      "  with torch.cuda.amp.autocast():\n",
      "/home/ubuntu/.local/lib/python3.10/site-packages/torch/autograd/graph.py:825: UserWarning: cuDNN SDPA backward got grad_output.strides() != output.strides(), attempting to materialize a grad_output with matching strides... (Triggered internally at /pytorch/aten/src/ATen/native/cudnn/MHA.cpp:674.)\n",
      "  return Variable._execution_engine.run_backward(  # Calls into the C++ engine to run the backward pass\n"
     ]
    },
    {
     "name": "stdout",
     "output_type": "stream",
     "text": [
      "computed batch 135\n",
      "Allocated: 10829.70 MB\n",
      "Reserved: 70394.00 MB\n",
      "Allocated: 10829.70 MB\n",
      "Reserved: 33110.00 MB\n",
      "in getitem feature: [0. 1.]\n",
      "in getitem label: [0 1]\n"
     ]
    },
    {
     "name": "stderr",
     "output_type": "stream",
     "text": [
      "/tmp/ipykernel_3001/3942127936.py:26: FutureWarning: `torch.cuda.amp.autocast(args...)` is deprecated. Please use `torch.amp.autocast('cuda', args...)` instead.\n",
      "  with torch.cuda.amp.autocast():\n",
      "/home/ubuntu/.local/lib/python3.10/site-packages/torch/autograd/graph.py:825: UserWarning: cuDNN SDPA backward got grad_output.strides() != output.strides(), attempting to materialize a grad_output with matching strides... (Triggered internally at /pytorch/aten/src/ATen/native/cudnn/MHA.cpp:674.)\n",
      "  return Variable._execution_engine.run_backward(  # Calls into the C++ engine to run the backward pass\n"
     ]
    },
    {
     "name": "stdout",
     "output_type": "stream",
     "text": [
      "computed batch 136\n",
      "Allocated: 10824.29 MB\n",
      "Reserved: 70774.00 MB\n",
      "Allocated: 10824.29 MB\n",
      "Reserved: 31082.00 MB\n",
      "in getitem feature: [0. 1.]\n",
      "in getitem label: [0 1]\n"
     ]
    },
    {
     "name": "stderr",
     "output_type": "stream",
     "text": [
      "/tmp/ipykernel_3001/3942127936.py:26: FutureWarning: `torch.cuda.amp.autocast(args...)` is deprecated. Please use `torch.amp.autocast('cuda', args...)` instead.\n",
      "  with torch.cuda.amp.autocast():\n",
      "/home/ubuntu/.local/lib/python3.10/site-packages/torch/autograd/graph.py:825: UserWarning: cuDNN SDPA backward got grad_output.strides() != output.strides(), attempting to materialize a grad_output with matching strides... (Triggered internally at /pytorch/aten/src/ATen/native/cudnn/MHA.cpp:674.)\n",
      "  return Variable._execution_engine.run_backward(  # Calls into the C++ engine to run the backward pass\n"
     ]
    },
    {
     "name": "stdout",
     "output_type": "stream",
     "text": [
      "computed batch 137\n",
      "Allocated: 10820.73 MB\n",
      "Reserved: 69446.00 MB\n",
      "Allocated: 10820.73 MB\n",
      "Reserved: 29816.00 MB\n",
      "in getitem feature: [0. 1.]\n",
      "in getitem label: [0 1]\n"
     ]
    },
    {
     "name": "stderr",
     "output_type": "stream",
     "text": [
      "/tmp/ipykernel_3001/3942127936.py:26: FutureWarning: `torch.cuda.amp.autocast(args...)` is deprecated. Please use `torch.amp.autocast('cuda', args...)` instead.\n",
      "  with torch.cuda.amp.autocast():\n",
      "/home/ubuntu/.local/lib/python3.10/site-packages/torch/autograd/graph.py:825: UserWarning: cuDNN SDPA backward got grad_output.strides() != output.strides(), attempting to materialize a grad_output with matching strides... (Triggered internally at /pytorch/aten/src/ATen/native/cudnn/MHA.cpp:674.)\n",
      "  return Variable._execution_engine.run_backward(  # Calls into the C++ engine to run the backward pass\n"
     ]
    },
    {
     "name": "stdout",
     "output_type": "stream",
     "text": [
      "computed batch 138\n",
      "Allocated: 10825.96 MB\n",
      "Reserved: 71156.00 MB\n",
      "Allocated: 10825.96 MB\n",
      "Reserved: 30006.00 MB\n",
      "in getitem feature: [0. 1.]\n",
      "in getitem label: [0 1]\n"
     ]
    },
    {
     "name": "stderr",
     "output_type": "stream",
     "text": [
      "/tmp/ipykernel_3001/3942127936.py:26: FutureWarning: `torch.cuda.amp.autocast(args...)` is deprecated. Please use `torch.amp.autocast('cuda', args...)` instead.\n",
      "  with torch.cuda.amp.autocast():\n",
      "/home/ubuntu/.local/lib/python3.10/site-packages/torch/autograd/graph.py:825: UserWarning: cuDNN SDPA backward got grad_output.strides() != output.strides(), attempting to materialize a grad_output with matching strides... (Triggered internally at /pytorch/aten/src/ATen/native/cudnn/MHA.cpp:674.)\n",
      "  return Variable._execution_engine.run_backward(  # Calls into the C++ engine to run the backward pass\n"
     ]
    },
    {
     "name": "stdout",
     "output_type": "stream",
     "text": [
      "computed batch 139\n",
      "Allocated: 10819.70 MB\n",
      "Reserved: 71218.00 MB\n",
      "Allocated: 10819.70 MB\n",
      "Reserved: 29626.00 MB\n",
      "in getitem feature: [0. 1.]\n",
      "in getitem label: [0 1]\n"
     ]
    },
    {
     "name": "stderr",
     "output_type": "stream",
     "text": [
      "/tmp/ipykernel_3001/3942127936.py:26: FutureWarning: `torch.cuda.amp.autocast(args...)` is deprecated. Please use `torch.amp.autocast('cuda', args...)` instead.\n",
      "  with torch.cuda.amp.autocast():\n",
      "/home/ubuntu/.local/lib/python3.10/site-packages/torch/autograd/graph.py:825: UserWarning: cuDNN SDPA backward got grad_output.strides() != output.strides(), attempting to materialize a grad_output with matching strides... (Triggered internally at /pytorch/aten/src/ATen/native/cudnn/MHA.cpp:674.)\n",
      "  return Variable._execution_engine.run_backward(  # Calls into the C++ engine to run the backward pass\n"
     ]
    },
    {
     "name": "stdout",
     "output_type": "stream",
     "text": [
      "computed batch 140\n",
      "Allocated: 10818.03 MB\n",
      "Reserved: 71092.00 MB\n",
      "Allocated: 10818.03 MB\n",
      "Reserved: 33104.00 MB\n",
      "in getitem feature: [0. 1.]\n",
      "in getitem label: [0 1]\n"
     ]
    },
    {
     "name": "stderr",
     "output_type": "stream",
     "text": [
      "/tmp/ipykernel_3001/3942127936.py:26: FutureWarning: `torch.cuda.amp.autocast(args...)` is deprecated. Please use `torch.amp.autocast('cuda', args...)` instead.\n",
      "  with torch.cuda.amp.autocast():\n",
      "/home/ubuntu/.local/lib/python3.10/site-packages/torch/autograd/graph.py:825: UserWarning: cuDNN SDPA backward got grad_output.strides() != output.strides(), attempting to materialize a grad_output with matching strides... (Triggered internally at /pytorch/aten/src/ATen/native/cudnn/MHA.cpp:674.)\n",
      "  return Variable._execution_engine.run_backward(  # Calls into the C++ engine to run the backward pass\n"
     ]
    },
    {
     "name": "stdout",
     "output_type": "stream",
     "text": [
      "computed batch 141\n",
      "Allocated: 10819.60 MB\n",
      "Reserved: 70010.00 MB\n",
      "Allocated: 10819.60 MB\n",
      "Reserved: 31334.00 MB\n",
      "in getitem feature: [0. 1.]\n",
      "in getitem label: [0 1]\n"
     ]
    },
    {
     "name": "stderr",
     "output_type": "stream",
     "text": [
      "/tmp/ipykernel_3001/3942127936.py:26: FutureWarning: `torch.cuda.amp.autocast(args...)` is deprecated. Please use `torch.amp.autocast('cuda', args...)` instead.\n",
      "  with torch.cuda.amp.autocast():\n",
      "/home/ubuntu/.local/lib/python3.10/site-packages/torch/autograd/graph.py:825: UserWarning: cuDNN SDPA backward got grad_output.strides() != output.strides(), attempting to materialize a grad_output with matching strides... (Triggered internally at /pytorch/aten/src/ATen/native/cudnn/MHA.cpp:674.)\n",
      "  return Variable._execution_engine.run_backward(  # Calls into the C++ engine to run the backward pass\n"
     ]
    },
    {
     "name": "stdout",
     "output_type": "stream",
     "text": [
      "computed batch 142\n",
      "Allocated: 10825.18 MB\n",
      "Reserved: 69952.00 MB\n",
      "Allocated: 10825.18 MB\n",
      "Reserved: 30386.00 MB\n",
      "in getitem feature: [0. 1.]\n",
      "in getitem label: [0 1]\n"
     ]
    },
    {
     "name": "stderr",
     "output_type": "stream",
     "text": [
      "/tmp/ipykernel_3001/3942127936.py:26: FutureWarning: `torch.cuda.amp.autocast(args...)` is deprecated. Please use `torch.amp.autocast('cuda', args...)` instead.\n",
      "  with torch.cuda.amp.autocast():\n",
      "/home/ubuntu/.local/lib/python3.10/site-packages/torch/autograd/graph.py:825: UserWarning: cuDNN SDPA backward got grad_output.strides() != output.strides(), attempting to materialize a grad_output with matching strides... (Triggered internally at /pytorch/aten/src/ATen/native/cudnn/MHA.cpp:674.)\n",
      "  return Variable._execution_engine.run_backward(  # Calls into the C++ engine to run the backward pass\n"
     ]
    },
    {
     "name": "stdout",
     "output_type": "stream",
     "text": [
      "computed batch 143\n",
      "Allocated: 10818.76 MB\n",
      "Reserved: 70078.00 MB\n",
      "Allocated: 10818.76 MB\n",
      "Reserved: 30194.00 MB\n",
      "in getitem feature: [0. 1.]\n",
      "in getitem label: [0 1]\n"
     ]
    },
    {
     "name": "stderr",
     "output_type": "stream",
     "text": [
      "/tmp/ipykernel_3001/3942127936.py:26: FutureWarning: `torch.cuda.amp.autocast(args...)` is deprecated. Please use `torch.amp.autocast('cuda', args...)` instead.\n",
      "  with torch.cuda.amp.autocast():\n",
      "/home/ubuntu/.local/lib/python3.10/site-packages/torch/autograd/graph.py:825: UserWarning: cuDNN SDPA backward got grad_output.strides() != output.strides(), attempting to materialize a grad_output with matching strides... (Triggered internally at /pytorch/aten/src/ATen/native/cudnn/MHA.cpp:674.)\n",
      "  return Variable._execution_engine.run_backward(  # Calls into the C++ engine to run the backward pass\n"
     ]
    },
    {
     "name": "stdout",
     "output_type": "stream",
     "text": [
      "computed batch 144\n",
      "Allocated: 10823.01 MB\n",
      "Reserved: 70964.00 MB\n",
      "Allocated: 10823.01 MB\n",
      "Reserved: 32792.00 MB\n",
      "in getitem feature: [0. 1.]\n",
      "in getitem label: [0 1]\n"
     ]
    },
    {
     "name": "stderr",
     "output_type": "stream",
     "text": [
      "/tmp/ipykernel_3001/3942127936.py:26: FutureWarning: `torch.cuda.amp.autocast(args...)` is deprecated. Please use `torch.amp.autocast('cuda', args...)` instead.\n",
      "  with torch.cuda.amp.autocast():\n",
      "/home/ubuntu/.local/lib/python3.10/site-packages/torch/autograd/graph.py:825: UserWarning: cuDNN SDPA backward got grad_output.strides() != output.strides(), attempting to materialize a grad_output with matching strides... (Triggered internally at /pytorch/aten/src/ATen/native/cudnn/MHA.cpp:674.)\n",
      "  return Variable._execution_engine.run_backward(  # Calls into the C++ engine to run the backward pass\n"
     ]
    },
    {
     "name": "stdout",
     "output_type": "stream",
     "text": [
      "computed batch 145\n",
      "Allocated: 10825.24 MB\n",
      "Reserved: 71412.00 MB\n",
      "Allocated: 10825.24 MB\n",
      "Reserved: 31908.00 MB\n",
      "in getitem feature: [0. 1.]\n",
      "in getitem label: [0 1]\n"
     ]
    },
    {
     "name": "stderr",
     "output_type": "stream",
     "text": [
      "/tmp/ipykernel_3001/3942127936.py:26: FutureWarning: `torch.cuda.amp.autocast(args...)` is deprecated. Please use `torch.amp.autocast('cuda', args...)` instead.\n",
      "  with torch.cuda.amp.autocast():\n",
      "/home/ubuntu/.local/lib/python3.10/site-packages/torch/autograd/graph.py:825: UserWarning: cuDNN SDPA backward got grad_output.strides() != output.strides(), attempting to materialize a grad_output with matching strides... (Triggered internally at /pytorch/aten/src/ATen/native/cudnn/MHA.cpp:674.)\n",
      "  return Variable._execution_engine.run_backward(  # Calls into the C++ engine to run the backward pass\n"
     ]
    },
    {
     "name": "stdout",
     "output_type": "stream",
     "text": [
      "computed batch 146\n",
      "Allocated: 10827.00 MB\n",
      "Reserved: 70968.00 MB\n",
      "Allocated: 10827.00 MB\n",
      "Reserved: 33490.00 MB\n",
      "in getitem feature: [0. 1.]\n",
      "in getitem label: [0 1]\n"
     ]
    },
    {
     "name": "stderr",
     "output_type": "stream",
     "text": [
      "/tmp/ipykernel_3001/3942127936.py:26: FutureWarning: `torch.cuda.amp.autocast(args...)` is deprecated. Please use `torch.amp.autocast('cuda', args...)` instead.\n",
      "  with torch.cuda.amp.autocast():\n",
      "/home/ubuntu/.local/lib/python3.10/site-packages/torch/autograd/graph.py:825: UserWarning: cuDNN SDPA backward got grad_output.strides() != output.strides(), attempting to materialize a grad_output with matching strides... (Triggered internally at /pytorch/aten/src/ATen/native/cudnn/MHA.cpp:674.)\n",
      "  return Variable._execution_engine.run_backward(  # Calls into the C++ engine to run the backward pass\n"
     ]
    },
    {
     "name": "stdout",
     "output_type": "stream",
     "text": [
      "computed batch 147\n",
      "Allocated: 10823.91 MB\n",
      "Reserved: 69890.00 MB\n",
      "Allocated: 10823.91 MB\n",
      "Reserved: 32094.00 MB\n",
      "in getitem feature: [0. 1.]\n",
      "in getitem label: [0 1]\n"
     ]
    },
    {
     "name": "stderr",
     "output_type": "stream",
     "text": [
      "/tmp/ipykernel_3001/3942127936.py:26: FutureWarning: `torch.cuda.amp.autocast(args...)` is deprecated. Please use `torch.amp.autocast('cuda', args...)` instead.\n",
      "  with torch.cuda.amp.autocast():\n",
      "/home/ubuntu/.local/lib/python3.10/site-packages/torch/autograd/graph.py:825: UserWarning: cuDNN SDPA backward got grad_output.strides() != output.strides(), attempting to materialize a grad_output with matching strides... (Triggered internally at /pytorch/aten/src/ATen/native/cudnn/MHA.cpp:674.)\n",
      "  return Variable._execution_engine.run_backward(  # Calls into the C++ engine to run the backward pass\n"
     ]
    },
    {
     "name": "stdout",
     "output_type": "stream",
     "text": [
      "computed batch 148\n",
      "Allocated: 10826.17 MB\n",
      "Reserved: 71026.00 MB\n",
      "Allocated: 10826.17 MB\n",
      "Reserved: 32474.00 MB\n",
      "in getitem feature: [0. 1.]\n",
      "in getitem label: [0 1]\n"
     ]
    },
    {
     "name": "stderr",
     "output_type": "stream",
     "text": [
      "/tmp/ipykernel_3001/3942127936.py:26: FutureWarning: `torch.cuda.amp.autocast(args...)` is deprecated. Please use `torch.amp.autocast('cuda', args...)` instead.\n",
      "  with torch.cuda.amp.autocast():\n",
      "/home/ubuntu/.local/lib/python3.10/site-packages/torch/autograd/graph.py:825: UserWarning: cuDNN SDPA backward got grad_output.strides() != output.strides(), attempting to materialize a grad_output with matching strides... (Triggered internally at /pytorch/aten/src/ATen/native/cudnn/MHA.cpp:674.)\n",
      "  return Variable._execution_engine.run_backward(  # Calls into the C++ engine to run the backward pass\n"
     ]
    },
    {
     "name": "stdout",
     "output_type": "stream",
     "text": [
      "computed batch 149\n",
      "Allocated: 10826.90 MB\n",
      "Reserved: 71030.00 MB\n",
      "Allocated: 10826.90 MB\n",
      "Reserved: 30830.00 MB\n",
      "in getitem feature: [0. 1.]\n",
      "in getitem label: [0 1]\n"
     ]
    },
    {
     "name": "stderr",
     "output_type": "stream",
     "text": [
      "/tmp/ipykernel_3001/3942127936.py:26: FutureWarning: `torch.cuda.amp.autocast(args...)` is deprecated. Please use `torch.amp.autocast('cuda', args...)` instead.\n",
      "  with torch.cuda.amp.autocast():\n",
      "/home/ubuntu/.local/lib/python3.10/site-packages/torch/autograd/graph.py:825: UserWarning: cuDNN SDPA backward got grad_output.strides() != output.strides(), attempting to materialize a grad_output with matching strides... (Triggered internally at /pytorch/aten/src/ATen/native/cudnn/MHA.cpp:674.)\n",
      "  return Variable._execution_engine.run_backward(  # Calls into the C++ engine to run the backward pass\n"
     ]
    },
    {
     "name": "stdout",
     "output_type": "stream",
     "text": [
      "computed batch 150\n",
      "Allocated: 10830.22 MB\n",
      "Reserved: 69890.00 MB\n",
      "Allocated: 10830.22 MB\n",
      "Reserved: 29944.00 MB\n",
      "in getitem feature: [0. 1.]\n",
      "in getitem label: [0 1]\n"
     ]
    },
    {
     "name": "stderr",
     "output_type": "stream",
     "text": [
      "/tmp/ipykernel_3001/3942127936.py:26: FutureWarning: `torch.cuda.amp.autocast(args...)` is deprecated. Please use `torch.amp.autocast('cuda', args...)` instead.\n",
      "  with torch.cuda.amp.autocast():\n",
      "/home/ubuntu/.local/lib/python3.10/site-packages/torch/autograd/graph.py:825: UserWarning: cuDNN SDPA backward got grad_output.strides() != output.strides(), attempting to materialize a grad_output with matching strides... (Triggered internally at /pytorch/aten/src/ATen/native/cudnn/MHA.cpp:674.)\n",
      "  return Variable._execution_engine.run_backward(  # Calls into the C++ engine to run the backward pass\n"
     ]
    },
    {
     "name": "stdout",
     "output_type": "stream",
     "text": [
      "computed batch 151\n",
      "Allocated: 10827.47 MB\n",
      "Reserved: 71032.00 MB\n",
      "Allocated: 10827.47 MB\n",
      "Reserved: 28424.00 MB\n",
      "in getitem feature: [0. 1.]\n",
      "in getitem label: [0 1]\n"
     ]
    },
    {
     "name": "stderr",
     "output_type": "stream",
     "text": [
      "/tmp/ipykernel_3001/3942127936.py:26: FutureWarning: `torch.cuda.amp.autocast(args...)` is deprecated. Please use `torch.amp.autocast('cuda', args...)` instead.\n",
      "  with torch.cuda.amp.autocast():\n",
      "/home/ubuntu/.local/lib/python3.10/site-packages/torch/autograd/graph.py:825: UserWarning: cuDNN SDPA backward got grad_output.strides() != output.strides(), attempting to materialize a grad_output with matching strides... (Triggered internally at /pytorch/aten/src/ATen/native/cudnn/MHA.cpp:674.)\n",
      "  return Variable._execution_engine.run_backward(  # Calls into the C++ engine to run the backward pass\n"
     ]
    },
    {
     "name": "stdout",
     "output_type": "stream",
     "text": [
      "computed batch 152\n",
      "Allocated: 10826.27 MB\n",
      "Reserved: 70904.00 MB\n",
      "Allocated: 10826.27 MB\n",
      "Reserved: 29942.00 MB\n",
      "in getitem feature: [0. 1.]\n",
      "in getitem label: [0 1]\n"
     ]
    },
    {
     "name": "stderr",
     "output_type": "stream",
     "text": [
      "/tmp/ipykernel_3001/3942127936.py:26: FutureWarning: `torch.cuda.amp.autocast(args...)` is deprecated. Please use `torch.amp.autocast('cuda', args...)` instead.\n",
      "  with torch.cuda.amp.autocast():\n",
      "/home/ubuntu/.local/lib/python3.10/site-packages/torch/autograd/graph.py:825: UserWarning: cuDNN SDPA backward got grad_output.strides() != output.strides(), attempting to materialize a grad_output with matching strides... (Triggered internally at /pytorch/aten/src/ATen/native/cudnn/MHA.cpp:674.)\n",
      "  return Variable._execution_engine.run_backward(  # Calls into the C++ engine to run the backward pass\n"
     ]
    },
    {
     "name": "stdout",
     "output_type": "stream",
     "text": [
      "computed batch 153\n",
      "Allocated: 10827.75 MB\n",
      "Reserved: 70968.00 MB\n",
      "Allocated: 10827.75 MB\n",
      "Reserved: 30514.00 MB\n",
      "in getitem feature: [0. 1.]\n",
      "in getitem label: [0 1]\n"
     ]
    },
    {
     "name": "stderr",
     "output_type": "stream",
     "text": [
      "/tmp/ipykernel_3001/3942127936.py:26: FutureWarning: `torch.cuda.amp.autocast(args...)` is deprecated. Please use `torch.amp.autocast('cuda', args...)` instead.\n",
      "  with torch.cuda.amp.autocast():\n",
      "/home/ubuntu/.local/lib/python3.10/site-packages/torch/autograd/graph.py:825: UserWarning: cuDNN SDPA backward got grad_output.strides() != output.strides(), attempting to materialize a grad_output with matching strides... (Triggered internally at /pytorch/aten/src/ATen/native/cudnn/MHA.cpp:674.)\n",
      "  return Variable._execution_engine.run_backward(  # Calls into the C++ engine to run the backward pass\n"
     ]
    },
    {
     "name": "stdout",
     "output_type": "stream",
     "text": [
      "computed batch 154\n",
      "Allocated: 10823.14 MB\n",
      "Reserved: 70586.00 MB\n",
      "Allocated: 10823.14 MB\n",
      "Reserved: 29564.00 MB\n",
      "in getitem feature: [0. 1.]\n",
      "in getitem label: [0 1]\n"
     ]
    },
    {
     "name": "stderr",
     "output_type": "stream",
     "text": [
      "/tmp/ipykernel_3001/3942127936.py:26: FutureWarning: `torch.cuda.amp.autocast(args...)` is deprecated. Please use `torch.amp.autocast('cuda', args...)` instead.\n",
      "  with torch.cuda.amp.autocast():\n",
      "/home/ubuntu/.local/lib/python3.10/site-packages/torch/autograd/graph.py:825: UserWarning: cuDNN SDPA backward got grad_output.strides() != output.strides(), attempting to materialize a grad_output with matching strides... (Triggered internally at /pytorch/aten/src/ATen/native/cudnn/MHA.cpp:674.)\n",
      "  return Variable._execution_engine.run_backward(  # Calls into the C++ engine to run the backward pass\n"
     ]
    },
    {
     "name": "stdout",
     "output_type": "stream",
     "text": [
      "computed batch 155\n",
      "Allocated: 10826.79 MB\n",
      "Reserved: 70524.00 MB\n",
      "Allocated: 10826.79 MB\n",
      "Reserved: 28678.00 MB\n",
      "in getitem feature: [0. 1.]\n",
      "in getitem label: [0 1]\n"
     ]
    },
    {
     "name": "stderr",
     "output_type": "stream",
     "text": [
      "/tmp/ipykernel_3001/3942127936.py:26: FutureWarning: `torch.cuda.amp.autocast(args...)` is deprecated. Please use `torch.amp.autocast('cuda', args...)` instead.\n",
      "  with torch.cuda.amp.autocast():\n",
      "/home/ubuntu/.local/lib/python3.10/site-packages/torch/autograd/graph.py:825: UserWarning: cuDNN SDPA backward got grad_output.strides() != output.strides(), attempting to materialize a grad_output with matching strides... (Triggered internally at /pytorch/aten/src/ATen/native/cudnn/MHA.cpp:674.)\n",
      "  return Variable._execution_engine.run_backward(  # Calls into the C++ engine to run the backward pass\n"
     ]
    },
    {
     "name": "stdout",
     "output_type": "stream",
     "text": [
      "computed batch 156\n",
      "Allocated: 10819.81 MB\n",
      "Reserved: 71918.00 MB\n",
      "Allocated: 10819.81 MB\n",
      "Reserved: 28488.00 MB\n",
      "in getitem feature: [0. 1.]\n",
      "in getitem label: [0 1]\n"
     ]
    },
    {
     "name": "stderr",
     "output_type": "stream",
     "text": [
      "/tmp/ipykernel_3001/3942127936.py:26: FutureWarning: `torch.cuda.amp.autocast(args...)` is deprecated. Please use `torch.amp.autocast('cuda', args...)` instead.\n",
      "  with torch.cuda.amp.autocast():\n",
      "/home/ubuntu/.local/lib/python3.10/site-packages/torch/autograd/graph.py:825: UserWarning: cuDNN SDPA backward got grad_output.strides() != output.strides(), attempting to materialize a grad_output with matching strides... (Triggered internally at /pytorch/aten/src/ATen/native/cudnn/MHA.cpp:674.)\n",
      "  return Variable._execution_engine.run_backward(  # Calls into the C++ engine to run the backward pass\n"
     ]
    },
    {
     "name": "stdout",
     "output_type": "stream",
     "text": [
      "computed batch 157\n",
      "Allocated: 10824.05 MB\n",
      "Reserved: 71474.00 MB\n",
      "Allocated: 10824.05 MB\n",
      "Reserved: 29942.00 MB\n",
      "in getitem feature: [0. 1.]\n",
      "in getitem label: [0 1]\n"
     ]
    },
    {
     "name": "stderr",
     "output_type": "stream",
     "text": [
      "/tmp/ipykernel_3001/3942127936.py:26: FutureWarning: `torch.cuda.amp.autocast(args...)` is deprecated. Please use `torch.amp.autocast('cuda', args...)` instead.\n",
      "  with torch.cuda.amp.autocast():\n",
      "/home/ubuntu/.local/lib/python3.10/site-packages/torch/autograd/graph.py:825: UserWarning: cuDNN SDPA backward got grad_output.strides() != output.strides(), attempting to materialize a grad_output with matching strides... (Triggered internally at /pytorch/aten/src/ATen/native/cudnn/MHA.cpp:674.)\n",
      "  return Variable._execution_engine.run_backward(  # Calls into the C++ engine to run the backward pass\n"
     ]
    },
    {
     "name": "stdout",
     "output_type": "stream",
     "text": [
      "computed batch 158\n",
      "Allocated: 10821.08 MB\n",
      "Reserved: 71028.00 MB\n",
      "Allocated: 10821.08 MB\n",
      "Reserved: 28422.00 MB\n",
      "in getitem feature: [0. 1.]\n",
      "in getitem label: [0 1]\n"
     ]
    },
    {
     "name": "stderr",
     "output_type": "stream",
     "text": [
      "/tmp/ipykernel_3001/3942127936.py:26: FutureWarning: `torch.cuda.amp.autocast(args...)` is deprecated. Please use `torch.amp.autocast('cuda', args...)` instead.\n",
      "  with torch.cuda.amp.autocast():\n",
      "/home/ubuntu/.local/lib/python3.10/site-packages/torch/autograd/graph.py:825: UserWarning: cuDNN SDPA backward got grad_output.strides() != output.strides(), attempting to materialize a grad_output with matching strides... (Triggered internally at /pytorch/aten/src/ATen/native/cudnn/MHA.cpp:674.)\n",
      "  return Variable._execution_engine.run_backward(  # Calls into the C++ engine to run the backward pass\n"
     ]
    },
    {
     "name": "stdout",
     "output_type": "stream",
     "text": [
      "computed batch 159\n",
      "Allocated: 10825.78 MB\n",
      "Reserved: 70460.00 MB\n",
      "Allocated: 10825.78 MB\n",
      "Reserved: 31968.00 MB\n",
      "in getitem feature: [0. 1.]\n",
      "in getitem label: [0 1]\n"
     ]
    },
    {
     "name": "stderr",
     "output_type": "stream",
     "text": [
      "/tmp/ipykernel_3001/3942127936.py:26: FutureWarning: `torch.cuda.amp.autocast(args...)` is deprecated. Please use `torch.amp.autocast('cuda', args...)` instead.\n",
      "  with torch.cuda.amp.autocast():\n",
      "/home/ubuntu/.local/lib/python3.10/site-packages/torch/autograd/graph.py:825: UserWarning: cuDNN SDPA backward got grad_output.strides() != output.strides(), attempting to materialize a grad_output with matching strides... (Triggered internally at /pytorch/aten/src/ATen/native/cudnn/MHA.cpp:674.)\n",
      "  return Variable._execution_engine.run_backward(  # Calls into the C++ engine to run the backward pass\n"
     ]
    },
    {
     "name": "stdout",
     "output_type": "stream",
     "text": [
      "computed batch 160\n",
      "Allocated: 10826.90 MB\n",
      "Reserved: 69886.00 MB\n",
      "Allocated: 10826.90 MB\n",
      "Reserved: 31208.00 MB\n",
      "in getitem feature: [0. 1.]\n",
      "in getitem label: [0 1]\n"
     ]
    },
    {
     "name": "stderr",
     "output_type": "stream",
     "text": [
      "/tmp/ipykernel_3001/3942127936.py:26: FutureWarning: `torch.cuda.amp.autocast(args...)` is deprecated. Please use `torch.amp.autocast('cuda', args...)` instead.\n",
      "  with torch.cuda.amp.autocast():\n",
      "/home/ubuntu/.local/lib/python3.10/site-packages/torch/autograd/graph.py:825: UserWarning: cuDNN SDPA backward got grad_output.strides() != output.strides(), attempting to materialize a grad_output with matching strides... (Triggered internally at /pytorch/aten/src/ATen/native/cudnn/MHA.cpp:674.)\n",
      "  return Variable._execution_engine.run_backward(  # Calls into the C++ engine to run the backward pass\n"
     ]
    },
    {
     "name": "stdout",
     "output_type": "stream",
     "text": [
      "computed batch 161\n",
      "Allocated: 10823.09 MB\n",
      "Reserved: 69700.00 MB\n",
      "Allocated: 10823.09 MB\n",
      "Reserved: 29372.00 MB\n",
      "in getitem feature: [0. 1.]\n",
      "in getitem label: [0 1]\n"
     ]
    },
    {
     "name": "stderr",
     "output_type": "stream",
     "text": [
      "/tmp/ipykernel_3001/3942127936.py:26: FutureWarning: `torch.cuda.amp.autocast(args...)` is deprecated. Please use `torch.amp.autocast('cuda', args...)` instead.\n",
      "  with torch.cuda.amp.autocast():\n",
      "/home/ubuntu/.local/lib/python3.10/site-packages/torch/autograd/graph.py:825: UserWarning: cuDNN SDPA backward got grad_output.strides() != output.strides(), attempting to materialize a grad_output with matching strides... (Triggered internally at /pytorch/aten/src/ATen/native/cudnn/MHA.cpp:674.)\n",
      "  return Variable._execution_engine.run_backward(  # Calls into the C++ engine to run the backward pass\n"
     ]
    },
    {
     "name": "stdout",
     "output_type": "stream",
     "text": [
      "computed batch 162\n",
      "Allocated: 10820.00 MB\n",
      "Reserved: 70334.00 MB\n",
      "Allocated: 10820.00 MB\n",
      "Reserved: 30450.00 MB\n",
      "in getitem feature: [0. 1.]\n",
      "in getitem label: [0 1]\n"
     ]
    },
    {
     "name": "stderr",
     "output_type": "stream",
     "text": [
      "/tmp/ipykernel_3001/3942127936.py:26: FutureWarning: `torch.cuda.amp.autocast(args...)` is deprecated. Please use `torch.amp.autocast('cuda', args...)` instead.\n",
      "  with torch.cuda.amp.autocast():\n",
      "/home/ubuntu/.local/lib/python3.10/site-packages/torch/autograd/graph.py:825: UserWarning: cuDNN SDPA backward got grad_output.strides() != output.strides(), attempting to materialize a grad_output with matching strides... (Triggered internally at /pytorch/aten/src/ATen/native/cudnn/MHA.cpp:674.)\n",
      "  return Variable._execution_engine.run_backward(  # Calls into the C++ engine to run the backward pass\n"
     ]
    },
    {
     "name": "stdout",
     "output_type": "stream",
     "text": [
      "computed batch 163\n",
      "Allocated: 10821.89 MB\n",
      "Reserved: 71918.00 MB\n",
      "Allocated: 10821.89 MB\n",
      "Reserved: 29818.00 MB\n",
      "in getitem feature: [0. 1.]\n",
      "in getitem label: [0 1]\n"
     ]
    },
    {
     "name": "stderr",
     "output_type": "stream",
     "text": [
      "/tmp/ipykernel_3001/3942127936.py:26: FutureWarning: `torch.cuda.amp.autocast(args...)` is deprecated. Please use `torch.amp.autocast('cuda', args...)` instead.\n",
      "  with torch.cuda.amp.autocast():\n",
      "/home/ubuntu/.local/lib/python3.10/site-packages/torch/autograd/graph.py:825: UserWarning: cuDNN SDPA backward got grad_output.strides() != output.strides(), attempting to materialize a grad_output with matching strides... (Triggered internally at /pytorch/aten/src/ATen/native/cudnn/MHA.cpp:674.)\n",
      "  return Variable._execution_engine.run_backward(  # Calls into the C++ engine to run the backward pass\n"
     ]
    },
    {
     "name": "stdout",
     "output_type": "stream",
     "text": [
      "computed batch 164\n",
      "Allocated: 10821.88 MB\n",
      "Reserved: 71792.00 MB\n",
      "Allocated: 10821.88 MB\n",
      "Reserved: 32350.00 MB\n",
      "in getitem feature: [0. 1.]\n",
      "in getitem label: [0 1]\n"
     ]
    },
    {
     "name": "stderr",
     "output_type": "stream",
     "text": [
      "/tmp/ipykernel_3001/3942127936.py:26: FutureWarning: `torch.cuda.amp.autocast(args...)` is deprecated. Please use `torch.amp.autocast('cuda', args...)` instead.\n",
      "  with torch.cuda.amp.autocast():\n",
      "/home/ubuntu/.local/lib/python3.10/site-packages/torch/autograd/graph.py:825: UserWarning: cuDNN SDPA backward got grad_output.strides() != output.strides(), attempting to materialize a grad_output with matching strides... (Triggered internally at /pytorch/aten/src/ATen/native/cudnn/MHA.cpp:674.)\n",
      "  return Variable._execution_engine.run_backward(  # Calls into the C++ engine to run the backward pass\n"
     ]
    },
    {
     "name": "stdout",
     "output_type": "stream",
     "text": [
      "computed batch 165\n",
      "Allocated: 10822.35 MB\n",
      "Reserved: 71220.00 MB\n",
      "Allocated: 10822.35 MB\n",
      "Reserved: 28170.00 MB\n",
      "in getitem feature: [0. 1.]\n",
      "in getitem label: [0 1]\n"
     ]
    },
    {
     "name": "stderr",
     "output_type": "stream",
     "text": [
      "/tmp/ipykernel_3001/3942127936.py:26: FutureWarning: `torch.cuda.amp.autocast(args...)` is deprecated. Please use `torch.amp.autocast('cuda', args...)` instead.\n",
      "  with torch.cuda.amp.autocast():\n",
      "/home/ubuntu/.local/lib/python3.10/site-packages/torch/autograd/graph.py:825: UserWarning: cuDNN SDPA backward got grad_output.strides() != output.strides(), attempting to materialize a grad_output with matching strides... (Triggered internally at /pytorch/aten/src/ATen/native/cudnn/MHA.cpp:674.)\n",
      "  return Variable._execution_engine.run_backward(  # Calls into the C++ engine to run the backward pass\n"
     ]
    },
    {
     "name": "stdout",
     "output_type": "stream",
     "text": [
      "computed batch 166\n",
      "Allocated: 10829.26 MB\n",
      "Reserved: 70650.00 MB\n",
      "Allocated: 10829.26 MB\n",
      "Reserved: 36146.00 MB\n",
      "in getitem feature: [0. 1.]\n",
      "in getitem label: [0 1]\n"
     ]
    },
    {
     "name": "stderr",
     "output_type": "stream",
     "text": [
      "/tmp/ipykernel_3001/3942127936.py:26: FutureWarning: `torch.cuda.amp.autocast(args...)` is deprecated. Please use `torch.amp.autocast('cuda', args...)` instead.\n",
      "  with torch.cuda.amp.autocast():\n",
      "/home/ubuntu/.local/lib/python3.10/site-packages/torch/autograd/graph.py:825: UserWarning: cuDNN SDPA backward got grad_output.strides() != output.strides(), attempting to materialize a grad_output with matching strides... (Triggered internally at /pytorch/aten/src/ATen/native/cudnn/MHA.cpp:674.)\n",
      "  return Variable._execution_engine.run_backward(  # Calls into the C++ engine to run the backward pass\n"
     ]
    },
    {
     "name": "stdout",
     "output_type": "stream",
     "text": [
      "computed batch 167\n",
      "Allocated: 10827.21 MB\n",
      "Reserved: 71026.00 MB\n",
      "Allocated: 10827.21 MB\n",
      "Reserved: 33360.00 MB\n",
      "in getitem feature: [0. 1.]\n",
      "in getitem label: [0 1]\n"
     ]
    },
    {
     "name": "stderr",
     "output_type": "stream",
     "text": [
      "/tmp/ipykernel_3001/3942127936.py:26: FutureWarning: `torch.cuda.amp.autocast(args...)` is deprecated. Please use `torch.amp.autocast('cuda', args...)` instead.\n",
      "  with torch.cuda.amp.autocast():\n",
      "/home/ubuntu/.local/lib/python3.10/site-packages/torch/autograd/graph.py:825: UserWarning: cuDNN SDPA backward got grad_output.strides() != output.strides(), attempting to materialize a grad_output with matching strides... (Triggered internally at /pytorch/aten/src/ATen/native/cudnn/MHA.cpp:674.)\n",
      "  return Variable._execution_engine.run_backward(  # Calls into the C++ engine to run the backward pass\n"
     ]
    },
    {
     "name": "stdout",
     "output_type": "stream",
     "text": [
      "computed batch 168\n",
      "Allocated: 10817.80 MB\n",
      "Reserved: 72232.00 MB\n",
      "Allocated: 10817.80 MB\n",
      "Reserved: 33108.00 MB\n",
      "in getitem feature: [0. 1.]\n",
      "in getitem label: [0 1]\n"
     ]
    },
    {
     "name": "stderr",
     "output_type": "stream",
     "text": [
      "/tmp/ipykernel_3001/3942127936.py:26: FutureWarning: `torch.cuda.amp.autocast(args...)` is deprecated. Please use `torch.amp.autocast('cuda', args...)` instead.\n",
      "  with torch.cuda.amp.autocast():\n",
      "/home/ubuntu/.local/lib/python3.10/site-packages/torch/autograd/graph.py:825: UserWarning: cuDNN SDPA backward got grad_output.strides() != output.strides(), attempting to materialize a grad_output with matching strides... (Triggered internally at /pytorch/aten/src/ATen/native/cudnn/MHA.cpp:674.)\n",
      "  return Variable._execution_engine.run_backward(  # Calls into the C++ engine to run the backward pass\n"
     ]
    },
    {
     "name": "stdout",
     "output_type": "stream",
     "text": [
      "computed batch 169\n",
      "Allocated: 10828.28 MB\n",
      "Reserved: 70394.00 MB\n",
      "Allocated: 10828.28 MB\n",
      "Reserved: 32350.00 MB\n",
      "in getitem feature: [0. 1.]\n",
      "in getitem label: [0 1]\n"
     ]
    },
    {
     "name": "stderr",
     "output_type": "stream",
     "text": [
      "/tmp/ipykernel_3001/3942127936.py:26: FutureWarning: `torch.cuda.amp.autocast(args...)` is deprecated. Please use `torch.amp.autocast('cuda', args...)` instead.\n",
      "  with torch.cuda.amp.autocast():\n",
      "/home/ubuntu/.local/lib/python3.10/site-packages/torch/autograd/graph.py:825: UserWarning: cuDNN SDPA backward got grad_output.strides() != output.strides(), attempting to materialize a grad_output with matching strides... (Triggered internally at /pytorch/aten/src/ATen/native/cudnn/MHA.cpp:674.)\n",
      "  return Variable._execution_engine.run_backward(  # Calls into the C++ engine to run the backward pass\n"
     ]
    },
    {
     "name": "stdout",
     "output_type": "stream",
     "text": [
      "computed batch 170\n",
      "Allocated: 10823.23 MB\n",
      "Reserved: 70080.00 MB\n",
      "Allocated: 10823.23 MB\n",
      "Reserved: 28614.00 MB\n",
      "in getitem feature: [0. 1.]\n",
      "in getitem label: [0 1]\n"
     ]
    },
    {
     "name": "stderr",
     "output_type": "stream",
     "text": [
      "/tmp/ipykernel_3001/3942127936.py:26: FutureWarning: `torch.cuda.amp.autocast(args...)` is deprecated. Please use `torch.amp.autocast('cuda', args...)` instead.\n",
      "  with torch.cuda.amp.autocast():\n",
      "/home/ubuntu/.local/lib/python3.10/site-packages/torch/autograd/graph.py:825: UserWarning: cuDNN SDPA backward got grad_output.strides() != output.strides(), attempting to materialize a grad_output with matching strides... (Triggered internally at /pytorch/aten/src/ATen/native/cudnn/MHA.cpp:674.)\n",
      "  return Variable._execution_engine.run_backward(  # Calls into the C++ engine to run the backward pass\n"
     ]
    },
    {
     "name": "stdout",
     "output_type": "stream",
     "text": [
      "computed batch 171\n",
      "Allocated: 10818.85 MB\n",
      "Reserved: 70080.00 MB\n",
      "Allocated: 10818.85 MB\n",
      "Reserved: 32222.00 MB\n",
      "in getitem feature: [0. 1.]\n",
      "in getitem label: [0 1]\n"
     ]
    },
    {
     "name": "stderr",
     "output_type": "stream",
     "text": [
      "/tmp/ipykernel_3001/3942127936.py:26: FutureWarning: `torch.cuda.amp.autocast(args...)` is deprecated. Please use `torch.amp.autocast('cuda', args...)` instead.\n",
      "  with torch.cuda.amp.autocast():\n",
      "/home/ubuntu/.local/lib/python3.10/site-packages/torch/autograd/graph.py:825: UserWarning: cuDNN SDPA backward got grad_output.strides() != output.strides(), attempting to materialize a grad_output with matching strides... (Triggered internally at /pytorch/aten/src/ATen/native/cudnn/MHA.cpp:674.)\n",
      "  return Variable._execution_engine.run_backward(  # Calls into the C++ engine to run the backward pass\n"
     ]
    },
    {
     "name": "stdout",
     "output_type": "stream",
     "text": [
      "computed batch 172\n",
      "Allocated: 10822.68 MB\n",
      "Reserved: 71662.00 MB\n",
      "Allocated: 10822.68 MB\n",
      "Reserved: 35768.00 MB\n",
      "in getitem feature: [0. 1.]\n",
      "in getitem label: [0 1]\n"
     ]
    },
    {
     "name": "stderr",
     "output_type": "stream",
     "text": [
      "/tmp/ipykernel_3001/3942127936.py:26: FutureWarning: `torch.cuda.amp.autocast(args...)` is deprecated. Please use `torch.amp.autocast('cuda', args...)` instead.\n",
      "  with torch.cuda.amp.autocast():\n",
      "/home/ubuntu/.local/lib/python3.10/site-packages/torch/autograd/graph.py:825: UserWarning: cuDNN SDPA backward got grad_output.strides() != output.strides(), attempting to materialize a grad_output with matching strides... (Triggered internally at /pytorch/aten/src/ATen/native/cudnn/MHA.cpp:674.)\n",
      "  return Variable._execution_engine.run_backward(  # Calls into the C++ engine to run the backward pass\n"
     ]
    },
    {
     "name": "stdout",
     "output_type": "stream",
     "text": [
      "computed batch 173\n",
      "Allocated: 10827.79 MB\n",
      "Reserved: 71596.00 MB\n",
      "Allocated: 10827.79 MB\n",
      "Reserved: 33234.00 MB\n",
      "in getitem feature: [0. 1.]\n",
      "in getitem label: [0 1]\n"
     ]
    },
    {
     "name": "stderr",
     "output_type": "stream",
     "text": [
      "/tmp/ipykernel_3001/3942127936.py:26: FutureWarning: `torch.cuda.amp.autocast(args...)` is deprecated. Please use `torch.amp.autocast('cuda', args...)` instead.\n",
      "  with torch.cuda.amp.autocast():\n",
      "/home/ubuntu/.local/lib/python3.10/site-packages/torch/autograd/graph.py:825: UserWarning: cuDNN SDPA backward got grad_output.strides() != output.strides(), attempting to materialize a grad_output with matching strides... (Triggered internally at /pytorch/aten/src/ATen/native/cudnn/MHA.cpp:674.)\n",
      "  return Variable._execution_engine.run_backward(  # Calls into the C++ engine to run the backward pass\n"
     ]
    },
    {
     "name": "stdout",
     "output_type": "stream",
     "text": [
      "computed batch 174\n",
      "Allocated: 10820.89 MB\n",
      "Reserved: 69884.00 MB\n",
      "Allocated: 10820.89 MB\n",
      "Reserved: 33740.00 MB\n",
      "in getitem feature: [0. 1.]\n",
      "in getitem label: [0 1]\n"
     ]
    },
    {
     "name": "stderr",
     "output_type": "stream",
     "text": [
      "/tmp/ipykernel_3001/3942127936.py:26: FutureWarning: `torch.cuda.amp.autocast(args...)` is deprecated. Please use `torch.amp.autocast('cuda', args...)` instead.\n",
      "  with torch.cuda.amp.autocast():\n",
      "/home/ubuntu/.local/lib/python3.10/site-packages/torch/autograd/graph.py:825: UserWarning: cuDNN SDPA backward got grad_output.strides() != output.strides(), attempting to materialize a grad_output with matching strides... (Triggered internally at /pytorch/aten/src/ATen/native/cudnn/MHA.cpp:674.)\n",
      "  return Variable._execution_engine.run_backward(  # Calls into the C++ engine to run the backward pass\n"
     ]
    },
    {
     "name": "stdout",
     "output_type": "stream",
     "text": [
      "computed batch 175\n",
      "Allocated: 10820.63 MB\n",
      "Reserved: 71282.00 MB\n",
      "Allocated: 10820.63 MB\n",
      "Reserved: 31334.00 MB\n",
      "in getitem feature: [0. 1.]\n",
      "in getitem label: [0 1]\n"
     ]
    },
    {
     "name": "stderr",
     "output_type": "stream",
     "text": [
      "/tmp/ipykernel_3001/3942127936.py:26: FutureWarning: `torch.cuda.amp.autocast(args...)` is deprecated. Please use `torch.amp.autocast('cuda', args...)` instead.\n",
      "  with torch.cuda.amp.autocast():\n",
      "/home/ubuntu/.local/lib/python3.10/site-packages/torch/autograd/graph.py:825: UserWarning: cuDNN SDPA backward got grad_output.strides() != output.strides(), attempting to materialize a grad_output with matching strides... (Triggered internally at /pytorch/aten/src/ATen/native/cudnn/MHA.cpp:674.)\n",
      "  return Variable._execution_engine.run_backward(  # Calls into the C++ engine to run the backward pass\n"
     ]
    },
    {
     "name": "stdout",
     "output_type": "stream",
     "text": [
      "computed batch 176\n",
      "Allocated: 10826.99 MB\n",
      "Reserved: 70900.00 MB\n",
      "Allocated: 10826.99 MB\n",
      "Reserved: 32348.00 MB\n",
      "in getitem feature: [0. 1.]\n",
      "in getitem label: [0 1]\n"
     ]
    },
    {
     "name": "stderr",
     "output_type": "stream",
     "text": [
      "/tmp/ipykernel_3001/3942127936.py:26: FutureWarning: `torch.cuda.amp.autocast(args...)` is deprecated. Please use `torch.amp.autocast('cuda', args...)` instead.\n",
      "  with torch.cuda.amp.autocast():\n",
      "/home/ubuntu/.local/lib/python3.10/site-packages/torch/autograd/graph.py:825: UserWarning: cuDNN SDPA backward got grad_output.strides() != output.strides(), attempting to materialize a grad_output with matching strides... (Triggered internally at /pytorch/aten/src/ATen/native/cudnn/MHA.cpp:674.)\n",
      "  return Variable._execution_engine.run_backward(  # Calls into the C++ engine to run the backward pass\n"
     ]
    },
    {
     "name": "stdout",
     "output_type": "stream",
     "text": [
      "computed batch 177\n",
      "Allocated: 10824.90 MB\n",
      "Reserved: 69634.00 MB\n",
      "Allocated: 10824.90 MB\n",
      "Reserved: 35892.00 MB\n",
      "in getitem feature: [0. 1.]\n",
      "in getitem label: [0 1]\n"
     ]
    },
    {
     "name": "stderr",
     "output_type": "stream",
     "text": [
      "/tmp/ipykernel_3001/3942127936.py:26: FutureWarning: `torch.cuda.amp.autocast(args...)` is deprecated. Please use `torch.amp.autocast('cuda', args...)` instead.\n",
      "  with torch.cuda.amp.autocast():\n",
      "/home/ubuntu/.local/lib/python3.10/site-packages/torch/autograd/graph.py:825: UserWarning: cuDNN SDPA backward got grad_output.strides() != output.strides(), attempting to materialize a grad_output with matching strides... (Triggered internally at /pytorch/aten/src/ATen/native/cudnn/MHA.cpp:674.)\n",
      "  return Variable._execution_engine.run_backward(  # Calls into the C++ engine to run the backward pass\n"
     ]
    },
    {
     "name": "stdout",
     "output_type": "stream",
     "text": [
      "computed batch 178\n",
      "Allocated: 10823.39 MB\n",
      "Reserved: 71280.00 MB\n",
      "Allocated: 10823.39 MB\n",
      "Reserved: 33740.00 MB\n",
      "in getitem feature: [0. 1.]\n",
      "in getitem label: [0 1]\n"
     ]
    },
    {
     "name": "stderr",
     "output_type": "stream",
     "text": [
      "/tmp/ipykernel_3001/3942127936.py:26: FutureWarning: `torch.cuda.amp.autocast(args...)` is deprecated. Please use `torch.amp.autocast('cuda', args...)` instead.\n",
      "  with torch.cuda.amp.autocast():\n",
      "/home/ubuntu/.local/lib/python3.10/site-packages/torch/autograd/graph.py:825: UserWarning: cuDNN SDPA backward got grad_output.strides() != output.strides(), attempting to materialize a grad_output with matching strides... (Triggered internally at /pytorch/aten/src/ATen/native/cudnn/MHA.cpp:674.)\n",
      "  return Variable._execution_engine.run_backward(  # Calls into the C++ engine to run the backward pass\n"
     ]
    },
    {
     "name": "stdout",
     "output_type": "stream",
     "text": [
      "computed batch 179\n",
      "Allocated: 10823.01 MB\n",
      "Reserved: 72356.00 MB\n",
      "Allocated: 10823.01 MB\n",
      "Reserved: 35956.00 MB\n",
      "in getitem feature: [0. 1.]\n",
      "in getitem label: [0 1]\n"
     ]
    },
    {
     "name": "stderr",
     "output_type": "stream",
     "text": [
      "/tmp/ipykernel_3001/3942127936.py:26: FutureWarning: `torch.cuda.amp.autocast(args...)` is deprecated. Please use `torch.amp.autocast('cuda', args...)` instead.\n",
      "  with torch.cuda.amp.autocast():\n",
      "/home/ubuntu/.local/lib/python3.10/site-packages/torch/autograd/graph.py:825: UserWarning: cuDNN SDPA backward got grad_output.strides() != output.strides(), attempting to materialize a grad_output with matching strides... (Triggered internally at /pytorch/aten/src/ATen/native/cudnn/MHA.cpp:674.)\n",
      "  return Variable._execution_engine.run_backward(  # Calls into the C++ engine to run the backward pass\n"
     ]
    },
    {
     "name": "stdout",
     "output_type": "stream",
     "text": [
      "computed batch 180\n",
      "Allocated: 10826.69 MB\n",
      "Reserved: 70708.00 MB\n",
      "Allocated: 10826.69 MB\n",
      "Reserved: 32854.00 MB\n",
      "in getitem feature: [0. 1.]\n",
      "in getitem label: [0 1]\n"
     ]
    },
    {
     "name": "stderr",
     "output_type": "stream",
     "text": [
      "/tmp/ipykernel_3001/3942127936.py:26: FutureWarning: `torch.cuda.amp.autocast(args...)` is deprecated. Please use `torch.amp.autocast('cuda', args...)` instead.\n",
      "  with torch.cuda.amp.autocast():\n",
      "/home/ubuntu/.local/lib/python3.10/site-packages/torch/autograd/graph.py:825: UserWarning: cuDNN SDPA backward got grad_output.strides() != output.strides(), attempting to materialize a grad_output with matching strides... (Triggered internally at /pytorch/aten/src/ATen/native/cudnn/MHA.cpp:674.)\n",
      "  return Variable._execution_engine.run_backward(  # Calls into the C++ engine to run the backward pass\n"
     ]
    },
    {
     "name": "stdout",
     "output_type": "stream",
     "text": [
      "computed batch 181\n",
      "Allocated: 10820.66 MB\n",
      "Reserved: 70900.00 MB\n",
      "Allocated: 10820.66 MB\n",
      "Reserved: 31208.00 MB\n",
      "in getitem feature: [0. 1.]\n",
      "in getitem label: [0 1]\n"
     ]
    },
    {
     "name": "stderr",
     "output_type": "stream",
     "text": [
      "/tmp/ipykernel_3001/3942127936.py:26: FutureWarning: `torch.cuda.amp.autocast(args...)` is deprecated. Please use `torch.amp.autocast('cuda', args...)` instead.\n",
      "  with torch.cuda.amp.autocast():\n",
      "/home/ubuntu/.local/lib/python3.10/site-packages/torch/autograd/graph.py:825: UserWarning: cuDNN SDPA backward got grad_output.strides() != output.strides(), attempting to materialize a grad_output with matching strides... (Triggered internally at /pytorch/aten/src/ATen/native/cudnn/MHA.cpp:674.)\n",
      "  return Variable._execution_engine.run_backward(  # Calls into the C++ engine to run the backward pass\n"
     ]
    },
    {
     "name": "stdout",
     "output_type": "stream",
     "text": [
      "computed batch 182\n",
      "Allocated: 10823.05 MB\n",
      "Reserved: 72358.00 MB\n",
      "Allocated: 10823.05 MB\n",
      "Reserved: 33362.00 MB\n",
      "in getitem feature: [0. 1.]\n",
      "in getitem label: [0 1]\n"
     ]
    },
    {
     "name": "stderr",
     "output_type": "stream",
     "text": [
      "/tmp/ipykernel_3001/3942127936.py:26: FutureWarning: `torch.cuda.amp.autocast(args...)` is deprecated. Please use `torch.amp.autocast('cuda', args...)` instead.\n",
      "  with torch.cuda.amp.autocast():\n",
      "/home/ubuntu/.local/lib/python3.10/site-packages/torch/autograd/graph.py:825: UserWarning: cuDNN SDPA backward got grad_output.strides() != output.strides(), attempting to materialize a grad_output with matching strides... (Triggered internally at /pytorch/aten/src/ATen/native/cudnn/MHA.cpp:674.)\n",
      "  return Variable._execution_engine.run_backward(  # Calls into the C++ engine to run the backward pass\n"
     ]
    },
    {
     "name": "stdout",
     "output_type": "stream",
     "text": [
      "computed batch 183\n",
      "Allocated: 10823.16 MB\n",
      "Reserved: 71218.00 MB\n",
      "Allocated: 10823.16 MB\n",
      "Reserved: 31208.00 MB\n",
      "in getitem feature: [0. 1.]\n",
      "in getitem label: [0 1]\n"
     ]
    },
    {
     "name": "stderr",
     "output_type": "stream",
     "text": [
      "/tmp/ipykernel_3001/3942127936.py:26: FutureWarning: `torch.cuda.amp.autocast(args...)` is deprecated. Please use `torch.amp.autocast('cuda', args...)` instead.\n",
      "  with torch.cuda.amp.autocast():\n",
      "/home/ubuntu/.local/lib/python3.10/site-packages/torch/autograd/graph.py:825: UserWarning: cuDNN SDPA backward got grad_output.strides() != output.strides(), attempting to materialize a grad_output with matching strides... (Triggered internally at /pytorch/aten/src/ATen/native/cudnn/MHA.cpp:674.)\n",
      "  return Variable._execution_engine.run_backward(  # Calls into the C++ engine to run the backward pass\n"
     ]
    },
    {
     "name": "stdout",
     "output_type": "stream",
     "text": [
      "computed batch 184\n",
      "Allocated: 10828.85 MB\n",
      "Reserved: 70774.00 MB\n",
      "Allocated: 10828.85 MB\n",
      "Reserved: 32728.00 MB\n",
      "in getitem feature: [0. 1.]\n",
      "in getitem label: [0 1]\n"
     ]
    },
    {
     "name": "stderr",
     "output_type": "stream",
     "text": [
      "/tmp/ipykernel_3001/3942127936.py:26: FutureWarning: `torch.cuda.amp.autocast(args...)` is deprecated. Please use `torch.amp.autocast('cuda', args...)` instead.\n",
      "  with torch.cuda.amp.autocast():\n",
      "/home/ubuntu/.local/lib/python3.10/site-packages/torch/autograd/graph.py:825: UserWarning: cuDNN SDPA backward got grad_output.strides() != output.strides(), attempting to materialize a grad_output with matching strides... (Triggered internally at /pytorch/aten/src/ATen/native/cudnn/MHA.cpp:674.)\n",
      "  return Variable._execution_engine.run_backward(  # Calls into the C++ engine to run the backward pass\n"
     ]
    },
    {
     "name": "stdout",
     "output_type": "stream",
     "text": [
      "computed batch 185\n",
      "Allocated: 10826.37 MB\n",
      "Reserved: 70014.00 MB\n",
      "Allocated: 10826.37 MB\n",
      "Reserved: 34628.00 MB\n",
      "in getitem feature: [0. 1.]\n",
      "in getitem label: [0 1]\n"
     ]
    },
    {
     "name": "stderr",
     "output_type": "stream",
     "text": [
      "/tmp/ipykernel_3001/3942127936.py:26: FutureWarning: `torch.cuda.amp.autocast(args...)` is deprecated. Please use `torch.amp.autocast('cuda', args...)` instead.\n",
      "  with torch.cuda.amp.autocast():\n",
      "/home/ubuntu/.local/lib/python3.10/site-packages/torch/autograd/graph.py:825: UserWarning: cuDNN SDPA backward got grad_output.strides() != output.strides(), attempting to materialize a grad_output with matching strides... (Triggered internally at /pytorch/aten/src/ATen/native/cudnn/MHA.cpp:674.)\n",
      "  return Variable._execution_engine.run_backward(  # Calls into the C++ engine to run the backward pass\n"
     ]
    },
    {
     "name": "stdout",
     "output_type": "stream",
     "text": [
      "computed batch 186\n",
      "Allocated: 10828.40 MB\n",
      "Reserved: 70016.00 MB\n",
      "Allocated: 10828.40 MB\n",
      "Reserved: 33236.00 MB\n",
      "in getitem feature: [0. 1.]\n",
      "in getitem label: [0 1]\n"
     ]
    },
    {
     "name": "stderr",
     "output_type": "stream",
     "text": [
      "/tmp/ipykernel_3001/3942127936.py:26: FutureWarning: `torch.cuda.amp.autocast(args...)` is deprecated. Please use `torch.amp.autocast('cuda', args...)` instead.\n",
      "  with torch.cuda.amp.autocast():\n",
      "/home/ubuntu/.local/lib/python3.10/site-packages/torch/autograd/graph.py:825: UserWarning: cuDNN SDPA backward got grad_output.strides() != output.strides(), attempting to materialize a grad_output with matching strides... (Triggered internally at /pytorch/aten/src/ATen/native/cudnn/MHA.cpp:674.)\n",
      "  return Variable._execution_engine.run_backward(  # Calls into the C++ engine to run the backward pass\n"
     ]
    },
    {
     "name": "stdout",
     "output_type": "stream",
     "text": [
      "computed batch 187\n",
      "Allocated: 10828.67 MB\n",
      "Reserved: 71154.00 MB\n",
      "Allocated: 10828.67 MB\n",
      "Reserved: 37286.00 MB\n",
      "in getitem feature: [0. 1.]\n",
      "in getitem label: [0 1]\n"
     ]
    },
    {
     "name": "stderr",
     "output_type": "stream",
     "text": [
      "/tmp/ipykernel_3001/3942127936.py:26: FutureWarning: `torch.cuda.amp.autocast(args...)` is deprecated. Please use `torch.amp.autocast('cuda', args...)` instead.\n",
      "  with torch.cuda.amp.autocast():\n",
      "/home/ubuntu/.local/lib/python3.10/site-packages/torch/autograd/graph.py:825: UserWarning: cuDNN SDPA backward got grad_output.strides() != output.strides(), attempting to materialize a grad_output with matching strides... (Triggered internally at /pytorch/aten/src/ATen/native/cudnn/MHA.cpp:674.)\n",
      "  return Variable._execution_engine.run_backward(  # Calls into the C++ engine to run the backward pass\n"
     ]
    },
    {
     "name": "stdout",
     "output_type": "stream",
     "text": [
      "computed batch 188\n",
      "Allocated: 10828.70 MB\n",
      "Reserved: 71534.00 MB\n",
      "Allocated: 10828.70 MB\n",
      "Reserved: 33108.00 MB\n",
      "in getitem feature: [0. 1.]\n",
      "in getitem label: [0 1]\n"
     ]
    },
    {
     "name": "stderr",
     "output_type": "stream",
     "text": [
      "/tmp/ipykernel_3001/3942127936.py:26: FutureWarning: `torch.cuda.amp.autocast(args...)` is deprecated. Please use `torch.amp.autocast('cuda', args...)` instead.\n",
      "  with torch.cuda.amp.autocast():\n",
      "/home/ubuntu/.local/lib/python3.10/site-packages/torch/autograd/graph.py:825: UserWarning: cuDNN SDPA backward got grad_output.strides() != output.strides(), attempting to materialize a grad_output with matching strides... (Triggered internally at /pytorch/aten/src/ATen/native/cudnn/MHA.cpp:674.)\n",
      "  return Variable._execution_engine.run_backward(  # Calls into the C++ engine to run the backward pass\n"
     ]
    },
    {
     "name": "stdout",
     "output_type": "stream",
     "text": [
      "computed batch 189\n",
      "Allocated: 10829.87 MB\n",
      "Reserved: 70648.00 MB\n",
      "Allocated: 10829.87 MB\n",
      "Reserved: 30070.00 MB\n",
      "in getitem feature: [0. 1.]\n",
      "in getitem label: [0 1]\n"
     ]
    },
    {
     "name": "stderr",
     "output_type": "stream",
     "text": [
      "/tmp/ipykernel_3001/3942127936.py:26: FutureWarning: `torch.cuda.amp.autocast(args...)` is deprecated. Please use `torch.amp.autocast('cuda', args...)` instead.\n",
      "  with torch.cuda.amp.autocast():\n",
      "/home/ubuntu/.local/lib/python3.10/site-packages/torch/autograd/graph.py:825: UserWarning: cuDNN SDPA backward got grad_output.strides() != output.strides(), attempting to materialize a grad_output with matching strides... (Triggered internally at /pytorch/aten/src/ATen/native/cudnn/MHA.cpp:674.)\n",
      "  return Variable._execution_engine.run_backward(  # Calls into the C++ engine to run the backward pass\n"
     ]
    },
    {
     "name": "stdout",
     "output_type": "stream",
     "text": [
      "computed batch 190\n",
      "Allocated: 10819.93 MB\n",
      "Reserved: 72678.00 MB\n",
      "Allocated: 10819.93 MB\n",
      "Reserved: 30704.00 MB\n",
      "in getitem feature: [0. 1.]\n",
      "in getitem label: [0 1]\n"
     ]
    },
    {
     "name": "stderr",
     "output_type": "stream",
     "text": [
      "/tmp/ipykernel_3001/3942127936.py:26: FutureWarning: `torch.cuda.amp.autocast(args...)` is deprecated. Please use `torch.amp.autocast('cuda', args...)` instead.\n",
      "  with torch.cuda.amp.autocast():\n",
      "/home/ubuntu/.local/lib/python3.10/site-packages/torch/autograd/graph.py:825: UserWarning: cuDNN SDPA backward got grad_output.strides() != output.strides(), attempting to materialize a grad_output with matching strides... (Triggered internally at /pytorch/aten/src/ATen/native/cudnn/MHA.cpp:674.)\n",
      "  return Variable._execution_engine.run_backward(  # Calls into the C++ engine to run the backward pass\n"
     ]
    },
    {
     "name": "stdout",
     "output_type": "stream",
     "text": [
      "computed batch 191\n",
      "Allocated: 10823.76 MB\n",
      "Reserved: 70144.00 MB\n",
      "Allocated: 10823.76 MB\n",
      "Reserved: 30324.00 MB\n",
      "in getitem feature: [0. 1.]\n",
      "in getitem label: [0 1]\n"
     ]
    },
    {
     "name": "stderr",
     "output_type": "stream",
     "text": [
      "/tmp/ipykernel_3001/3942127936.py:26: FutureWarning: `torch.cuda.amp.autocast(args...)` is deprecated. Please use `torch.amp.autocast('cuda', args...)` instead.\n",
      "  with torch.cuda.amp.autocast():\n",
      "/home/ubuntu/.local/lib/python3.10/site-packages/torch/autograd/graph.py:825: UserWarning: cuDNN SDPA backward got grad_output.strides() != output.strides(), attempting to materialize a grad_output with matching strides... (Triggered internally at /pytorch/aten/src/ATen/native/cudnn/MHA.cpp:674.)\n",
      "  return Variable._execution_engine.run_backward(  # Calls into the C++ engine to run the backward pass\n"
     ]
    },
    {
     "name": "stdout",
     "output_type": "stream",
     "text": [
      "computed batch 192\n",
      "Allocated: 10818.71 MB\n",
      "Reserved: 69636.00 MB\n",
      "Allocated: 10818.71 MB\n",
      "Reserved: 26142.00 MB\n",
      "in getitem feature: [0. 1.]\n",
      "in getitem label: [0 1]\n"
     ]
    },
    {
     "name": "stderr",
     "output_type": "stream",
     "text": [
      "/tmp/ipykernel_3001/3942127936.py:26: FutureWarning: `torch.cuda.amp.autocast(args...)` is deprecated. Please use `torch.amp.autocast('cuda', args...)` instead.\n",
      "  with torch.cuda.amp.autocast():\n",
      "/home/ubuntu/.local/lib/python3.10/site-packages/torch/autograd/graph.py:825: UserWarning: cuDNN SDPA backward got grad_output.strides() != output.strides(), attempting to materialize a grad_output with matching strides... (Triggered internally at /pytorch/aten/src/ATen/native/cudnn/MHA.cpp:674.)\n",
      "  return Variable._execution_engine.run_backward(  # Calls into the C++ engine to run the backward pass\n"
     ]
    },
    {
     "name": "stdout",
     "output_type": "stream",
     "text": [
      "computed batch 193\n",
      "Allocated: 10821.89 MB\n",
      "Reserved: 70460.00 MB\n",
      "Allocated: 10821.89 MB\n",
      "Reserved: 32474.00 MB\n",
      "in getitem feature: [0. 1.]\n",
      "in getitem label: [0 1]\n"
     ]
    },
    {
     "name": "stderr",
     "output_type": "stream",
     "text": [
      "/tmp/ipykernel_3001/3942127936.py:26: FutureWarning: `torch.cuda.amp.autocast(args...)` is deprecated. Please use `torch.amp.autocast('cuda', args...)` instead.\n",
      "  with torch.cuda.amp.autocast():\n",
      "/home/ubuntu/.local/lib/python3.10/site-packages/torch/autograd/graph.py:825: UserWarning: cuDNN SDPA backward got grad_output.strides() != output.strides(), attempting to materialize a grad_output with matching strides... (Triggered internally at /pytorch/aten/src/ATen/native/cudnn/MHA.cpp:674.)\n",
      "  return Variable._execution_engine.run_backward(  # Calls into the C++ engine to run the backward pass\n"
     ]
    },
    {
     "name": "stdout",
     "output_type": "stream",
     "text": [
      "computed batch 194\n",
      "Allocated: 10821.33 MB\n",
      "Reserved: 70774.00 MB\n",
      "Allocated: 10821.33 MB\n",
      "Reserved: 33994.00 MB\n",
      "in getitem feature: [0. 1.]\n",
      "in getitem label: [0 1]\n"
     ]
    },
    {
     "name": "stderr",
     "output_type": "stream",
     "text": [
      "/tmp/ipykernel_3001/3942127936.py:26: FutureWarning: `torch.cuda.amp.autocast(args...)` is deprecated. Please use `torch.amp.autocast('cuda', args...)` instead.\n",
      "  with torch.cuda.amp.autocast():\n",
      "/home/ubuntu/.local/lib/python3.10/site-packages/torch/autograd/graph.py:825: UserWarning: cuDNN SDPA backward got grad_output.strides() != output.strides(), attempting to materialize a grad_output with matching strides... (Triggered internally at /pytorch/aten/src/ATen/native/cudnn/MHA.cpp:674.)\n",
      "  return Variable._execution_engine.run_backward(  # Calls into the C++ engine to run the backward pass\n"
     ]
    },
    {
     "name": "stdout",
     "output_type": "stream",
     "text": [
      "computed batch 195\n",
      "Allocated: 10820.12 MB\n",
      "Reserved: 70266.00 MB\n",
      "Allocated: 10820.12 MB\n",
      "Reserved: 38552.00 MB\n",
      "in getitem feature: [0. 1.]\n",
      "in getitem label: [0 1]\n"
     ]
    },
    {
     "name": "stderr",
     "output_type": "stream",
     "text": [
      "/tmp/ipykernel_3001/3942127936.py:26: FutureWarning: `torch.cuda.amp.autocast(args...)` is deprecated. Please use `torch.amp.autocast('cuda', args...)` instead.\n",
      "  with torch.cuda.amp.autocast():\n",
      "/home/ubuntu/.local/lib/python3.10/site-packages/torch/autograd/graph.py:825: UserWarning: cuDNN SDPA backward got grad_output.strides() != output.strides(), attempting to materialize a grad_output with matching strides... (Triggered internally at /pytorch/aten/src/ATen/native/cudnn/MHA.cpp:674.)\n",
      "  return Variable._execution_engine.run_backward(  # Calls into the C++ engine to run the backward pass\n"
     ]
    },
    {
     "name": "stdout",
     "output_type": "stream",
     "text": [
      "computed batch 196\n",
      "Allocated: 10827.48 MB\n",
      "Reserved: 70644.00 MB\n",
      "Allocated: 10827.48 MB\n",
      "Reserved: 37538.00 MB\n",
      "in getitem feature: [0. 1.]\n",
      "in getitem label: [0 1]\n"
     ]
    },
    {
     "name": "stderr",
     "output_type": "stream",
     "text": [
      "/tmp/ipykernel_3001/3942127936.py:26: FutureWarning: `torch.cuda.amp.autocast(args...)` is deprecated. Please use `torch.amp.autocast('cuda', args...)` instead.\n",
      "  with torch.cuda.amp.autocast():\n",
      "/home/ubuntu/.local/lib/python3.10/site-packages/torch/autograd/graph.py:825: UserWarning: cuDNN SDPA backward got grad_output.strides() != output.strides(), attempting to materialize a grad_output with matching strides... (Triggered internally at /pytorch/aten/src/ATen/native/cudnn/MHA.cpp:674.)\n",
      "  return Variable._execution_engine.run_backward(  # Calls into the C++ engine to run the backward pass\n"
     ]
    },
    {
     "name": "stdout",
     "output_type": "stream",
     "text": [
      "computed batch 197\n",
      "Allocated: 10823.46 MB\n",
      "Reserved: 70458.00 MB\n",
      "Allocated: 10823.46 MB\n",
      "Reserved: 32600.00 MB\n",
      "in getitem feature: [0. 1.]\n",
      "in getitem label: [0 1]\n"
     ]
    },
    {
     "name": "stderr",
     "output_type": "stream",
     "text": [
      "/tmp/ipykernel_3001/3942127936.py:26: FutureWarning: `torch.cuda.amp.autocast(args...)` is deprecated. Please use `torch.amp.autocast('cuda', args...)` instead.\n",
      "  with torch.cuda.amp.autocast():\n",
      "/home/ubuntu/.local/lib/python3.10/site-packages/torch/autograd/graph.py:825: UserWarning: cuDNN SDPA backward got grad_output.strides() != output.strides(), attempting to materialize a grad_output with matching strides... (Triggered internally at /pytorch/aten/src/ATen/native/cudnn/MHA.cpp:674.)\n",
      "  return Variable._execution_engine.run_backward(  # Calls into the C++ engine to run the backward pass\n"
     ]
    },
    {
     "name": "stdout",
     "output_type": "stream",
     "text": [
      "computed batch 198\n",
      "Allocated: 10828.76 MB\n",
      "Reserved: 70014.00 MB\n",
      "Allocated: 10828.76 MB\n",
      "Reserved: 32604.00 MB\n",
      "in getitem feature: [0. 1.]\n",
      "in getitem label: [0 1]\n"
     ]
    },
    {
     "name": "stderr",
     "output_type": "stream",
     "text": [
      "/tmp/ipykernel_3001/3942127936.py:26: FutureWarning: `torch.cuda.amp.autocast(args...)` is deprecated. Please use `torch.amp.autocast('cuda', args...)` instead.\n",
      "  with torch.cuda.amp.autocast():\n",
      "/home/ubuntu/.local/lib/python3.10/site-packages/torch/autograd/graph.py:825: UserWarning: cuDNN SDPA backward got grad_output.strides() != output.strides(), attempting to materialize a grad_output with matching strides... (Triggered internally at /pytorch/aten/src/ATen/native/cudnn/MHA.cpp:674.)\n",
      "  return Variable._execution_engine.run_backward(  # Calls into the C++ engine to run the backward pass\n"
     ]
    },
    {
     "name": "stdout",
     "output_type": "stream",
     "text": [
      "computed batch 199\n",
      "Allocated: 10824.16 MB\n",
      "Reserved: 70648.00 MB\n",
      "Allocated: 10824.16 MB\n",
      "Reserved: 33742.00 MB\n",
      "in getitem feature: [0. 1.]\n",
      "in getitem label: [0 1]\n"
     ]
    },
    {
     "name": "stderr",
     "output_type": "stream",
     "text": [
      "/tmp/ipykernel_3001/3942127936.py:26: FutureWarning: `torch.cuda.amp.autocast(args...)` is deprecated. Please use `torch.amp.autocast('cuda', args...)` instead.\n",
      "  with torch.cuda.amp.autocast():\n",
      "/home/ubuntu/.local/lib/python3.10/site-packages/torch/autograd/graph.py:825: UserWarning: cuDNN SDPA backward got grad_output.strides() != output.strides(), attempting to materialize a grad_output with matching strides... (Triggered internally at /pytorch/aten/src/ATen/native/cudnn/MHA.cpp:674.)\n",
      "  return Variable._execution_engine.run_backward(  # Calls into the C++ engine to run the backward pass\n"
     ]
    },
    {
     "name": "stdout",
     "output_type": "stream",
     "text": [
      "computed batch 200\n",
      "Allocated: 10821.08 MB\n",
      "Reserved: 70584.00 MB\n",
      "Allocated: 10821.08 MB\n",
      "Reserved: 32980.00 MB\n",
      "in getitem feature: [0. 1.]\n",
      "in getitem label: [0 1]\n"
     ]
    },
    {
     "name": "stderr",
     "output_type": "stream",
     "text": [
      "/tmp/ipykernel_3001/3942127936.py:26: FutureWarning: `torch.cuda.amp.autocast(args...)` is deprecated. Please use `torch.amp.autocast('cuda', args...)` instead.\n",
      "  with torch.cuda.amp.autocast():\n",
      "/home/ubuntu/.local/lib/python3.10/site-packages/torch/autograd/graph.py:825: UserWarning: cuDNN SDPA backward got grad_output.strides() != output.strides(), attempting to materialize a grad_output with matching strides... (Triggered internally at /pytorch/aten/src/ATen/native/cudnn/MHA.cpp:674.)\n",
      "  return Variable._execution_engine.run_backward(  # Calls into the C++ engine to run the backward pass\n"
     ]
    },
    {
     "name": "stdout",
     "output_type": "stream",
     "text": [
      "computed batch 201\n",
      "Allocated: 10823.05 MB\n",
      "Reserved: 70266.00 MB\n",
      "Allocated: 10823.05 MB\n",
      "Reserved: 28296.00 MB\n",
      "in getitem feature: [0. 1.]\n",
      "in getitem label: [0 1]\n"
     ]
    },
    {
     "name": "stderr",
     "output_type": "stream",
     "text": [
      "/tmp/ipykernel_3001/3942127936.py:26: FutureWarning: `torch.cuda.amp.autocast(args...)` is deprecated. Please use `torch.amp.autocast('cuda', args...)` instead.\n",
      "  with torch.cuda.amp.autocast():\n",
      "/home/ubuntu/.local/lib/python3.10/site-packages/torch/autograd/graph.py:825: UserWarning: cuDNN SDPA backward got grad_output.strides() != output.strides(), attempting to materialize a grad_output with matching strides... (Triggered internally at /pytorch/aten/src/ATen/native/cudnn/MHA.cpp:674.)\n",
      "  return Variable._execution_engine.run_backward(  # Calls into the C++ engine to run the backward pass\n"
     ]
    },
    {
     "name": "stdout",
     "output_type": "stream",
     "text": [
      "computed batch 202\n",
      "Allocated: 10825.19 MB\n",
      "Reserved: 70902.00 MB\n",
      "Allocated: 10825.19 MB\n",
      "Reserved: 30956.00 MB\n",
      "in getitem feature: [0. 1.]\n",
      "in getitem label: [0 1]\n"
     ]
    },
    {
     "name": "stderr",
     "output_type": "stream",
     "text": [
      "/tmp/ipykernel_3001/3942127936.py:26: FutureWarning: `torch.cuda.amp.autocast(args...)` is deprecated. Please use `torch.amp.autocast('cuda', args...)` instead.\n",
      "  with torch.cuda.amp.autocast():\n",
      "/home/ubuntu/.local/lib/python3.10/site-packages/torch/autograd/graph.py:825: UserWarning: cuDNN SDPA backward got grad_output.strides() != output.strides(), attempting to materialize a grad_output with matching strides... (Triggered internally at /pytorch/aten/src/ATen/native/cudnn/MHA.cpp:674.)\n",
      "  return Variable._execution_engine.run_backward(  # Calls into the C++ engine to run the backward pass\n"
     ]
    },
    {
     "name": "stdout",
     "output_type": "stream",
     "text": [
      "computed batch 203\n",
      "Allocated: 10822.14 MB\n",
      "Reserved: 71854.00 MB\n",
      "Allocated: 10822.14 MB\n",
      "Reserved: 29816.00 MB\n",
      "in getitem feature: [0. 1.]\n",
      "in getitem label: [0 1]\n"
     ]
    },
    {
     "name": "stderr",
     "output_type": "stream",
     "text": [
      "/tmp/ipykernel_3001/3942127936.py:26: FutureWarning: `torch.cuda.amp.autocast(args...)` is deprecated. Please use `torch.amp.autocast('cuda', args...)` instead.\n",
      "  with torch.cuda.amp.autocast():\n",
      "/home/ubuntu/.local/lib/python3.10/site-packages/torch/autograd/graph.py:825: UserWarning: cuDNN SDPA backward got grad_output.strides() != output.strides(), attempting to materialize a grad_output with matching strides... (Triggered internally at /pytorch/aten/src/ATen/native/cudnn/MHA.cpp:674.)\n",
      "  return Variable._execution_engine.run_backward(  # Calls into the C++ engine to run the backward pass\n"
     ]
    },
    {
     "name": "stdout",
     "output_type": "stream",
     "text": [
      "computed batch 204\n",
      "Allocated: 10827.48 MB\n",
      "Reserved: 72360.00 MB\n",
      "Allocated: 10827.48 MB\n",
      "Reserved: 31714.00 MB\n",
      "in getitem feature: [0. 1.]\n",
      "in getitem label: [0 1]\n"
     ]
    },
    {
     "name": "stderr",
     "output_type": "stream",
     "text": [
      "/tmp/ipykernel_3001/3942127936.py:26: FutureWarning: `torch.cuda.amp.autocast(args...)` is deprecated. Please use `torch.amp.autocast('cuda', args...)` instead.\n",
      "  with torch.cuda.amp.autocast():\n",
      "/home/ubuntu/.local/lib/python3.10/site-packages/torch/autograd/graph.py:825: UserWarning: cuDNN SDPA backward got grad_output.strides() != output.strides(), attempting to materialize a grad_output with matching strides... (Triggered internally at /pytorch/aten/src/ATen/native/cudnn/MHA.cpp:674.)\n",
      "  return Variable._execution_engine.run_backward(  # Calls into the C++ engine to run the backward pass\n"
     ]
    },
    {
     "name": "stdout",
     "output_type": "stream",
     "text": [
      "computed batch 205\n",
      "Allocated: 10825.87 MB\n",
      "Reserved: 70648.00 MB\n",
      "Allocated: 10825.87 MB\n",
      "Reserved: 29184.00 MB\n",
      "in getitem feature: [0. 1.]\n",
      "in getitem label: [0 1]\n"
     ]
    },
    {
     "name": "stderr",
     "output_type": "stream",
     "text": [
      "/tmp/ipykernel_3001/3942127936.py:26: FutureWarning: `torch.cuda.amp.autocast(args...)` is deprecated. Please use `torch.amp.autocast('cuda', args...)` instead.\n",
      "  with torch.cuda.amp.autocast():\n",
      "/home/ubuntu/.local/lib/python3.10/site-packages/torch/autograd/graph.py:825: UserWarning: cuDNN SDPA backward got grad_output.strides() != output.strides(), attempting to materialize a grad_output with matching strides... (Triggered internally at /pytorch/aten/src/ATen/native/cudnn/MHA.cpp:674.)\n",
      "  return Variable._execution_engine.run_backward(  # Calls into the C++ engine to run the backward pass\n"
     ]
    },
    {
     "name": "stdout",
     "output_type": "stream",
     "text": [
      "computed batch 206\n",
      "Allocated: 10819.59 MB\n",
      "Reserved: 71664.00 MB\n",
      "Allocated: 10819.59 MB\n",
      "Reserved: 28550.00 MB\n",
      "in getitem feature: [0. 1.]\n",
      "in getitem label: [0 1]\n"
     ]
    },
    {
     "name": "stderr",
     "output_type": "stream",
     "text": [
      "/tmp/ipykernel_3001/3942127936.py:26: FutureWarning: `torch.cuda.amp.autocast(args...)` is deprecated. Please use `torch.amp.autocast('cuda', args...)` instead.\n",
      "  with torch.cuda.amp.autocast():\n",
      "/home/ubuntu/.local/lib/python3.10/site-packages/torch/autograd/graph.py:825: UserWarning: cuDNN SDPA backward got grad_output.strides() != output.strides(), attempting to materialize a grad_output with matching strides... (Triggered internally at /pytorch/aten/src/ATen/native/cudnn/MHA.cpp:674.)\n",
      "  return Variable._execution_engine.run_backward(  # Calls into the C++ engine to run the backward pass\n"
     ]
    },
    {
     "name": "stdout",
     "output_type": "stream",
     "text": [
      "computed batch 207\n",
      "Allocated: 10824.28 MB\n",
      "Reserved: 70650.00 MB\n",
      "Allocated: 10824.28 MB\n",
      "Reserved: 31588.00 MB\n",
      "in getitem feature: [0. 1.]\n",
      "in getitem label: [0 1]\n"
     ]
    },
    {
     "name": "stderr",
     "output_type": "stream",
     "text": [
      "/tmp/ipykernel_3001/3942127936.py:26: FutureWarning: `torch.cuda.amp.autocast(args...)` is deprecated. Please use `torch.amp.autocast('cuda', args...)` instead.\n",
      "  with torch.cuda.amp.autocast():\n",
      "/home/ubuntu/.local/lib/python3.10/site-packages/torch/autograd/graph.py:825: UserWarning: cuDNN SDPA backward got grad_output.strides() != output.strides(), attempting to materialize a grad_output with matching strides... (Triggered internally at /pytorch/aten/src/ATen/native/cudnn/MHA.cpp:674.)\n",
      "  return Variable._execution_engine.run_backward(  # Calls into the C++ engine to run the backward pass\n"
     ]
    },
    {
     "name": "stdout",
     "output_type": "stream",
     "text": [
      "computed batch 208\n",
      "Allocated: 10820.85 MB\n",
      "Reserved: 71662.00 MB\n",
      "Allocated: 10820.85 MB\n",
      "Reserved: 32224.00 MB\n",
      "in getitem feature: [0. 1.]\n",
      "in getitem label: [0 1]\n"
     ]
    },
    {
     "name": "stderr",
     "output_type": "stream",
     "text": [
      "/tmp/ipykernel_3001/3942127936.py:26: FutureWarning: `torch.cuda.amp.autocast(args...)` is deprecated. Please use `torch.amp.autocast('cuda', args...)` instead.\n",
      "  with torch.cuda.amp.autocast():\n",
      "/home/ubuntu/.local/lib/python3.10/site-packages/torch/autograd/graph.py:825: UserWarning: cuDNN SDPA backward got grad_output.strides() != output.strides(), attempting to materialize a grad_output with matching strides... (Triggered internally at /pytorch/aten/src/ATen/native/cudnn/MHA.cpp:674.)\n",
      "  return Variable._execution_engine.run_backward(  # Calls into the C++ engine to run the backward pass\n"
     ]
    },
    {
     "name": "stdout",
     "output_type": "stream",
     "text": [
      "computed batch 209\n",
      "Allocated: 10818.72 MB\n",
      "Reserved: 71284.00 MB\n",
      "Allocated: 10818.72 MB\n",
      "Reserved: 36904.00 MB\n",
      "in getitem feature: [0. 1.]\n",
      "in getitem label: [0 1]\n"
     ]
    },
    {
     "name": "stderr",
     "output_type": "stream",
     "text": [
      "/tmp/ipykernel_3001/3942127936.py:26: FutureWarning: `torch.cuda.amp.autocast(args...)` is deprecated. Please use `torch.amp.autocast('cuda', args...)` instead.\n",
      "  with torch.cuda.amp.autocast():\n",
      "/home/ubuntu/.local/lib/python3.10/site-packages/torch/autograd/graph.py:825: UserWarning: cuDNN SDPA backward got grad_output.strides() != output.strides(), attempting to materialize a grad_output with matching strides... (Triggered internally at /pytorch/aten/src/ATen/native/cudnn/MHA.cpp:674.)\n",
      "  return Variable._execution_engine.run_backward(  # Calls into the C++ engine to run the backward pass\n"
     ]
    },
    {
     "name": "stdout",
     "output_type": "stream",
     "text": [
      "computed batch 210\n",
      "Allocated: 10823.64 MB\n",
      "Reserved: 72102.00 MB\n",
      "Allocated: 10823.64 MB\n",
      "Reserved: 35130.00 MB\n",
      "in getitem feature: [0. 1.]\n",
      "in getitem label: [0 1]\n"
     ]
    },
    {
     "name": "stderr",
     "output_type": "stream",
     "text": [
      "/tmp/ipykernel_3001/3942127936.py:26: FutureWarning: `torch.cuda.amp.autocast(args...)` is deprecated. Please use `torch.amp.autocast('cuda', args...)` instead.\n",
      "  with torch.cuda.amp.autocast():\n",
      "/home/ubuntu/.local/lib/python3.10/site-packages/torch/autograd/graph.py:825: UserWarning: cuDNN SDPA backward got grad_output.strides() != output.strides(), attempting to materialize a grad_output with matching strides... (Triggered internally at /pytorch/aten/src/ATen/native/cudnn/MHA.cpp:674.)\n",
      "  return Variable._execution_engine.run_backward(  # Calls into the C++ engine to run the backward pass\n"
     ]
    },
    {
     "name": "stdout",
     "output_type": "stream",
     "text": [
      "computed batch 211\n",
      "Allocated: 10824.23 MB\n",
      "Reserved: 71660.00 MB\n",
      "Allocated: 10824.23 MB\n",
      "Reserved: 31778.00 MB\n",
      "in getitem feature: [0. 1.]\n",
      "in getitem label: [0 1]\n"
     ]
    },
    {
     "name": "stderr",
     "output_type": "stream",
     "text": [
      "/tmp/ipykernel_3001/3942127936.py:26: FutureWarning: `torch.cuda.amp.autocast(args...)` is deprecated. Please use `torch.amp.autocast('cuda', args...)` instead.\n",
      "  with torch.cuda.amp.autocast():\n",
      "/home/ubuntu/.local/lib/python3.10/site-packages/torch/autograd/graph.py:825: UserWarning: cuDNN SDPA backward got grad_output.strides() != output.strides(), attempting to materialize a grad_output with matching strides... (Triggered internally at /pytorch/aten/src/ATen/native/cudnn/MHA.cpp:674.)\n",
      "  return Variable._execution_engine.run_backward(  # Calls into the C++ engine to run the backward pass\n"
     ]
    },
    {
     "name": "stdout",
     "output_type": "stream",
     "text": [
      "computed batch 212\n",
      "Allocated: 10823.72 MB\n",
      "Reserved: 69066.00 MB\n",
      "Allocated: 10823.72 MB\n",
      "Reserved: 30328.00 MB\n",
      "in getitem feature: [0. 1.]\n",
      "in getitem label: [0 1]\n"
     ]
    },
    {
     "name": "stderr",
     "output_type": "stream",
     "text": [
      "/tmp/ipykernel_3001/3942127936.py:26: FutureWarning: `torch.cuda.amp.autocast(args...)` is deprecated. Please use `torch.amp.autocast('cuda', args...)` instead.\n",
      "  with torch.cuda.amp.autocast():\n",
      "/home/ubuntu/.local/lib/python3.10/site-packages/torch/autograd/graph.py:825: UserWarning: cuDNN SDPA backward got grad_output.strides() != output.strides(), attempting to materialize a grad_output with matching strides... (Triggered internally at /pytorch/aten/src/ATen/native/cudnn/MHA.cpp:674.)\n",
      "  return Variable._execution_engine.run_backward(  # Calls into the C++ engine to run the backward pass\n"
     ]
    },
    {
     "name": "stdout",
     "output_type": "stream",
     "text": [
      "computed batch 213\n",
      "Allocated: 10822.21 MB\n",
      "Reserved: 69640.00 MB\n",
      "Allocated: 10822.21 MB\n",
      "Reserved: 31338.00 MB\n",
      "in getitem feature: [0. 1.]\n",
      "in getitem label: [0 1]\n"
     ]
    },
    {
     "name": "stderr",
     "output_type": "stream",
     "text": [
      "/tmp/ipykernel_3001/3942127936.py:26: FutureWarning: `torch.cuda.amp.autocast(args...)` is deprecated. Please use `torch.amp.autocast('cuda', args...)` instead.\n",
      "  with torch.cuda.amp.autocast():\n",
      "/home/ubuntu/.local/lib/python3.10/site-packages/torch/autograd/graph.py:825: UserWarning: cuDNN SDPA backward got grad_output.strides() != output.strides(), attempting to materialize a grad_output with matching strides... (Triggered internally at /pytorch/aten/src/ATen/native/cudnn/MHA.cpp:674.)\n",
      "  return Variable._execution_engine.run_backward(  # Calls into the C++ engine to run the backward pass\n"
     ]
    },
    {
     "name": "stdout",
     "output_type": "stream",
     "text": [
      "computed batch 214\n",
      "Allocated: 10823.23 MB\n",
      "Reserved: 72298.00 MB\n",
      "Allocated: 10823.23 MB\n",
      "Reserved: 32350.00 MB\n",
      "in getitem feature: [0. 1.]\n",
      "in getitem label: [0 1]\n"
     ]
    },
    {
     "name": "stderr",
     "output_type": "stream",
     "text": [
      "/tmp/ipykernel_3001/3942127936.py:26: FutureWarning: `torch.cuda.amp.autocast(args...)` is deprecated. Please use `torch.amp.autocast('cuda', args...)` instead.\n",
      "  with torch.cuda.amp.autocast():\n",
      "/home/ubuntu/.local/lib/python3.10/site-packages/torch/autograd/graph.py:825: UserWarning: cuDNN SDPA backward got grad_output.strides() != output.strides(), attempting to materialize a grad_output with matching strides... (Triggered internally at /pytorch/aten/src/ATen/native/cudnn/MHA.cpp:674.)\n",
      "  return Variable._execution_engine.run_backward(  # Calls into the C++ engine to run the backward pass\n"
     ]
    },
    {
     "name": "stdout",
     "output_type": "stream",
     "text": [
      "computed batch 215\n",
      "Allocated: 10827.22 MB\n",
      "Reserved: 70776.00 MB\n",
      "Allocated: 10827.22 MB\n",
      "Reserved: 32350.00 MB\n",
      "in getitem feature: [0. 1.]\n",
      "in getitem label: [0 1]\n"
     ]
    },
    {
     "name": "stderr",
     "output_type": "stream",
     "text": [
      "/tmp/ipykernel_3001/3942127936.py:26: FutureWarning: `torch.cuda.amp.autocast(args...)` is deprecated. Please use `torch.amp.autocast('cuda', args...)` instead.\n",
      "  with torch.cuda.amp.autocast():\n",
      "/home/ubuntu/.local/lib/python3.10/site-packages/torch/autograd/graph.py:825: UserWarning: cuDNN SDPA backward got grad_output.strides() != output.strides(), attempting to materialize a grad_output with matching strides... (Triggered internally at /pytorch/aten/src/ATen/native/cudnn/MHA.cpp:674.)\n",
      "  return Variable._execution_engine.run_backward(  # Calls into the C++ engine to run the backward pass\n"
     ]
    },
    {
     "name": "stdout",
     "output_type": "stream",
     "text": [
      "computed batch 216\n",
      "Allocated: 10822.76 MB\n",
      "Reserved: 71094.00 MB\n",
      "Allocated: 10822.76 MB\n",
      "Reserved: 30320.00 MB\n",
      "in getitem feature: [0. 1.]\n",
      "in getitem label: [0 1]\n"
     ]
    },
    {
     "name": "stderr",
     "output_type": "stream",
     "text": [
      "/tmp/ipykernel_3001/3942127936.py:26: FutureWarning: `torch.cuda.amp.autocast(args...)` is deprecated. Please use `torch.amp.autocast('cuda', args...)` instead.\n",
      "  with torch.cuda.amp.autocast():\n",
      "/home/ubuntu/.local/lib/python3.10/site-packages/torch/autograd/graph.py:825: UserWarning: cuDNN SDPA backward got grad_output.strides() != output.strides(), attempting to materialize a grad_output with matching strides... (Triggered internally at /pytorch/aten/src/ATen/native/cudnn/MHA.cpp:674.)\n",
      "  return Variable._execution_engine.run_backward(  # Calls into the C++ engine to run the backward pass\n"
     ]
    },
    {
     "name": "stdout",
     "output_type": "stream",
     "text": [
      "computed batch 217\n",
      "Allocated: 10824.76 MB\n",
      "Reserved: 71726.00 MB\n",
      "Allocated: 10824.76 MB\n",
      "Reserved: 31716.00 MB\n",
      "in getitem feature: [0. 1.]\n",
      "in getitem label: [0 1]\n"
     ]
    },
    {
     "name": "stderr",
     "output_type": "stream",
     "text": [
      "/tmp/ipykernel_3001/3942127936.py:26: FutureWarning: `torch.cuda.amp.autocast(args...)` is deprecated. Please use `torch.amp.autocast('cuda', args...)` instead.\n",
      "  with torch.cuda.amp.autocast():\n",
      "/home/ubuntu/.local/lib/python3.10/site-packages/torch/autograd/graph.py:825: UserWarning: cuDNN SDPA backward got grad_output.strides() != output.strides(), attempting to materialize a grad_output with matching strides... (Triggered internally at /pytorch/aten/src/ATen/native/cudnn/MHA.cpp:674.)\n",
      "  return Variable._execution_engine.run_backward(  # Calls into the C++ engine to run the backward pass\n"
     ]
    },
    {
     "name": "stdout",
     "output_type": "stream",
     "text": [
      "computed batch 218\n",
      "Allocated: 10822.52 MB\n",
      "Reserved: 71730.00 MB\n",
      "Allocated: 10822.52 MB\n",
      "Reserved: 30328.00 MB\n",
      "in getitem feature: [0. 1.]\n",
      "in getitem label: [0 1]\n"
     ]
    },
    {
     "name": "stderr",
     "output_type": "stream",
     "text": [
      "/tmp/ipykernel_3001/3942127936.py:26: FutureWarning: `torch.cuda.amp.autocast(args...)` is deprecated. Please use `torch.amp.autocast('cuda', args...)` instead.\n",
      "  with torch.cuda.amp.autocast():\n",
      "/home/ubuntu/.local/lib/python3.10/site-packages/torch/autograd/graph.py:825: UserWarning: cuDNN SDPA backward got grad_output.strides() != output.strides(), attempting to materialize a grad_output with matching strides... (Triggered internally at /pytorch/aten/src/ATen/native/cudnn/MHA.cpp:674.)\n",
      "  return Variable._execution_engine.run_backward(  # Calls into the C++ engine to run the backward pass\n"
     ]
    },
    {
     "name": "stdout",
     "output_type": "stream",
     "text": [
      "computed batch 219\n",
      "Allocated: 10830.65 MB\n",
      "Reserved: 71286.00 MB\n",
      "Allocated: 10830.65 MB\n",
      "Reserved: 29692.00 MB\n",
      "in getitem feature: [0. 1.]\n",
      "in getitem label: [0 1]\n"
     ]
    },
    {
     "name": "stderr",
     "output_type": "stream",
     "text": [
      "/tmp/ipykernel_3001/3942127936.py:26: FutureWarning: `torch.cuda.amp.autocast(args...)` is deprecated. Please use `torch.amp.autocast('cuda', args...)` instead.\n",
      "  with torch.cuda.amp.autocast():\n",
      "/home/ubuntu/.local/lib/python3.10/site-packages/torch/autograd/graph.py:825: UserWarning: cuDNN SDPA backward got grad_output.strides() != output.strides(), attempting to materialize a grad_output with matching strides... (Triggered internally at /pytorch/aten/src/ATen/native/cudnn/MHA.cpp:674.)\n",
      "  return Variable._execution_engine.run_backward(  # Calls into the C++ engine to run the backward pass\n"
     ]
    },
    {
     "name": "stdout",
     "output_type": "stream",
     "text": [
      "computed batch 220\n",
      "Allocated: 10823.99 MB\n",
      "Reserved: 70842.00 MB\n",
      "Allocated: 10823.99 MB\n",
      "Reserved: 30008.00 MB\n",
      "in getitem feature: [0. 1.]\n",
      "in getitem label: [0 1]\n"
     ]
    },
    {
     "name": "stderr",
     "output_type": "stream",
     "text": [
      "/tmp/ipykernel_3001/3942127936.py:26: FutureWarning: `torch.cuda.amp.autocast(args...)` is deprecated. Please use `torch.amp.autocast('cuda', args...)` instead.\n",
      "  with torch.cuda.amp.autocast():\n",
      "/home/ubuntu/.local/lib/python3.10/site-packages/torch/autograd/graph.py:825: UserWarning: cuDNN SDPA backward got grad_output.strides() != output.strides(), attempting to materialize a grad_output with matching strides... (Triggered internally at /pytorch/aten/src/ATen/native/cudnn/MHA.cpp:674.)\n",
      "  return Variable._execution_engine.run_backward(  # Calls into the C++ engine to run the backward pass\n"
     ]
    },
    {
     "name": "stdout",
     "output_type": "stream",
     "text": [
      "computed batch 221\n",
      "Allocated: 10824.10 MB\n",
      "Reserved: 70968.00 MB\n",
      "Allocated: 10824.10 MB\n",
      "Reserved: 31462.00 MB\n",
      "in getitem feature: [0. 1.]\n",
      "in getitem label: [0 1]\n"
     ]
    },
    {
     "name": "stderr",
     "output_type": "stream",
     "text": [
      "/tmp/ipykernel_3001/3942127936.py:26: FutureWarning: `torch.cuda.amp.autocast(args...)` is deprecated. Please use `torch.amp.autocast('cuda', args...)` instead.\n",
      "  with torch.cuda.amp.autocast():\n",
      "/home/ubuntu/.local/lib/python3.10/site-packages/torch/autograd/graph.py:825: UserWarning: cuDNN SDPA backward got grad_output.strides() != output.strides(), attempting to materialize a grad_output with matching strides... (Triggered internally at /pytorch/aten/src/ATen/native/cudnn/MHA.cpp:674.)\n",
      "  return Variable._execution_engine.run_backward(  # Calls into the C++ engine to run the backward pass\n"
     ]
    },
    {
     "name": "stdout",
     "output_type": "stream",
     "text": [
      "computed batch 222\n",
      "Allocated: 10826.90 MB\n",
      "Reserved: 69764.00 MB\n",
      "Allocated: 10826.90 MB\n",
      "Reserved: 29438.00 MB\n",
      "in getitem feature: [0. 1.]\n",
      "in getitem label: [0 1]\n"
     ]
    },
    {
     "name": "stderr",
     "output_type": "stream",
     "text": [
      "/tmp/ipykernel_3001/3942127936.py:26: FutureWarning: `torch.cuda.amp.autocast(args...)` is deprecated. Please use `torch.amp.autocast('cuda', args...)` instead.\n",
      "  with torch.cuda.amp.autocast():\n",
      "/home/ubuntu/.local/lib/python3.10/site-packages/torch/autograd/graph.py:825: UserWarning: cuDNN SDPA backward got grad_output.strides() != output.strides(), attempting to materialize a grad_output with matching strides... (Triggered internally at /pytorch/aten/src/ATen/native/cudnn/MHA.cpp:674.)\n",
      "  return Variable._execution_engine.run_backward(  # Calls into the C++ engine to run the backward pass\n"
     ]
    },
    {
     "name": "stdout",
     "output_type": "stream",
     "text": [
      "computed batch 223\n",
      "Allocated: 10826.87 MB\n",
      "Reserved: 71350.00 MB\n",
      "Allocated: 10826.87 MB\n",
      "Reserved: 30322.00 MB\n",
      "in getitem feature: [0. 1.]\n",
      "in getitem label: [0 1]\n"
     ]
    },
    {
     "name": "stderr",
     "output_type": "stream",
     "text": [
      "/tmp/ipykernel_3001/3942127936.py:26: FutureWarning: `torch.cuda.amp.autocast(args...)` is deprecated. Please use `torch.amp.autocast('cuda', args...)` instead.\n",
      "  with torch.cuda.amp.autocast():\n",
      "/home/ubuntu/.local/lib/python3.10/site-packages/torch/autograd/graph.py:825: UserWarning: cuDNN SDPA backward got grad_output.strides() != output.strides(), attempting to materialize a grad_output with matching strides... (Triggered internally at /pytorch/aten/src/ATen/native/cudnn/MHA.cpp:674.)\n",
      "  return Variable._execution_engine.run_backward(  # Calls into the C++ engine to run the backward pass\n"
     ]
    },
    {
     "name": "stdout",
     "output_type": "stream",
     "text": [
      "computed batch 224\n",
      "Allocated: 10826.11 MB\n",
      "Reserved: 71282.00 MB\n",
      "Allocated: 10826.11 MB\n",
      "Reserved: 33314.00 MB\n",
      "in getitem feature: [0. 1.]\n",
      "in getitem label: [0 1]\n"
     ]
    },
    {
     "name": "stderr",
     "output_type": "stream",
     "text": [
      "/tmp/ipykernel_3001/3942127936.py:26: FutureWarning: `torch.cuda.amp.autocast(args...)` is deprecated. Please use `torch.amp.autocast('cuda', args...)` instead.\n",
      "  with torch.cuda.amp.autocast():\n",
      "/home/ubuntu/.local/lib/python3.10/site-packages/torch/autograd/graph.py:825: UserWarning: cuDNN SDPA backward got grad_output.strides() != output.strides(), attempting to materialize a grad_output with matching strides... (Triggered internally at /pytorch/aten/src/ATen/native/cudnn/MHA.cpp:674.)\n",
      "  return Variable._execution_engine.run_backward(  # Calls into the C++ engine to run the backward pass\n"
     ]
    },
    {
     "name": "stdout",
     "output_type": "stream",
     "text": [
      "computed batch 225\n",
      "Allocated: 10823.99 MB\n",
      "Reserved: 69840.00 MB\n",
      "Allocated: 10823.99 MB\n",
      "Reserved: 33950.00 MB\n",
      "in getitem feature: [0. 1.]\n",
      "in getitem label: [0 1]\n"
     ]
    },
    {
     "name": "stderr",
     "output_type": "stream",
     "text": [
      "/tmp/ipykernel_3001/3942127936.py:26: FutureWarning: `torch.cuda.amp.autocast(args...)` is deprecated. Please use `torch.amp.autocast('cuda', args...)` instead.\n",
      "  with torch.cuda.amp.autocast():\n",
      "/home/ubuntu/.local/lib/python3.10/site-packages/torch/autograd/graph.py:825: UserWarning: cuDNN SDPA backward got grad_output.strides() != output.strides(), attempting to materialize a grad_output with matching strides... (Triggered internally at /pytorch/aten/src/ATen/native/cudnn/MHA.cpp:674.)\n",
      "  return Variable._execution_engine.run_backward(  # Calls into the C++ engine to run the backward pass\n"
     ]
    },
    {
     "name": "stdout",
     "output_type": "stream",
     "text": [
      "computed batch 226\n",
      "Allocated: 10819.35 MB\n",
      "Reserved: 70980.00 MB\n",
      "Allocated: 10819.35 MB\n",
      "Reserved: 33314.00 MB\n",
      "in getitem feature: [0. 1.]\n",
      "in getitem label: [0 1]\n"
     ]
    },
    {
     "name": "stderr",
     "output_type": "stream",
     "text": [
      "/tmp/ipykernel_3001/3942127936.py:26: FutureWarning: `torch.cuda.amp.autocast(args...)` is deprecated. Please use `torch.amp.autocast('cuda', args...)` instead.\n",
      "  with torch.cuda.amp.autocast():\n",
      "/home/ubuntu/.local/lib/python3.10/site-packages/torch/autograd/graph.py:825: UserWarning: cuDNN SDPA backward got grad_output.strides() != output.strides(), attempting to materialize a grad_output with matching strides... (Triggered internally at /pytorch/aten/src/ATen/native/cudnn/MHA.cpp:674.)\n",
      "  return Variable._execution_engine.run_backward(  # Calls into the C++ engine to run the backward pass\n"
     ]
    },
    {
     "name": "stdout",
     "output_type": "stream",
     "text": [
      "computed batch 227\n",
      "Allocated: 10824.96 MB\n",
      "Reserved: 70728.00 MB\n",
      "Allocated: 10824.96 MB\n",
      "Reserved: 35336.00 MB\n",
      "in getitem feature: [0. 1.]\n",
      "in getitem label: [0 1]\n"
     ]
    },
    {
     "name": "stderr",
     "output_type": "stream",
     "text": [
      "/tmp/ipykernel_3001/3942127936.py:26: FutureWarning: `torch.cuda.amp.autocast(args...)` is deprecated. Please use `torch.amp.autocast('cuda', args...)` instead.\n",
      "  with torch.cuda.amp.autocast():\n",
      "/home/ubuntu/.local/lib/python3.10/site-packages/torch/autograd/graph.py:825: UserWarning: cuDNN SDPA backward got grad_output.strides() != output.strides(), attempting to materialize a grad_output with matching strides... (Triggered internally at /pytorch/aten/src/ATen/native/cudnn/MHA.cpp:674.)\n",
      "  return Variable._execution_engine.run_backward(  # Calls into the C++ engine to run the backward pass\n"
     ]
    },
    {
     "name": "stdout",
     "output_type": "stream",
     "text": [
      "computed batch 228\n",
      "Allocated: 10826.66 MB\n",
      "Reserved: 72878.00 MB\n",
      "Allocated: 10826.66 MB\n",
      "Reserved: 35338.00 MB\n",
      "in getitem feature: [0. 1.]\n",
      "in getitem label: [0 1]\n"
     ]
    },
    {
     "name": "stderr",
     "output_type": "stream",
     "text": [
      "/tmp/ipykernel_3001/3942127936.py:26: FutureWarning: `torch.cuda.amp.autocast(args...)` is deprecated. Please use `torch.amp.autocast('cuda', args...)` instead.\n",
      "  with torch.cuda.amp.autocast():\n",
      "/home/ubuntu/.local/lib/python3.10/site-packages/torch/autograd/graph.py:825: UserWarning: cuDNN SDPA backward got grad_output.strides() != output.strides(), attempting to materialize a grad_output with matching strides... (Triggered internally at /pytorch/aten/src/ATen/native/cudnn/MHA.cpp:674.)\n",
      "  return Variable._execution_engine.run_backward(  # Calls into the C++ engine to run the backward pass\n"
     ]
    },
    {
     "name": "stdout",
     "output_type": "stream",
     "text": [
      "computed batch 229\n",
      "Allocated: 10823.70 MB\n",
      "Reserved: 72438.00 MB\n",
      "Allocated: 10823.70 MB\n",
      "Reserved: 30972.00 MB\n",
      "in getitem feature: [0. 1.]\n",
      "in getitem label: [0 1]\n"
     ]
    },
    {
     "name": "stderr",
     "output_type": "stream",
     "text": [
      "/tmp/ipykernel_3001/3942127936.py:26: FutureWarning: `torch.cuda.amp.autocast(args...)` is deprecated. Please use `torch.amp.autocast('cuda', args...)` instead.\n",
      "  with torch.cuda.amp.autocast():\n",
      "/home/ubuntu/.local/lib/python3.10/site-packages/torch/autograd/graph.py:825: UserWarning: cuDNN SDPA backward got grad_output.strides() != output.strides(), attempting to materialize a grad_output with matching strides... (Triggered internally at /pytorch/aten/src/ATen/native/cudnn/MHA.cpp:674.)\n",
      "  return Variable._execution_engine.run_backward(  # Calls into the C++ engine to run the backward pass\n"
     ]
    },
    {
     "name": "stdout",
     "output_type": "stream",
     "text": [
      "computed batch 230\n",
      "Allocated: 10821.62 MB\n",
      "Reserved: 70918.00 MB\n",
      "Allocated: 10821.62 MB\n",
      "Reserved: 32236.00 MB\n",
      "in getitem feature: [0. 1.]\n",
      "in getitem label: [0 1]\n"
     ]
    },
    {
     "name": "stderr",
     "output_type": "stream",
     "text": [
      "/tmp/ipykernel_3001/3942127936.py:26: FutureWarning: `torch.cuda.amp.autocast(args...)` is deprecated. Please use `torch.amp.autocast('cuda', args...)` instead.\n",
      "  with torch.cuda.amp.autocast():\n",
      "/home/ubuntu/.local/lib/python3.10/site-packages/torch/autograd/graph.py:825: UserWarning: cuDNN SDPA backward got grad_output.strides() != output.strides(), attempting to materialize a grad_output with matching strides... (Triggered internally at /pytorch/aten/src/ATen/native/cudnn/MHA.cpp:674.)\n",
      "  return Variable._execution_engine.run_backward(  # Calls into the C++ engine to run the backward pass\n"
     ]
    },
    {
     "name": "stdout",
     "output_type": "stream",
     "text": [
      "computed batch 231\n",
      "Allocated: 10823.16 MB\n",
      "Reserved: 70664.00 MB\n",
      "Allocated: 10823.16 MB\n",
      "Reserved: 31158.00 MB\n",
      "in getitem feature: [0. 1.]\n",
      "in getitem label: [0 1]\n"
     ]
    },
    {
     "name": "stderr",
     "output_type": "stream",
     "text": [
      "/tmp/ipykernel_3001/3942127936.py:26: FutureWarning: `torch.cuda.amp.autocast(args...)` is deprecated. Please use `torch.amp.autocast('cuda', args...)` instead.\n",
      "  with torch.cuda.amp.autocast():\n",
      "/home/ubuntu/.local/lib/python3.10/site-packages/torch/autograd/graph.py:825: UserWarning: cuDNN SDPA backward got grad_output.strides() != output.strides(), attempting to materialize a grad_output with matching strides... (Triggered internally at /pytorch/aten/src/ATen/native/cudnn/MHA.cpp:674.)\n",
      "  return Variable._execution_engine.run_backward(  # Calls into the C++ engine to run the backward pass\n"
     ]
    },
    {
     "name": "stdout",
     "output_type": "stream",
     "text": [
      "computed batch 232\n",
      "Allocated: 10826.73 MB\n",
      "Reserved: 70472.00 MB\n",
      "Allocated: 10826.73 MB\n",
      "Reserved: 29958.00 MB\n",
      "in getitem feature: [0. 1.]\n",
      "in getitem label: [0 1]\n"
     ]
    },
    {
     "name": "stderr",
     "output_type": "stream",
     "text": [
      "/tmp/ipykernel_3001/3942127936.py:26: FutureWarning: `torch.cuda.amp.autocast(args...)` is deprecated. Please use `torch.amp.autocast('cuda', args...)` instead.\n",
      "  with torch.cuda.amp.autocast():\n",
      "/home/ubuntu/.local/lib/python3.10/site-packages/torch/autograd/graph.py:825: UserWarning: cuDNN SDPA backward got grad_output.strides() != output.strides(), attempting to materialize a grad_output with matching strides... (Triggered internally at /pytorch/aten/src/ATen/native/cudnn/MHA.cpp:674.)\n",
      "  return Variable._execution_engine.run_backward(  # Calls into the C++ engine to run the backward pass\n"
     ]
    },
    {
     "name": "stdout",
     "output_type": "stream",
     "text": [
      "computed batch 233\n",
      "Allocated: 10827.36 MB\n",
      "Reserved: 70916.00 MB\n",
      "Allocated: 10827.36 MB\n",
      "Reserved: 30906.00 MB\n",
      "in getitem feature: [0. 1.]\n",
      "in getitem label: [0 1]\n"
     ]
    },
    {
     "name": "stderr",
     "output_type": "stream",
     "text": [
      "/tmp/ipykernel_3001/3942127936.py:26: FutureWarning: `torch.cuda.amp.autocast(args...)` is deprecated. Please use `torch.amp.autocast('cuda', args...)` instead.\n",
      "  with torch.cuda.amp.autocast():\n",
      "/home/ubuntu/.local/lib/python3.10/site-packages/torch/autograd/graph.py:825: UserWarning: cuDNN SDPA backward got grad_output.strides() != output.strides(), attempting to materialize a grad_output with matching strides... (Triggered internally at /pytorch/aten/src/ATen/native/cudnn/MHA.cpp:674.)\n",
      "  return Variable._execution_engine.run_backward(  # Calls into the C++ engine to run the backward pass\n"
     ]
    },
    {
     "name": "stdout",
     "output_type": "stream",
     "text": [
      "computed batch 234\n",
      "Allocated: 10829.77 MB\n",
      "Reserved: 70726.00 MB\n",
      "Allocated: 10829.77 MB\n",
      "Reserved: 36984.00 MB\n",
      "in getitem feature: [0. 1.]\n",
      "in getitem label: [0 1]\n"
     ]
    },
    {
     "name": "stderr",
     "output_type": "stream",
     "text": [
      "/tmp/ipykernel_3001/3942127936.py:26: FutureWarning: `torch.cuda.amp.autocast(args...)` is deprecated. Please use `torch.amp.autocast('cuda', args...)` instead.\n",
      "  with torch.cuda.amp.autocast():\n",
      "/home/ubuntu/.local/lib/python3.10/site-packages/torch/autograd/graph.py:825: UserWarning: cuDNN SDPA backward got grad_output.strides() != output.strides(), attempting to materialize a grad_output with matching strides... (Triggered internally at /pytorch/aten/src/ATen/native/cudnn/MHA.cpp:674.)\n",
      "  return Variable._execution_engine.run_backward(  # Calls into the C++ engine to run the backward pass\n"
     ]
    },
    {
     "name": "stdout",
     "output_type": "stream",
     "text": [
      "computed batch 235\n",
      "Allocated: 10822.66 MB\n",
      "Reserved: 70342.00 MB\n",
      "Allocated: 10822.66 MB\n",
      "Reserved: 30148.00 MB\n",
      "in getitem feature: [0. 1.]\n",
      "in getitem label: [0 1]\n"
     ]
    },
    {
     "name": "stderr",
     "output_type": "stream",
     "text": [
      "/tmp/ipykernel_3001/3942127936.py:26: FutureWarning: `torch.cuda.amp.autocast(args...)` is deprecated. Please use `torch.amp.autocast('cuda', args...)` instead.\n",
      "  with torch.cuda.amp.autocast():\n",
      "/home/ubuntu/.local/lib/python3.10/site-packages/torch/autograd/graph.py:825: UserWarning: cuDNN SDPA backward got grad_output.strides() != output.strides(), attempting to materialize a grad_output with matching strides... (Triggered internally at /pytorch/aten/src/ATen/native/cudnn/MHA.cpp:674.)\n",
      "  return Variable._execution_engine.run_backward(  # Calls into the C++ engine to run the backward pass\n"
     ]
    },
    {
     "name": "stdout",
     "output_type": "stream",
     "text": [
      "computed batch 236\n",
      "Allocated: 10819.18 MB\n",
      "Reserved: 72058.00 MB\n",
      "Allocated: 10819.18 MB\n",
      "Reserved: 29516.00 MB\n",
      "in getitem feature: [0. 1.]\n",
      "in getitem label: [0 1]\n"
     ]
    },
    {
     "name": "stderr",
     "output_type": "stream",
     "text": [
      "/tmp/ipykernel_3001/3942127936.py:26: FutureWarning: `torch.cuda.amp.autocast(args...)` is deprecated. Please use `torch.amp.autocast('cuda', args...)` instead.\n",
      "  with torch.cuda.amp.autocast():\n",
      "/home/ubuntu/.local/lib/python3.10/site-packages/torch/autograd/graph.py:825: UserWarning: cuDNN SDPA backward got grad_output.strides() != output.strides(), attempting to materialize a grad_output with matching strides... (Triggered internally at /pytorch/aten/src/ATen/native/cudnn/MHA.cpp:674.)\n",
      "  return Variable._execution_engine.run_backward(  # Calls into the C++ engine to run the backward pass\n"
     ]
    },
    {
     "name": "stdout",
     "output_type": "stream",
     "text": [
      "computed batch 237\n",
      "Allocated: 10822.84 MB\n",
      "Reserved: 70602.00 MB\n",
      "Allocated: 10822.84 MB\n",
      "Reserved: 29642.00 MB\n",
      "in getitem feature: [0. 1.]\n",
      "in getitem label: [0 1]\n"
     ]
    },
    {
     "name": "stderr",
     "output_type": "stream",
     "text": [
      "/tmp/ipykernel_3001/3942127936.py:26: FutureWarning: `torch.cuda.amp.autocast(args...)` is deprecated. Please use `torch.amp.autocast('cuda', args...)` instead.\n",
      "  with torch.cuda.amp.autocast():\n",
      "/home/ubuntu/.local/lib/python3.10/site-packages/torch/autograd/graph.py:825: UserWarning: cuDNN SDPA backward got grad_output.strides() != output.strides(), attempting to materialize a grad_output with matching strides... (Triggered internally at /pytorch/aten/src/ATen/native/cudnn/MHA.cpp:674.)\n",
      "  return Variable._execution_engine.run_backward(  # Calls into the C++ engine to run the backward pass\n"
     ]
    },
    {
     "name": "stdout",
     "output_type": "stream",
     "text": [
      "computed batch 238\n",
      "Allocated: 10822.46 MB\n",
      "Reserved: 70096.00 MB\n",
      "Allocated: 10822.46 MB\n",
      "Reserved: 30150.00 MB\n",
      "in getitem feature: [0. 1.]\n",
      "in getitem label: [0 1]\n"
     ]
    },
    {
     "name": "stderr",
     "output_type": "stream",
     "text": [
      "/tmp/ipykernel_3001/3942127936.py:26: FutureWarning: `torch.cuda.amp.autocast(args...)` is deprecated. Please use `torch.amp.autocast('cuda', args...)` instead.\n",
      "  with torch.cuda.amp.autocast():\n",
      "/home/ubuntu/.local/lib/python3.10/site-packages/torch/autograd/graph.py:825: UserWarning: cuDNN SDPA backward got grad_output.strides() != output.strides(), attempting to materialize a grad_output with matching strides... (Triggered internally at /pytorch/aten/src/ATen/native/cudnn/MHA.cpp:674.)\n",
      "  return Variable._execution_engine.run_backward(  # Calls into the C++ engine to run the backward pass\n"
     ]
    },
    {
     "name": "stdout",
     "output_type": "stream",
     "text": [
      "computed batch 239\n",
      "Allocated: 10824.03 MB\n",
      "Reserved: 70032.00 MB\n",
      "Allocated: 10824.03 MB\n",
      "Reserved: 30656.00 MB\n",
      "in getitem feature: [0. 1.]\n",
      "in getitem label: [0 1]\n"
     ]
    },
    {
     "name": "stderr",
     "output_type": "stream",
     "text": [
      "/tmp/ipykernel_3001/3942127936.py:26: FutureWarning: `torch.cuda.amp.autocast(args...)` is deprecated. Please use `torch.amp.autocast('cuda', args...)` instead.\n",
      "  with torch.cuda.amp.autocast():\n",
      "/home/ubuntu/.local/lib/python3.10/site-packages/torch/autograd/graph.py:825: UserWarning: cuDNN SDPA backward got grad_output.strides() != output.strides(), attempting to materialize a grad_output with matching strides... (Triggered internally at /pytorch/aten/src/ATen/native/cudnn/MHA.cpp:674.)\n",
      "  return Variable._execution_engine.run_backward(  # Calls into the C++ engine to run the backward pass\n"
     ]
    },
    {
     "name": "stdout",
     "output_type": "stream",
     "text": [
      "computed batch 240\n",
      "Allocated: 10828.15 MB\n",
      "Reserved: 70728.00 MB\n",
      "Allocated: 10828.15 MB\n",
      "Reserved: 35848.00 MB\n",
      "in getitem feature: [0. 1.]\n",
      "in getitem label: [0 1]\n"
     ]
    },
    {
     "name": "stderr",
     "output_type": "stream",
     "text": [
      "/tmp/ipykernel_3001/3942127936.py:26: FutureWarning: `torch.cuda.amp.autocast(args...)` is deprecated. Please use `torch.amp.autocast('cuda', args...)` instead.\n",
      "  with torch.cuda.amp.autocast():\n",
      "/home/ubuntu/.local/lib/python3.10/site-packages/torch/autograd/graph.py:825: UserWarning: cuDNN SDPA backward got grad_output.strides() != output.strides(), attempting to materialize a grad_output with matching strides... (Triggered internally at /pytorch/aten/src/ATen/native/cudnn/MHA.cpp:674.)\n",
      "  return Variable._execution_engine.run_backward(  # Calls into the C++ engine to run the backward pass\n"
     ]
    },
    {
     "name": "stdout",
     "output_type": "stream",
     "text": [
      "computed batch 241\n",
      "Allocated: 10818.52 MB\n",
      "Reserved: 71488.00 MB\n",
      "Allocated: 10818.52 MB\n",
      "Reserved: 34328.00 MB\n",
      "in getitem feature: [0. 1.]\n",
      "in getitem label: [0 1]\n"
     ]
    },
    {
     "name": "stderr",
     "output_type": "stream",
     "text": [
      "/tmp/ipykernel_3001/3942127936.py:26: FutureWarning: `torch.cuda.amp.autocast(args...)` is deprecated. Please use `torch.amp.autocast('cuda', args...)` instead.\n",
      "  with torch.cuda.amp.autocast():\n",
      "/home/ubuntu/.local/lib/python3.10/site-packages/torch/autograd/graph.py:825: UserWarning: cuDNN SDPA backward got grad_output.strides() != output.strides(), attempting to materialize a grad_output with matching strides... (Triggered internally at /pytorch/aten/src/ATen/native/cudnn/MHA.cpp:674.)\n",
      "  return Variable._execution_engine.run_backward(  # Calls into the C++ engine to run the backward pass\n"
     ]
    },
    {
     "name": "stdout",
     "output_type": "stream",
     "text": [
      "computed batch 242\n",
      "Allocated: 10827.94 MB\n",
      "Reserved: 71552.00 MB\n",
      "Allocated: 10827.94 MB\n",
      "Reserved: 30276.00 MB\n",
      "in getitem feature: [0. 1.]\n",
      "in getitem label: [0 1]\n"
     ]
    },
    {
     "name": "stderr",
     "output_type": "stream",
     "text": [
      "/tmp/ipykernel_3001/3942127936.py:26: FutureWarning: `torch.cuda.amp.autocast(args...)` is deprecated. Please use `torch.amp.autocast('cuda', args...)` instead.\n",
      "  with torch.cuda.amp.autocast():\n",
      "/home/ubuntu/.local/lib/python3.10/site-packages/torch/autograd/graph.py:825: UserWarning: cuDNN SDPA backward got grad_output.strides() != output.strides(), attempting to materialize a grad_output with matching strides... (Triggered internally at /pytorch/aten/src/ATen/native/cudnn/MHA.cpp:674.)\n",
      "  return Variable._execution_engine.run_backward(  # Calls into the C++ engine to run the backward pass\n"
     ]
    },
    {
     "name": "stdout",
     "output_type": "stream",
     "text": [
      "computed batch 243\n",
      "Allocated: 10833.36 MB\n",
      "Reserved: 71236.00 MB\n",
      "Allocated: 10833.36 MB\n",
      "Reserved: 28630.00 MB\n",
      "in getitem feature: [0. 1.]\n",
      "in getitem label: [0 1]\n"
     ]
    },
    {
     "name": "stderr",
     "output_type": "stream",
     "text": [
      "/tmp/ipykernel_3001/3942127936.py:26: FutureWarning: `torch.cuda.amp.autocast(args...)` is deprecated. Please use `torch.amp.autocast('cuda', args...)` instead.\n",
      "  with torch.cuda.amp.autocast():\n",
      "/home/ubuntu/.local/lib/python3.10/site-packages/torch/autograd/graph.py:825: UserWarning: cuDNN SDPA backward got grad_output.strides() != output.strides(), attempting to materialize a grad_output with matching strides... (Triggered internally at /pytorch/aten/src/ATen/native/cudnn/MHA.cpp:674.)\n",
      "  return Variable._execution_engine.run_backward(  # Calls into the C++ engine to run the backward pass\n"
     ]
    },
    {
     "name": "stdout",
     "output_type": "stream",
     "text": [
      "computed batch 244\n",
      "Allocated: 10825.89 MB\n",
      "Reserved: 71110.00 MB\n",
      "Allocated: 10825.89 MB\n",
      "Reserved: 30656.00 MB\n",
      "in getitem feature: [0. 1.]\n",
      "in getitem label: [0 1]\n"
     ]
    },
    {
     "name": "stderr",
     "output_type": "stream",
     "text": [
      "/tmp/ipykernel_3001/3942127936.py:26: FutureWarning: `torch.cuda.amp.autocast(args...)` is deprecated. Please use `torch.amp.autocast('cuda', args...)` instead.\n",
      "  with torch.cuda.amp.autocast():\n",
      "/home/ubuntu/.local/lib/python3.10/site-packages/torch/autograd/graph.py:825: UserWarning: cuDNN SDPA backward got grad_output.strides() != output.strides(), attempting to materialize a grad_output with matching strides... (Triggered internally at /pytorch/aten/src/ATen/native/cudnn/MHA.cpp:674.)\n",
      "  return Variable._execution_engine.run_backward(  # Calls into the C++ engine to run the backward pass\n"
     ]
    },
    {
     "name": "stdout",
     "output_type": "stream",
     "text": [
      "computed batch 245\n",
      "Allocated: 10827.77 MB\n",
      "Reserved: 69712.00 MB\n",
      "Allocated: 10827.77 MB\n",
      "Reserved: 30530.00 MB\n",
      "in getitem feature: [0. 1.]\n",
      "in getitem label: [0 1]\n"
     ]
    },
    {
     "name": "stderr",
     "output_type": "stream",
     "text": [
      "/tmp/ipykernel_3001/3942127936.py:26: FutureWarning: `torch.cuda.amp.autocast(args...)` is deprecated. Please use `torch.amp.autocast('cuda', args...)` instead.\n",
      "  with torch.cuda.amp.autocast():\n",
      "/home/ubuntu/.local/lib/python3.10/site-packages/torch/autograd/graph.py:825: UserWarning: cuDNN SDPA backward got grad_output.strides() != output.strides(), attempting to materialize a grad_output with matching strides... (Triggered internally at /pytorch/aten/src/ATen/native/cudnn/MHA.cpp:674.)\n",
      "  return Variable._execution_engine.run_backward(  # Calls into the C++ engine to run the backward pass\n"
     ]
    },
    {
     "name": "stdout",
     "output_type": "stream",
     "text": [
      "computed batch 246\n",
      "Allocated: 10826.95 MB\n",
      "Reserved: 70160.00 MB\n",
      "Allocated: 10826.95 MB\n",
      "Reserved: 29388.00 MB\n",
      "in getitem feature: [0. 1.]\n",
      "in getitem label: [0 1]\n"
     ]
    },
    {
     "name": "stderr",
     "output_type": "stream",
     "text": [
      "/tmp/ipykernel_3001/3942127936.py:26: FutureWarning: `torch.cuda.amp.autocast(args...)` is deprecated. Please use `torch.amp.autocast('cuda', args...)` instead.\n",
      "  with torch.cuda.amp.autocast():\n",
      "/home/ubuntu/.local/lib/python3.10/site-packages/torch/autograd/graph.py:825: UserWarning: cuDNN SDPA backward got grad_output.strides() != output.strides(), attempting to materialize a grad_output with matching strides... (Triggered internally at /pytorch/aten/src/ATen/native/cudnn/MHA.cpp:674.)\n",
      "  return Variable._execution_engine.run_backward(  # Calls into the C++ engine to run the backward pass\n"
     ]
    },
    {
     "name": "stdout",
     "output_type": "stream",
     "text": [
      "computed batch 247\n",
      "Allocated: 10826.95 MB\n",
      "Reserved: 70476.00 MB\n",
      "Allocated: 10826.95 MB\n",
      "Reserved: 33632.00 MB\n",
      "in getitem feature: [0. 1.]\n",
      "in getitem label: [0 1]\n"
     ]
    },
    {
     "name": "stderr",
     "output_type": "stream",
     "text": [
      "/tmp/ipykernel_3001/3942127936.py:26: FutureWarning: `torch.cuda.amp.autocast(args...)` is deprecated. Please use `torch.amp.autocast('cuda', args...)` instead.\n",
      "  with torch.cuda.amp.autocast():\n",
      "/home/ubuntu/.local/lib/python3.10/site-packages/torch/autograd/graph.py:825: UserWarning: cuDNN SDPA backward got grad_output.strides() != output.strides(), attempting to materialize a grad_output with matching strides... (Triggered internally at /pytorch/aten/src/ATen/native/cudnn/MHA.cpp:674.)\n",
      "  return Variable._execution_engine.run_backward(  # Calls into the C++ engine to run the backward pass\n"
     ]
    },
    {
     "name": "stdout",
     "output_type": "stream",
     "text": [
      "computed batch 248\n",
      "Allocated: 10821.15 MB\n",
      "Reserved: 70542.00 MB\n",
      "Allocated: 10821.15 MB\n",
      "Reserved: 34644.00 MB\n",
      "in getitem feature: [0. 1.]\n",
      "in getitem label: [0 1]\n"
     ]
    },
    {
     "name": "stderr",
     "output_type": "stream",
     "text": [
      "/tmp/ipykernel_3001/3942127936.py:26: FutureWarning: `torch.cuda.amp.autocast(args...)` is deprecated. Please use `torch.amp.autocast('cuda', args...)` instead.\n",
      "  with torch.cuda.amp.autocast():\n",
      "/home/ubuntu/.local/lib/python3.10/site-packages/torch/autograd/graph.py:825: UserWarning: cuDNN SDPA backward got grad_output.strides() != output.strides(), attempting to materialize a grad_output with matching strides... (Triggered internally at /pytorch/aten/src/ATen/native/cudnn/MHA.cpp:674.)\n",
      "  return Variable._execution_engine.run_backward(  # Calls into the C++ engine to run the backward pass\n"
     ]
    },
    {
     "name": "stdout",
     "output_type": "stream",
     "text": [
      "computed batch 249\n",
      "Allocated: 10825.12 MB\n",
      "Reserved: 72628.00 MB\n",
      "Allocated: 10825.12 MB\n",
      "Reserved: 36606.00 MB\n",
      "in getitem feature: [0. 1.]\n",
      "in getitem label: [0 1]\n"
     ]
    },
    {
     "name": "stderr",
     "output_type": "stream",
     "text": [
      "/tmp/ipykernel_3001/3942127936.py:26: FutureWarning: `torch.cuda.amp.autocast(args...)` is deprecated. Please use `torch.amp.autocast('cuda', args...)` instead.\n",
      "  with torch.cuda.amp.autocast():\n",
      "/home/ubuntu/.local/lib/python3.10/site-packages/torch/autograd/graph.py:825: UserWarning: cuDNN SDPA backward got grad_output.strides() != output.strides(), attempting to materialize a grad_output with matching strides... (Triggered internally at /pytorch/aten/src/ATen/native/cudnn/MHA.cpp:674.)\n",
      "  return Variable._execution_engine.run_backward(  # Calls into the C++ engine to run the backward pass\n"
     ]
    },
    {
     "name": "stdout",
     "output_type": "stream",
     "text": [
      "computed batch 250\n",
      "Allocated: 10825.17 MB\n",
      "Reserved: 72062.00 MB\n",
      "Allocated: 10825.17 MB\n",
      "Reserved: 32962.00 MB\n",
      "in getitem feature: [0. 1.]\n",
      "in getitem label: [0 1]\n"
     ]
    },
    {
     "name": "stderr",
     "output_type": "stream",
     "text": [
      "/tmp/ipykernel_3001/3942127936.py:26: FutureWarning: `torch.cuda.amp.autocast(args...)` is deprecated. Please use `torch.amp.autocast('cuda', args...)` instead.\n",
      "  with torch.cuda.amp.autocast():\n",
      "/home/ubuntu/.local/lib/python3.10/site-packages/torch/autograd/graph.py:825: UserWarning: cuDNN SDPA backward got grad_output.strides() != output.strides(), attempting to materialize a grad_output with matching strides... (Triggered internally at /pytorch/aten/src/ATen/native/cudnn/MHA.cpp:674.)\n",
      "  return Variable._execution_engine.run_backward(  # Calls into the C++ engine to run the backward pass\n"
     ]
    },
    {
     "name": "stdout",
     "output_type": "stream",
     "text": [
      "computed batch 251\n",
      "Allocated: 10826.08 MB\n",
      "Reserved: 70758.00 MB\n",
      "Allocated: 10826.08 MB\n",
      "Reserved: 29040.00 MB\n",
      "in getitem feature: [0. 1.]\n",
      "in getitem label: [0 1]\n"
     ]
    },
    {
     "name": "stderr",
     "output_type": "stream",
     "text": [
      "/tmp/ipykernel_3001/3942127936.py:26: FutureWarning: `torch.cuda.amp.autocast(args...)` is deprecated. Please use `torch.amp.autocast('cuda', args...)` instead.\n",
      "  with torch.cuda.amp.autocast():\n",
      "/home/ubuntu/.local/lib/python3.10/site-packages/torch/autograd/graph.py:825: UserWarning: cuDNN SDPA backward got grad_output.strides() != output.strides(), attempting to materialize a grad_output with matching strides... (Triggered internally at /pytorch/aten/src/ATen/native/cudnn/MHA.cpp:674.)\n",
      "  return Variable._execution_engine.run_backward(  # Calls into the C++ engine to run the backward pass\n"
     ]
    },
    {
     "name": "stdout",
     "output_type": "stream",
     "text": [
      "computed batch 252\n",
      "Allocated: 10823.65 MB\n",
      "Reserved: 71330.00 MB\n",
      "Allocated: 10823.65 MB\n",
      "Reserved: 32394.00 MB\n",
      "in getitem feature: [0. 1.]\n",
      "in getitem label: [0 1]\n"
     ]
    },
    {
     "name": "stderr",
     "output_type": "stream",
     "text": [
      "/tmp/ipykernel_3001/3942127936.py:26: FutureWarning: `torch.cuda.amp.autocast(args...)` is deprecated. Please use `torch.amp.autocast('cuda', args...)` instead.\n",
      "  with torch.cuda.amp.autocast():\n",
      "/home/ubuntu/.local/lib/python3.10/site-packages/torch/autograd/graph.py:825: UserWarning: cuDNN SDPA backward got grad_output.strides() != output.strides(), attempting to materialize a grad_output with matching strides... (Triggered internally at /pytorch/aten/src/ATen/native/cudnn/MHA.cpp:674.)\n",
      "  return Variable._execution_engine.run_backward(  # Calls into the C++ engine to run the backward pass\n"
     ]
    },
    {
     "name": "stdout",
     "output_type": "stream",
     "text": [
      "computed batch 253\n",
      "Allocated: 10819.76 MB\n",
      "Reserved: 71202.00 MB\n",
      "Allocated: 10819.76 MB\n",
      "Reserved: 36382.00 MB\n",
      "in getitem feature: [0. 1.]\n",
      "in getitem label: [0 1]\n"
     ]
    },
    {
     "name": "stderr",
     "output_type": "stream",
     "text": [
      "/tmp/ipykernel_3001/3942127936.py:26: FutureWarning: `torch.cuda.amp.autocast(args...)` is deprecated. Please use `torch.amp.autocast('cuda', args...)` instead.\n",
      "  with torch.cuda.amp.autocast():\n",
      "/home/ubuntu/.local/lib/python3.10/site-packages/torch/autograd/graph.py:825: UserWarning: cuDNN SDPA backward got grad_output.strides() != output.strides(), attempting to materialize a grad_output with matching strides... (Triggered internally at /pytorch/aten/src/ATen/native/cudnn/MHA.cpp:674.)\n",
      "  return Variable._execution_engine.run_backward(  # Calls into the C++ engine to run the backward pass\n"
     ]
    },
    {
     "name": "stdout",
     "output_type": "stream",
     "text": [
      "computed batch 254\n",
      "Allocated: 10823.32 MB\n",
      "Reserved: 71898.00 MB\n",
      "Allocated: 10823.32 MB\n",
      "Reserved: 33470.00 MB\n",
      "in getitem feature: [0. 1.]\n",
      "in getitem label: [0 1]\n"
     ]
    },
    {
     "name": "stderr",
     "output_type": "stream",
     "text": [
      "/tmp/ipykernel_3001/3942127936.py:26: FutureWarning: `torch.cuda.amp.autocast(args...)` is deprecated. Please use `torch.amp.autocast('cuda', args...)` instead.\n",
      "  with torch.cuda.amp.autocast():\n",
      "/home/ubuntu/.local/lib/python3.10/site-packages/torch/autograd/graph.py:825: UserWarning: cuDNN SDPA backward got grad_output.strides() != output.strides(), attempting to materialize a grad_output with matching strides... (Triggered internally at /pytorch/aten/src/ATen/native/cudnn/MHA.cpp:674.)\n",
      "  return Variable._execution_engine.run_backward(  # Calls into the C++ engine to run the backward pass\n"
     ]
    },
    {
     "name": "stdout",
     "output_type": "stream",
     "text": [
      "computed batch 255\n",
      "Allocated: 10827.32 MB\n",
      "Reserved: 71262.00 MB\n",
      "Allocated: 10827.32 MB\n",
      "Reserved: 32836.00 MB\n",
      "in getitem feature: [0. 1.]\n",
      "in getitem label: [0 1]\n"
     ]
    },
    {
     "name": "stderr",
     "output_type": "stream",
     "text": [
      "/tmp/ipykernel_3001/3942127936.py:26: FutureWarning: `torch.cuda.amp.autocast(args...)` is deprecated. Please use `torch.amp.autocast('cuda', args...)` instead.\n",
      "  with torch.cuda.amp.autocast():\n",
      "/home/ubuntu/.local/lib/python3.10/site-packages/torch/autograd/graph.py:825: UserWarning: cuDNN SDPA backward got grad_output.strides() != output.strides(), attempting to materialize a grad_output with matching strides... (Triggered internally at /pytorch/aten/src/ATen/native/cudnn/MHA.cpp:674.)\n",
      "  return Variable._execution_engine.run_backward(  # Calls into the C++ engine to run the backward pass\n"
     ]
    },
    {
     "name": "stdout",
     "output_type": "stream",
     "text": [
      "computed batch 256\n",
      "Allocated: 10823.85 MB\n",
      "Reserved: 69744.00 MB\n",
      "Allocated: 10823.85 MB\n",
      "Reserved: 31952.00 MB\n",
      "in getitem feature: [0. 1.]\n",
      "in getitem label: [0 1]\n"
     ]
    },
    {
     "name": "stderr",
     "output_type": "stream",
     "text": [
      "/tmp/ipykernel_3001/3942127936.py:26: FutureWarning: `torch.cuda.amp.autocast(args...)` is deprecated. Please use `torch.amp.autocast('cuda', args...)` instead.\n",
      "  with torch.cuda.amp.autocast():\n",
      "/home/ubuntu/.local/lib/python3.10/site-packages/torch/autograd/graph.py:825: UserWarning: cuDNN SDPA backward got grad_output.strides() != output.strides(), attempting to materialize a grad_output with matching strides... (Triggered internally at /pytorch/aten/src/ATen/native/cudnn/MHA.cpp:674.)\n",
      "  return Variable._execution_engine.run_backward(  # Calls into the C++ engine to run the backward pass\n"
     ]
    },
    {
     "name": "stdout",
     "output_type": "stream",
     "text": [
      "computed batch 257\n",
      "Allocated: 10825.54 MB\n",
      "Reserved: 70884.00 MB\n",
      "Allocated: 10825.54 MB\n",
      "Reserved: 32586.00 MB\n",
      "in getitem feature: [0. 1.]\n",
      "in getitem label: [0 1]\n"
     ]
    },
    {
     "name": "stderr",
     "output_type": "stream",
     "text": [
      "/tmp/ipykernel_3001/3942127936.py:26: FutureWarning: `torch.cuda.amp.autocast(args...)` is deprecated. Please use `torch.amp.autocast('cuda', args...)` instead.\n",
      "  with torch.cuda.amp.autocast():\n",
      "/home/ubuntu/.local/lib/python3.10/site-packages/torch/autograd/graph.py:825: UserWarning: cuDNN SDPA backward got grad_output.strides() != output.strides(), attempting to materialize a grad_output with matching strides... (Triggered internally at /pytorch/aten/src/ATen/native/cudnn/MHA.cpp:674.)\n",
      "  return Variable._execution_engine.run_backward(  # Calls into the C++ engine to run the backward pass\n"
     ]
    },
    {
     "name": "stdout",
     "output_type": "stream",
     "text": [
      "computed batch 258\n",
      "Allocated: 10827.76 MB\n",
      "Reserved: 70758.00 MB\n",
      "Allocated: 10827.76 MB\n",
      "Reserved: 30052.00 MB\n",
      "in getitem feature: [0. 1.]\n",
      "in getitem label: [0 1]\n"
     ]
    },
    {
     "name": "stderr",
     "output_type": "stream",
     "text": [
      "/tmp/ipykernel_3001/3942127936.py:26: FutureWarning: `torch.cuda.amp.autocast(args...)` is deprecated. Please use `torch.amp.autocast('cuda', args...)` instead.\n",
      "  with torch.cuda.amp.autocast():\n",
      "/home/ubuntu/.local/lib/python3.10/site-packages/torch/autograd/graph.py:825: UserWarning: cuDNN SDPA backward got grad_output.strides() != output.strides(), attempting to materialize a grad_output with matching strides... (Triggered internally at /pytorch/aten/src/ATen/native/cudnn/MHA.cpp:674.)\n",
      "  return Variable._execution_engine.run_backward(  # Calls into the C++ engine to run the backward pass\n"
     ]
    },
    {
     "name": "stdout",
     "output_type": "stream",
     "text": [
      "computed batch 259\n",
      "Allocated: 10817.34 MB\n",
      "Reserved: 69994.00 MB\n",
      "Allocated: 10817.34 MB\n",
      "Reserved: 31572.00 MB\n",
      "in getitem feature: [0. 1.]\n",
      "in getitem label: [0 1]\n"
     ]
    },
    {
     "name": "stderr",
     "output_type": "stream",
     "text": [
      "/tmp/ipykernel_3001/3942127936.py:26: FutureWarning: `torch.cuda.amp.autocast(args...)` is deprecated. Please use `torch.amp.autocast('cuda', args...)` instead.\n",
      "  with torch.cuda.amp.autocast():\n",
      "/home/ubuntu/.local/lib/python3.10/site-packages/torch/autograd/graph.py:825: UserWarning: cuDNN SDPA backward got grad_output.strides() != output.strides(), attempting to materialize a grad_output with matching strides... (Triggered internally at /pytorch/aten/src/ATen/native/cudnn/MHA.cpp:674.)\n",
      "  return Variable._execution_engine.run_backward(  # Calls into the C++ engine to run the backward pass\n"
     ]
    },
    {
     "name": "stdout",
     "output_type": "stream",
     "text": [
      "computed batch 260\n",
      "Allocated: 10823.42 MB\n",
      "Reserved: 70378.00 MB\n",
      "Allocated: 10823.42 MB\n",
      "Reserved: 31572.00 MB\n",
      "in getitem feature: [0. 1.]\n",
      "in getitem label: [0 1]\n"
     ]
    },
    {
     "name": "stderr",
     "output_type": "stream",
     "text": [
      "/tmp/ipykernel_3001/3942127936.py:26: FutureWarning: `torch.cuda.amp.autocast(args...)` is deprecated. Please use `torch.amp.autocast('cuda', args...)` instead.\n",
      "  with torch.cuda.amp.autocast():\n",
      "/home/ubuntu/.local/lib/python3.10/site-packages/torch/autograd/graph.py:825: UserWarning: cuDNN SDPA backward got grad_output.strides() != output.strides(), attempting to materialize a grad_output with matching strides... (Triggered internally at /pytorch/aten/src/ATen/native/cudnn/MHA.cpp:674.)\n",
      "  return Variable._execution_engine.run_backward(  # Calls into the C++ engine to run the backward pass\n"
     ]
    },
    {
     "name": "stdout",
     "output_type": "stream",
     "text": [
      "computed batch 261\n",
      "Allocated: 10823.49 MB\n",
      "Reserved: 71010.00 MB\n",
      "Allocated: 10823.49 MB\n",
      "Reserved: 30558.00 MB\n",
      "in getitem feature: [0. 1.]\n",
      "in getitem label: [0 1]\n"
     ]
    },
    {
     "name": "stderr",
     "output_type": "stream",
     "text": [
      "/tmp/ipykernel_3001/3942127936.py:26: FutureWarning: `torch.cuda.amp.autocast(args...)` is deprecated. Please use `torch.amp.autocast('cuda', args...)` instead.\n",
      "  with torch.cuda.amp.autocast():\n",
      "/home/ubuntu/.local/lib/python3.10/site-packages/torch/autograd/graph.py:825: UserWarning: cuDNN SDPA backward got grad_output.strides() != output.strides(), attempting to materialize a grad_output with matching strides... (Triggered internally at /pytorch/aten/src/ATen/native/cudnn/MHA.cpp:674.)\n",
      "  return Variable._execution_engine.run_backward(  # Calls into the C++ engine to run the backward pass\n"
     ]
    },
    {
     "name": "stdout",
     "output_type": "stream",
     "text": [
      "computed batch 262\n",
      "Allocated: 10827.07 MB\n",
      "Reserved: 72026.00 MB\n",
      "Allocated: 10827.07 MB\n",
      "Reserved: 30936.00 MB\n",
      "in getitem feature: [0. 1.]\n",
      "in getitem label: [0 1]\n"
     ]
    },
    {
     "name": "stderr",
     "output_type": "stream",
     "text": [
      "/tmp/ipykernel_3001/3942127936.py:26: FutureWarning: `torch.cuda.amp.autocast(args...)` is deprecated. Please use `torch.amp.autocast('cuda', args...)` instead.\n",
      "  with torch.cuda.amp.autocast():\n",
      "/home/ubuntu/.local/lib/python3.10/site-packages/torch/autograd/graph.py:825: UserWarning: cuDNN SDPA backward got grad_output.strides() != output.strides(), attempting to materialize a grad_output with matching strides... (Triggered internally at /pytorch/aten/src/ATen/native/cudnn/MHA.cpp:674.)\n",
      "  return Variable._execution_engine.run_backward(  # Calls into the C++ engine to run the backward pass\n"
     ]
    },
    {
     "name": "stdout",
     "output_type": "stream",
     "text": [
      "computed batch 263\n",
      "Allocated: 10828.15 MB\n",
      "Reserved: 70440.00 MB\n",
      "Allocated: 10828.15 MB\n",
      "Reserved: 32586.00 MB\n",
      "in getitem feature: [0. 1.]\n",
      "in getitem label: [0 1]\n"
     ]
    },
    {
     "name": "stderr",
     "output_type": "stream",
     "text": [
      "/tmp/ipykernel_3001/3942127936.py:26: FutureWarning: `torch.cuda.amp.autocast(args...)` is deprecated. Please use `torch.amp.autocast('cuda', args...)` instead.\n",
      "  with torch.cuda.amp.autocast():\n",
      "/home/ubuntu/.local/lib/python3.10/site-packages/torch/autograd/graph.py:825: UserWarning: cuDNN SDPA backward got grad_output.strides() != output.strides(), attempting to materialize a grad_output with matching strides... (Triggered internally at /pytorch/aten/src/ATen/native/cudnn/MHA.cpp:674.)\n",
      "  return Variable._execution_engine.run_backward(  # Calls into the C++ engine to run the backward pass\n"
     ]
    },
    {
     "name": "stdout",
     "output_type": "stream",
     "text": [
      "computed batch 264\n",
      "Allocated: 10826.77 MB\n",
      "Reserved: 70504.00 MB\n",
      "Allocated: 10826.77 MB\n",
      "Reserved: 32456.00 MB\n",
      "in getitem feature: [0. 1.]\n",
      "in getitem label: [0 1]\n"
     ]
    },
    {
     "name": "stderr",
     "output_type": "stream",
     "text": [
      "/tmp/ipykernel_3001/3942127936.py:26: FutureWarning: `torch.cuda.amp.autocast(args...)` is deprecated. Please use `torch.amp.autocast('cuda', args...)` instead.\n",
      "  with torch.cuda.amp.autocast():\n",
      "/home/ubuntu/.local/lib/python3.10/site-packages/torch/autograd/graph.py:825: UserWarning: cuDNN SDPA backward got grad_output.strides() != output.strides(), attempting to materialize a grad_output with matching strides... (Triggered internally at /pytorch/aten/src/ATen/native/cudnn/MHA.cpp:674.)\n",
      "  return Variable._execution_engine.run_backward(  # Calls into the C++ engine to run the backward pass\n"
     ]
    },
    {
     "name": "stdout",
     "output_type": "stream",
     "text": [
      "computed batch 265\n",
      "Allocated: 10825.25 MB\n",
      "Reserved: 71008.00 MB\n",
      "Allocated: 10825.25 MB\n",
      "Reserved: 30558.00 MB\n",
      "in getitem feature: [0. 1.]\n",
      "in getitem label: [0 1]\n"
     ]
    },
    {
     "name": "stderr",
     "output_type": "stream",
     "text": [
      "/tmp/ipykernel_3001/3942127936.py:26: FutureWarning: `torch.cuda.amp.autocast(args...)` is deprecated. Please use `torch.amp.autocast('cuda', args...)` instead.\n",
      "  with torch.cuda.amp.autocast():\n",
      "/home/ubuntu/.local/lib/python3.10/site-packages/torch/autograd/graph.py:825: UserWarning: cuDNN SDPA backward got grad_output.strides() != output.strides(), attempting to materialize a grad_output with matching strides... (Triggered internally at /pytorch/aten/src/ATen/native/cudnn/MHA.cpp:674.)\n",
      "  return Variable._execution_engine.run_backward(  # Calls into the C++ engine to run the backward pass\n"
     ]
    },
    {
     "name": "stdout",
     "output_type": "stream",
     "text": [
      "computed batch 266\n",
      "Allocated: 10824.59 MB\n",
      "Reserved: 70378.00 MB\n",
      "Allocated: 10824.59 MB\n",
      "Reserved: 30558.00 MB\n",
      "in getitem feature: [0. 1.]\n",
      "in getitem label: [0 1]\n"
     ]
    },
    {
     "name": "stderr",
     "output_type": "stream",
     "text": [
      "/tmp/ipykernel_3001/3942127936.py:26: FutureWarning: `torch.cuda.amp.autocast(args...)` is deprecated. Please use `torch.amp.autocast('cuda', args...)` instead.\n",
      "  with torch.cuda.amp.autocast():\n",
      "/home/ubuntu/.local/lib/python3.10/site-packages/torch/autograd/graph.py:825: UserWarning: cuDNN SDPA backward got grad_output.strides() != output.strides(), attempting to materialize a grad_output with matching strides... (Triggered internally at /pytorch/aten/src/ATen/native/cudnn/MHA.cpp:674.)\n",
      "  return Variable._execution_engine.run_backward(  # Calls into the C++ engine to run the backward pass\n"
     ]
    },
    {
     "name": "stdout",
     "output_type": "stream",
     "text": [
      "computed batch 267\n",
      "Allocated: 10826.09 MB\n",
      "Reserved: 71010.00 MB\n",
      "Allocated: 10826.09 MB\n",
      "Reserved: 32456.00 MB\n",
      "in getitem feature: [0. 1.]\n",
      "in getitem label: [0 1]\n"
     ]
    },
    {
     "name": "stderr",
     "output_type": "stream",
     "text": [
      "/tmp/ipykernel_3001/3942127936.py:26: FutureWarning: `torch.cuda.amp.autocast(args...)` is deprecated. Please use `torch.amp.autocast('cuda', args...)` instead.\n",
      "  with torch.cuda.amp.autocast():\n",
      "/home/ubuntu/.local/lib/python3.10/site-packages/torch/autograd/graph.py:825: UserWarning: cuDNN SDPA backward got grad_output.strides() != output.strides(), attempting to materialize a grad_output with matching strides... (Triggered internally at /pytorch/aten/src/ATen/native/cudnn/MHA.cpp:674.)\n",
      "  return Variable._execution_engine.run_backward(  # Calls into the C++ engine to run the backward pass\n"
     ]
    },
    {
     "name": "stdout",
     "output_type": "stream",
     "text": [
      "computed batch 268\n",
      "Allocated: 10825.83 MB\n",
      "Reserved: 70374.00 MB\n",
      "Allocated: 10825.83 MB\n",
      "Reserved: 34734.00 MB\n",
      "in getitem feature: [0. 1.]\n",
      "in getitem label: [0 1]\n"
     ]
    },
    {
     "name": "stderr",
     "output_type": "stream",
     "text": [
      "/tmp/ipykernel_3001/3942127936.py:26: FutureWarning: `torch.cuda.amp.autocast(args...)` is deprecated. Please use `torch.amp.autocast('cuda', args...)` instead.\n",
      "  with torch.cuda.amp.autocast():\n",
      "/home/ubuntu/.local/lib/python3.10/site-packages/torch/autograd/graph.py:825: UserWarning: cuDNN SDPA backward got grad_output.strides() != output.strides(), attempting to materialize a grad_output with matching strides... (Triggered internally at /pytorch/aten/src/ATen/native/cudnn/MHA.cpp:674.)\n",
      "  return Variable._execution_engine.run_backward(  # Calls into the C++ engine to run the backward pass\n"
     ]
    },
    {
     "name": "stdout",
     "output_type": "stream",
     "text": [
      "computed batch 269\n",
      "Allocated: 10821.20 MB\n",
      "Reserved: 71640.00 MB\n",
      "Allocated: 10821.20 MB\n",
      "Reserved: 33216.00 MB\n",
      "in getitem feature: [0. 1.]\n",
      "in getitem label: [0 1]\n"
     ]
    },
    {
     "name": "stderr",
     "output_type": "stream",
     "text": [
      "/tmp/ipykernel_3001/3942127936.py:26: FutureWarning: `torch.cuda.amp.autocast(args...)` is deprecated. Please use `torch.amp.autocast('cuda', args...)` instead.\n",
      "  with torch.cuda.amp.autocast():\n",
      "/home/ubuntu/.local/lib/python3.10/site-packages/torch/autograd/graph.py:825: UserWarning: cuDNN SDPA backward got grad_output.strides() != output.strides(), attempting to materialize a grad_output with matching strides... (Triggered internally at /pytorch/aten/src/ATen/native/cudnn/MHA.cpp:674.)\n",
      "  return Variable._execution_engine.run_backward(  # Calls into the C++ engine to run the backward pass\n"
     ]
    },
    {
     "name": "stdout",
     "output_type": "stream",
     "text": [
      "computed batch 270\n",
      "Allocated: 10820.87 MB\n",
      "Reserved: 70252.00 MB\n",
      "Allocated: 10820.87 MB\n",
      "Reserved: 31258.00 MB\n",
      "in getitem feature: [0. 1.]\n",
      "in getitem label: [0 1]\n"
     ]
    },
    {
     "name": "stderr",
     "output_type": "stream",
     "text": [
      "/tmp/ipykernel_3001/3942127936.py:26: FutureWarning: `torch.cuda.amp.autocast(args...)` is deprecated. Please use `torch.amp.autocast('cuda', args...)` instead.\n",
      "  with torch.cuda.amp.autocast():\n",
      "/home/ubuntu/.local/lib/python3.10/site-packages/torch/autograd/graph.py:825: UserWarning: cuDNN SDPA backward got grad_output.strides() != output.strides(), attempting to materialize a grad_output with matching strides... (Triggered internally at /pytorch/aten/src/ATen/native/cudnn/MHA.cpp:674.)\n",
      "  return Variable._execution_engine.run_backward(  # Calls into the C++ engine to run the backward pass\n"
     ]
    },
    {
     "name": "stdout",
     "output_type": "stream",
     "text": [
      "computed batch 271\n",
      "Allocated: 10827.47 MB\n",
      "Reserved: 70572.00 MB\n",
      "Allocated: 10827.47 MB\n",
      "Reserved: 30054.00 MB\n",
      "in getitem feature: [0. 1.]\n",
      "in getitem label: [0 1]\n"
     ]
    },
    {
     "name": "stderr",
     "output_type": "stream",
     "text": [
      "/tmp/ipykernel_3001/3942127936.py:26: FutureWarning: `torch.cuda.amp.autocast(args...)` is deprecated. Please use `torch.amp.autocast('cuda', args...)` instead.\n",
      "  with torch.cuda.amp.autocast():\n",
      "/home/ubuntu/.local/lib/python3.10/site-packages/torch/autograd/graph.py:825: UserWarning: cuDNN SDPA backward got grad_output.strides() != output.strides(), attempting to materialize a grad_output with matching strides... (Triggered internally at /pytorch/aten/src/ATen/native/cudnn/MHA.cpp:674.)\n",
      "  return Variable._execution_engine.run_backward(  # Calls into the C++ engine to run the backward pass\n"
     ]
    },
    {
     "name": "stdout",
     "output_type": "stream",
     "text": [
      "computed batch 272\n",
      "Allocated: 10831.83 MB\n",
      "Reserved: 71648.00 MB\n",
      "Allocated: 10831.83 MB\n",
      "Reserved: 31700.00 MB\n",
      "in getitem feature: [0. 1.]\n",
      "in getitem label: [0 1]\n"
     ]
    },
    {
     "name": "stderr",
     "output_type": "stream",
     "text": [
      "/tmp/ipykernel_3001/3942127936.py:26: FutureWarning: `torch.cuda.amp.autocast(args...)` is deprecated. Please use `torch.amp.autocast('cuda', args...)` instead.\n",
      "  with torch.cuda.amp.autocast():\n",
      "/home/ubuntu/.local/lib/python3.10/site-packages/torch/autograd/graph.py:825: UserWarning: cuDNN SDPA backward got grad_output.strides() != output.strides(), attempting to materialize a grad_output with matching strides... (Triggered internally at /pytorch/aten/src/ATen/native/cudnn/MHA.cpp:674.)\n",
      "  return Variable._execution_engine.run_backward(  # Calls into the C++ engine to run the backward pass\n"
     ]
    },
    {
     "name": "stdout",
     "output_type": "stream",
     "text": [
      "computed batch 273\n",
      "Allocated: 10820.90 MB\n",
      "Reserved: 71648.00 MB\n",
      "Allocated: 10820.90 MB\n",
      "Reserved: 32584.00 MB\n",
      "in getitem feature: [0. 1.]\n",
      "in getitem label: [0 1]\n"
     ]
    },
    {
     "name": "stderr",
     "output_type": "stream",
     "text": [
      "/tmp/ipykernel_3001/3942127936.py:26: FutureWarning: `torch.cuda.amp.autocast(args...)` is deprecated. Please use `torch.amp.autocast('cuda', args...)` instead.\n",
      "  with torch.cuda.amp.autocast():\n",
      "/home/ubuntu/.local/lib/python3.10/site-packages/torch/autograd/graph.py:825: UserWarning: cuDNN SDPA backward got grad_output.strides() != output.strides(), attempting to materialize a grad_output with matching strides... (Triggered internally at /pytorch/aten/src/ATen/native/cudnn/MHA.cpp:674.)\n",
      "  return Variable._execution_engine.run_backward(  # Calls into the C++ engine to run the backward pass\n"
     ]
    },
    {
     "name": "stdout",
     "output_type": "stream",
     "text": [
      "computed batch 274\n",
      "Allocated: 10824.84 MB\n",
      "Reserved: 70630.00 MB\n",
      "Allocated: 10824.84 MB\n",
      "Reserved: 27520.00 MB\n",
      "in getitem feature: [0. 1.]\n",
      "in getitem label: [0 1]\n"
     ]
    },
    {
     "name": "stderr",
     "output_type": "stream",
     "text": [
      "/tmp/ipykernel_3001/3942127936.py:26: FutureWarning: `torch.cuda.amp.autocast(args...)` is deprecated. Please use `torch.amp.autocast('cuda', args...)` instead.\n",
      "  with torch.cuda.amp.autocast():\n",
      "/home/ubuntu/.local/lib/python3.10/site-packages/torch/autograd/graph.py:825: UserWarning: cuDNN SDPA backward got grad_output.strides() != output.strides(), attempting to materialize a grad_output with matching strides... (Triggered internally at /pytorch/aten/src/ATen/native/cudnn/MHA.cpp:674.)\n",
      "  return Variable._execution_engine.run_backward(  # Calls into the C++ engine to run the backward pass\n"
     ]
    },
    {
     "name": "stdout",
     "output_type": "stream",
     "text": [
      "computed batch 275\n",
      "Allocated: 10822.70 MB\n",
      "Reserved: 71076.00 MB\n",
      "Allocated: 10822.70 MB\n",
      "Reserved: 29800.00 MB\n",
      "in getitem feature: [0. 1.]\n",
      "in getitem label: [0 1]\n"
     ]
    },
    {
     "name": "stderr",
     "output_type": "stream",
     "text": [
      "/tmp/ipykernel_3001/3942127936.py:26: FutureWarning: `torch.cuda.amp.autocast(args...)` is deprecated. Please use `torch.amp.autocast('cuda', args...)` instead.\n",
      "  with torch.cuda.amp.autocast():\n",
      "/home/ubuntu/.local/lib/python3.10/site-packages/torch/autograd/graph.py:825: UserWarning: cuDNN SDPA backward got grad_output.strides() != output.strides(), attempting to materialize a grad_output with matching strides... (Triggered internally at /pytorch/aten/src/ATen/native/cudnn/MHA.cpp:674.)\n",
      "  return Variable._execution_engine.run_backward(  # Calls into the C++ engine to run the backward pass\n"
     ]
    },
    {
     "name": "stdout",
     "output_type": "stream",
     "text": [
      "computed batch 276\n",
      "Allocated: 10827.05 MB\n",
      "Reserved: 72218.00 MB\n",
      "Allocated: 10827.05 MB\n",
      "Reserved: 31826.00 MB\n",
      "in getitem feature: [0. 1.]\n",
      "in getitem label: [0 1]\n"
     ]
    },
    {
     "name": "stderr",
     "output_type": "stream",
     "text": [
      "/tmp/ipykernel_3001/3942127936.py:26: FutureWarning: `torch.cuda.amp.autocast(args...)` is deprecated. Please use `torch.amp.autocast('cuda', args...)` instead.\n",
      "  with torch.cuda.amp.autocast():\n",
      "/home/ubuntu/.local/lib/python3.10/site-packages/torch/autograd/graph.py:825: UserWarning: cuDNN SDPA backward got grad_output.strides() != output.strides(), attempting to materialize a grad_output with matching strides... (Triggered internally at /pytorch/aten/src/ATen/native/cudnn/MHA.cpp:674.)\n",
      "  return Variable._execution_engine.run_backward(  # Calls into the C++ engine to run the backward pass\n"
     ]
    },
    {
     "name": "stdout",
     "output_type": "stream",
     "text": [
      "computed batch 277\n",
      "Allocated: 10823.07 MB\n",
      "Reserved: 70632.00 MB\n",
      "Allocated: 10823.07 MB\n",
      "Reserved: 29166.00 MB\n",
      "in getitem feature: [0. 1.]\n",
      "in getitem label: [0 1]\n"
     ]
    },
    {
     "name": "stderr",
     "output_type": "stream",
     "text": [
      "/tmp/ipykernel_3001/3942127936.py:26: FutureWarning: `torch.cuda.amp.autocast(args...)` is deprecated. Please use `torch.amp.autocast('cuda', args...)` instead.\n",
      "  with torch.cuda.amp.autocast():\n",
      "/home/ubuntu/.local/lib/python3.10/site-packages/torch/autograd/graph.py:825: UserWarning: cuDNN SDPA backward got grad_output.strides() != output.strides(), attempting to materialize a grad_output with matching strides... (Triggered internally at /pytorch/aten/src/ATen/native/cudnn/MHA.cpp:674.)\n",
      "  return Variable._execution_engine.run_backward(  # Calls into the C++ engine to run the backward pass\n"
     ]
    },
    {
     "name": "stdout",
     "output_type": "stream",
     "text": [
      "computed batch 278\n",
      "Allocated: 10820.66 MB\n",
      "Reserved: 70758.00 MB\n",
      "Allocated: 10820.66 MB\n",
      "Reserved: 30178.00 MB\n",
      "in getitem feature: [0. 1.]\n",
      "in getitem label: [0 1]\n"
     ]
    },
    {
     "name": "stderr",
     "output_type": "stream",
     "text": [
      "/tmp/ipykernel_3001/3942127936.py:26: FutureWarning: `torch.cuda.amp.autocast(args...)` is deprecated. Please use `torch.amp.autocast('cuda', args...)` instead.\n",
      "  with torch.cuda.amp.autocast():\n",
      "/home/ubuntu/.local/lib/python3.10/site-packages/torch/autograd/graph.py:825: UserWarning: cuDNN SDPA backward got grad_output.strides() != output.strides(), attempting to materialize a grad_output with matching strides... (Triggered internally at /pytorch/aten/src/ATen/native/cudnn/MHA.cpp:674.)\n",
      "  return Variable._execution_engine.run_backward(  # Calls into the C++ engine to run the backward pass\n"
     ]
    },
    {
     "name": "stdout",
     "output_type": "stream",
     "text": [
      "computed batch 279\n",
      "Allocated: 10822.74 MB\n",
      "Reserved: 70124.00 MB\n",
      "Allocated: 10822.74 MB\n",
      "Reserved: 31444.00 MB\n",
      "in getitem feature: [0. 1.]\n",
      "in getitem label: [0 1]\n"
     ]
    },
    {
     "name": "stderr",
     "output_type": "stream",
     "text": [
      "/tmp/ipykernel_3001/3942127936.py:26: FutureWarning: `torch.cuda.amp.autocast(args...)` is deprecated. Please use `torch.amp.autocast('cuda', args...)` instead.\n",
      "  with torch.cuda.amp.autocast():\n",
      "/home/ubuntu/.local/lib/python3.10/site-packages/torch/autograd/graph.py:825: UserWarning: cuDNN SDPA backward got grad_output.strides() != output.strides(), attempting to materialize a grad_output with matching strides... (Triggered internally at /pytorch/aten/src/ATen/native/cudnn/MHA.cpp:674.)\n",
      "  return Variable._execution_engine.run_backward(  # Calls into the C++ engine to run the backward pass\n"
     ]
    },
    {
     "name": "stdout",
     "output_type": "stream",
     "text": [
      "computed batch 280\n",
      "Allocated: 10823.08 MB\n",
      "Reserved: 69618.00 MB\n",
      "Allocated: 10823.08 MB\n",
      "Reserved: 27584.00 MB\n",
      "in getitem feature: [0. 1.]\n",
      "in getitem label: [0 1]\n"
     ]
    },
    {
     "name": "stderr",
     "output_type": "stream",
     "text": [
      "/tmp/ipykernel_3001/3942127936.py:26: FutureWarning: `torch.cuda.amp.autocast(args...)` is deprecated. Please use `torch.amp.autocast('cuda', args...)` instead.\n",
      "  with torch.cuda.amp.autocast():\n",
      "/home/ubuntu/.local/lib/python3.10/site-packages/torch/autograd/graph.py:825: UserWarning: cuDNN SDPA backward got grad_output.strides() != output.strides(), attempting to materialize a grad_output with matching strides... (Triggered internally at /pytorch/aten/src/ATen/native/cudnn/MHA.cpp:674.)\n",
      "  return Variable._execution_engine.run_backward(  # Calls into the C++ engine to run the backward pass\n"
     ]
    },
    {
     "name": "stdout",
     "output_type": "stream",
     "text": [
      "computed batch 281\n",
      "Allocated: 10824.91 MB\n",
      "Reserved: 70634.00 MB\n",
      "Allocated: 10824.91 MB\n",
      "Reserved: 26252.00 MB\n",
      "in getitem feature: [0. 1.]\n",
      "in getitem label: [0 1]\n"
     ]
    },
    {
     "name": "stderr",
     "output_type": "stream",
     "text": [
      "/tmp/ipykernel_3001/3942127936.py:26: FutureWarning: `torch.cuda.amp.autocast(args...)` is deprecated. Please use `torch.amp.autocast('cuda', args...)` instead.\n",
      "  with torch.cuda.amp.autocast():\n",
      "/home/ubuntu/.local/lib/python3.10/site-packages/torch/autograd/graph.py:825: UserWarning: cuDNN SDPA backward got grad_output.strides() != output.strides(), attempting to materialize a grad_output with matching strides... (Triggered internally at /pytorch/aten/src/ATen/native/cudnn/MHA.cpp:674.)\n",
      "  return Variable._execution_engine.run_backward(  # Calls into the C++ engine to run the backward pass\n"
     ]
    },
    {
     "name": "stdout",
     "output_type": "stream",
     "text": [
      "computed batch 282\n",
      "Allocated: 10826.16 MB\n",
      "Reserved: 70570.00 MB\n",
      "Allocated: 10826.16 MB\n",
      "Reserved: 32650.00 MB\n",
      "in getitem feature: [0. 1.]\n",
      "in getitem label: [0 1]\n"
     ]
    },
    {
     "name": "stderr",
     "output_type": "stream",
     "text": [
      "/tmp/ipykernel_3001/3942127936.py:26: FutureWarning: `torch.cuda.amp.autocast(args...)` is deprecated. Please use `torch.amp.autocast('cuda', args...)` instead.\n",
      "  with torch.cuda.amp.autocast():\n",
      "/home/ubuntu/.local/lib/python3.10/site-packages/torch/autograd/graph.py:825: UserWarning: cuDNN SDPA backward got grad_output.strides() != output.strides(), attempting to materialize a grad_output with matching strides... (Triggered internally at /pytorch/aten/src/ATen/native/cudnn/MHA.cpp:674.)\n",
      "  return Variable._execution_engine.run_backward(  # Calls into the C++ engine to run the backward pass\n"
     ]
    },
    {
     "name": "stdout",
     "output_type": "stream",
     "text": [
      "computed batch 283\n",
      "Allocated: 10823.60 MB\n",
      "Reserved: 71076.00 MB\n",
      "Allocated: 10823.60 MB\n",
      "Reserved: 31128.00 MB\n",
      "in getitem feature: [0. 1.]\n",
      "in getitem label: [0 1]\n"
     ]
    },
    {
     "name": "stderr",
     "output_type": "stream",
     "text": [
      "/tmp/ipykernel_3001/3942127936.py:26: FutureWarning: `torch.cuda.amp.autocast(args...)` is deprecated. Please use `torch.amp.autocast('cuda', args...)` instead.\n",
      "  with torch.cuda.amp.autocast():\n",
      "/home/ubuntu/.local/lib/python3.10/site-packages/torch/autograd/graph.py:825: UserWarning: cuDNN SDPA backward got grad_output.strides() != output.strides(), attempting to materialize a grad_output with matching strides... (Triggered internally at /pytorch/aten/src/ATen/native/cudnn/MHA.cpp:674.)\n",
      "  return Variable._execution_engine.run_backward(  # Calls into the C++ engine to run the backward pass\n"
     ]
    },
    {
     "name": "stdout",
     "output_type": "stream",
     "text": [
      "computed batch 284\n",
      "Allocated: 10818.01 MB\n",
      "Reserved: 71202.00 MB\n",
      "Allocated: 10818.01 MB\n",
      "Reserved: 36130.00 MB\n",
      "in getitem feature: [0. 1.]\n",
      "in getitem label: [0 1]\n"
     ]
    },
    {
     "name": "stderr",
     "output_type": "stream",
     "text": [
      "/tmp/ipykernel_3001/3942127936.py:26: FutureWarning: `torch.cuda.amp.autocast(args...)` is deprecated. Please use `torch.amp.autocast('cuda', args...)` instead.\n",
      "  with torch.cuda.amp.autocast():\n",
      "/home/ubuntu/.local/lib/python3.10/site-packages/torch/autograd/graph.py:825: UserWarning: cuDNN SDPA backward got grad_output.strides() != output.strides(), attempting to materialize a grad_output with matching strides... (Triggered internally at /pytorch/aten/src/ATen/native/cudnn/MHA.cpp:674.)\n",
      "  return Variable._execution_engine.run_backward(  # Calls into the C++ engine to run the backward pass\n"
     ]
    },
    {
     "name": "stdout",
     "output_type": "stream",
     "text": [
      "computed batch 285\n",
      "Allocated: 10821.52 MB\n",
      "Reserved: 71456.00 MB\n",
      "Allocated: 10821.52 MB\n",
      "Reserved: 35498.00 MB\n",
      "in getitem feature: [0. 1.]\n",
      "in getitem label: [0 1]\n"
     ]
    },
    {
     "name": "stderr",
     "output_type": "stream",
     "text": [
      "/tmp/ipykernel_3001/3942127936.py:26: FutureWarning: `torch.cuda.amp.autocast(args...)` is deprecated. Please use `torch.amp.autocast('cuda', args...)` instead.\n",
      "  with torch.cuda.amp.autocast():\n",
      "/home/ubuntu/.local/lib/python3.10/site-packages/torch/autograd/graph.py:825: UserWarning: cuDNN SDPA backward got grad_output.strides() != output.strides(), attempting to materialize a grad_output with matching strides... (Triggered internally at /pytorch/aten/src/ATen/native/cudnn/MHA.cpp:674.)\n",
      "  return Variable._execution_engine.run_backward(  # Calls into the C++ engine to run the backward pass\n"
     ]
    },
    {
     "name": "stdout",
     "output_type": "stream",
     "text": [
      "computed batch 286\n",
      "Allocated: 10822.27 MB\n",
      "Reserved: 70378.00 MB\n",
      "Allocated: 10822.27 MB\n",
      "Reserved: 30304.00 MB\n",
      "in getitem feature: [0. 1.]\n",
      "in getitem label: [0 1]\n"
     ]
    },
    {
     "name": "stderr",
     "output_type": "stream",
     "text": [
      "/tmp/ipykernel_3001/3942127936.py:26: FutureWarning: `torch.cuda.amp.autocast(args...)` is deprecated. Please use `torch.amp.autocast('cuda', args...)` instead.\n",
      "  with torch.cuda.amp.autocast():\n",
      "/home/ubuntu/.local/lib/python3.10/site-packages/torch/autograd/graph.py:825: UserWarning: cuDNN SDPA backward got grad_output.strides() != output.strides(), attempting to materialize a grad_output with matching strides... (Triggered internally at /pytorch/aten/src/ATen/native/cudnn/MHA.cpp:674.)\n",
      "  return Variable._execution_engine.run_backward(  # Calls into the C++ engine to run the backward pass\n"
     ]
    },
    {
     "name": "stdout",
     "output_type": "stream",
     "text": [
      "computed batch 287\n",
      "Allocated: 10824.75 MB\n",
      "Reserved: 71706.00 MB\n",
      "Allocated: 10824.75 MB\n",
      "Reserved: 32632.00 MB\n",
      "in getitem feature: [0. 1.]\n",
      "in getitem label: [0 1]\n"
     ]
    },
    {
     "name": "stderr",
     "output_type": "stream",
     "text": [
      "/tmp/ipykernel_3001/3942127936.py:26: FutureWarning: `torch.cuda.amp.autocast(args...)` is deprecated. Please use `torch.amp.autocast('cuda', args...)` instead.\n",
      "  with torch.cuda.amp.autocast():\n",
      "/home/ubuntu/.local/lib/python3.10/site-packages/torch/autograd/graph.py:825: UserWarning: cuDNN SDPA backward got grad_output.strides() != output.strides(), attempting to materialize a grad_output with matching strides... (Triggered internally at /pytorch/aten/src/ATen/native/cudnn/MHA.cpp:674.)\n",
      "  return Variable._execution_engine.run_backward(  # Calls into the C++ engine to run the backward pass\n"
     ]
    },
    {
     "name": "stdout",
     "output_type": "stream",
     "text": [
      "computed batch 288\n",
      "Allocated: 10818.12 MB\n",
      "Reserved: 71060.00 MB\n",
      "Allocated: 10818.12 MB\n",
      "Reserved: 34080.00 MB\n",
      "in getitem feature: [0. 1.]\n",
      "in getitem label: [0 1]\n"
     ]
    },
    {
     "name": "stderr",
     "output_type": "stream",
     "text": [
      "/tmp/ipykernel_3001/3942127936.py:26: FutureWarning: `torch.cuda.amp.autocast(args...)` is deprecated. Please use `torch.amp.autocast('cuda', args...)` instead.\n",
      "  with torch.cuda.amp.autocast():\n",
      "/home/ubuntu/.local/lib/python3.10/site-packages/torch/autograd/graph.py:825: UserWarning: cuDNN SDPA backward got grad_output.strides() != output.strides(), attempting to materialize a grad_output with matching strides... (Triggered internally at /pytorch/aten/src/ATen/native/cudnn/MHA.cpp:674.)\n",
      "  return Variable._execution_engine.run_backward(  # Calls into the C++ engine to run the backward pass\n"
     ]
    },
    {
     "name": "stdout",
     "output_type": "stream",
     "text": [
      "computed batch 289\n",
      "Allocated: 10818.28 MB\n",
      "Reserved: 71114.00 MB\n",
      "Allocated: 10818.28 MB\n",
      "Reserved: 32180.00 MB\n",
      "in getitem feature: [0. 1.]\n",
      "in getitem label: [0 1]\n"
     ]
    },
    {
     "name": "stderr",
     "output_type": "stream",
     "text": [
      "/tmp/ipykernel_3001/3942127936.py:26: FutureWarning: `torch.cuda.amp.autocast(args...)` is deprecated. Please use `torch.amp.autocast('cuda', args...)` instead.\n",
      "  with torch.cuda.amp.autocast():\n",
      "/home/ubuntu/.local/lib/python3.10/site-packages/torch/autograd/graph.py:825: UserWarning: cuDNN SDPA backward got grad_output.strides() != output.strides(), attempting to materialize a grad_output with matching strides... (Triggered internally at /pytorch/aten/src/ATen/native/cudnn/MHA.cpp:674.)\n",
      "  return Variable._execution_engine.run_backward(  # Calls into the C++ engine to run the backward pass\n"
     ]
    },
    {
     "name": "stdout",
     "output_type": "stream",
     "text": [
      "computed batch 290\n",
      "Allocated: 10824.10 MB\n",
      "Reserved: 69594.00 MB\n",
      "Allocated: 10824.10 MB\n",
      "Reserved: 35218.00 MB\n",
      "Epoch [1/1], Loss: inf\n"
     ]
    }
   ],
   "source": [
    "# training \n",
    "model.train()\n",
    "model.configure_activation_checkpointing()\n",
    "optimizer = optim.AdamW(model.parameters(), lr=5e-5, weight_decay=5e-6)\n",
    "# scaler = torch.cuda.amp.GradScaler() #\n",
    "scaler = torch.amp.GradScaler('cuda') #\n",
    "\n",
    "ctr = 1\n",
    "num_epochs = 1\n",
    "\n",
    "# torch.cuda.empty_cache()\n",
    "for epoch in range(num_epochs):  # Loop over epochs\n",
    "    # model.train()  # Set model to training mode\n",
    "    for batch in dataloader:  # Iterate over batches\n",
    "        # Unpack the batch\n",
    "        features, labels = batch  # Ensure your Dataset and collate function return the right format\n",
    "        # Move data to the appropriate device\n",
    "        # features = {key: val.to(device) for key, val in features.items()}  # For dict-based features\n",
    "        labels = labels.to(device)\n",
    "        features = features.to(device)\n",
    "        # print(features.surf_vars[\"lst\"])\n",
    "        # print(features)\n",
    "        \n",
    "        optimizer.zero_grad()  # Zero the gradients\n",
    "\n",
    "        with torch.cuda.amp.autocast():\n",
    "            # Forward pass\n",
    "            # outputs = model(features)\n",
    "            pred = model.forward(features)\n",
    "            # print(pred.surf_vars[\"lst\"])\n",
    "            # pred is already on gpu \n",
    "            # pred = pred.to(device)[\n",
    "            # print(features)\n",
    "            # Compute the loss\n",
    "            loss = loss_func(labels,pred)\n",
    "        \n",
    "        # Backward pass and optimization\n",
    "        scaler.scale(loss).backward()  # Backpropagate  nan occurs here \n",
    "        # !!!!!!!!!!!!!!!!!!!!!!!!!!!!!!!!!!!!!!!!!!!!!!!!!!!!!!!!!!!!!! gradient clipping!\n",
    "        torch.nn.utils.clip_grad_norm_(model.parameters(), max_norm=1.0)\n",
    "        # optimizer.step()  # Update the weights\n",
    "        scaler.step(optimizer)\n",
    "        scaler.update()\n",
    "        # torch.cuda.empty_cache()\n",
    "        print(f\"computed batch {ctr}\")\n",
    "        ctr += 1\n",
    "        \n",
    "        # Debug memory usage\n",
    "        print(f\"Allocated: {torch.cuda.memory_allocated() / 1024**2:.2f} MB\")\n",
    "        print(f\"Reserved: {torch.cuda.memory_reserved() / 1024**2:.2f} MB\")\n",
    "        torch.cuda.empty_cache()\n",
    "        print(f\"Allocated: {torch.cuda.memory_allocated() / 1024**2:.2f} MB\")\n",
    "        print(f\"Reserved: {torch.cuda.memory_reserved() / 1024**2:.2f} MB\")\n",
    "\n",
    "    print(f\"Epoch [{epoch + 1}/{num_epochs}], Loss: {loss.item():.4f}\")\n",
    "    "
   ]
  },
  {
   "cell_type": "code",
   "execution_count": 19,
   "metadata": {
    "tags": []
   },
   "outputs": [
    {
     "data": {
      "text/plain": [
       "287"
      ]
     },
     "execution_count": 19,
     "metadata": {},
     "output_type": "execute_result"
    }
   ],
   "source": [
    "## freeing memory after restarting model\n",
    "\n",
    "with torch.no_grad():\n",
    "    torch.cuda.empty_cache()\n",
    "\n",
    "import gc\n",
    "torch.cuda.empty_cache()\n",
    "gc.collect()"
   ]
  },
  {
   "cell_type": "code",
   "execution_count": null,
   "metadata": {},
   "outputs": [],
   "source": []
  },
  {
   "cell_type": "markdown",
   "metadata": {
    "jp-MarkdownHeadingCollapsed": true
   },
   "source": [
    "### some debug stuff (not important for runing)"
   ]
  },
  {
   "cell_type": "code",
   "execution_count": null,
   "metadata": {},
   "outputs": [],
   "source": [
    "# model training \n",
    "\n",
    "model.train()\n",
    "model.configure_activation_checkpointing()\n",
    "optimizer = optim.AdamW(model.parameters(), lr=5e-5, weight_decay=5e-6)\n",
    "\n",
    "model = model.to(device)\n",
    "model.train()\n",
    "model.configure_activation_checkpointing()\n",
    "torch.nn.utils.clip_grad_norm_(model.parameters(), max_norm=1.0)\n",
    "\n",
    "num_epochs = 1\n",
    "torch.cuda.empty_cache()\n",
    "for epoch in range(num_epochs):  # Loop over epochs\n",
    "    # model.train()  # Set model to training mode\n",
    "    for batch in dataloader:  # Iterate over batches\n",
    "        # Unpack the batch\n",
    "        features, labels = batch  # Ensure your Dataset and collate function return the right format\n",
    "        # Move data to the appropriate device\n",
    "        # features = {key: val.to(device) for key, val in features.items()}  # For dict-based features\n",
    "        labels = labels.to(device)\n",
    "        # features = features.to(device)\n",
    "\n",
    "        # Forward pass\n",
    "        # outputs = model(features)\n",
    "        pred = model.forward(features)\n",
    "        # pred is already on gpu \n",
    "        # pred = pred.to(device)[\n",
    "        print(pred)\n",
    "        # Compute the loss\n",
    "        loss = loss_func(labels,pred)\n",
    "        \n",
    "        # Backward pass and optimization\n",
    "        optimizer.zero_grad()  # Zero the gradients\n",
    "        loss.backward()  # Backpropagate\n",
    "        optimizer.step()  # Update the weights\n",
    "        torch.cuda.empty_cache()\n",
    "        print(\"computed first batch\")\n",
    "\n",
    "    print(f\"Epoch [{epoch + 1}/{num_epochs}], Loss: {loss.item():.4f}\")\n",
    "    break"
   ]
  },
  {
   "cell_type": "code",
   "execution_count": 15,
   "metadata": {
    "id": "xprtvhnG_KTC",
    "scrolled": true,
    "tags": []
   },
   "outputs": [
    {
     "name": "stdout",
     "output_type": "stream",
     "text": [
      "Batch(surf_vars={'2t': tensor([[[[248.2111, 250.3261, 250.2283,  ..., 249.8091, 250.0388, 247.3506],\n",
      "          [256.5222, 255.5726, 255.3369,  ..., 255.0719, 255.2536, 245.8392],\n",
      "          [252.1862, 253.3263, 249.0282,  ..., 253.4009, 249.3633, 248.7849],\n",
      "          ...,\n",
      "          [243.7909, 243.7615, 243.8710,  ..., 243.7093, 243.9118, 244.1356],\n",
      "          [244.0923, 243.9736, 244.1088,  ..., 243.8568, 243.9820, 244.0134],\n",
      "          [243.9003, 243.9125, 243.7339,  ..., 243.9700, 243.8595, 243.8047]]]],\n",
      "       device='cuda:0', grad_fn=<AddBackward0>), '10u': tensor([[[[  3.5809,   3.3212,   1.3584,  ...,   3.0293,   1.0162,   3.7811],\n",
      "          [ -7.9823,  -7.5491,  -9.8704,  ...,  -7.3736,  -9.8940,  -7.1199],\n",
      "          [ -4.5390,  -4.3756, -10.2827,  ...,  -4.1192, -10.1291,  -8.2069],\n",
      "          ...,\n",
      "          [ -3.3834,  -3.3105,  -3.2968,  ...,  -3.2817,  -3.2331,  -3.3291],\n",
      "          [ -3.0977,  -3.0532,  -3.0555,  ...,  -3.1011,  -3.0014,  -3.0439],\n",
      "          [ -2.4023,  -2.4306,  -2.3970,  ...,  -2.4638,  -2.3741,  -2.2763]]]],\n",
      "       device='cuda:0', grad_fn=<AddBackward0>), '10v': tensor([[[[-4.8749, -1.2925, -0.4796,  ..., -1.0154, -0.1611,  0.7960],\n",
      "          [-2.6293, -1.7394, -1.4694,  ..., -1.5712, -1.2151,  3.4068],\n",
      "          [ 0.5379, -0.9354, -0.7567,  ..., -0.7018, -0.6208,  0.2830],\n",
      "          ...,\n",
      "          [-2.6891, -2.6745, -2.6719,  ..., -2.5535, -2.6514, -2.7031],\n",
      "          [-2.9315, -2.9306, -2.8654,  ..., -2.8884, -2.8488, -2.7900],\n",
      "          [-3.1042, -3.1675, -3.1209,  ..., -3.2550, -3.2691, -3.1589]]]],\n",
      "       device='cuda:0', grad_fn=<AddBackward0>), 'msl': tensor([[[[103155.7656, 103171.0000, 103361.3047,  ..., 103188.6484,\n",
      "           103373.1875, 103779.3672],\n",
      "          [103120.0859, 103376.4766, 103393.4688,  ..., 103378.6484,\n",
      "           103400.9844, 103553.7812],\n",
      "          [103412.0781, 103079.2734, 103266.9062,  ..., 103085.9062,\n",
      "           103279.3438, 103561.0078],\n",
      "          ...,\n",
      "          [100833.1016, 100828.8125, 100829.6875,  ..., 100808.6406,\n",
      "           100802.8594, 100802.4453],\n",
      "          [100774.3750, 100774.4766, 100769.6016,  ..., 100749.1953,\n",
      "           100748.4609, 100745.7109],\n",
      "          [100688.2344, 100688.4688, 100685.4922,  ..., 100670.0000,\n",
      "           100671.0859, 100670.5078]]]], device='cuda:0',\n",
      "       grad_fn=<AddBackward0>), 'fire': tensor([[[[ 1.5725,  0.3635,  0.8169,  ..., -0.1089,  0.8450, -0.9450],\n",
      "          [-3.1510,  1.6862,  0.6224,  ...,  1.7762,  1.0274,  1.3167],\n",
      "          [-0.6240, -1.8756, -0.5867,  ..., -1.8165, -0.6199,  1.8486],\n",
      "          ...,\n",
      "          [-0.2371, -1.0532,  0.0192,  ..., -1.2139,  0.2721,  0.7380],\n",
      "          [-0.1559, -0.3128, -0.3330,  ...,  0.2921, -0.4360, -0.2993],\n",
      "          [ 0.9598, -0.6867,  0.8512,  ..., -0.9127,  0.7003, -0.1197]]]],\n",
      "       device='cuda:0', grad_fn=<AddBackward0>), 'lst': tensor([[[[ 4.8698e+03,  1.5610e+04,  1.5298e+04,  ...,  1.5687e+04,\n",
      "            1.1844e+04, -5.5840e+00],\n",
      "          [ 3.0194e+04,  8.0828e+03,  3.5916e+04,  ...,  1.0033e+04,\n",
      "            3.8131e+04,  1.9069e+04],\n",
      "          [-6.9910e+03,  3.3224e+04,  1.3953e+04,  ...,  3.1893e+04,\n",
      "            1.5527e+04,  3.5842e+03],\n",
      "          ...,\n",
      "          [ 1.4429e+04,  1.1851e+04,  1.4179e+04,  ...,  1.3554e+04,\n",
      "            1.5518e+04,  1.2642e+04],\n",
      "          [ 9.4710e+03,  1.5647e+04,  1.1613e+04,  ...,  1.5155e+04,\n",
      "            1.1074e+04,  6.2063e+02],\n",
      "          [ 1.9149e+04,  7.6491e+03,  8.3493e+03,  ...,  6.5968e+03,\n",
      "            8.6703e+03,  7.4523e+03]]]], device='cuda:0',\n",
      "       grad_fn=<AddBackward0>)}, static_vars={'z': tensor([[ 3.2275e-01,  3.2275e-01,  3.2275e-01,  ...,  3.2275e-01,\n",
      "          3.2275e-01,  3.2275e-01],\n",
      "        [ 4.6157e+00,  4.6040e+00,  4.5884e+00,  ...,  4.7915e+00,\n",
      "          4.7329e+00,  4.6743e+00],\n",
      "        [-1.7710e+00, -1.7163e+00, -1.7085e+00,  ..., -1.5093e+00,\n",
      "         -1.6226e+00, -1.7124e+00],\n",
      "        ...,\n",
      "        [ 2.6638e+04,  2.6642e+04,  2.6647e+04,  ...,  2.6627e+04,\n",
      "          2.6631e+04,  2.6634e+04],\n",
      "        [ 2.6958e+04,  2.6961e+04,  2.6965e+04,  ...,  2.6950e+04,\n",
      "          2.6953e+04,  2.6956e+04],\n",
      "        [ 2.7163e+04,  2.7165e+04,  2.7167e+04,  ...,  2.7159e+04,\n",
      "          2.7160e+04,  2.7162e+04]], device='cuda:0'), 'slt': tensor([[0., 0., 0.,  ..., 0., 0., 0.],\n",
      "        [0., 0., 0.,  ..., 0., 0., 0.],\n",
      "        [0., 0., 0.,  ..., 0., 0., 0.],\n",
      "        ...,\n",
      "        [1., 1., 1.,  ..., 1., 1., 1.],\n",
      "        [1., 1., 1.,  ..., 1., 1., 1.],\n",
      "        [1., 1., 1.,  ..., 1., 1., 1.]], device='cuda:0'), 'lsm': tensor([[0., 0., 0.,  ..., 0., 0., 0.],\n",
      "        [0., 0., 0.,  ..., 0., 0., 0.],\n",
      "        [0., 0., 0.,  ..., 0., 0., 0.],\n",
      "        ...,\n",
      "        [1., 1., 1.,  ..., 1., 1., 1.],\n",
      "        [1., 1., 1.,  ..., 1., 1., 1.],\n",
      "        [1., 1., 1.,  ..., 1., 1., 1.]], device='cuda:0')}, atmos_vars={'t': tensor([[[[[253.0678, 252.9532, 252.9864,  ..., 251.7806, 251.8700,\n",
      "            251.9760],\n",
      "           [253.4178, 253.4042, 253.4882,  ..., 252.3365, 252.4279,\n",
      "            252.4541],\n",
      "           [253.7226, 253.7266, 253.7775,  ..., 252.9057, 252.9408,\n",
      "            252.9969],\n",
      "           ...,\n",
      "           [261.3773, 261.2387, 261.1628,  ..., 261.0561, 260.9697,\n",
      "            260.8234],\n",
      "           [261.9394, 261.8354, 261.8147,  ..., 261.9169, 261.9153,\n",
      "            261.9816],\n",
      "           [262.4042, 262.3528, 262.3931,  ..., 262.5049, 262.5680,\n",
      "            262.7904]],\n",
      "\n",
      "          [[252.4198, 252.3776, 252.4197,  ..., 252.1685, 252.2280,\n",
      "            252.2712],\n",
      "           [253.0806, 253.0798, 253.1377,  ..., 252.8577, 252.9245,\n",
      "            252.8753],\n",
      "           [253.7554, 253.7547, 253.7312,  ..., 253.5182, 253.4987,\n",
      "            253.5080],\n",
      "           ...,\n",
      "           [258.3848, 258.4144, 258.4585,  ..., 258.3852, 258.4243,\n",
      "            258.3203],\n",
      "           [258.8112, 258.8616, 258.9091,  ..., 258.9735, 259.0275,\n",
      "            259.0441],\n",
      "           [259.4121, 259.4465, 259.4864,  ..., 259.5492, 259.6006,\n",
      "            259.7372]],\n",
      "\n",
      "          [[252.9567, 252.9086, 252.9028,  ..., 252.6964, 252.7074,\n",
      "            252.6855],\n",
      "           [252.6675, 252.6472, 252.6939,  ..., 252.5457, 252.6081,\n",
      "            252.5219],\n",
      "           [252.5254, 252.5084, 252.5084,  ..., 252.4644, 252.4772,\n",
      "            252.4867],\n",
      "           ...,\n",
      "           [262.9765, 262.9539, 263.0072,  ..., 263.0193, 263.0688,\n",
      "            263.0918],\n",
      "           [263.2308, 263.1952, 263.2193,  ..., 263.2718, 263.3070,\n",
      "            263.3098],\n",
      "           [263.7971, 263.7460, 263.6963,  ..., 263.8141, 263.7764,\n",
      "            263.8120]],\n",
      "\n",
      "          ...,\n",
      "\n",
      "          [[215.7774, 215.7905, 215.7873,  ..., 215.8403, 215.8383,\n",
      "            215.8670],\n",
      "           [215.6535, 215.6604, 215.6744,  ..., 215.7962, 215.8080,\n",
      "            215.8305],\n",
      "           [215.5596, 215.5681, 215.5955,  ..., 215.7561, 215.7763,\n",
      "            215.7827],\n",
      "           ...,\n",
      "           [222.9413, 222.8996, 222.8862,  ..., 222.9042, 222.8959,\n",
      "            222.8888],\n",
      "           [223.0718, 223.0785, 223.1065,  ..., 223.0714, 223.1014,\n",
      "            223.1091],\n",
      "           [223.4280, 223.4832, 223.5437,  ..., 223.4890, 223.5499,\n",
      "            223.5925]],\n",
      "\n",
      "          [[218.2388, 218.2704, 218.3143,  ..., 218.0867, 218.1241,\n",
      "            218.1765],\n",
      "           [218.1566, 218.1404, 218.1792,  ..., 217.8495, 217.8852,\n",
      "            217.9456],\n",
      "           [218.0021, 217.9844, 218.0129,  ..., 217.6137, 217.6475,\n",
      "            217.6447],\n",
      "           ...,\n",
      "           [219.7470, 219.7549, 219.7881,  ..., 219.4391, 219.4781,\n",
      "            219.5555],\n",
      "           [219.6489, 219.5802, 219.5976,  ..., 219.3261, 219.3538,\n",
      "            219.4439],\n",
      "           [219.5512, 219.4889, 219.4921,  ..., 219.3181, 219.3329,\n",
      "            219.4777]],\n",
      "\n",
      "          [[219.1212, 219.0997, 219.1038,  ..., 219.1952, 219.1909,\n",
      "            219.2191],\n",
      "           [219.0377, 218.9825, 218.9808,  ..., 219.1083, 219.1022,\n",
      "            219.1252],\n",
      "           [218.9314, 218.8918, 218.8762,  ..., 219.0464, 219.0352,\n",
      "            218.9960],\n",
      "           ...,\n",
      "           [220.3796, 220.3489, 220.3890,  ..., 219.9069, 219.9408,\n",
      "            219.9239],\n",
      "           [220.2174, 220.2134, 220.2170,  ..., 219.7851, 219.7827,\n",
      "            219.7500],\n",
      "           [220.1246, 220.1093, 220.0896,  ..., 219.7009, 219.6754,\n",
      "            219.6900]]]]], device='cuda:0', grad_fn=<AddBackward0>), 'u': tensor([[[[[ 1.0762e+00,  1.0854e+00,  1.1057e+00,  ...,  1.0287e+00,\n",
      "             1.0687e+00,  1.0801e+00],\n",
      "           [ 6.5479e-01,  6.3843e-01,  6.6259e-01,  ...,  4.5452e-01,\n",
      "             4.8658e-01,  5.4663e-01],\n",
      "           [-1.5553e+00, -1.5866e+00, -1.5640e+00,  ..., -1.5490e+00,\n",
      "            -1.5160e+00, -1.4330e+00],\n",
      "           ...,\n",
      "           [-4.2356e+00, -4.1951e+00, -4.0891e+00,  ..., -4.0725e+00,\n",
      "            -3.9621e+00, -3.8797e+00],\n",
      "           [-4.1658e+00, -4.1273e+00, -4.0059e+00,  ..., -4.1724e+00,\n",
      "            -4.0091e+00, -3.8773e+00],\n",
      "           [-3.6949e+00, -3.6706e+00, -3.5840e+00,  ..., -3.7512e+00,\n",
      "            -3.6220e+00, -3.5105e+00]],\n",
      "\n",
      "          [[ 7.2803e-01,  7.2235e-01,  7.7324e-01,  ...,  5.8227e-01,\n",
      "             6.2560e-01,  6.5693e-01],\n",
      "           [ 2.7366e+00,  2.7021e+00,  2.7070e+00,  ...,  2.4770e+00,\n",
      "             2.4691e+00,  2.4731e+00],\n",
      "           [ 9.2238e-01,  8.9103e-01,  8.7025e-01,  ...,  8.7683e-01,\n",
      "             8.4745e-01,  8.2801e-01],\n",
      "           ...,\n",
      "           [-4.4971e+00, -4.5013e+00, -4.5235e+00,  ..., -4.4392e+00,\n",
      "            -4.4652e+00, -4.4755e+00],\n",
      "           [-4.0764e+00, -4.1040e+00, -4.1268e+00,  ..., -4.0923e+00,\n",
      "            -4.1087e+00, -4.1354e+00],\n",
      "           [-3.5986e+00, -3.6421e+00, -3.6747e+00,  ..., -3.6700e+00,\n",
      "            -3.6863e+00, -3.6594e+00]],\n",
      "\n",
      "          [[ 9.3481e-01,  9.1480e-01,  9.3193e-01,  ...,  7.8862e-01,\n",
      "             8.1288e-01,  8.4617e-01],\n",
      "           [ 3.5463e+00,  3.5405e+00,  3.5248e+00,  ...,  3.3973e+00,\n",
      "             3.3899e+00,  3.3794e+00],\n",
      "           [ 2.0491e+00,  2.0626e+00,  2.0417e+00,  ...,  2.0445e+00,\n",
      "             2.0334e+00,  1.9801e+00],\n",
      "           ...,\n",
      "           [-4.0314e+00, -4.1169e+00, -4.1879e+00,  ..., -3.9975e+00,\n",
      "            -4.0748e+00, -4.0924e+00],\n",
      "           [-3.8320e+00, -3.8847e+00, -3.8979e+00,  ..., -3.8697e+00,\n",
      "            -3.8847e+00, -3.9059e+00],\n",
      "           [-3.4170e+00, -3.4484e+00, -3.4453e+00,  ..., -3.4643e+00,\n",
      "            -3.4507e+00, -3.4422e+00]],\n",
      "\n",
      "          ...,\n",
      "\n",
      "          [[-3.8785e-01, -4.8306e-01, -5.2313e-01,  ..., -7.6543e-01,\n",
      "            -8.2480e-01, -9.0477e-01],\n",
      "           [-1.2112e+01, -1.2100e+01, -1.2170e+01,  ..., -1.1839e+01,\n",
      "            -1.1953e+01, -1.2084e+01],\n",
      "           [-1.2122e+01, -1.2142e+01, -1.2079e+01,  ..., -1.1907e+01,\n",
      "            -1.1873e+01, -1.1962e+01],\n",
      "           ...,\n",
      "           [-1.8366e+00, -1.9865e+00, -2.1571e+00,  ..., -2.0648e+00,\n",
      "            -2.2363e+00, -2.4399e+00],\n",
      "           [-1.5947e+00, -1.6515e+00, -1.6455e+00,  ..., -1.6683e+00,\n",
      "            -1.6643e+00, -1.7934e+00],\n",
      "           [-1.4896e+00, -1.5200e+00, -1.4860e+00,  ..., -1.4557e+00,\n",
      "            -1.4316e+00, -1.4954e+00]],\n",
      "\n",
      "          [[-3.7271e-01, -3.8045e-01, -3.7532e-01,  ...,  5.9234e-02,\n",
      "             2.8181e-02,  6.7933e-02],\n",
      "           [-2.4821e+01, -2.4825e+01, -2.4802e+01,  ..., -2.4214e+01,\n",
      "            -2.4219e+01, -2.4066e+01],\n",
      "           [-2.4013e+01, -2.4160e+01, -2.4109e+01,  ..., -2.3522e+01,\n",
      "            -2.3467e+01, -2.3267e+01],\n",
      "           ...,\n",
      "           [-2.3643e+00, -2.7638e+00, -3.1109e+00,  ..., -2.4837e+00,\n",
      "            -2.8030e+00, -3.0901e+00],\n",
      "           [-2.9680e+00, -3.2458e+00, -3.1576e+00,  ..., -3.0336e+00,\n",
      "            -2.9139e+00, -2.8525e+00],\n",
      "           [-3.5974e+00, -3.6203e+00, -3.2345e+00,  ..., -3.3374e+00,\n",
      "            -2.9478e+00, -2.4521e+00]],\n",
      "\n",
      "          [[-1.2704e+00, -1.2701e+00, -1.2004e+00,  ..., -4.0249e-01,\n",
      "            -3.8435e-01, -3.4056e-01],\n",
      "           [-2.9602e+01, -2.9558e+01, -2.9516e+01,  ..., -2.9463e+01,\n",
      "            -2.9479e+01, -2.9442e+01],\n",
      "           [-2.9224e+01, -2.9253e+01, -2.9133e+01,  ..., -2.9136e+01,\n",
      "            -2.9038e+01, -2.8901e+01],\n",
      "           ...,\n",
      "           [-3.5017e+00, -3.9833e+00, -4.5368e+00,  ..., -3.8546e+00,\n",
      "            -4.4206e+00, -4.8193e+00],\n",
      "           [-4.5844e+00, -4.8548e+00, -4.8941e+00,  ..., -4.7224e+00,\n",
      "            -4.7655e+00, -4.6885e+00],\n",
      "           [-5.3787e+00, -5.3912e+00, -5.1718e+00,  ..., -5.3021e+00,\n",
      "            -5.0679e+00, -4.6876e+00]]]]], device='cuda:0',\n",
      "       grad_fn=<AddBackward0>), 'v': tensor([[[[[-0.1439, -0.0378,  0.0457,  ...,  0.0266,  0.1196,  0.2052],\n",
      "           [ 0.7476,  0.8870,  0.9589,  ...,  0.6310,  0.6939,  0.7194],\n",
      "           [ 0.8458,  0.9882,  1.0462,  ...,  0.6539,  0.7319,  0.7490],\n",
      "           ...,\n",
      "           [-1.6353, -1.8233, -2.0816,  ..., -1.8241, -2.1004, -2.3597],\n",
      "           [-2.0015, -2.1386, -2.3180,  ..., -2.0367, -2.2335, -2.4103],\n",
      "           [-1.9367, -2.0118, -2.0975,  ..., -1.9860, -2.0938, -2.2244]],\n",
      "\n",
      "          [[ 0.0601,  0.1564,  0.1570,  ...,  0.0856,  0.1179,  0.0891],\n",
      "           [ 0.1849,  0.2665,  0.2774,  ...,  0.3833,  0.4069,  0.3832],\n",
      "           [ 0.3660,  0.4366,  0.4830,  ...,  0.4886,  0.5375,  0.5621],\n",
      "           ...,\n",
      "           [-1.8977, -2.0183, -2.1157,  ..., -1.9929, -2.0834, -2.2128],\n",
      "           [-2.2929, -2.3458, -2.3735,  ..., -2.2868, -2.3165, -2.4034],\n",
      "           [-2.6694, -2.6601, -2.6430,  ..., -2.6631, -2.6664, -2.7598]],\n",
      "\n",
      "          [[ 0.3854,  0.4470,  0.4661,  ...,  0.3571,  0.4140,  0.4417],\n",
      "           [-0.2293, -0.1463, -0.1009,  ..., -0.1686, -0.1099, -0.0748],\n",
      "           [-0.2768, -0.1530, -0.0562,  ..., -0.1243, -0.0369,  0.0274],\n",
      "           ...,\n",
      "           [-2.1320, -2.1311, -2.1602,  ..., -2.0430, -2.0471, -2.0791],\n",
      "           [-2.3685, -2.3561, -2.3843,  ..., -2.2663, -2.2791, -2.3407],\n",
      "           [-2.5970, -2.5903, -2.6080,  ..., -2.6368, -2.6449, -2.6743]],\n",
      "\n",
      "          ...,\n",
      "\n",
      "          [[ 0.4233,  0.3810,  0.4165,  ...,  0.4108,  0.4842,  0.6207],\n",
      "           [-3.2482, -3.2240, -3.1537,  ..., -4.1391, -4.0416, -3.9070],\n",
      "           [-2.4103, -2.4057, -2.3373,  ..., -3.2102, -3.1302, -3.0032],\n",
      "           ...,\n",
      "           [ 1.4330,  1.4266,  1.4371,  ...,  1.5219,  1.5354,  1.5183],\n",
      "           [ 1.4096,  1.3056,  1.1992,  ...,  1.3715,  1.2651,  1.1739],\n",
      "           [ 1.6519,  1.4228,  1.2342,  ...,  1.4253,  1.2365,  0.9679]],\n",
      "\n",
      "          [[-0.1239, -0.2172, -0.2713,  ..., -0.2169, -0.2517, -0.2349],\n",
      "           [-4.8543, -4.8110, -4.7477,  ..., -5.5473, -5.4755, -5.3468],\n",
      "           [-4.5133, -4.4932, -4.4277,  ..., -5.2759, -5.2028, -5.0800],\n",
      "           ...,\n",
      "           [ 0.2944,  0.2050,  0.0800,  ...,  0.1119,  0.0190, -0.1348],\n",
      "           [ 0.0878, -0.1579, -0.4043,  ..., -0.2968, -0.5259, -0.8251],\n",
      "           [ 0.0233, -0.2702, -0.6823,  ..., -0.5118, -0.9119, -1.3365]],\n",
      "\n",
      "          [[-0.2060, -0.2902, -0.3001,  ..., -0.3867, -0.4228, -0.4177],\n",
      "           [-2.3641, -2.3090, -2.1760,  ..., -2.7494, -2.6425, -2.5142],\n",
      "           [-2.2168, -2.1785, -2.0516,  ..., -2.5424, -2.4287, -2.3294],\n",
      "           ...,\n",
      "           [ 0.5596,  0.2652, -0.0197,  ...,  0.4764,  0.1967, -0.1468],\n",
      "           [ 0.5612,  0.2917,  0.0341,  ...,  0.4758,  0.2232, -0.0168],\n",
      "           [ 0.6654,  0.4110,  0.1279,  ...,  0.5464,  0.2811,  0.0583]]]]],\n",
      "       device='cuda:0', grad_fn=<AddBackward0>), 'q': tensor([[[[[4.9426e-04, 5.1562e-04, 5.2646e-04,  ..., 4.5729e-04,\n",
      "            4.7769e-04, 4.7802e-04],\n",
      "           [5.3328e-04, 5.4159e-04, 5.4558e-04,  ..., 4.8678e-04,\n",
      "            4.9476e-04, 5.0067e-04],\n",
      "           [5.4074e-04, 5.5389e-04, 5.3410e-04,  ..., 5.0518e-04,\n",
      "            4.8393e-04, 4.8613e-04],\n",
      "           ...,\n",
      "           [5.2098e-04, 5.4168e-04, 5.6810e-04,  ..., 5.5508e-04,\n",
      "            5.8315e-04, 5.8383e-04],\n",
      "           [4.6724e-04, 5.0790e-04, 5.2666e-04,  ..., 5.1258e-04,\n",
      "            5.3761e-04, 5.5207e-04],\n",
      "           [4.6079e-04, 4.8549e-04, 5.1996e-04,  ..., 4.7414e-04,\n",
      "            5.1691e-04, 5.3847e-04]],\n",
      "\n",
      "          [[4.8316e-04, 5.0846e-04, 5.2829e-04,  ..., 5.1613e-04,\n",
      "            5.3825e-04, 5.3470e-04],\n",
      "           [5.3821e-04, 5.4529e-04, 5.6039e-04,  ..., 5.6506e-04,\n",
      "            5.7669e-04, 5.8269e-04],\n",
      "           [5.7304e-04, 5.8800e-04, 5.7793e-04,  ..., 6.1407e-04,\n",
      "            5.9796e-04, 5.9863e-04],\n",
      "           ...,\n",
      "           [4.2458e-04, 4.1608e-04, 4.2025e-04,  ..., 4.1749e-04,\n",
      "            4.2603e-04, 4.3917e-04],\n",
      "           [3.6894e-04, 3.9303e-04, 3.8764e-04,  ..., 3.9268e-04,\n",
      "            3.9052e-04, 4.0247e-04],\n",
      "           [3.4996e-04, 3.5526e-04, 3.7220e-04,  ..., 3.6206e-04,\n",
      "            3.7687e-04, 3.8701e-04]],\n",
      "\n",
      "          [[1.9930e-04, 2.0702e-04, 2.1056e-04,  ..., 2.1528e-04,\n",
      "            2.1253e-04, 1.9432e-04],\n",
      "           [2.3547e-04, 2.3308e-04, 2.3489e-04,  ..., 2.5215e-04,\n",
      "            2.4632e-04, 2.3693e-04],\n",
      "           [2.8267e-04, 2.9178e-04, 2.7767e-04,  ..., 3.1301e-04,\n",
      "            2.9244e-04, 2.7613e-04],\n",
      "           ...,\n",
      "           [6.8323e-04, 6.7809e-04, 6.5805e-04,  ..., 6.7973e-04,\n",
      "            6.5955e-04, 6.3310e-04],\n",
      "           [6.8578e-04, 7.0348e-04, 6.8047e-04,  ..., 7.1211e-04,\n",
      "            6.8846e-04, 6.7504e-04],\n",
      "           [6.8027e-04, 7.0837e-04, 7.2111e-04,  ..., 7.3787e-04,\n",
      "            7.5745e-04, 7.6570e-04]],\n",
      "\n",
      "          ...,\n",
      "\n",
      "          [[4.0416e-06, 4.2117e-06, 4.3480e-06,  ..., 4.2685e-06,\n",
      "            4.3593e-06, 4.2851e-06],\n",
      "           [4.0513e-06, 4.0884e-06, 4.1855e-06,  ..., 4.0426e-06,\n",
      "            4.1171e-06, 4.0518e-06],\n",
      "           [3.9099e-06, 3.9317e-06, 3.9435e-06,  ..., 3.8096e-06,\n",
      "            3.8109e-06, 3.8372e-06],\n",
      "           ...,\n",
      "           [2.5676e-06, 2.5066e-06, 2.5761e-06,  ..., 2.5761e-06,\n",
      "            2.6661e-06, 2.6758e-06],\n",
      "           [2.3468e-06, 2.2202e-06, 2.2297e-06,  ..., 2.2595e-06,\n",
      "            2.2781e-06, 2.3795e-06],\n",
      "           [2.4962e-06, 2.2913e-06, 2.1947e-06,  ..., 2.3323e-06,\n",
      "            2.2140e-06, 2.2276e-06]],\n",
      "\n",
      "          [[2.8873e-06, 2.8855e-06, 2.8813e-06,  ..., 2.8858e-06,\n",
      "            2.8817e-06, 2.8761e-06],\n",
      "           [2.8658e-06, 2.8638e-06, 2.8620e-06,  ..., 2.8627e-06,\n",
      "            2.8608e-06, 2.8562e-06],\n",
      "           [2.8390e-06, 2.8372e-06, 2.8375e-06,  ..., 2.8356e-06,\n",
      "            2.8350e-06, 2.8313e-06],\n",
      "           ...,\n",
      "           [2.4948e-06, 2.5120e-06, 2.5156e-06,  ..., 2.5084e-06,\n",
      "            2.5144e-06, 2.5042e-06],\n",
      "           [2.4615e-06, 2.4780e-06, 2.4889e-06,  ..., 2.4872e-06,\n",
      "            2.4979e-06, 2.4963e-06],\n",
      "           [2.4511e-06, 2.4604e-06, 2.4703e-06,  ..., 2.4719e-06,\n",
      "            2.4800e-06, 2.4747e-06]],\n",
      "\n",
      "          [[2.8886e-06, 2.8890e-06, 2.8895e-06,  ..., 2.8843e-06,\n",
      "            2.8847e-06, 2.8852e-06],\n",
      "           [2.8900e-06, 2.8899e-06, 2.8904e-06,  ..., 2.8885e-06,\n",
      "            2.8889e-06, 2.8882e-06],\n",
      "           [2.8864e-06, 2.8857e-06, 2.8863e-06,  ..., 2.8879e-06,\n",
      "            2.8887e-06, 2.8889e-06],\n",
      "           ...,\n",
      "           [2.5637e-06, 2.5780e-06, 2.5852e-06,  ..., 2.5829e-06,\n",
      "            2.5894e-06, 2.5849e-06],\n",
      "           [2.5443e-06, 2.5597e-06, 2.5709e-06,  ..., 2.5653e-06,\n",
      "            2.5759e-06, 2.5760e-06],\n",
      "           [2.5434e-06, 2.5494e-06, 2.5517e-06,  ..., 2.5540e-06,\n",
      "            2.5569e-06, 2.5532e-06]]]]], device='cuda:0',\n",
      "       grad_fn=<AddBackward0>), 'z': tensor([[[[[  1761.7148,   1764.4604,   1766.3538,  ...,   1787.5542,\n",
      "              1787.4548,   1783.9109],\n",
      "           [  1786.0374,   1788.0220,   1788.5989,  ...,   1798.6658,\n",
      "              1798.3684,   1797.7231],\n",
      "           [  1797.9878,   1798.1343,   1802.0554,  ...,   1800.7249,\n",
      "              1804.8792,   1803.4526],\n",
      "           ...,\n",
      "           [   344.1989,    345.8950,    347.1611,  ...,    354.2242,\n",
      "               356.3124,    354.1271],\n",
      "           [   315.5240,    315.6721,    311.7759,  ...,    312.7455,\n",
      "               309.0732,    305.5089],\n",
      "           [   292.1935,    287.4634,    279.4576,  ...,    287.6305,\n",
      "               279.9420,    273.5722]],\n",
      "\n",
      "          [[  7428.7642,   7429.7104,   7431.8838,  ...,   7433.7246,\n",
      "              7435.1704,   7435.8359],\n",
      "           [  7456.6479,   7456.3633,   7456.9067,  ...,   7456.0195,\n",
      "              7456.1450,   7455.7988],\n",
      "           [  7475.6357,   7475.4448,   7476.9043,  ...,   7471.5566,\n",
      "              7472.8281,   7472.9858],\n",
      "           ...,\n",
      "           [  6279.3071,   6277.7061,   6279.8838,  ...,   6275.6484,\n",
      "              6278.7324,   6280.0908],\n",
      "           [  6257.7695,   6258.8730,   6260.1255,  ...,   6252.8701,\n",
      "              6254.8555,   6256.1851],\n",
      "           [  6231.8765,   6234.0840,   6236.5898,  ...,   6236.3247,\n",
      "              6239.0308,   6237.9790]],\n",
      "\n",
      "          [[ 13582.7354,  13585.0078,  13585.2041,  ...,  13583.2393,\n",
      "             13582.8945,  13582.6191],\n",
      "           [ 13608.7061,  13610.2031,  13610.6484,  ...,  13605.8838,\n",
      "             13605.7744,  13606.6670],\n",
      "           [ 13629.3174,  13628.8506,  13630.9160,  ...,  13622.3389,\n",
      "             13623.9785,  13623.2207],\n",
      "           ...,\n",
      "           [ 12695.2959,  12693.5430,  12698.5918,  ...,  12687.1064,\n",
      "             12692.9502,  12696.6182],\n",
      "           [ 12686.7051,  12689.2871,  12690.2744,  ...,  12680.5029,\n",
      "             12681.9297,  12687.2910],\n",
      "           [ 12668.9355,  12673.3105,  12678.2764,  ...,  12667.9004,\n",
      "             12673.1045,  12673.7959]],\n",
      "\n",
      "          ...,\n",
      "\n",
      "          [[108562.4922, 108575.3359, 108566.7812,  ..., 108572.2031,\n",
      "            108563.4141, 108568.6641],\n",
      "           [108494.4844, 108494.6250, 108501.6484,  ..., 108495.4688,\n",
      "            108502.7344, 108536.7578],\n",
      "           [108475.5781, 108464.7578, 108483.3203,  ..., 108470.1875,\n",
      "            108489.5312, 108473.3047],\n",
      "           ...,\n",
      "           [108991.2812, 108983.8672, 108995.6328,  ..., 109022.0547,\n",
      "            109034.7969, 109046.9219],\n",
      "           [108996.4297, 109007.1016, 109009.7500,  ..., 109045.0547,\n",
      "            109049.1797, 109058.5625],\n",
      "           [108994.1641, 109004.1953, 109014.2188,  ..., 109043.0781,\n",
      "            109054.8906, 109055.7891]],\n",
      "\n",
      "          [[151849.5000, 151858.5469, 151855.0156,  ..., 151867.1094,\n",
      "            151863.9375, 151876.0312],\n",
      "           [151726.7812, 151728.8438, 151733.6094,  ..., 151744.2969,\n",
      "            151749.0625, 151776.2188],\n",
      "           [151649.7656, 151650.6562, 151661.2031,  ..., 151671.2344,\n",
      "            151680.8438, 151670.4375],\n",
      "           ...,\n",
      "           [153666.8906, 153660.9531, 153667.0625,  ..., 153697.9531,\n",
      "            153706.0781, 153689.9219],\n",
      "           [153645.9688, 153667.7344, 153667.6094,  ..., 153701.2656,\n",
      "            153703.3281, 153712.5938],\n",
      "           [153619.0000, 153636.4375, 153646.7656,  ..., 153666.2188,\n",
      "            153679.5469, 153678.7188]],\n",
      "\n",
      "          [[195122.4531, 195116.5625, 195119.7969,  ..., 195105.7188,\n",
      "            195108.6875, 195126.4062],\n",
      "           [194978.0469, 194973.2031, 194978.6562,  ..., 194972.2500,\n",
      "            194976.4531, 194984.1250],\n",
      "           [194844.2188, 194861.0469, 194855.2969,  ..., 194869.4062,\n",
      "            194862.3906, 194870.5625],\n",
      "           ...,\n",
      "           [196654.6250, 196658.1094, 196671.3438,  ..., 196638.2500,\n",
      "            196655.7812, 196652.0625],\n",
      "           [196654.4688, 196686.3125, 196692.3906,  ..., 196658.9688,\n",
      "            196667.5312, 196704.0625],\n",
      "           [196666.7344, 196681.0469, 196707.0156,  ..., 196646.6094,\n",
      "            196674.8906, 196689.9219]]]]], device='cuda:0',\n",
      "       grad_fn=<AddBackward0>)}, metadata=Metadata(lat=tensor([ 90.0000,  89.7500,  89.5000,  89.2500,  89.0000,  88.7500,  88.5000,\n",
      "         88.2500,  88.0000,  87.7500,  87.5000,  87.2500,  87.0000,  86.7500,\n",
      "         86.5000,  86.2500,  86.0000,  85.7500,  85.5000,  85.2500,  85.0000,\n",
      "         84.7500,  84.5000,  84.2500,  84.0000,  83.7500,  83.5000,  83.2500,\n",
      "         83.0000,  82.7500,  82.5000,  82.2500,  82.0000,  81.7500,  81.5000,\n",
      "         81.2500,  81.0000,  80.7500,  80.5000,  80.2500,  80.0000,  79.7500,\n",
      "         79.5000,  79.2500,  79.0000,  78.7500,  78.5000,  78.2500,  78.0000,\n",
      "         77.7500,  77.5000,  77.2500,  77.0000,  76.7500,  76.5000,  76.2500,\n",
      "         76.0000,  75.7500,  75.5000,  75.2500,  75.0000,  74.7500,  74.5000,\n",
      "         74.2500,  74.0000,  73.7500,  73.5000,  73.2500,  73.0000,  72.7500,\n",
      "         72.5000,  72.2500,  72.0000,  71.7500,  71.5000,  71.2500,  71.0000,\n",
      "         70.7500,  70.5000,  70.2500,  70.0000,  69.7500,  69.5000,  69.2500,\n",
      "         69.0000,  68.7500,  68.5000,  68.2500,  68.0000,  67.7500,  67.5000,\n",
      "         67.2500,  67.0000,  66.7500,  66.5000,  66.2500,  66.0000,  65.7500,\n",
      "         65.5000,  65.2500,  65.0000,  64.7500,  64.5000,  64.2500,  64.0000,\n",
      "         63.7500,  63.5000,  63.2500,  63.0000,  62.7500,  62.5000,  62.2500,\n",
      "         62.0000,  61.7500,  61.5000,  61.2500,  61.0000,  60.7500,  60.5000,\n",
      "         60.2500,  60.0000,  59.7500,  59.5000,  59.2500,  59.0000,  58.7500,\n",
      "         58.5000,  58.2500,  58.0000,  57.7500,  57.5000,  57.2500,  57.0000,\n",
      "         56.7500,  56.5000,  56.2500,  56.0000,  55.7500,  55.5000,  55.2500,\n",
      "         55.0000,  54.7500,  54.5000,  54.2500,  54.0000,  53.7500,  53.5000,\n",
      "         53.2500,  53.0000,  52.7500,  52.5000,  52.2500,  52.0000,  51.7500,\n",
      "         51.5000,  51.2500,  51.0000,  50.7500,  50.5000,  50.2500,  50.0000,\n",
      "         49.7500,  49.5000,  49.2500,  49.0000,  48.7500,  48.5000,  48.2500,\n",
      "         48.0000,  47.7500,  47.5000,  47.2500,  47.0000,  46.7500,  46.5000,\n",
      "         46.2500,  46.0000,  45.7500,  45.5000,  45.2500,  45.0000,  44.7500,\n",
      "         44.5000,  44.2500,  44.0000,  43.7500,  43.5000,  43.2500,  43.0000,\n",
      "         42.7500,  42.5000,  42.2500,  42.0000,  41.7500,  41.5000,  41.2500,\n",
      "         41.0000,  40.7500,  40.5000,  40.2500,  40.0000,  39.7500,  39.5000,\n",
      "         39.2500,  39.0000,  38.7500,  38.5000,  38.2500,  38.0000,  37.7500,\n",
      "         37.5000,  37.2500,  37.0000,  36.7500,  36.5000,  36.2500,  36.0000,\n",
      "         35.7500,  35.5000,  35.2500,  35.0000,  34.7500,  34.5000,  34.2500,\n",
      "         34.0000,  33.7500,  33.5000,  33.2500,  33.0000,  32.7500,  32.5000,\n",
      "         32.2500,  32.0000,  31.7500,  31.5000,  31.2500,  31.0000,  30.7500,\n",
      "         30.5000,  30.2500,  30.0000,  29.7500,  29.5000,  29.2500,  29.0000,\n",
      "         28.7500,  28.5000,  28.2500,  28.0000,  27.7500,  27.5000,  27.2500,\n",
      "         27.0000,  26.7500,  26.5000,  26.2500,  26.0000,  25.7500,  25.5000,\n",
      "         25.2500,  25.0000,  24.7500,  24.5000,  24.2500,  24.0000,  23.7500,\n",
      "         23.5000,  23.2500,  23.0000,  22.7500,  22.5000,  22.2500,  22.0000,\n",
      "         21.7500,  21.5000,  21.2500,  21.0000,  20.7500,  20.5000,  20.2500,\n",
      "         20.0000,  19.7500,  19.5000,  19.2500,  19.0000,  18.7500,  18.5000,\n",
      "         18.2500,  18.0000,  17.7500,  17.5000,  17.2500,  17.0000,  16.7500,\n",
      "         16.5000,  16.2500,  16.0000,  15.7500,  15.5000,  15.2500,  15.0000,\n",
      "         14.7500,  14.5000,  14.2500,  14.0000,  13.7500,  13.5000,  13.2500,\n",
      "         13.0000,  12.7500,  12.5000,  12.2500,  12.0000,  11.7500,  11.5000,\n",
      "         11.2500,  11.0000,  10.7500,  10.5000,  10.2500,  10.0000,   9.7500,\n",
      "          9.5000,   9.2500,   9.0000,   8.7500,   8.5000,   8.2500,   8.0000,\n",
      "          7.7500,   7.5000,   7.2500,   7.0000,   6.7500,   6.5000,   6.2500,\n",
      "          6.0000,   5.7500,   5.5000,   5.2500,   5.0000,   4.7500,   4.5000,\n",
      "          4.2500,   4.0000,   3.7500,   3.5000,   3.2500,   3.0000,   2.7500,\n",
      "          2.5000,   2.2500,   2.0000,   1.7500,   1.5000,   1.2500,   1.0000,\n",
      "          0.7500,   0.5000,   0.2500,   0.0000,  -0.2500,  -0.5000,  -0.7500,\n",
      "         -1.0000,  -1.2500,  -1.5000,  -1.7500,  -2.0000,  -2.2500,  -2.5000,\n",
      "         -2.7500,  -3.0000,  -3.2500,  -3.5000,  -3.7500,  -4.0000,  -4.2500,\n",
      "         -4.5000,  -4.7500,  -5.0000,  -5.2500,  -5.5000,  -5.7500,  -6.0000,\n",
      "         -6.2500,  -6.5000,  -6.7500,  -7.0000,  -7.2500,  -7.5000,  -7.7500,\n",
      "         -8.0000,  -8.2500,  -8.5000,  -8.7500,  -9.0000,  -9.2500,  -9.5000,\n",
      "         -9.7500, -10.0000, -10.2500, -10.5000, -10.7500, -11.0000, -11.2500,\n",
      "        -11.5000, -11.7500, -12.0000, -12.2500, -12.5000, -12.7500, -13.0000,\n",
      "        -13.2500, -13.5000, -13.7500, -14.0000, -14.2500, -14.5000, -14.7500,\n",
      "        -15.0000, -15.2500, -15.5000, -15.7500, -16.0000, -16.2500, -16.5000,\n",
      "        -16.7500, -17.0000, -17.2500, -17.5000, -17.7500, -18.0000, -18.2500,\n",
      "        -18.5000, -18.7500, -19.0000, -19.2500, -19.5000, -19.7500, -20.0000,\n",
      "        -20.2500, -20.5000, -20.7500, -21.0000, -21.2500, -21.5000, -21.7500,\n",
      "        -22.0000, -22.2500, -22.5000, -22.7500, -23.0000, -23.2500, -23.5000,\n",
      "        -23.7500, -24.0000, -24.2500, -24.5000, -24.7500, -25.0000, -25.2500,\n",
      "        -25.5000, -25.7500, -26.0000, -26.2500, -26.5000, -26.7500, -27.0000,\n",
      "        -27.2500, -27.5000, -27.7500, -28.0000, -28.2500, -28.5000, -28.7500,\n",
      "        -29.0000, -29.2500, -29.5000, -29.7500, -30.0000, -30.2500, -30.5000,\n",
      "        -30.7500, -31.0000, -31.2500, -31.5000, -31.7500, -32.0000, -32.2500,\n",
      "        -32.5000, -32.7500, -33.0000, -33.2500, -33.5000, -33.7500, -34.0000,\n",
      "        -34.2500, -34.5000, -34.7500, -35.0000, -35.2500, -35.5000, -35.7500,\n",
      "        -36.0000, -36.2500, -36.5000, -36.7500, -37.0000, -37.2500, -37.5000,\n",
      "        -37.7500, -38.0000, -38.2500, -38.5000, -38.7500, -39.0000, -39.2500,\n",
      "        -39.5000, -39.7500, -40.0000, -40.2500, -40.5000, -40.7500, -41.0000,\n",
      "        -41.2500, -41.5000, -41.7500, -42.0000, -42.2500, -42.5000, -42.7500,\n",
      "        -43.0000, -43.2500, -43.5000, -43.7500, -44.0000, -44.2500, -44.5000,\n",
      "        -44.7500, -45.0000, -45.2500, -45.5000, -45.7500, -46.0000, -46.2500,\n",
      "        -46.5000, -46.7500, -47.0000, -47.2500, -47.5000, -47.7500, -48.0000,\n",
      "        -48.2500, -48.5000, -48.7500, -49.0000, -49.2500, -49.5000, -49.7500,\n",
      "        -50.0000, -50.2500, -50.5000, -50.7500, -51.0000, -51.2500, -51.5000,\n",
      "        -51.7500, -52.0000, -52.2500, -52.5000, -52.7500, -53.0000, -53.2500,\n",
      "        -53.5000, -53.7500, -54.0000, -54.2500, -54.5000, -54.7500, -55.0000,\n",
      "        -55.2500, -55.5000, -55.7500, -56.0000, -56.2500, -56.5000, -56.7500,\n",
      "        -57.0000, -57.2500, -57.5000, -57.7500, -58.0000, -58.2500, -58.5000,\n",
      "        -58.7500, -59.0000, -59.2500, -59.5000, -59.7500, -60.0000, -60.2500,\n",
      "        -60.5000, -60.7500, -61.0000, -61.2500, -61.5000, -61.7500, -62.0000,\n",
      "        -62.2500, -62.5000, -62.7500, -63.0000, -63.2500, -63.5000, -63.7500,\n",
      "        -64.0000, -64.2500, -64.5000, -64.7500, -65.0000, -65.2500, -65.5000,\n",
      "        -65.7500, -66.0000, -66.2500, -66.5000, -66.7500, -67.0000, -67.2500,\n",
      "        -67.5000, -67.7500, -68.0000, -68.2500, -68.5000, -68.7500, -69.0000,\n",
      "        -69.2500, -69.5000, -69.7500, -70.0000, -70.2500, -70.5000, -70.7500,\n",
      "        -71.0000, -71.2500, -71.5000, -71.7500, -72.0000, -72.2500, -72.5000,\n",
      "        -72.7500, -73.0000, -73.2500, -73.5000, -73.7500, -74.0000, -74.2500,\n",
      "        -74.5000, -74.7500, -75.0000, -75.2500, -75.5000, -75.7500, -76.0000,\n",
      "        -76.2500, -76.5000, -76.7500, -77.0000, -77.2500, -77.5000, -77.7500,\n",
      "        -78.0000, -78.2500, -78.5000, -78.7500, -79.0000, -79.2500, -79.5000,\n",
      "        -79.7500, -80.0000, -80.2500, -80.5000, -80.7500, -81.0000, -81.2500,\n",
      "        -81.5000, -81.7500, -82.0000, -82.2500, -82.5000, -82.7500, -83.0000,\n",
      "        -83.2500, -83.5000, -83.7500, -84.0000, -84.2500, -84.5000, -84.7500,\n",
      "        -85.0000, -85.2500, -85.5000, -85.7500, -86.0000, -86.2500, -86.5000,\n",
      "        -86.7500, -87.0000, -87.2500, -87.5000, -87.7500, -88.0000, -88.2500,\n",
      "        -88.5000, -88.7500, -89.0000, -89.2500, -89.5000, -89.7500],\n",
      "       device='cuda:0'), lon=tensor([0.0000e+00, 2.5000e-01, 5.0000e-01,  ..., 3.5925e+02, 3.5950e+02,\n",
      "        3.5975e+02], device='cuda:0'), time=(datetime.datetime(2015, 1, 4, 12, 0),), atmos_levels=(1000, 925, 850, 700, 600, 500, 400, 300, 250, 200, 100, 50), rollout_step=1))\n"
     ]
    },
    {
     "name": "stderr",
     "output_type": "stream",
     "text": [
      "/home/ubuntu/.local/lib/python3.10/site-packages/torch/autograd/graph.py:825: UserWarning: cuDNN SDPA backward got grad_output.strides() != output.strides(), attempting to materialize a grad_output with matching strides... (Triggered internally at /pytorch/aten/src/ATen/native/cudnn/MHA.cpp:674.)\n",
      "  return Variable._execution_engine.run_backward(  # Calls into the C++ engine to run the backward pass\n"
     ]
    },
    {
     "name": "stdout",
     "output_type": "stream",
     "text": [
      "computed first batch\n",
      "Batch(surf_vars={'2t': tensor([[[[246.5566, 249.0670, 248.9123,  ..., 248.7042, 248.8638, 246.1772],\n",
      "          [254.5370, 254.2614, 253.9191,  ..., 253.9032, 253.9358, 248.8828],\n",
      "          [250.2312, 251.7356, 247.2331,  ..., 251.6860, 247.5735, 246.9567],\n",
      "          ...,\n",
      "          [245.6753, 245.1755, 245.6828,  ..., 246.0768, 246.3116, 246.4983],\n",
      "          [247.3932, 246.8410, 247.1264,  ..., 246.4315, 246.4003, 246.4061],\n",
      "          [245.2274, 245.0392, 245.4596,  ..., 246.7330, 246.5004, 246.3099]]]],\n",
      "       device='cuda:0', grad_fn=<AddBackward0>), '10u': tensor([[[[  2.6317,   2.3470,   0.6036,  ...,   1.8345,   0.3006,   2.6186],\n",
      "          [ -8.5061,  -7.9438, -10.3034,  ...,  -7.3911,  -9.7658,  -7.0160],\n",
      "          [ -5.3238,  -5.0784, -10.9660,  ...,  -4.7888, -10.6551,  -8.6438],\n",
      "          ...,\n",
      "          [ -4.4275,  -4.4794,  -4.4256,  ...,  -3.8151,  -3.9774,  -4.1757],\n",
      "          [ -3.8242,  -3.6514,  -3.3166,  ...,  -4.1819,  -4.0720,  -4.0007],\n",
      "          [ -2.8588,  -3.0151,  -3.1744,  ...,  -3.3562,  -3.2996,  -3.2045]]]],\n",
      "       device='cuda:0', grad_fn=<AddBackward0>), '10v': tensor([[[[-4.7491, -1.6176, -0.7612,  ..., -1.4165, -0.5728,  0.2893],\n",
      "          [-2.8881, -2.2159, -1.9689,  ..., -2.2295, -1.8949,  2.3415],\n",
      "          [-0.4747, -1.8935, -1.7017,  ..., -2.1070, -1.8317, -1.0392],\n",
      "          ...,\n",
      "          [-1.6352, -1.9366, -1.8378,  ..., -1.3894, -1.5044, -1.5757],\n",
      "          [-2.3182, -2.2129, -1.9340,  ..., -2.1369, -2.0058, -1.8792],\n",
      "          [-2.4786, -2.5525, -2.5754,  ..., -2.8270, -2.7938, -2.6295]]]],\n",
      "       device='cuda:0', grad_fn=<AddBackward0>), 'msl': tensor([[[[102834.5391, 102837.0781, 103025.3281,  ..., 102846.4766,\n",
      "           103030.6172, 103434.9531],\n",
      "          [102781.9531, 103022.9141, 103044.7422,  ..., 103046.5781,\n",
      "           103074.0078, 103226.7031],\n",
      "          [103082.3125, 102720.5156, 102909.7344,  ..., 102749.7734,\n",
      "           102940.0469, 103221.5156],\n",
      "          ...,\n",
      "          [100387.4609, 100432.2578, 100446.0938,  ..., 100324.0000,\n",
      "           100320.5859, 100315.9219],\n",
      "          [100378.5547, 100403.3906, 100385.3594,  ..., 100296.4062,\n",
      "           100302.9375, 100300.4453],\n",
      "          [100358.1797, 100340.3281, 100283.6875,  ..., 100229.9219,\n",
      "           100226.4141, 100236.1406]]]], device='cuda:0',\n",
      "       grad_fn=<AddBackward0>), 'fire': tensor([[[[ 1.4000,  0.4946,  0.4597,  ...,  0.0145,  0.6163, -1.2973],\n",
      "          [-2.9834,  1.6034,  0.8447,  ...,  1.6434,  1.2762,  1.4595],\n",
      "          [-0.5256, -1.6139, -0.6010,  ..., -1.6112, -0.5811,  1.9214],\n",
      "          ...,\n",
      "          [-0.5346, -0.7558, -0.2672,  ..., -0.9423,  0.0912,  0.7919],\n",
      "          [ 0.0804, -0.2350, -0.6094,  ...,  0.3667, -0.5326, -0.1285],\n",
      "          [ 0.8870, -0.7816,  1.4725,  ..., -1.0411,  0.5906, -0.2948]]]],\n",
      "       device='cuda:0', grad_fn=<AddBackward0>), 'lst': tensor([[[[ 6144.7876, 11625.5176, 13603.5322,  ..., 14394.2168,\n",
      "           10728.5205, -2008.1045],\n",
      "          [29104.3164,  5814.5918, 36189.8398,  ...,  6440.6968,\n",
      "           38131.1484, 17418.6641],\n",
      "          [-6850.8525, 34185.3281, 15204.8008,  ..., 31436.2031,\n",
      "           15227.7939,  2587.2207],\n",
      "          ...,\n",
      "          [15447.8086, 13563.4932, 14566.8828,  ..., 13585.0703,\n",
      "           17283.3516, 11065.9502],\n",
      "          [12127.2354, 18459.2168, 12575.8447,  ..., 14825.0049,\n",
      "           10619.8564,  2944.5127],\n",
      "          [19972.0664,  7581.4106,  9182.0479,  ...,  7052.6211,\n",
      "            6492.8052,  8230.0654]]]], device='cuda:0', grad_fn=<AddBackward0>)}, static_vars={'z': tensor([[ 3.2275e-01,  3.2275e-01,  3.2275e-01,  ...,  3.2275e-01,\n",
      "          3.2275e-01,  3.2275e-01],\n",
      "        [ 4.6157e+00,  4.6040e+00,  4.5884e+00,  ...,  4.7915e+00,\n",
      "          4.7329e+00,  4.6743e+00],\n",
      "        [-1.7710e+00, -1.7163e+00, -1.7085e+00,  ..., -1.5093e+00,\n",
      "         -1.6226e+00, -1.7124e+00],\n",
      "        ...,\n",
      "        [ 2.6638e+04,  2.6642e+04,  2.6647e+04,  ...,  2.6627e+04,\n",
      "          2.6631e+04,  2.6634e+04],\n",
      "        [ 2.6958e+04,  2.6961e+04,  2.6965e+04,  ...,  2.6950e+04,\n",
      "          2.6953e+04,  2.6956e+04],\n",
      "        [ 2.7163e+04,  2.7165e+04,  2.7167e+04,  ...,  2.7159e+04,\n",
      "          2.7160e+04,  2.7162e+04]], device='cuda:0'), 'slt': tensor([[0., 0., 0.,  ..., 0., 0., 0.],\n",
      "        [0., 0., 0.,  ..., 0., 0., 0.],\n",
      "        [0., 0., 0.,  ..., 0., 0., 0.],\n",
      "        ...,\n",
      "        [1., 1., 1.,  ..., 1., 1., 1.],\n",
      "        [1., 1., 1.,  ..., 1., 1., 1.],\n",
      "        [1., 1., 1.,  ..., 1., 1., 1.]], device='cuda:0'), 'lsm': tensor([[0., 0., 0.,  ..., 0., 0., 0.],\n",
      "        [0., 0., 0.,  ..., 0., 0., 0.],\n",
      "        [0., 0., 0.,  ..., 0., 0., 0.],\n",
      "        ...,\n",
      "        [1., 1., 1.,  ..., 1., 1., 1.],\n",
      "        [1., 1., 1.,  ..., 1., 1., 1.],\n",
      "        [1., 1., 1.,  ..., 1., 1., 1.]], device='cuda:0')}, atmos_vars={'t': tensor([[[[[252.3774, 252.2945, 252.3273,  ..., 251.6500, 251.7189,\n",
      "            251.7875],\n",
      "           [252.6422, 252.6296, 252.6951,  ..., 252.1444, 252.2133,\n",
      "            252.2300],\n",
      "           [253.2570, 253.2582, 253.3021,  ..., 253.0252, 253.0634,\n",
      "            253.1299],\n",
      "           ...,\n",
      "           [264.6792, 264.4735, 264.3450,  ..., 264.9097, 264.8164,\n",
      "            264.7161],\n",
      "           [265.5323, 265.3532, 265.2997,  ..., 265.6867, 265.6630,\n",
      "            265.7100],\n",
      "           [265.7731, 265.6615, 265.6553,  ..., 266.0635, 266.1049,\n",
      "            266.2934]],\n",
      "\n",
      "          [[253.0310, 252.9886, 253.0017,  ..., 252.8642, 252.8846,\n",
      "            252.8692],\n",
      "           [253.1220, 253.1065, 253.1389,  ..., 253.0272, 253.0603,\n",
      "            252.9821],\n",
      "           [253.4720, 253.4563, 253.4294,  ..., 253.3661, 253.3392,\n",
      "            253.3361],\n",
      "           ...,\n",
      "           [261.5435, 261.5309, 261.5424,  ..., 261.6942, 261.7292,\n",
      "            261.6651],\n",
      "           [262.1307, 262.1441, 262.1745,  ..., 262.3028, 262.3480,\n",
      "            262.3600],\n",
      "           [262.5142, 262.5372, 262.5657,  ..., 262.7040, 262.7420,\n",
      "            262.8462]],\n",
      "\n",
      "          [[252.6878, 252.6485, 252.6337,  ..., 252.4814, 252.4725,\n",
      "            252.4221],\n",
      "           [252.5008, 252.4841, 252.5257,  ..., 252.3455, 252.3915,\n",
      "            252.2821],\n",
      "           [252.3612, 252.3422, 252.3424,  ..., 252.2279, 252.2338,\n",
      "            252.2314],\n",
      "           ...,\n",
      "           [266.7706, 266.7178, 266.7315,  ..., 266.8543, 266.8914,\n",
      "            266.9150],\n",
      "           [267.1185, 267.0588, 267.0525,  ..., 267.0464, 267.0746,\n",
      "            267.0926],\n",
      "           [267.6879, 267.6068, 267.5368,  ..., 267.4385, 267.4129,\n",
      "            267.4601]],\n",
      "\n",
      "          ...,\n",
      "\n",
      "          [[216.4057, 216.4100, 216.4079,  ..., 216.4233, 216.4165,\n",
      "            216.4322],\n",
      "           [216.1671, 216.1650, 216.1785,  ..., 216.2175, 216.2257,\n",
      "            216.2397],\n",
      "           [215.9821, 215.9820, 216.0063,  ..., 216.0350, 216.0546,\n",
      "            216.0631],\n",
      "           ...,\n",
      "           [221.5344, 221.5020, 221.4890,  ..., 221.5345, 221.5337,\n",
      "            221.5358],\n",
      "           [221.7263, 221.7289, 221.7489,  ..., 221.7517, 221.7868,\n",
      "            221.7984],\n",
      "           [222.1796, 222.2359, 222.2815,  ..., 222.2289, 222.2936,\n",
      "            222.3329]],\n",
      "\n",
      "          [[216.2871, 216.2937, 216.2982,  ..., 216.1542, 216.1616,\n",
      "            216.1795],\n",
      "           [216.1660, 216.1373, 216.1534,  ..., 215.9852, 216.0001,\n",
      "            216.0127],\n",
      "           [215.9894, 215.9690, 215.9823,  ..., 215.8046, 215.8162,\n",
      "            215.7923],\n",
      "           ...,\n",
      "           [224.9697, 224.9489, 224.9990,  ..., 224.5139, 224.5565,\n",
      "            224.5749],\n",
      "           [224.7167, 224.6527, 224.6613,  ..., 224.2941, 224.3117,\n",
      "            224.4095],\n",
      "           [224.5340, 224.4138, 224.3934,  ..., 224.1434, 224.1301,\n",
      "            224.2703]],\n",
      "\n",
      "          [[216.5611, 216.4858, 216.4404,  ..., 216.3982, 216.3571,\n",
      "            216.3592],\n",
      "           [216.4693, 216.3705, 216.3330,  ..., 216.3323, 216.2964,\n",
      "            216.3005],\n",
      "           [216.3665, 216.3008, 216.2719,  ..., 216.3131, 216.2844,\n",
      "            216.2524],\n",
      "           ...,\n",
      "           [221.2417, 221.2159, 221.2702,  ..., 220.4533, 220.4974,\n",
      "            220.5000],\n",
      "           [221.0808, 221.0793, 221.0918,  ..., 220.3439, 220.3423,\n",
      "            220.3206],\n",
      "           [220.9647, 220.9679, 220.9572,  ..., 220.2793, 220.2506,\n",
      "            220.2734]]]]], device='cuda:0', grad_fn=<AddBackward0>), 'u': tensor([[[[[ 4.3017e-01,  4.6180e-01,  5.0104e-01,  ...,  5.4468e-01,\n",
      "             5.8731e-01,  5.9429e-01],\n",
      "           [-1.0283e+00, -1.0520e+00, -1.0133e+00,  ..., -8.5369e-01,\n",
      "            -8.0266e-01, -7.3195e-01],\n",
      "           [-2.8945e+00, -2.9496e+00, -2.9383e+00,  ..., -2.5610e+00,\n",
      "            -2.5158e+00, -2.4275e+00],\n",
      "           ...,\n",
      "           [-4.9328e+00, -4.8711e+00, -4.7442e+00,  ..., -4.6491e+00,\n",
      "            -4.5422e+00, -4.4725e+00],\n",
      "           [-4.7713e+00, -4.7595e+00, -4.6453e+00,  ..., -4.6799e+00,\n",
      "            -4.5253e+00, -4.4074e+00],\n",
      "           [-4.2452e+00, -4.2335e+00, -4.1742e+00,  ..., -4.3166e+00,\n",
      "            -4.2047e+00, -4.1137e+00]],\n",
      "\n",
      "          [[ 2.4542e-01,  2.7229e-01,  3.1023e-01,  ...,  1.9747e-01,\n",
      "             2.3825e-01,  2.6239e-01],\n",
      "           [ 7.9175e-01,  7.9159e-01,  7.9335e-01,  ...,  4.4407e-01,\n",
      "             4.4473e-01,  4.5691e-01],\n",
      "           [-7.1103e-01, -7.2071e-01, -7.5226e-01,  ..., -8.6255e-01,\n",
      "            -8.9632e-01, -9.1762e-01],\n",
      "           ...,\n",
      "           [-5.5660e+00, -5.5702e+00, -5.5950e+00,  ..., -4.9691e+00,\n",
      "            -4.9897e+00, -4.9974e+00],\n",
      "           [-5.0617e+00, -5.1195e+00, -5.1483e+00,  ..., -4.7433e+00,\n",
      "            -4.7417e+00, -4.7568e+00],\n",
      "           [-4.5692e+00, -4.6393e+00, -4.6982e+00,  ..., -4.3095e+00,\n",
      "            -4.3115e+00, -4.2995e+00]],\n",
      "\n",
      "          [[ 6.4684e-01,  6.3157e-01,  6.1190e-01,  ...,  4.0365e-01,\n",
      "             3.9706e-01,  4.1428e-01],\n",
      "           [ 1.6508e+00,  1.6410e+00,  1.6126e+00,  ...,  1.3010e+00,\n",
      "             1.2873e+00,  1.2942e+00],\n",
      "           [ 4.0517e-01,  4.0462e-01,  3.7443e-01,  ...,  2.2109e-01,\n",
      "             2.0396e-01,  1.7399e-01],\n",
      "           ...,\n",
      "           [-4.8653e+00, -4.9890e+00, -5.0665e+00,  ..., -4.5825e+00,\n",
      "            -4.7076e+00, -4.7425e+00],\n",
      "           [-4.4291e+00, -4.5512e+00, -4.5971e+00,  ..., -4.4873e+00,\n",
      "            -4.5379e+00, -4.5651e+00],\n",
      "           [-3.9415e+00, -4.0108e+00, -4.0346e+00,  ..., -4.0594e+00,\n",
      "            -4.0864e+00, -4.0953e+00]],\n",
      "\n",
      "          ...,\n",
      "\n",
      "          [[ 4.7333e-01,  4.4951e-01,  4.7512e-01,  ..., -1.1837e-01,\n",
      "            -9.3856e-02, -1.4098e-02],\n",
      "           [-1.1629e+01, -1.1567e+01, -1.1560e+01,  ..., -1.1215e+01,\n",
      "            -1.1225e+01, -1.1247e+01],\n",
      "           [-1.0943e+01, -1.0942e+01, -1.0852e+01,  ..., -1.0465e+01,\n",
      "            -1.0390e+01, -1.0443e+01],\n",
      "           ...,\n",
      "           [-1.8769e+00, -2.0882e+00, -2.2592e+00,  ..., -1.8874e+00,\n",
      "            -2.0998e+00, -2.2735e+00],\n",
      "           [-1.5519e+00, -1.6832e+00, -1.7080e+00,  ..., -1.4771e+00,\n",
      "            -1.5410e+00, -1.6838e+00],\n",
      "           [-1.1935e+00, -1.2990e+00, -1.3276e+00,  ..., -1.0858e+00,\n",
      "            -1.1474e+00, -1.2900e+00]],\n",
      "\n",
      "          [[ 6.3765e-01,  6.2490e-01,  5.9840e-01,  ...,  6.6461e-01,\n",
      "             6.3113e-01,  6.5657e-01],\n",
      "           [-1.9643e+01, -1.9663e+01, -1.9657e+01,  ..., -1.9683e+01,\n",
      "            -1.9675e+01, -1.9543e+01],\n",
      "           [-1.8820e+01, -1.8976e+01, -1.8949e+01,  ..., -1.8900e+01,\n",
      "            -1.8861e+01, -1.8724e+01],\n",
      "           ...,\n",
      "           [-3.0949e+00, -3.4688e+00, -3.6862e+00,  ..., -2.6615e+00,\n",
      "            -2.8948e+00, -2.9937e+00],\n",
      "           [-3.6680e+00, -4.0176e+00, -4.0031e+00,  ..., -3.2543e+00,\n",
      "            -3.2331e+00, -3.1285e+00],\n",
      "           [-4.1333e+00, -4.2212e+00, -4.0261e+00,  ..., -3.5528e+00,\n",
      "            -3.3449e+00, -2.9863e+00]],\n",
      "\n",
      "          [[ 4.8433e-01,  6.3909e-01,  7.8113e-01,  ...,  1.1685e+00,\n",
      "             1.2871e+00,  1.4845e+00],\n",
      "           [-2.6364e+01, -2.6248e+01, -2.6138e+01,  ..., -2.5930e+01,\n",
      "            -2.5858e+01, -2.5699e+01],\n",
      "           [-2.5717e+01, -2.5675e+01, -2.5558e+01,  ..., -2.5376e+01,\n",
      "            -2.5283e+01, -2.5116e+01],\n",
      "           ...,\n",
      "           [-3.6172e+00, -4.1453e+00, -4.7117e+00,  ..., -3.3122e+00,\n",
      "            -3.8711e+00, -4.2276e+00],\n",
      "           [-4.8291e+00, -5.1559e+00, -5.2679e+00,  ..., -4.5879e+00,\n",
      "            -4.6818e+00, -4.6103e+00],\n",
      "           [-5.5330e+00, -5.6302e+00, -5.5489e+00,  ..., -5.0632e+00,\n",
      "            -4.9161e+00, -4.5610e+00]]]]], device='cuda:0',\n",
      "       grad_fn=<AddBackward0>), 'v': tensor([[[[[-2.8347e-01, -1.5753e-01, -8.1578e-02,  ...,  7.8951e-02,\n",
      "             1.4987e-01,  1.9298e-01],\n",
      "           [ 3.3479e-01,  4.9477e-01,  5.8367e-01,  ...,  9.6620e-02,\n",
      "             1.4837e-01,  1.5331e-01],\n",
      "           [ 1.1867e-01,  2.9251e-01,  3.9293e-01,  ..., -1.2634e-01,\n",
      "            -4.4183e-02, -3.5591e-02],\n",
      "           ...,\n",
      "           [-9.0485e-01, -1.0984e+00, -1.3564e+00,  ..., -1.1245e+00,\n",
      "            -1.3395e+00, -1.5550e+00],\n",
      "           [-1.2449e+00, -1.4377e+00, -1.6949e+00,  ..., -1.5959e+00,\n",
      "            -1.7710e+00, -1.9543e+00],\n",
      "           [-1.4841e+00, -1.6031e+00, -1.7602e+00,  ..., -2.0345e+00,\n",
      "            -2.1173e+00, -2.2440e+00]],\n",
      "\n",
      "          [[-1.6721e-01, -6.3922e-02, -7.4174e-02,  ...,  1.9314e-01,\n",
      "             1.7545e-01,  1.3430e-01],\n",
      "           [ 1.3391e+00,  1.4328e+00,  1.4372e+00,  ...,  1.5609e+00,\n",
      "             1.5489e+00,  1.5167e+00],\n",
      "           [ 1.0519e+00,  1.1409e+00,  1.1964e+00,  ...,  1.1936e+00,\n",
      "             1.2256e+00,  1.2551e+00],\n",
      "           ...,\n",
      "           [-1.2312e+00, -1.3108e+00, -1.3711e+00,  ..., -1.2614e+00,\n",
      "            -1.3023e+00, -1.3735e+00],\n",
      "           [-1.7032e+00, -1.7479e+00, -1.7531e+00,  ..., -1.7478e+00,\n",
      "            -1.7408e+00, -1.7809e+00],\n",
      "           [-2.2618e+00, -2.2768e+00, -2.2584e+00,  ..., -2.3061e+00,\n",
      "            -2.2900e+00, -2.3480e+00]],\n",
      "\n",
      "          [[ 2.0654e-01,  3.0968e-01,  3.6619e-01,  ...,  4.2716e-01,\n",
      "             4.8847e-01,  5.3580e-01],\n",
      "           [ 4.2146e-02,  1.5269e-01,  2.2348e-01,  ...,  2.0734e-01,\n",
      "             2.7340e-01,  3.2950e-01],\n",
      "           [-4.1887e-01, -3.0109e-01, -1.9554e-01,  ..., -2.7938e-01,\n",
      "            -1.8511e-01, -9.5417e-02],\n",
      "           ...,\n",
      "           [-1.2794e+00, -1.2687e+00, -1.2898e+00,  ..., -1.0860e+00,\n",
      "            -1.1062e+00, -1.1551e+00],\n",
      "           [-1.5803e+00, -1.5748e+00, -1.6130e+00,  ..., -1.5250e+00,\n",
      "            -1.5301e+00, -1.5872e+00],\n",
      "           [-2.0062e+00, -2.0160e+00, -2.0511e+00,  ..., -2.1791e+00,\n",
      "            -2.1592e+00, -2.1711e+00]],\n",
      "\n",
      "          ...,\n",
      "\n",
      "          [[ 2.8700e-01,  3.3414e-01,  3.9681e-01,  ...,  5.0618e-01,\n",
      "             5.5109e-01,  6.1807e-01],\n",
      "           [-5.8099e+00, -5.7223e+00, -5.6051e+00,  ..., -5.7784e+00,\n",
      "            -5.6687e+00, -5.5769e+00],\n",
      "           [-5.5289e+00, -5.4870e+00, -5.3846e+00,  ..., -5.4677e+00,\n",
      "            -5.3648e+00, -5.2787e+00],\n",
      "           ...,\n",
      "           [ 2.5264e-01,  1.7639e-01,  1.5000e-01,  ...,  3.6550e-01,\n",
      "             3.0378e-01,  1.4558e-01],\n",
      "           [ 8.0600e-02, -1.0836e-01, -2.3506e-01,  ...,  6.0837e-02,\n",
      "            -8.8519e-02, -2.9387e-01],\n",
      "           [ 2.0282e-01, -9.1003e-02, -3.3489e-01,  ...,  5.8806e-04,\n",
      "            -2.5067e-01, -6.0203e-01]],\n",
      "\n",
      "          [[-3.8182e-01, -3.4774e-01, -3.5789e-01,  ..., -2.2505e-01,\n",
      "            -2.3280e-01, -2.2769e-01],\n",
      "           [-4.8043e+00, -4.6698e+00, -4.5615e+00,  ..., -5.1366e+00,\n",
      "            -5.0229e+00, -4.9048e+00],\n",
      "           [-5.1336e+00, -5.0353e+00, -4.9209e+00,  ..., -5.3482e+00,\n",
      "            -5.2304e+00, -5.1069e+00],\n",
      "           ...,\n",
      "           [-1.0067e-01, -2.9646e-01, -4.8640e-01,  ..., -4.0748e-02,\n",
      "            -1.8056e-01, -3.6679e-01],\n",
      "           [-5.2004e-01, -8.9640e-01, -1.1648e+00,  ..., -6.8489e-01,\n",
      "            -9.0606e-01, -1.1765e+00],\n",
      "           [-7.8707e-01, -1.2401e+00, -1.6678e+00,  ..., -1.1071e+00,\n",
      "            -1.4897e+00, -1.8898e+00]],\n",
      "\n",
      "          [[-6.0376e-02, -2.9135e-02, -2.4746e-03,  ..., -1.1926e-01,\n",
      "            -1.2008e-01, -1.1856e-01],\n",
      "           [-6.0247e+00, -5.8965e+00, -5.7545e+00,  ..., -6.4905e+00,\n",
      "            -6.3714e+00, -6.2730e+00],\n",
      "           [-6.3754e+00, -6.2914e+00, -6.1592e+00,  ..., -6.7045e+00,\n",
      "            -6.5888e+00, -6.4969e+00],\n",
      "           ...,\n",
      "           [-3.9365e-01, -6.7556e-01, -9.2687e-01,  ..., -5.2899e-02,\n",
      "            -3.1294e-01, -6.3955e-01],\n",
      "           [-5.9159e-01, -9.2470e-01, -1.1911e+00,  ..., -3.3063e-01,\n",
      "            -5.7315e-01, -8.0275e-01],\n",
      "           [-6.6085e-01, -1.0224e+00, -1.3868e+00,  ..., -4.2260e-01,\n",
      "            -7.3061e-01, -9.9722e-01]]]]], device='cuda:0',\n",
      "       grad_fn=<AddBackward0>), 'q': tensor([[[[[4.1727e-04, 4.3268e-04, 4.4436e-04,  ..., 4.0706e-04,\n",
      "            4.2937e-04, 4.3444e-04],\n",
      "           [4.5428e-04, 4.5223e-04, 4.5291e-04,  ..., 4.2855e-04,\n",
      "            4.3856e-04, 4.5185e-04],\n",
      "           [4.5132e-04, 4.6096e-04, 4.4006e-04,  ..., 4.4358e-04,\n",
      "            4.2933e-04, 4.3515e-04],\n",
      "           ...,\n",
      "           [5.8003e-04, 6.0440e-04, 6.2450e-04,  ..., 5.5202e-04,\n",
      "            5.7687e-04, 5.8682e-04],\n",
      "           [5.1718e-04, 5.6651e-04, 5.9106e-04,  ..., 5.0149e-04,\n",
      "            5.2743e-04, 5.4696e-04],\n",
      "           [4.9438e-04, 5.2895e-04, 5.7211e-04,  ..., 4.7273e-04,\n",
      "            5.2210e-04, 5.4555e-04]],\n",
      "\n",
      "          [[3.4961e-04, 3.6575e-04, 3.8077e-04,  ..., 3.7184e-04,\n",
      "            3.8459e-04, 3.7652e-04],\n",
      "           [3.8745e-04, 3.8173e-04, 3.9055e-04,  ..., 3.9312e-04,\n",
      "            3.9871e-04, 4.0809e-04],\n",
      "           [4.0281e-04, 4.1162e-04, 3.9650e-04,  ..., 4.2583e-04,\n",
      "            4.0616e-04, 4.0847e-04],\n",
      "           ...,\n",
      "           [4.7341e-04, 4.6520e-04, 4.6721e-04,  ..., 4.2336e-04,\n",
      "            4.2291e-04, 4.2944e-04],\n",
      "           [4.1314e-04, 4.4613e-04, 4.4577e-04,  ..., 4.0005e-04,\n",
      "            3.8985e-04, 3.9282e-04],\n",
      "           [3.9036e-04, 4.0972e-04, 4.3226e-04,  ..., 3.6311e-04,\n",
      "            3.7575e-04, 3.7482e-04]],\n",
      "\n",
      "          [[1.3012e-04, 1.3147e-04, 1.3159e-04,  ..., 1.4627e-04,\n",
      "            1.4493e-04, 1.3011e-04],\n",
      "           [1.5321e-04, 1.4213e-04, 1.3700e-04,  ..., 1.5685e-04,\n",
      "            1.5187e-04, 1.5257e-04],\n",
      "           [1.4556e-04, 1.5198e-04, 1.3527e-04,  ..., 1.7239e-04,\n",
      "            1.5632e-04, 1.4731e-04],\n",
      "           ...,\n",
      "           [6.8900e-04, 6.9676e-04, 6.8343e-04,  ..., 6.7602e-04,\n",
      "            6.6229e-04, 6.4743e-04],\n",
      "           [6.8573e-04, 7.1557e-04, 7.0299e-04,  ..., 6.9579e-04,\n",
      "            6.7834e-04, 6.7191e-04],\n",
      "           [6.6568e-04, 7.0730e-04, 7.3201e-04,  ..., 7.0963e-04,\n",
      "            7.2813e-04, 7.3705e-04]],\n",
      "\n",
      "          ...,\n",
      "\n",
      "          [[3.0883e-06, 3.2500e-06, 3.3774e-06,  ..., 3.2895e-06,\n",
      "            3.3877e-06, 3.3552e-06],\n",
      "           [3.1963e-06, 3.2198e-06, 3.2748e-06,  ..., 3.2472e-06,\n",
      "            3.2824e-06, 3.1944e-06],\n",
      "           [3.1014e-06, 3.0931e-06, 3.0543e-06,  ..., 3.1476e-06,\n",
      "            3.0983e-06, 3.1477e-06],\n",
      "           ...,\n",
      "           [2.9104e-06, 2.8069e-06, 2.8602e-06,  ..., 2.8640e-06,\n",
      "            2.9394e-06, 2.9572e-06],\n",
      "           [2.5730e-06, 2.4053e-06, 2.4039e-06,  ..., 2.4047e-06,\n",
      "            2.4414e-06, 2.5883e-06],\n",
      "           [2.7058e-06, 2.4620e-06, 2.3218e-06,  ..., 2.4454e-06,\n",
      "            2.3389e-06, 2.3667e-06]],\n",
      "\n",
      "          [[2.8199e-06, 2.8191e-06, 2.8164e-06,  ..., 2.8159e-06,\n",
      "            2.8136e-06, 2.8114e-06],\n",
      "           [2.8077e-06, 2.8062e-06, 2.8059e-06,  ..., 2.8010e-06,\n",
      "            2.8007e-06, 2.7993e-06],\n",
      "           [2.7918e-06, 2.7904e-06, 2.7915e-06,  ..., 2.7891e-06,\n",
      "            2.7893e-06, 2.7885e-06],\n",
      "           ...,\n",
      "           [2.4817e-06, 2.4904e-06, 2.4893e-06,  ..., 2.4903e-06,\n",
      "            2.4897e-06, 2.4811e-06],\n",
      "           [2.4411e-06, 2.4524e-06, 2.4587e-06,  ..., 2.4557e-06,\n",
      "            2.4627e-06, 2.4622e-06],\n",
      "           [2.4199e-06, 2.4311e-06, 2.4400e-06,  ..., 2.4395e-06,\n",
      "            2.4494e-06, 2.4437e-06]],\n",
      "\n",
      "          [[2.9674e-06, 2.9682e-06, 2.9688e-06,  ..., 2.9735e-06,\n",
      "            2.9727e-06, 2.9730e-06],\n",
      "           [2.9738e-06, 2.9740e-06, 2.9748e-06,  ..., 2.9795e-06,\n",
      "            2.9787e-06, 2.9776e-06],\n",
      "           [2.9763e-06, 2.9775e-06, 2.9785e-06,  ..., 2.9841e-06,\n",
      "            2.9834e-06, 2.9830e-06],\n",
      "           ...,\n",
      "           [2.5677e-06, 2.5788e-06, 2.5841e-06,  ..., 2.5821e-06,\n",
      "            2.5877e-06, 2.5814e-06],\n",
      "           [2.5430e-06, 2.5562e-06, 2.5658e-06,  ..., 2.5583e-06,\n",
      "            2.5686e-06, 2.5681e-06],\n",
      "           [2.5349e-06, 2.5400e-06, 2.5419e-06,  ..., 2.5417e-06,\n",
      "            2.5441e-06, 2.5389e-06]]]]], device='cuda:0',\n",
      "       grad_fn=<AddBackward0>), 'z': tensor([[[[[1.6842e+03, 1.6858e+03, 1.6863e+03,  ..., 1.7088e+03,\n",
      "            1.7080e+03, 1.7051e+03],\n",
      "           [1.6969e+03, 1.6985e+03, 1.6983e+03,  ..., 1.7122e+03,\n",
      "            1.7121e+03, 1.7110e+03],\n",
      "           [1.6950e+03, 1.6951e+03, 1.6979e+03,  ..., 1.7043e+03,\n",
      "            1.7082e+03, 1.7073e+03],\n",
      "           ...,\n",
      "           [1.3454e+02, 1.3720e+02, 1.4128e+02,  ..., 1.2507e+02,\n",
      "            1.2934e+02, 1.3093e+02],\n",
      "           [1.0452e+02, 1.0448e+02, 1.0150e+02,  ..., 8.6210e+01,\n",
      "            8.2102e+01, 7.9669e+01],\n",
      "           [8.8417e+01, 8.3929e+01, 7.6226e+01,  ..., 6.2858e+01,\n",
      "            5.2565e+01, 4.4564e+01]],\n",
      "\n",
      "          [[7.3445e+03, 7.3456e+03, 7.3469e+03,  ..., 7.3625e+03,\n",
      "            7.3635e+03, 7.3638e+03],\n",
      "           [7.3624e+03, 7.3627e+03, 7.3628e+03,  ..., 7.3750e+03,\n",
      "            7.3750e+03, 7.3748e+03],\n",
      "           [7.3732e+03, 7.3720e+03, 7.3735e+03,  ..., 7.3811e+03,\n",
      "            7.3827e+03, 7.3829e+03],\n",
      "           ...,\n",
      "           [6.0651e+03, 6.0653e+03, 6.0697e+03,  ..., 6.0607e+03,\n",
      "            6.0645e+03, 6.0670e+03],\n",
      "           [6.0459e+03, 6.0488e+03, 6.0520e+03,  ..., 6.0448e+03,\n",
      "            6.0470e+03, 6.0499e+03],\n",
      "           [6.0312e+03, 6.0347e+03, 6.0387e+03,  ..., 6.0357e+03,\n",
      "            6.0391e+03, 6.0387e+03]],\n",
      "\n",
      "          [[1.3496e+04, 1.3498e+04, 1.3498e+04,  ..., 1.3514e+04,\n",
      "            1.3514e+04, 1.3514e+04],\n",
      "           [1.3515e+04, 1.3516e+04, 1.3516e+04,  ..., 1.3527e+04,\n",
      "            1.3527e+04, 1.3527e+04],\n",
      "           [1.3527e+04, 1.3526e+04, 1.3527e+04,  ..., 1.3533e+04,\n",
      "            1.3535e+04, 1.3534e+04],\n",
      "           ...,\n",
      "           [1.2510e+04, 1.2510e+04, 1.2518e+04,  ..., 1.2504e+04,\n",
      "            1.2510e+04, 1.2515e+04],\n",
      "           [1.2511e+04, 1.2516e+04, 1.2518e+04,  ..., 1.2511e+04,\n",
      "            1.2513e+04, 1.2519e+04],\n",
      "           [1.2506e+04, 1.2512e+04, 1.2518e+04,  ..., 1.2508e+04,\n",
      "            1.2513e+04, 1.2515e+04]],\n",
      "\n",
      "          ...,\n",
      "\n",
      "          [[1.0829e+05, 1.0830e+05, 1.0829e+05,  ..., 1.0830e+05,\n",
      "            1.0829e+05, 1.0830e+05],\n",
      "           [1.0821e+05, 1.0821e+05, 1.0822e+05,  ..., 1.0822e+05,\n",
      "            1.0822e+05, 1.0826e+05],\n",
      "           [1.0820e+05, 1.0818e+05, 1.0820e+05,  ..., 1.0819e+05,\n",
      "            1.0821e+05, 1.0819e+05],\n",
      "           ...,\n",
      "           [1.0897e+05, 1.0897e+05, 1.0898e+05,  ..., 1.0899e+05,\n",
      "            1.0900e+05, 1.0902e+05],\n",
      "           [1.0898e+05, 1.0899e+05, 1.0900e+05,  ..., 1.0901e+05,\n",
      "            1.0902e+05, 1.0903e+05],\n",
      "           [1.0898e+05, 1.0899e+05, 1.0900e+05,  ..., 1.0901e+05,\n",
      "            1.0902e+05, 1.0902e+05]],\n",
      "\n",
      "          [[1.5133e+05, 1.5134e+05, 1.5133e+05,  ..., 1.5134e+05,\n",
      "            1.5134e+05, 1.5135e+05],\n",
      "           [1.5122e+05, 1.5122e+05, 1.5123e+05,  ..., 1.5123e+05,\n",
      "            1.5124e+05, 1.5127e+05],\n",
      "           [1.5116e+05, 1.5115e+05, 1.5117e+05,  ..., 1.5117e+05,\n",
      "            1.5118e+05, 1.5117e+05],\n",
      "           ...,\n",
      "           [1.5390e+05, 1.5391e+05, 1.5393e+05,  ..., 1.5388e+05,\n",
      "            1.5390e+05, 1.5390e+05],\n",
      "           [1.5389e+05, 1.5392e+05, 1.5394e+05,  ..., 1.5389e+05,\n",
      "            1.5391e+05, 1.5393e+05],\n",
      "           [1.5389e+05, 1.5392e+05, 1.5394e+05,  ..., 1.5389e+05,\n",
      "            1.5390e+05, 1.5391e+05]],\n",
      "\n",
      "          [[1.9408e+05, 1.9407e+05, 1.9407e+05,  ..., 1.9408e+05,\n",
      "            1.9407e+05, 1.9409e+05],\n",
      "           [1.9395e+05, 1.9394e+05, 1.9395e+05,  ..., 1.9395e+05,\n",
      "            1.9395e+05, 1.9397e+05],\n",
      "           [1.9385e+05, 1.9385e+05, 1.9385e+05,  ..., 1.9387e+05,\n",
      "            1.9387e+05, 1.9387e+05],\n",
      "           ...,\n",
      "           [1.9688e+05, 1.9689e+05, 1.9691e+05,  ..., 1.9680e+05,\n",
      "            1.9682e+05, 1.9682e+05],\n",
      "           [1.9688e+05, 1.9692e+05, 1.9694e+05,  ..., 1.9682e+05,\n",
      "            1.9684e+05, 1.9687e+05],\n",
      "           [1.9688e+05, 1.9690e+05, 1.9693e+05,  ..., 1.9680e+05,\n",
      "            1.9683e+05, 1.9685e+05]]]]], device='cuda:0',\n",
      "       grad_fn=<AddBackward0>)}, metadata=Metadata(lat=tensor([ 90.0000,  89.7500,  89.5000,  89.2500,  89.0000,  88.7500,  88.5000,\n",
      "         88.2500,  88.0000,  87.7500,  87.5000,  87.2500,  87.0000,  86.7500,\n",
      "         86.5000,  86.2500,  86.0000,  85.7500,  85.5000,  85.2500,  85.0000,\n",
      "         84.7500,  84.5000,  84.2500,  84.0000,  83.7500,  83.5000,  83.2500,\n",
      "         83.0000,  82.7500,  82.5000,  82.2500,  82.0000,  81.7500,  81.5000,\n",
      "         81.2500,  81.0000,  80.7500,  80.5000,  80.2500,  80.0000,  79.7500,\n",
      "         79.5000,  79.2500,  79.0000,  78.7500,  78.5000,  78.2500,  78.0000,\n",
      "         77.7500,  77.5000,  77.2500,  77.0000,  76.7500,  76.5000,  76.2500,\n",
      "         76.0000,  75.7500,  75.5000,  75.2500,  75.0000,  74.7500,  74.5000,\n",
      "         74.2500,  74.0000,  73.7500,  73.5000,  73.2500,  73.0000,  72.7500,\n",
      "         72.5000,  72.2500,  72.0000,  71.7500,  71.5000,  71.2500,  71.0000,\n",
      "         70.7500,  70.5000,  70.2500,  70.0000,  69.7500,  69.5000,  69.2500,\n",
      "         69.0000,  68.7500,  68.5000,  68.2500,  68.0000,  67.7500,  67.5000,\n",
      "         67.2500,  67.0000,  66.7500,  66.5000,  66.2500,  66.0000,  65.7500,\n",
      "         65.5000,  65.2500,  65.0000,  64.7500,  64.5000,  64.2500,  64.0000,\n",
      "         63.7500,  63.5000,  63.2500,  63.0000,  62.7500,  62.5000,  62.2500,\n",
      "         62.0000,  61.7500,  61.5000,  61.2500,  61.0000,  60.7500,  60.5000,\n",
      "         60.2500,  60.0000,  59.7500,  59.5000,  59.2500,  59.0000,  58.7500,\n",
      "         58.5000,  58.2500,  58.0000,  57.7500,  57.5000,  57.2500,  57.0000,\n",
      "         56.7500,  56.5000,  56.2500,  56.0000,  55.7500,  55.5000,  55.2500,\n",
      "         55.0000,  54.7500,  54.5000,  54.2500,  54.0000,  53.7500,  53.5000,\n",
      "         53.2500,  53.0000,  52.7500,  52.5000,  52.2500,  52.0000,  51.7500,\n",
      "         51.5000,  51.2500,  51.0000,  50.7500,  50.5000,  50.2500,  50.0000,\n",
      "         49.7500,  49.5000,  49.2500,  49.0000,  48.7500,  48.5000,  48.2500,\n",
      "         48.0000,  47.7500,  47.5000,  47.2500,  47.0000,  46.7500,  46.5000,\n",
      "         46.2500,  46.0000,  45.7500,  45.5000,  45.2500,  45.0000,  44.7500,\n",
      "         44.5000,  44.2500,  44.0000,  43.7500,  43.5000,  43.2500,  43.0000,\n",
      "         42.7500,  42.5000,  42.2500,  42.0000,  41.7500,  41.5000,  41.2500,\n",
      "         41.0000,  40.7500,  40.5000,  40.2500,  40.0000,  39.7500,  39.5000,\n",
      "         39.2500,  39.0000,  38.7500,  38.5000,  38.2500,  38.0000,  37.7500,\n",
      "         37.5000,  37.2500,  37.0000,  36.7500,  36.5000,  36.2500,  36.0000,\n",
      "         35.7500,  35.5000,  35.2500,  35.0000,  34.7500,  34.5000,  34.2500,\n",
      "         34.0000,  33.7500,  33.5000,  33.2500,  33.0000,  32.7500,  32.5000,\n",
      "         32.2500,  32.0000,  31.7500,  31.5000,  31.2500,  31.0000,  30.7500,\n",
      "         30.5000,  30.2500,  30.0000,  29.7500,  29.5000,  29.2500,  29.0000,\n",
      "         28.7500,  28.5000,  28.2500,  28.0000,  27.7500,  27.5000,  27.2500,\n",
      "         27.0000,  26.7500,  26.5000,  26.2500,  26.0000,  25.7500,  25.5000,\n",
      "         25.2500,  25.0000,  24.7500,  24.5000,  24.2500,  24.0000,  23.7500,\n",
      "         23.5000,  23.2500,  23.0000,  22.7500,  22.5000,  22.2500,  22.0000,\n",
      "         21.7500,  21.5000,  21.2500,  21.0000,  20.7500,  20.5000,  20.2500,\n",
      "         20.0000,  19.7500,  19.5000,  19.2500,  19.0000,  18.7500,  18.5000,\n",
      "         18.2500,  18.0000,  17.7500,  17.5000,  17.2500,  17.0000,  16.7500,\n",
      "         16.5000,  16.2500,  16.0000,  15.7500,  15.5000,  15.2500,  15.0000,\n",
      "         14.7500,  14.5000,  14.2500,  14.0000,  13.7500,  13.5000,  13.2500,\n",
      "         13.0000,  12.7500,  12.5000,  12.2500,  12.0000,  11.7500,  11.5000,\n",
      "         11.2500,  11.0000,  10.7500,  10.5000,  10.2500,  10.0000,   9.7500,\n",
      "          9.5000,   9.2500,   9.0000,   8.7500,   8.5000,   8.2500,   8.0000,\n",
      "          7.7500,   7.5000,   7.2500,   7.0000,   6.7500,   6.5000,   6.2500,\n",
      "          6.0000,   5.7500,   5.5000,   5.2500,   5.0000,   4.7500,   4.5000,\n",
      "          4.2500,   4.0000,   3.7500,   3.5000,   3.2500,   3.0000,   2.7500,\n",
      "          2.5000,   2.2500,   2.0000,   1.7500,   1.5000,   1.2500,   1.0000,\n",
      "          0.7500,   0.5000,   0.2500,   0.0000,  -0.2500,  -0.5000,  -0.7500,\n",
      "         -1.0000,  -1.2500,  -1.5000,  -1.7500,  -2.0000,  -2.2500,  -2.5000,\n",
      "         -2.7500,  -3.0000,  -3.2500,  -3.5000,  -3.7500,  -4.0000,  -4.2500,\n",
      "         -4.5000,  -4.7500,  -5.0000,  -5.2500,  -5.5000,  -5.7500,  -6.0000,\n",
      "         -6.2500,  -6.5000,  -6.7500,  -7.0000,  -7.2500,  -7.5000,  -7.7500,\n",
      "         -8.0000,  -8.2500,  -8.5000,  -8.7500,  -9.0000,  -9.2500,  -9.5000,\n",
      "         -9.7500, -10.0000, -10.2500, -10.5000, -10.7500, -11.0000, -11.2500,\n",
      "        -11.5000, -11.7500, -12.0000, -12.2500, -12.5000, -12.7500, -13.0000,\n",
      "        -13.2500, -13.5000, -13.7500, -14.0000, -14.2500, -14.5000, -14.7500,\n",
      "        -15.0000, -15.2500, -15.5000, -15.7500, -16.0000, -16.2500, -16.5000,\n",
      "        -16.7500, -17.0000, -17.2500, -17.5000, -17.7500, -18.0000, -18.2500,\n",
      "        -18.5000, -18.7500, -19.0000, -19.2500, -19.5000, -19.7500, -20.0000,\n",
      "        -20.2500, -20.5000, -20.7500, -21.0000, -21.2500, -21.5000, -21.7500,\n",
      "        -22.0000, -22.2500, -22.5000, -22.7500, -23.0000, -23.2500, -23.5000,\n",
      "        -23.7500, -24.0000, -24.2500, -24.5000, -24.7500, -25.0000, -25.2500,\n",
      "        -25.5000, -25.7500, -26.0000, -26.2500, -26.5000, -26.7500, -27.0000,\n",
      "        -27.2500, -27.5000, -27.7500, -28.0000, -28.2500, -28.5000, -28.7500,\n",
      "        -29.0000, -29.2500, -29.5000, -29.7500, -30.0000, -30.2500, -30.5000,\n",
      "        -30.7500, -31.0000, -31.2500, -31.5000, -31.7500, -32.0000, -32.2500,\n",
      "        -32.5000, -32.7500, -33.0000, -33.2500, -33.5000, -33.7500, -34.0000,\n",
      "        -34.2500, -34.5000, -34.7500, -35.0000, -35.2500, -35.5000, -35.7500,\n",
      "        -36.0000, -36.2500, -36.5000, -36.7500, -37.0000, -37.2500, -37.5000,\n",
      "        -37.7500, -38.0000, -38.2500, -38.5000, -38.7500, -39.0000, -39.2500,\n",
      "        -39.5000, -39.7500, -40.0000, -40.2500, -40.5000, -40.7500, -41.0000,\n",
      "        -41.2500, -41.5000, -41.7500, -42.0000, -42.2500, -42.5000, -42.7500,\n",
      "        -43.0000, -43.2500, -43.5000, -43.7500, -44.0000, -44.2500, -44.5000,\n",
      "        -44.7500, -45.0000, -45.2500, -45.5000, -45.7500, -46.0000, -46.2500,\n",
      "        -46.5000, -46.7500, -47.0000, -47.2500, -47.5000, -47.7500, -48.0000,\n",
      "        -48.2500, -48.5000, -48.7500, -49.0000, -49.2500, -49.5000, -49.7500,\n",
      "        -50.0000, -50.2500, -50.5000, -50.7500, -51.0000, -51.2500, -51.5000,\n",
      "        -51.7500, -52.0000, -52.2500, -52.5000, -52.7500, -53.0000, -53.2500,\n",
      "        -53.5000, -53.7500, -54.0000, -54.2500, -54.5000, -54.7500, -55.0000,\n",
      "        -55.2500, -55.5000, -55.7500, -56.0000, -56.2500, -56.5000, -56.7500,\n",
      "        -57.0000, -57.2500, -57.5000, -57.7500, -58.0000, -58.2500, -58.5000,\n",
      "        -58.7500, -59.0000, -59.2500, -59.5000, -59.7500, -60.0000, -60.2500,\n",
      "        -60.5000, -60.7500, -61.0000, -61.2500, -61.5000, -61.7500, -62.0000,\n",
      "        -62.2500, -62.5000, -62.7500, -63.0000, -63.2500, -63.5000, -63.7500,\n",
      "        -64.0000, -64.2500, -64.5000, -64.7500, -65.0000, -65.2500, -65.5000,\n",
      "        -65.7500, -66.0000, -66.2500, -66.5000, -66.7500, -67.0000, -67.2500,\n",
      "        -67.5000, -67.7500, -68.0000, -68.2500, -68.5000, -68.7500, -69.0000,\n",
      "        -69.2500, -69.5000, -69.7500, -70.0000, -70.2500, -70.5000, -70.7500,\n",
      "        -71.0000, -71.2500, -71.5000, -71.7500, -72.0000, -72.2500, -72.5000,\n",
      "        -72.7500, -73.0000, -73.2500, -73.5000, -73.7500, -74.0000, -74.2500,\n",
      "        -74.5000, -74.7500, -75.0000, -75.2500, -75.5000, -75.7500, -76.0000,\n",
      "        -76.2500, -76.5000, -76.7500, -77.0000, -77.2500, -77.5000, -77.7500,\n",
      "        -78.0000, -78.2500, -78.5000, -78.7500, -79.0000, -79.2500, -79.5000,\n",
      "        -79.7500, -80.0000, -80.2500, -80.5000, -80.7500, -81.0000, -81.2500,\n",
      "        -81.5000, -81.7500, -82.0000, -82.2500, -82.5000, -82.7500, -83.0000,\n",
      "        -83.2500, -83.5000, -83.7500, -84.0000, -84.2500, -84.5000, -84.7500,\n",
      "        -85.0000, -85.2500, -85.5000, -85.7500, -86.0000, -86.2500, -86.5000,\n",
      "        -86.7500, -87.0000, -87.2500, -87.5000, -87.7500, -88.0000, -88.2500,\n",
      "        -88.5000, -88.7500, -89.0000, -89.2500, -89.5000, -89.7500],\n",
      "       device='cuda:0'), lon=tensor([0.0000e+00, 2.5000e-01, 5.0000e-01,  ..., 3.5925e+02, 3.5950e+02,\n",
      "        3.5975e+02], device='cuda:0'), time=(datetime.datetime(2015, 1, 3, 12, 0),), atmos_levels=(1000, 925, 850, 700, 600, 500, 400, 300, 250, 200, 100, 50), rollout_step=1))\n"
     ]
    },
    {
     "name": "stderr",
     "output_type": "stream",
     "text": [
      "/home/ubuntu/.local/lib/python3.10/site-packages/torch/autograd/graph.py:825: UserWarning: cuDNN SDPA backward got grad_output.strides() != output.strides(), attempting to materialize a grad_output with matching strides... (Triggered internally at /pytorch/aten/src/ATen/native/cudnn/MHA.cpp:674.)\n",
      "  return Variable._execution_engine.run_backward(  # Calls into the C++ engine to run the backward pass\n"
     ]
    },
    {
     "name": "stdout",
     "output_type": "stream",
     "text": [
      "computed first batch\n",
      "Epoch [1/1], Loss: 0.0017\n"
     ]
    }
   ],
   "source": [
    "# model training \n",
    "\n",
    "import torch\n",
    "import torch.nn as nn\n",
    "import torch.optim as optim\n",
    "\n",
    "model.train()\n",
    "model.configure_activation_checkpointing()\n",
    "optimizer = optim.AdamW(model.parameters(), lr=5e-5, weight_decay=5e-6)\n",
    "\n",
    "model = model.to(device)\n",
    "model.train()\n",
    "model.configure_activation_checkpointing()\n",
    "torch.nn.utils.clip_grad_norm_(model.parameters(), max_norm=1.0)\n",
    "\n",
    "num_epochs = 1\n",
    "torch.cuda.empty_cache()\n",
    "for epoch in range(num_epochs):  # Loop over epochs\n",
    "    # model.train()  # Set model to training mode\n",
    "    for batch in dataloader:  # Iterate over batches\n",
    "        # Unpack the batch\n",
    "        features, labels = batch  # Ensure your Dataset and collate function return the right format\n",
    "        # Move data to the appropriate device\n",
    "        # features = {key: val.to(device) for key, val in features.items()}  # For dict-based features\n",
    "        labels = labels.to(device)\n",
    "        # features = features.to(device)\n",
    "\n",
    "        # Forward pass\n",
    "        # outputs = model(features)\n",
    "        pred = model.forward(features)\n",
    "        # pred is already on gpu \n",
    "        # pred = pred.to(device)\n",
    "        print(pred)\n",
    "        # Compute the loss\n",
    "        loss = loss_func(labels,pred)\n",
    "        \n",
    "        # Backward pass and optimization\n",
    "        optimizer.zero_grad()  # Zero the gradients\n",
    "        loss.backward()  # Backpropagate\n",
    "        optimizer.step()  # Update the weights\n",
    "        torch.cuda.empty_cache()\n",
    "        print(\"computed first batch\")\n",
    "\n",
    "    print(f\"Epoch [{epoch + 1}/{num_epochs}], Loss: {loss.item():.4f}\")\n",
    "    break"
   ]
  },
  {
   "cell_type": "code",
   "execution_count": null,
   "metadata": {
    "tags": []
   },
   "outputs": [],
   "source": [
    "import os\n",
    "os.environ[\"PYTORCH_CUDA_ALLOC_CONF\"] = \"max_split_size_mb:256\"\n",
    "# !export PYTORCH_CUDA_ALLOC_CONF=max_split_size_mb:64 3.17 112"
   ]
  },
  {
   "cell_type": "code",
   "execution_count": null,
   "metadata": {
    "tags": []
   },
   "outputs": [],
   "source": [
    "print(os.getenv(\"PYTORCH_CUDA_ALLOC_CONF\"))"
   ]
  },
  {
   "cell_type": "code",
   "execution_count": null,
   "metadata": {
    "tags": []
   },
   "outputs": [],
   "source": [
    "print(torch.cuda.memory_summary())"
   ]
  },
  {
   "cell_type": "markdown",
   "metadata": {},
   "source": [
    "### predicting on new data"
   ]
  },
  {
   "cell_type": "code",
   "execution_count": 8,
   "metadata": {},
   "outputs": [
    {
     "name": "stderr",
     "output_type": "stream",
     "text": [
      "/tmp/ipykernel_2457/1207869413.py:18: FutureWarning: You are using `torch.load` with `weights_only=False` (the current default value), which uses the default pickle module implicitly. It is possible to construct malicious pickle data which will execute arbitrary code during unpickling (See https://github.com/pytorch/pytorch/blob/main/SECURITY.md#untrusted-models for more details). In a future release, the default value for `weights_only` will be flipped to `True`. This limits the functions that could be executed during unpickling. Arbitrary objects will no longer be allowed to be loaded via this mode unless they are explicitly allowlisted by the user via `torch.serialization.add_safe_globals`. We recommend you start setting `weights_only=True` for any use case where you don't have full control of the loaded file. Please open an issue on GitHub for any issues related to this experimental feature.\n",
      "  model.load_state_dict(torch.load(\"aurora_fire_weights_all.pth\"), strict=False)\n"
     ]
    }
   ],
   "source": [
    "model = Aurora(\n",
    "    use_lora=False,\n",
    "    autocast=True,      # reduces memory usage\n",
    "    surf_vars=(\"2t\", \"10u\", \"10v\", \"msl\", \"fire\",\"lst\"),\n",
    "    static_vars=(\"lsm\", \"z\", \"slt\"),\n",
    "    atmos_vars=(\"z\", \"u\", \"v\", \"t\", \"q\"),\n",
    ")\n",
    "# model = Aurora(\n",
    "#     use_lora=False,\n",
    "#     autocast=True,      # reduces memory usage\n",
    "#     # surf_vars=(\"2t\", \"10u\", \"10v\", \"msl\"),\n",
    "#     surf_vars=(\"2t\", \"10u\", \"10v\", \"msl\", \"fire\"),\n",
    "#     static_vars=(\"lsm\", \"z\", \"slt\"),\n",
    "#     atmos_vars=(\"z\", \"u\", \"v\", \"t\", \"q\"),\n",
    "# )\n",
    "\n",
    "# model.load_checkpoint(\"microsoft/aurora\", \"aurora-0.25-pretrained.ckpt\", strict=False)\n",
    "model.load_state_dict(torch.load(\"aurora_fire_weights_all.pth\"), strict=False)\n",
    "model = model.to(\"cuda\")"
   ]
  },
  {
   "cell_type": "code",
   "execution_count": 13,
   "metadata": {
    "scrolled": true
   },
   "outputs": [
    {
     "name": "stdout",
     "output_type": "stream",
     "text": [
      "in getitem feature: [0. 1.]\n",
      "in getitem label: [0 1]\n",
      "torch.Size([1, 1, 720, 1440])\n",
      "torch.Size([1, 1, 720, 1440])\n",
      "lab_fire: (1036800,) int64 [0 0 0 ... 0 0 0]\n",
      "[0 1]\n",
      "[0 1]\n",
      "in getitem feature: [0. 1.]\n",
      "in getitem label: [0 1]\n",
      "torch.Size([1, 1, 720, 1440])\n",
      "torch.Size([1, 1, 720, 1440])\n",
      "lab_fire: (1036800,) int64 [0 0 0 ... 0 0 0]\n",
      "[0 1]\n",
      "[0 1]\n",
      "in getitem feature: [0. 1.]\n",
      "in getitem label: [0 1]\n",
      "torch.Size([1, 1, 720, 1440])\n",
      "torch.Size([1, 1, 720, 1440])\n",
      "lab_fire: (1036800,) int64 [0 0 0 ... 0 0 0]\n",
      "[0 1]\n",
      "[0 1]\n"
     ]
    },
    {
     "ename": "KeyboardInterrupt",
     "evalue": "",
     "output_type": "error",
     "traceback": [
      "\u001b[0;31m---------------------------------------------------------------------------\u001b[0m",
      "\u001b[0;31mKeyboardInterrupt\u001b[0m                         Traceback (most recent call last)",
      "\u001b[0;32m/tmp/ipykernel_2457/484601965.py\u001b[0m in \u001b[0;36m<module>\u001b[0;34m\u001b[0m\n\u001b[1;32m     13\u001b[0m \u001b[0;32mwith\u001b[0m \u001b[0mtorch\u001b[0m\u001b[0;34m.\u001b[0m\u001b[0mno_grad\u001b[0m\u001b[0;34m(\u001b[0m\u001b[0;34m)\u001b[0m\u001b[0;34m:\u001b[0m  \u001b[0;31m# Disable gradient computations\u001b[0m\u001b[0;34m\u001b[0m\u001b[0;34m\u001b[0m\u001b[0m\n\u001b[1;32m     14\u001b[0m     \u001b[0;31m# for batch in dataloader_test:\u001b[0m\u001b[0;34m\u001b[0m\u001b[0;34m\u001b[0m\u001b[0m\n\u001b[0;32m---> 15\u001b[0;31m     \u001b[0;32mfor\u001b[0m \u001b[0mbatch\u001b[0m \u001b[0;32min\u001b[0m \u001b[0mdataloader_test\u001b[0m\u001b[0;34m:\u001b[0m\u001b[0;34m\u001b[0m\u001b[0;34m\u001b[0m\u001b[0m\n\u001b[0m\u001b[1;32m     16\u001b[0m \u001b[0;34m\u001b[0m\u001b[0m\n\u001b[1;32m     17\u001b[0m         \u001b[0mfeatures\u001b[0m\u001b[0;34m,\u001b[0m \u001b[0mlabels\u001b[0m \u001b[0;34m=\u001b[0m \u001b[0mbatch\u001b[0m  \u001b[0;31m# Ensure your Dataset and collate function return the right format\u001b[0m\u001b[0;34m\u001b[0m\u001b[0;34m\u001b[0m\u001b[0m\n",
      "\u001b[0;32m~/.local/lib/python3.10/site-packages/torch/utils/data/dataloader.py\u001b[0m in \u001b[0;36m__next__\u001b[0;34m(self)\u001b[0m\n\u001b[1;32m    699\u001b[0m                 \u001b[0;31m# TODO(https://github.com/pytorch/pytorch/issues/76750)\u001b[0m\u001b[0;34m\u001b[0m\u001b[0;34m\u001b[0m\u001b[0m\n\u001b[1;32m    700\u001b[0m                 \u001b[0mself\u001b[0m\u001b[0;34m.\u001b[0m\u001b[0m_reset\u001b[0m\u001b[0;34m(\u001b[0m\u001b[0;34m)\u001b[0m  \u001b[0;31m# type: ignore[call-arg]\u001b[0m\u001b[0;34m\u001b[0m\u001b[0;34m\u001b[0m\u001b[0m\n\u001b[0;32m--> 701\u001b[0;31m             \u001b[0mdata\u001b[0m \u001b[0;34m=\u001b[0m \u001b[0mself\u001b[0m\u001b[0;34m.\u001b[0m\u001b[0m_next_data\u001b[0m\u001b[0;34m(\u001b[0m\u001b[0;34m)\u001b[0m\u001b[0;34m\u001b[0m\u001b[0;34m\u001b[0m\u001b[0m\n\u001b[0m\u001b[1;32m    702\u001b[0m             \u001b[0mself\u001b[0m\u001b[0;34m.\u001b[0m\u001b[0m_num_yielded\u001b[0m \u001b[0;34m+=\u001b[0m \u001b[0;36m1\u001b[0m\u001b[0;34m\u001b[0m\u001b[0;34m\u001b[0m\u001b[0m\n\u001b[1;32m    703\u001b[0m             if (\n",
      "\u001b[0;32m~/.local/lib/python3.10/site-packages/torch/utils/data/dataloader.py\u001b[0m in \u001b[0;36m_next_data\u001b[0;34m(self)\u001b[0m\n\u001b[1;32m    755\u001b[0m     \u001b[0;32mdef\u001b[0m \u001b[0m_next_data\u001b[0m\u001b[0;34m(\u001b[0m\u001b[0mself\u001b[0m\u001b[0;34m)\u001b[0m\u001b[0;34m:\u001b[0m\u001b[0;34m\u001b[0m\u001b[0;34m\u001b[0m\u001b[0m\n\u001b[1;32m    756\u001b[0m         \u001b[0mindex\u001b[0m \u001b[0;34m=\u001b[0m \u001b[0mself\u001b[0m\u001b[0;34m.\u001b[0m\u001b[0m_next_index\u001b[0m\u001b[0;34m(\u001b[0m\u001b[0;34m)\u001b[0m  \u001b[0;31m# may raise StopIteration\u001b[0m\u001b[0;34m\u001b[0m\u001b[0;34m\u001b[0m\u001b[0m\n\u001b[0;32m--> 757\u001b[0;31m         \u001b[0mdata\u001b[0m \u001b[0;34m=\u001b[0m \u001b[0mself\u001b[0m\u001b[0;34m.\u001b[0m\u001b[0m_dataset_fetcher\u001b[0m\u001b[0;34m.\u001b[0m\u001b[0mfetch\u001b[0m\u001b[0;34m(\u001b[0m\u001b[0mindex\u001b[0m\u001b[0;34m)\u001b[0m  \u001b[0;31m# may raise StopIteration\u001b[0m\u001b[0;34m\u001b[0m\u001b[0;34m\u001b[0m\u001b[0m\n\u001b[0m\u001b[1;32m    758\u001b[0m         \u001b[0;32mif\u001b[0m \u001b[0mself\u001b[0m\u001b[0;34m.\u001b[0m\u001b[0m_pin_memory\u001b[0m\u001b[0;34m:\u001b[0m\u001b[0;34m\u001b[0m\u001b[0;34m\u001b[0m\u001b[0m\n\u001b[1;32m    759\u001b[0m             \u001b[0mdata\u001b[0m \u001b[0;34m=\u001b[0m \u001b[0m_utils\u001b[0m\u001b[0;34m.\u001b[0m\u001b[0mpin_memory\u001b[0m\u001b[0;34m.\u001b[0m\u001b[0mpin_memory\u001b[0m\u001b[0;34m(\u001b[0m\u001b[0mdata\u001b[0m\u001b[0;34m,\u001b[0m \u001b[0mself\u001b[0m\u001b[0;34m.\u001b[0m\u001b[0m_pin_memory_device\u001b[0m\u001b[0;34m)\u001b[0m\u001b[0;34m\u001b[0m\u001b[0;34m\u001b[0m\u001b[0m\n",
      "\u001b[0;32m~/.local/lib/python3.10/site-packages/torch/utils/data/_utils/fetch.py\u001b[0m in \u001b[0;36mfetch\u001b[0;34m(self, possibly_batched_index)\u001b[0m\n\u001b[1;32m     48\u001b[0m         \u001b[0;32mif\u001b[0m \u001b[0mself\u001b[0m\u001b[0;34m.\u001b[0m\u001b[0mauto_collation\u001b[0m\u001b[0;34m:\u001b[0m\u001b[0;34m\u001b[0m\u001b[0;34m\u001b[0m\u001b[0m\n\u001b[1;32m     49\u001b[0m             \u001b[0;32mif\u001b[0m \u001b[0mhasattr\u001b[0m\u001b[0;34m(\u001b[0m\u001b[0mself\u001b[0m\u001b[0;34m.\u001b[0m\u001b[0mdataset\u001b[0m\u001b[0;34m,\u001b[0m \u001b[0;34m\"__getitems__\"\u001b[0m\u001b[0;34m)\u001b[0m \u001b[0;32mand\u001b[0m \u001b[0mself\u001b[0m\u001b[0;34m.\u001b[0m\u001b[0mdataset\u001b[0m\u001b[0;34m.\u001b[0m\u001b[0m__getitems__\u001b[0m\u001b[0;34m:\u001b[0m\u001b[0;34m\u001b[0m\u001b[0;34m\u001b[0m\u001b[0m\n\u001b[0;32m---> 50\u001b[0;31m                 \u001b[0mdata\u001b[0m \u001b[0;34m=\u001b[0m \u001b[0mself\u001b[0m\u001b[0;34m.\u001b[0m\u001b[0mdataset\u001b[0m\u001b[0;34m.\u001b[0m\u001b[0m__getitems__\u001b[0m\u001b[0;34m(\u001b[0m\u001b[0mpossibly_batched_index\u001b[0m\u001b[0;34m)\u001b[0m\u001b[0;34m\u001b[0m\u001b[0;34m\u001b[0m\u001b[0m\n\u001b[0m\u001b[1;32m     51\u001b[0m             \u001b[0;32melse\u001b[0m\u001b[0;34m:\u001b[0m\u001b[0;34m\u001b[0m\u001b[0;34m\u001b[0m\u001b[0m\n\u001b[1;32m     52\u001b[0m                 \u001b[0mdata\u001b[0m \u001b[0;34m=\u001b[0m \u001b[0;34m[\u001b[0m\u001b[0mself\u001b[0m\u001b[0;34m.\u001b[0m\u001b[0mdataset\u001b[0m\u001b[0;34m[\u001b[0m\u001b[0midx\u001b[0m\u001b[0;34m]\u001b[0m \u001b[0;32mfor\u001b[0m \u001b[0midx\u001b[0m \u001b[0;32min\u001b[0m \u001b[0mpossibly_batched_index\u001b[0m\u001b[0;34m]\u001b[0m\u001b[0;34m\u001b[0m\u001b[0;34m\u001b[0m\u001b[0m\n",
      "\u001b[0;32m~/.local/lib/python3.10/site-packages/torch/utils/data/dataset.py\u001b[0m in \u001b[0;36m__getitems__\u001b[0;34m(self, indices)\u001b[0m\n\u001b[1;32m    418\u001b[0m             \u001b[0;32mreturn\u001b[0m \u001b[0mself\u001b[0m\u001b[0;34m.\u001b[0m\u001b[0mdataset\u001b[0m\u001b[0;34m.\u001b[0m\u001b[0m__getitems__\u001b[0m\u001b[0;34m(\u001b[0m\u001b[0;34m[\u001b[0m\u001b[0mself\u001b[0m\u001b[0;34m.\u001b[0m\u001b[0mindices\u001b[0m\u001b[0;34m[\u001b[0m\u001b[0midx\u001b[0m\u001b[0;34m]\u001b[0m \u001b[0;32mfor\u001b[0m \u001b[0midx\u001b[0m \u001b[0;32min\u001b[0m \u001b[0mindices\u001b[0m\u001b[0;34m]\u001b[0m\u001b[0;34m)\u001b[0m  \u001b[0;31m# type: ignore[attr-defined]\u001b[0m\u001b[0;34m\u001b[0m\u001b[0;34m\u001b[0m\u001b[0m\n\u001b[1;32m    419\u001b[0m         \u001b[0;32melse\u001b[0m\u001b[0;34m:\u001b[0m\u001b[0;34m\u001b[0m\u001b[0;34m\u001b[0m\u001b[0m\n\u001b[0;32m--> 420\u001b[0;31m             \u001b[0;32mreturn\u001b[0m \u001b[0;34m[\u001b[0m\u001b[0mself\u001b[0m\u001b[0;34m.\u001b[0m\u001b[0mdataset\u001b[0m\u001b[0;34m[\u001b[0m\u001b[0mself\u001b[0m\u001b[0;34m.\u001b[0m\u001b[0mindices\u001b[0m\u001b[0;34m[\u001b[0m\u001b[0midx\u001b[0m\u001b[0;34m]\u001b[0m\u001b[0;34m]\u001b[0m \u001b[0;32mfor\u001b[0m \u001b[0midx\u001b[0m \u001b[0;32min\u001b[0m \u001b[0mindices\u001b[0m\u001b[0;34m]\u001b[0m\u001b[0;34m\u001b[0m\u001b[0;34m\u001b[0m\u001b[0m\n\u001b[0m\u001b[1;32m    421\u001b[0m \u001b[0;34m\u001b[0m\u001b[0m\n\u001b[1;32m    422\u001b[0m     \u001b[0;32mdef\u001b[0m \u001b[0m__len__\u001b[0m\u001b[0;34m(\u001b[0m\u001b[0mself\u001b[0m\u001b[0;34m)\u001b[0m\u001b[0;34m:\u001b[0m\u001b[0;34m\u001b[0m\u001b[0;34m\u001b[0m\u001b[0m\n",
      "\u001b[0;32m~/.local/lib/python3.10/site-packages/torch/utils/data/dataset.py\u001b[0m in \u001b[0;36m<listcomp>\u001b[0;34m(.0)\u001b[0m\n\u001b[1;32m    418\u001b[0m             \u001b[0;32mreturn\u001b[0m \u001b[0mself\u001b[0m\u001b[0;34m.\u001b[0m\u001b[0mdataset\u001b[0m\u001b[0;34m.\u001b[0m\u001b[0m__getitems__\u001b[0m\u001b[0;34m(\u001b[0m\u001b[0;34m[\u001b[0m\u001b[0mself\u001b[0m\u001b[0;34m.\u001b[0m\u001b[0mindices\u001b[0m\u001b[0;34m[\u001b[0m\u001b[0midx\u001b[0m\u001b[0;34m]\u001b[0m \u001b[0;32mfor\u001b[0m \u001b[0midx\u001b[0m \u001b[0;32min\u001b[0m \u001b[0mindices\u001b[0m\u001b[0;34m]\u001b[0m\u001b[0;34m)\u001b[0m  \u001b[0;31m# type: ignore[attr-defined]\u001b[0m\u001b[0;34m\u001b[0m\u001b[0;34m\u001b[0m\u001b[0m\n\u001b[1;32m    419\u001b[0m         \u001b[0;32melse\u001b[0m\u001b[0;34m:\u001b[0m\u001b[0;34m\u001b[0m\u001b[0;34m\u001b[0m\u001b[0m\n\u001b[0;32m--> 420\u001b[0;31m             \u001b[0;32mreturn\u001b[0m \u001b[0;34m[\u001b[0m\u001b[0mself\u001b[0m\u001b[0;34m.\u001b[0m\u001b[0mdataset\u001b[0m\u001b[0;34m[\u001b[0m\u001b[0mself\u001b[0m\u001b[0;34m.\u001b[0m\u001b[0mindices\u001b[0m\u001b[0;34m[\u001b[0m\u001b[0midx\u001b[0m\u001b[0;34m]\u001b[0m\u001b[0;34m]\u001b[0m \u001b[0;32mfor\u001b[0m \u001b[0midx\u001b[0m \u001b[0;32min\u001b[0m \u001b[0mindices\u001b[0m\u001b[0;34m]\u001b[0m\u001b[0;34m\u001b[0m\u001b[0;34m\u001b[0m\u001b[0m\n\u001b[0m\u001b[1;32m    421\u001b[0m \u001b[0;34m\u001b[0m\u001b[0m\n\u001b[1;32m    422\u001b[0m     \u001b[0;32mdef\u001b[0m \u001b[0m__len__\u001b[0m\u001b[0;34m(\u001b[0m\u001b[0mself\u001b[0m\u001b[0;34m)\u001b[0m\u001b[0;34m:\u001b[0m\u001b[0;34m\u001b[0m\u001b[0;34m\u001b[0m\u001b[0m\n",
      "\u001b[0;32m/tmp/ipykernel_2457/4225867865.py\u001b[0m in \u001b[0;36m__getitem__\u001b[0;34m(self, idx)\u001b[0m\n\u001b[1;32m    256\u001b[0m \u001b[0;34m\u001b[0m\u001b[0m\n\u001b[1;32m    257\u001b[0m         \u001b[0;31m#\u001b[0m\u001b[0;34m\u001b[0m\u001b[0;34m\u001b[0m\u001b[0m\n\u001b[0;32m--> 258\u001b[0;31m         atmos, surf = data_retreive(self.atmos_files, self.surf_files, self.date_range\n\u001b[0m\u001b[1;32m    259\u001b[0m                              , self.window, idx,  self.variables_to_keep)\n\u001b[1;32m    260\u001b[0m \u001b[0;34m\u001b[0m\u001b[0m\n",
      "\u001b[0;32m/tmp/ipykernel_2457/3401360106.py\u001b[0m in \u001b[0;36mdata_retreive\u001b[0;34m(atmos_files, surf_files, date_range, days, idx, variables_to_keep)\u001b[0m\n\u001b[1;32m     53\u001b[0m                 \u001b[0msurf_cur\u001b[0m \u001b[0;34m=\u001b[0m \u001b[0msurf_cur\u001b[0m\u001b[0;34m.\u001b[0m\u001b[0mdrop_vars\u001b[0m\u001b[0;34m(\u001b[0m\u001b[0;34m[\u001b[0m\u001b[0mvar\u001b[0m \u001b[0;32mfor\u001b[0m \u001b[0mvar\u001b[0m \u001b[0;32min\u001b[0m \u001b[0msurf_cur\u001b[0m\u001b[0;34m.\u001b[0m\u001b[0mdata_vars\u001b[0m \u001b[0;32mif\u001b[0m \u001b[0mvar\u001b[0m \u001b[0;32mnot\u001b[0m \u001b[0;32min\u001b[0m \u001b[0mvariables_to_keep\u001b[0m\u001b[0;34m]\u001b[0m\u001b[0;34m)\u001b[0m\u001b[0;34m\u001b[0m\u001b[0;34m\u001b[0m\u001b[0m\n\u001b[1;32m     54\u001b[0m \u001b[0;34m\u001b[0m\u001b[0m\n\u001b[0;32m---> 55\u001b[0;31m             \u001b[0matmos_list\u001b[0m\u001b[0;34m.\u001b[0m\u001b[0mappend\u001b[0m\u001b[0;34m(\u001b[0m\u001b[0matmos_cur\u001b[0m\u001b[0;34m.\u001b[0m\u001b[0mload\u001b[0m\u001b[0;34m(\u001b[0m\u001b[0;34m)\u001b[0m\u001b[0;34m)\u001b[0m\u001b[0;34m\u001b[0m\u001b[0;34m\u001b[0m\u001b[0m\n\u001b[0m\u001b[1;32m     56\u001b[0m             \u001b[0msurf_list\u001b[0m\u001b[0;34m.\u001b[0m\u001b[0mappend\u001b[0m\u001b[0;34m(\u001b[0m\u001b[0msurf_cur\u001b[0m\u001b[0;34m.\u001b[0m\u001b[0mload\u001b[0m\u001b[0;34m(\u001b[0m\u001b[0;34m)\u001b[0m\u001b[0;34m)\u001b[0m\u001b[0;34m\u001b[0m\u001b[0;34m\u001b[0m\u001b[0m\n\u001b[1;32m     57\u001b[0m \u001b[0;34m\u001b[0m\u001b[0m\n",
      "\u001b[0;32m~/.local/lib/python3.10/site-packages/xarray/core/dataset.py\u001b[0m in \u001b[0;36mload\u001b[0;34m(self, **kwargs)\u001b[0m\n\u001b[1;32m    908\u001b[0m         \u001b[0;32mfor\u001b[0m \u001b[0mk\u001b[0m\u001b[0;34m,\u001b[0m \u001b[0mv\u001b[0m \u001b[0;32min\u001b[0m \u001b[0mself\u001b[0m\u001b[0;34m.\u001b[0m\u001b[0mvariables\u001b[0m\u001b[0;34m.\u001b[0m\u001b[0mitems\u001b[0m\u001b[0;34m(\u001b[0m\u001b[0;34m)\u001b[0m\u001b[0;34m:\u001b[0m\u001b[0;34m\u001b[0m\u001b[0;34m\u001b[0m\u001b[0m\n\u001b[1;32m    909\u001b[0m             \u001b[0;32mif\u001b[0m \u001b[0mk\u001b[0m \u001b[0;32mnot\u001b[0m \u001b[0;32min\u001b[0m \u001b[0mlazy_data\u001b[0m\u001b[0;34m:\u001b[0m\u001b[0;34m\u001b[0m\u001b[0;34m\u001b[0m\u001b[0m\n\u001b[0;32m--> 910\u001b[0;31m                 \u001b[0mv\u001b[0m\u001b[0;34m.\u001b[0m\u001b[0mload\u001b[0m\u001b[0;34m(\u001b[0m\u001b[0;34m)\u001b[0m\u001b[0;34m\u001b[0m\u001b[0;34m\u001b[0m\u001b[0m\n\u001b[0m\u001b[1;32m    911\u001b[0m \u001b[0;34m\u001b[0m\u001b[0m\n\u001b[1;32m    912\u001b[0m         \u001b[0;32mreturn\u001b[0m \u001b[0mself\u001b[0m\u001b[0;34m\u001b[0m\u001b[0;34m\u001b[0m\u001b[0m\n",
      "\u001b[0;32m~/.local/lib/python3.10/site-packages/xarray/core/variable.py\u001b[0m in \u001b[0;36mload\u001b[0;34m(self, **kwargs)\u001b[0m\n\u001b[1;32m   1004\u001b[0m         \u001b[0mdask\u001b[0m\u001b[0;34m.\u001b[0m\u001b[0marray\u001b[0m\u001b[0;34m.\u001b[0m\u001b[0mcompute\u001b[0m\u001b[0;34m\u001b[0m\u001b[0;34m\u001b[0m\u001b[0m\n\u001b[1;32m   1005\u001b[0m         \"\"\"\n\u001b[0;32m-> 1006\u001b[0;31m         \u001b[0mself\u001b[0m\u001b[0;34m.\u001b[0m\u001b[0m_data\u001b[0m \u001b[0;34m=\u001b[0m \u001b[0mto_duck_array\u001b[0m\u001b[0;34m(\u001b[0m\u001b[0mself\u001b[0m\u001b[0;34m.\u001b[0m\u001b[0m_data\u001b[0m\u001b[0;34m,\u001b[0m \u001b[0;34m**\u001b[0m\u001b[0mkwargs\u001b[0m\u001b[0;34m)\u001b[0m\u001b[0;34m\u001b[0m\u001b[0;34m\u001b[0m\u001b[0m\n\u001b[0m\u001b[1;32m   1007\u001b[0m         \u001b[0;32mreturn\u001b[0m \u001b[0mself\u001b[0m\u001b[0;34m\u001b[0m\u001b[0;34m\u001b[0m\u001b[0m\n\u001b[1;32m   1008\u001b[0m \u001b[0;34m\u001b[0m\u001b[0m\n",
      "\u001b[0;32m~/.local/lib/python3.10/site-packages/xarray/namedarray/pycompat.py\u001b[0m in \u001b[0;36mto_duck_array\u001b[0;34m(data, **kwargs)\u001b[0m\n\u001b[1;32m    132\u001b[0m \u001b[0;34m\u001b[0m\u001b[0m\n\u001b[1;32m    133\u001b[0m     \u001b[0;32mif\u001b[0m \u001b[0misinstance\u001b[0m\u001b[0;34m(\u001b[0m\u001b[0mdata\u001b[0m\u001b[0;34m,\u001b[0m \u001b[0mExplicitlyIndexed\u001b[0m\u001b[0;34m)\u001b[0m\u001b[0;34m:\u001b[0m\u001b[0;34m\u001b[0m\u001b[0;34m\u001b[0m\u001b[0m\n\u001b[0;32m--> 134\u001b[0;31m         \u001b[0;32mreturn\u001b[0m \u001b[0mdata\u001b[0m\u001b[0;34m.\u001b[0m\u001b[0mget_duck_array\u001b[0m\u001b[0;34m(\u001b[0m\u001b[0;34m)\u001b[0m  \u001b[0;31m# type: ignore[no-untyped-call, no-any-return]\u001b[0m\u001b[0;34m\u001b[0m\u001b[0;34m\u001b[0m\u001b[0m\n\u001b[0m\u001b[1;32m    135\u001b[0m     \u001b[0;32melif\u001b[0m \u001b[0mis_duck_array\u001b[0m\u001b[0;34m(\u001b[0m\u001b[0mdata\u001b[0m\u001b[0;34m)\u001b[0m\u001b[0;34m:\u001b[0m\u001b[0;34m\u001b[0m\u001b[0;34m\u001b[0m\u001b[0m\n\u001b[1;32m    136\u001b[0m         \u001b[0;32mreturn\u001b[0m \u001b[0mdata\u001b[0m\u001b[0;34m\u001b[0m\u001b[0;34m\u001b[0m\u001b[0m\n",
      "\u001b[0;32m~/.local/lib/python3.10/site-packages/xarray/core/indexing.py\u001b[0m in \u001b[0;36mget_duck_array\u001b[0;34m(self)\u001b[0m\n\u001b[1;32m    833\u001b[0m \u001b[0;34m\u001b[0m\u001b[0m\n\u001b[1;32m    834\u001b[0m     \u001b[0;32mdef\u001b[0m \u001b[0mget_duck_array\u001b[0m\u001b[0;34m(\u001b[0m\u001b[0mself\u001b[0m\u001b[0;34m)\u001b[0m\u001b[0;34m:\u001b[0m\u001b[0;34m\u001b[0m\u001b[0;34m\u001b[0m\u001b[0m\n\u001b[0;32m--> 835\u001b[0;31m         \u001b[0mself\u001b[0m\u001b[0;34m.\u001b[0m\u001b[0m_ensure_cached\u001b[0m\u001b[0;34m(\u001b[0m\u001b[0;34m)\u001b[0m\u001b[0;34m\u001b[0m\u001b[0;34m\u001b[0m\u001b[0m\n\u001b[0m\u001b[1;32m    836\u001b[0m         \u001b[0;32mreturn\u001b[0m \u001b[0mself\u001b[0m\u001b[0;34m.\u001b[0m\u001b[0marray\u001b[0m\u001b[0;34m.\u001b[0m\u001b[0mget_duck_array\u001b[0m\u001b[0;34m(\u001b[0m\u001b[0;34m)\u001b[0m\u001b[0;34m\u001b[0m\u001b[0;34m\u001b[0m\u001b[0m\n\u001b[1;32m    837\u001b[0m \u001b[0;34m\u001b[0m\u001b[0m\n",
      "\u001b[0;32m~/.local/lib/python3.10/site-packages/xarray/core/indexing.py\u001b[0m in \u001b[0;36m_ensure_cached\u001b[0;34m(self)\u001b[0m\n\u001b[1;32m    830\u001b[0m \u001b[0;34m\u001b[0m\u001b[0m\n\u001b[1;32m    831\u001b[0m     \u001b[0;32mdef\u001b[0m \u001b[0m_ensure_cached\u001b[0m\u001b[0;34m(\u001b[0m\u001b[0mself\u001b[0m\u001b[0;34m)\u001b[0m\u001b[0;34m:\u001b[0m\u001b[0;34m\u001b[0m\u001b[0;34m\u001b[0m\u001b[0m\n\u001b[0;32m--> 832\u001b[0;31m         \u001b[0mself\u001b[0m\u001b[0;34m.\u001b[0m\u001b[0marray\u001b[0m \u001b[0;34m=\u001b[0m \u001b[0mas_indexable\u001b[0m\u001b[0;34m(\u001b[0m\u001b[0mself\u001b[0m\u001b[0;34m.\u001b[0m\u001b[0marray\u001b[0m\u001b[0;34m.\u001b[0m\u001b[0mget_duck_array\u001b[0m\u001b[0;34m(\u001b[0m\u001b[0;34m)\u001b[0m\u001b[0;34m)\u001b[0m\u001b[0;34m\u001b[0m\u001b[0;34m\u001b[0m\u001b[0m\n\u001b[0m\u001b[1;32m    833\u001b[0m \u001b[0;34m\u001b[0m\u001b[0m\n\u001b[1;32m    834\u001b[0m     \u001b[0;32mdef\u001b[0m \u001b[0mget_duck_array\u001b[0m\u001b[0;34m(\u001b[0m\u001b[0mself\u001b[0m\u001b[0;34m)\u001b[0m\u001b[0;34m:\u001b[0m\u001b[0;34m\u001b[0m\u001b[0;34m\u001b[0m\u001b[0m\n",
      "\u001b[0;32m~/.local/lib/python3.10/site-packages/xarray/core/indexing.py\u001b[0m in \u001b[0;36mget_duck_array\u001b[0;34m(self)\u001b[0m\n\u001b[1;32m    787\u001b[0m \u001b[0;34m\u001b[0m\u001b[0m\n\u001b[1;32m    788\u001b[0m     \u001b[0;32mdef\u001b[0m \u001b[0mget_duck_array\u001b[0m\u001b[0;34m(\u001b[0m\u001b[0mself\u001b[0m\u001b[0;34m)\u001b[0m\u001b[0;34m:\u001b[0m\u001b[0;34m\u001b[0m\u001b[0;34m\u001b[0m\u001b[0m\n\u001b[0;32m--> 789\u001b[0;31m         \u001b[0;32mreturn\u001b[0m \u001b[0mself\u001b[0m\u001b[0;34m.\u001b[0m\u001b[0marray\u001b[0m\u001b[0;34m.\u001b[0m\u001b[0mget_duck_array\u001b[0m\u001b[0;34m(\u001b[0m\u001b[0;34m)\u001b[0m\u001b[0;34m\u001b[0m\u001b[0;34m\u001b[0m\u001b[0m\n\u001b[0m\u001b[1;32m    790\u001b[0m \u001b[0;34m\u001b[0m\u001b[0m\n\u001b[1;32m    791\u001b[0m     \u001b[0;32mdef\u001b[0m \u001b[0m_oindex_get\u001b[0m\u001b[0;34m(\u001b[0m\u001b[0mself\u001b[0m\u001b[0;34m,\u001b[0m \u001b[0mindexer\u001b[0m\u001b[0;34m:\u001b[0m \u001b[0mOuterIndexer\u001b[0m\u001b[0;34m)\u001b[0m\u001b[0;34m:\u001b[0m\u001b[0;34m\u001b[0m\u001b[0;34m\u001b[0m\u001b[0m\n",
      "\u001b[0;32m~/.local/lib/python3.10/site-packages/xarray/core/indexing.py\u001b[0m in \u001b[0;36mget_duck_array\u001b[0;34m(self)\u001b[0m\n\u001b[1;32m    650\u001b[0m             \u001b[0;31m# If the array is not an ExplicitlyIndexedNDArrayMixin,\u001b[0m\u001b[0;34m\u001b[0m\u001b[0;34m\u001b[0m\u001b[0m\n\u001b[1;32m    651\u001b[0m             \u001b[0;31m# it may wrap a BackendArray so use its __getitem__\u001b[0m\u001b[0;34m\u001b[0m\u001b[0;34m\u001b[0m\u001b[0m\n\u001b[0;32m--> 652\u001b[0;31m             \u001b[0marray\u001b[0m \u001b[0;34m=\u001b[0m \u001b[0mself\u001b[0m\u001b[0;34m.\u001b[0m\u001b[0marray\u001b[0m\u001b[0;34m[\u001b[0m\u001b[0mself\u001b[0m\u001b[0;34m.\u001b[0m\u001b[0mkey\u001b[0m\u001b[0;34m]\u001b[0m\u001b[0;34m\u001b[0m\u001b[0;34m\u001b[0m\u001b[0m\n\u001b[0m\u001b[1;32m    653\u001b[0m \u001b[0;34m\u001b[0m\u001b[0m\n\u001b[1;32m    654\u001b[0m         \u001b[0;31m# self.array[self.key] is now a numpy array when\u001b[0m\u001b[0;34m\u001b[0m\u001b[0;34m\u001b[0m\u001b[0m\n",
      "\u001b[0;32m~/.local/lib/python3.10/site-packages/xarray/backends/netCDF4_.py\u001b[0m in \u001b[0;36m__getitem__\u001b[0;34m(self, key)\u001b[0m\n\u001b[1;32m    101\u001b[0m \u001b[0;34m\u001b[0m\u001b[0m\n\u001b[1;32m    102\u001b[0m     \u001b[0;32mdef\u001b[0m \u001b[0m__getitem__\u001b[0m\u001b[0;34m(\u001b[0m\u001b[0mself\u001b[0m\u001b[0;34m,\u001b[0m \u001b[0mkey\u001b[0m\u001b[0;34m)\u001b[0m\u001b[0;34m:\u001b[0m\u001b[0;34m\u001b[0m\u001b[0;34m\u001b[0m\u001b[0m\n\u001b[0;32m--> 103\u001b[0;31m         return indexing.explicit_indexing_adapter(\n\u001b[0m\u001b[1;32m    104\u001b[0m             \u001b[0mkey\u001b[0m\u001b[0;34m,\u001b[0m \u001b[0mself\u001b[0m\u001b[0;34m.\u001b[0m\u001b[0mshape\u001b[0m\u001b[0;34m,\u001b[0m \u001b[0mindexing\u001b[0m\u001b[0;34m.\u001b[0m\u001b[0mIndexingSupport\u001b[0m\u001b[0;34m.\u001b[0m\u001b[0mOUTER\u001b[0m\u001b[0;34m,\u001b[0m \u001b[0mself\u001b[0m\u001b[0;34m.\u001b[0m\u001b[0m_getitem\u001b[0m\u001b[0;34m\u001b[0m\u001b[0;34m\u001b[0m\u001b[0m\n\u001b[1;32m    105\u001b[0m         )\n",
      "\u001b[0;32m~/.local/lib/python3.10/site-packages/xarray/core/indexing.py\u001b[0m in \u001b[0;36mexplicit_indexing_adapter\u001b[0;34m(key, shape, indexing_support, raw_indexing_method)\u001b[0m\n\u001b[1;32m   1011\u001b[0m     \"\"\"\n\u001b[1;32m   1012\u001b[0m     \u001b[0mraw_key\u001b[0m\u001b[0;34m,\u001b[0m \u001b[0mnumpy_indices\u001b[0m \u001b[0;34m=\u001b[0m \u001b[0mdecompose_indexer\u001b[0m\u001b[0;34m(\u001b[0m\u001b[0mkey\u001b[0m\u001b[0;34m,\u001b[0m \u001b[0mshape\u001b[0m\u001b[0;34m,\u001b[0m \u001b[0mindexing_support\u001b[0m\u001b[0;34m)\u001b[0m\u001b[0;34m\u001b[0m\u001b[0;34m\u001b[0m\u001b[0m\n\u001b[0;32m-> 1013\u001b[0;31m     \u001b[0mresult\u001b[0m \u001b[0;34m=\u001b[0m \u001b[0mraw_indexing_method\u001b[0m\u001b[0;34m(\u001b[0m\u001b[0mraw_key\u001b[0m\u001b[0;34m.\u001b[0m\u001b[0mtuple\u001b[0m\u001b[0;34m)\u001b[0m\u001b[0;34m\u001b[0m\u001b[0;34m\u001b[0m\u001b[0m\n\u001b[0m\u001b[1;32m   1014\u001b[0m     \u001b[0;32mif\u001b[0m \u001b[0mnumpy_indices\u001b[0m\u001b[0;34m.\u001b[0m\u001b[0mtuple\u001b[0m\u001b[0;34m:\u001b[0m\u001b[0;34m\u001b[0m\u001b[0;34m\u001b[0m\u001b[0m\n\u001b[1;32m   1015\u001b[0m         \u001b[0;31m# index the loaded np.ndarray\u001b[0m\u001b[0;34m\u001b[0m\u001b[0;34m\u001b[0m\u001b[0m\n",
      "\u001b[0;32m~/.local/lib/python3.10/site-packages/xarray/backends/netCDF4_.py\u001b[0m in \u001b[0;36m_getitem\u001b[0;34m(self, key)\u001b[0m\n\u001b[1;32m    114\u001b[0m             \u001b[0;32mwith\u001b[0m \u001b[0mself\u001b[0m\u001b[0;34m.\u001b[0m\u001b[0mdatastore\u001b[0m\u001b[0;34m.\u001b[0m\u001b[0mlock\u001b[0m\u001b[0;34m:\u001b[0m\u001b[0;34m\u001b[0m\u001b[0;34m\u001b[0m\u001b[0m\n\u001b[1;32m    115\u001b[0m                 \u001b[0moriginal_array\u001b[0m \u001b[0;34m=\u001b[0m \u001b[0mself\u001b[0m\u001b[0;34m.\u001b[0m\u001b[0mget_array\u001b[0m\u001b[0;34m(\u001b[0m\u001b[0mneeds_lock\u001b[0m\u001b[0;34m=\u001b[0m\u001b[0;32mFalse\u001b[0m\u001b[0;34m)\u001b[0m\u001b[0;34m\u001b[0m\u001b[0;34m\u001b[0m\u001b[0m\n\u001b[0;32m--> 116\u001b[0;31m                 \u001b[0marray\u001b[0m \u001b[0;34m=\u001b[0m \u001b[0mgetitem\u001b[0m\u001b[0;34m(\u001b[0m\u001b[0moriginal_array\u001b[0m\u001b[0;34m,\u001b[0m \u001b[0mkey\u001b[0m\u001b[0;34m)\u001b[0m\u001b[0;34m\u001b[0m\u001b[0;34m\u001b[0m\u001b[0m\n\u001b[0m\u001b[1;32m    117\u001b[0m         \u001b[0;32mexcept\u001b[0m \u001b[0mIndexError\u001b[0m \u001b[0;32mas\u001b[0m \u001b[0merr\u001b[0m\u001b[0;34m:\u001b[0m\u001b[0;34m\u001b[0m\u001b[0;34m\u001b[0m\u001b[0m\n\u001b[1;32m    118\u001b[0m             \u001b[0;31m# Catch IndexError in netCDF4 and return a more informative\u001b[0m\u001b[0;34m\u001b[0m\u001b[0;34m\u001b[0m\u001b[0m\n",
      "\u001b[0;31mKeyboardInterrupt\u001b[0m: "
     ]
    }
   ],
   "source": [
    "from sklearn.metrics import accuracy_score, precision_score, recall_score, f1_score, jaccard_score\n",
    "\n",
    "accuracy = 0\n",
    "precision = 0\n",
    "recall = 0\n",
    "f1 = 0\n",
    "iou = 0\n",
    "total_samples = 0\n",
    "\n",
    "threshold = 0.5 \n",
    "\n",
    "\n",
    "\n",
    "model.eval()  # Set model to evaluation mode\n",
    "with torch.no_grad():  # Disable gradient computations\n",
    "    # for batch in dataloader_test:\n",
    "    for batch in dataloader_test:\n",
    "        \n",
    "        features, labels = batch  # Ensure your Dataset and collate function return the right format\n",
    "        \n",
    "\n",
    "        # print(\"label unique:\", np.unique(labels.surf_vars[\"fire\"].cpu().numpy())[:10])\n",
    "        # print(\"feature unique:\",np.unique(features.surf_vars[\"fire\"].cpu().numpy()))\n",
    "\n",
    "        labels = labels.to(device)\n",
    "        features = features.to(device)\n",
    "        \n",
    "        pred = model.forward(features)\n",
    "        # pred = pred.to(device)\n",
    "        # print(pred.surf_vars[\"fire\"].shape)\n",
    "        # print(labels.surf_vars[\"fire\"].shape)\n",
    "\n",
    "        # flatten turns 720, 1440 into 1036800 \n",
    "        pred_fire = pred.surf_vars[\"fire\"].cpu().numpy().flatten() \n",
    "        pred_fire = np.nan_to_num(pred_fire, nan=0)\n",
    "        pred_fire = (pred_fire > threshold).astype(int)\n",
    "        lab_fire = labels.surf_vars[\"fire\"].cpu().numpy().flatten()\n",
    "        lab_fire = (lab_fire > threshold).astype(int)\n",
    "        \n",
    "        # print(\"lab_fire:\", lab_fire.shape, lab_fire.dtype, lab_fire)\n",
    "        # print(\"pred_fire:\", pred_fire.shape, pred_fire.dtype, pred_fire)\n",
    "        # print(len(np.unique(lab_fire)))\n",
    "        # print((np.unique(lab_fire)))\n",
    "        # print(len(np.unique(pred_fire)))\n",
    "        # print((np.unique(pred_fire)))\n",
    "\n",
    "        # Assume `preds` and `labels` are your predicted and true grids (flattened for metrics)\n",
    "        # pred_fire = pred_fire.cpu().numpy().flatten()\n",
    "        # lab_fire = lab_fire.cpu().numpy().flatten()\n",
    "        # pred_fire = pred_fire.numpy().flatten()\n",
    "        # lab_fire = lab_fire.numpy().flatten()\n",
    "\n",
    "        # Compute metrics\n",
    "        accuracy += accuracy_score(lab_fire, pred_fire)\n",
    "        precision += precision_score(lab_fire, pred_fire, zero_division=1)\n",
    "        recall += recall_score(lab_fire, pred_fire, zero_division=1)\n",
    "        f1 += f1_score(lab_fire, pred_fire, zero_division=1)\n",
    "        iou += jaccard_score(lab_fire, pred_fire)\n",
    "        # total_samples += labels.size(0)\n",
    "        total_samples += 1\n",
    "\n",
    "print(f\"Accuracy: {accuracy:.4f}\")\n",
    "print(f\"Precision: {precision:.4f}\")\n",
    "print(f\"Recall: {recall:.4f}\")\n",
    "print(f\"F1 Score: {f1:.4f}\")\n",
    "print(f\"IoU: {iou:.4f}\")"
   ]
  },
  {
   "cell_type": "markdown",
   "metadata": {},
   "source": [
    "same code but with visalizaztions"
   ]
  },
  {
   "cell_type": "code",
   "execution_count": 18,
   "metadata": {
    "scrolled": true
   },
   "outputs": [
    {
     "name": "stdout",
     "output_type": "stream",
     "text": [
      "in getitem feature: [0. 1.]\n",
      "in getitem label: [0 1]\n",
      "in getitem feature: [0. 1.]\n",
      "in getitem label: [0 1]\n",
      "in getitem feature: [0. 1.]\n",
      "in getitem label: [0 1]\n",
      "in getitem feature: [0. 1.]\n",
      "in getitem label: [0 1]\n",
      "in getitem feature: [0. 1.]\n",
      "in getitem label: [0 1]\n",
      "in getitem feature: [0. 1.]\n",
      "in getitem label: [0 1]\n",
      "in getitem feature: [0. 1.]\n",
      "in getitem label: [0 1]\n",
      "in getitem feature: [0. 1.]\n",
      "in getitem label: [0 1]\n",
      "in getitem feature: [0. 1.]\n",
      "in getitem label: [0 1]\n",
      "in getitem feature: [0. 1.]\n",
      "in getitem label: [0 1]\n",
      "in getitem feature: [0. 1.]\n",
      "in getitem label: [0 1]\n",
      "in getitem feature: [0. 1.]\n",
      "in getitem label: [0 1]\n",
      "in getitem feature: [0. 1.]\n",
      "in getitem label: [0 1]\n",
      "in getitem feature: [0. 1.]\n",
      "in getitem label: [0 1]\n",
      "in getitem feature: [0. 1.]\n",
      "in getitem label: [0 1]\n",
      "in getitem feature: [0. 1.]\n",
      "in getitem label: [0 1]\n",
      "in getitem feature: [0. 1.]\n",
      "in getitem label: [0 1]\n",
      "in getitem feature: [0. 1.]\n",
      "in getitem label: [0 1]\n",
      "in getitem feature: [0. 1.]\n",
      "in getitem label: [0 1]\n",
      "in getitem feature: [0. 1.]\n",
      "in getitem label: [0 1]\n",
      "in getitem feature: [0. 1.]\n",
      "in getitem label: [0 1]\n",
      "in getitem feature: [0. 1.]\n",
      "in getitem label: [0 1]\n",
      "in getitem feature: [0. 1.]\n",
      "in getitem label: [0 1]\n",
      "in getitem feature: [0. 1.]\n",
      "in getitem label: [0 1]\n",
      "in getitem feature: [0. 1.]\n",
      "in getitem label: [0 1]\n",
      "in getitem feature: [0. 1.]\n",
      "in getitem label: [0 1]\n",
      "in getitem feature: [0. 1.]\n",
      "in getitem label: [0 1]\n",
      "in getitem feature: [0. 1.]\n",
      "in getitem label: [0 1]\n",
      "in getitem feature: [0. 1.]\n",
      "in getitem label: [0 1]\n",
      "in getitem feature: [0. 1.]\n",
      "in getitem label: [0 1]\n",
      "in getitem feature: [0. 1.]\n",
      "in getitem label: [0 1]\n",
      "in getitem feature: [0. 1.]\n",
      "in getitem label: [0 1]\n",
      "in getitem feature: [0. 1.]\n",
      "in getitem label: [0 1]\n",
      "in getitem feature: [0. 1.]\n",
      "in getitem label: [0 1]\n",
      "in getitem feature: [0. 1.]\n",
      "in getitem label: [0 1]\n",
      "in getitem feature: [0. 1.]\n",
      "in getitem label: [0 1]\n",
      "in getitem feature: [0. 1.]\n",
      "in getitem label: [0 1]\n",
      "in getitem feature: [0. 1.]\n",
      "in getitem label: [0 1]\n",
      "in getitem feature: [0. 1.]\n",
      "in getitem label: [0 1]\n",
      "in getitem feature: [0. 1.]\n",
      "in getitem label: [0 1]\n",
      "in getitem feature: [0. 1.]\n",
      "in getitem label: [0 1]\n",
      "in getitem feature: [0. 1.]\n",
      "in getitem label: [0 1]\n",
      "in getitem feature: [0. 1.]\n",
      "in getitem label: [0 1]\n",
      "in getitem feature: [0. 1.]\n",
      "in getitem label: [0 1]\n",
      "in getitem feature: [0. 1.]\n",
      "in getitem label: [0 1]\n",
      "in getitem feature: [0. 1.]\n",
      "in getitem label: [0 1]\n",
      "in getitem feature: [0. 1.]\n",
      "in getitem label: [0 1]\n",
      "in getitem feature: [0. 1.]\n",
      "in getitem label: [0 1]\n",
      "in getitem feature: [0. 1.]\n",
      "in getitem label: [0 1]\n",
      "in getitem feature: [0. 1.]\n",
      "in getitem label: [0 1]\n",
      "in getitem feature: [0. 1.]\n",
      "in getitem label: [0 1]\n",
      "in getitem feature: [0. 1.]\n",
      "in getitem label: [0 1]\n",
      "in getitem feature: [0. 1.]\n",
      "in getitem label: [0 1]\n",
      "in getitem feature: [0. 1.]\n",
      "in getitem label: [0 1]\n",
      "in getitem feature: [0. 1.]\n",
      "in getitem label: [0 1]\n",
      "in getitem feature: [0. 1.]\n",
      "in getitem label: [0 1]\n",
      "in getitem feature: [0. 1.]\n",
      "in getitem label: [0 1]\n",
      "in getitem feature: [0. 1.]\n",
      "in getitem label: [0 1]\n",
      "in getitem feature: [0. 1.]\n",
      "in getitem label: [0 1]\n",
      "in getitem feature: [0. 1.]\n",
      "in getitem label: [0 1]\n",
      "in getitem feature: [0. 1.]\n",
      "in getitem label: [0 1]\n",
      "in getitem feature: [0. 1.]\n",
      "in getitem label: [0 1]\n",
      "in getitem feature: [0. 1.]\n",
      "in getitem label: [0 1]\n",
      "in getitem feature: [0. 1.]\n",
      "in getitem label: [0 1]\n",
      "in getitem feature: [0. 1.]\n",
      "in getitem label: [0 1]\n",
      "in getitem feature: [0. 1.]\n",
      "in getitem label: [0 1]\n",
      "in getitem feature: [0. 1.]\n",
      "in getitem label: [0 1]\n",
      "in getitem feature: [0. 1.]\n",
      "in getitem label: [0 1]\n",
      "in getitem feature: [0. 1.]\n",
      "in getitem label: [0 1]\n",
      "in getitem feature: [0. 1.]\n",
      "in getitem label: [0 1]\n",
      "in getitem feature: [0. 1.]\n",
      "in getitem label: [0 1]\n",
      "in getitem feature: [0. 1.]\n",
      "in getitem label: [0 1]\n",
      "in getitem feature: [0. 1.]\n",
      "in getitem label: [0 1]\n",
      "Accuracy: 56.8897\n",
      "Precision: 0.2784\n",
      "Recall: 13.6826\n",
      "F1 Score: 0.5448\n",
      "IoU: 0.2735\n"
     ]
    }
   ],
   "source": [
    "from sklearn.metrics import accuracy_score, precision_score, recall_score, f1_score, jaccard_score\n",
    "\n",
    "accuracy = 0\n",
    "precision = 0\n",
    "recall = 0\n",
    "f1 = 0\n",
    "iou = 0\n",
    "total_samples = 0\n",
    "\n",
    "threshold = 0.5 \n",
    "\n",
    "# Initialize an array to hold the sum of predicted fires for visualization\n",
    "pred_grid = np.zeros((720, 1440))\n",
    "lab_grid = np.zeros((720, 1440))\n",
    "\n",
    "model.eval()  # Set model to evaluation mode\n",
    "with torch.no_grad():  # Disable gradient computations\n",
    "    # for batch in dataloader_test:\n",
    "    for batch in dataloader_test:        \n",
    "        features, labels = batch  # Ensure your Dataset and collate function return the right format\n",
    "        \n",
    "        labels = labels.to(device)\n",
    "        features = features.to(device)\n",
    "        \n",
    "        pred = model.forward(features)\n",
    "        \n",
    "        # flatten turns 720, 1440 into 1036800 \n",
    "        pred_fire = pred.surf_vars[\"fire\"].cpu().numpy().reshape(720, 1440)\n",
    "        pred_fire = np.nan_to_num(pred_fire, nan=0)\n",
    "        pred_fire = (pred_fire > threshold).astype(int)\n",
    "        lab_fire = labels.surf_vars[\"fire\"].cpu().numpy().reshape(720, 1440)\n",
    "        lab_fire = (lab_fire > threshold).astype(int)\n",
    "\n",
    "        # adding to grid\n",
    "        pred_grid += pred_fire\n",
    "        lab_grid += lab_fire\n",
    "\n",
    "        # flattening fr fr\n",
    "        pred_fire = pred_fire.flatten()\n",
    "        lab_fire = lab_fire.flatten()\n",
    "\n",
    "        # Compute metrics\n",
    "        accuracy += accuracy_score(lab_fire, pred_fire)\n",
    "        precision += precision_score(lab_fire, pred_fire, zero_division=1)\n",
    "        recall += recall_score(lab_fire, pred_fire, zero_division=1)\n",
    "        f1 += f1_score(lab_fire, pred_fire, zero_division=1)\n",
    "        iou += jaccard_score(lab_fire, pred_fire)\n",
    "        # total_samples += labels.size(0)\n",
    "        total_samples += 1\n",
    "\n",
    "print(f\"Accuracy: {accuracy:.4f}\")\n",
    "print(f\"Precision: {precision:.4f}\")\n",
    "print(f\"Recall: {recall:.4f}\")\n",
    "print(f\"F1 Score: {f1:.4f}\")\n",
    "print(f\"IoU: {iou:.4f}\")"
   ]
  },
  {
   "cell_type": "code",
   "execution_count": 23,
   "metadata": {},
   "outputs": [
    {
     "name": "stdout",
     "output_type": "stream",
     "text": [
      "[[ 0.  1.  0. ...  2.  0. 68.]\n",
      " [ 0.  0.  5. ...  0.  6. 40.]\n",
      " [ 2. 31.  0. ... 37.  0. 73.]\n",
      " ...\n",
      " [ 1.  8.  3. ... 15.  3. 18.]\n",
      " [60.  1.  0. ...  3.  0. 59.]\n",
      " [41. 70.  1. ... 71.  3. 49.]]\n",
      "[[0. 0. 0. ... 0. 0. 0.]\n",
      " [0. 0. 0. ... 0. 0. 0.]\n",
      " [0. 0. 0. ... 0. 0. 0.]\n",
      " ...\n",
      " [0. 0. 0. ... 0. 0. 0.]\n",
      " [0. 0. 0. ... 0. 0. 0.]\n",
      " [0. 0. 0. ... 0. 0. 0.]]\n",
      "[[0 1 0 ... 1 0 1]\n",
      " [0 0 1 ... 0 1 1]\n",
      " [1 1 0 ... 1 0 1]\n",
      " ...\n",
      " [1 1 1 ... 1 1 1]\n",
      " [1 1 0 ... 1 0 1]\n",
      " [1 1 1 ... 1 1 1]]\n"
     ]
    }
   ],
   "source": [
    "print(pred_grid)\n",
    "print(lab_grid)\n",
    "\n",
    "pred_grid_flat = (pred_grid > threshold).astype(int)\n",
    "print(pred_grid_flat)"
   ]
  },
  {
   "cell_type": "code",
   "execution_count": 27,
   "metadata": {},
   "outputs": [
    {
     "data": {
      "image/png": "[encoded data removed]",
      "text/plain": [
       "<Figure size 1152x576 with 4 Axes>"
      ]
     },
     "metadata": {
      "needs_background": "light"
     },
     "output_type": "display_data"
    }
   ],
   "source": [
    "\n",
    "#plotting\n",
    "fig, axes  = plt.subplots(1, 2, figsize = (16,8))\n",
    "axes[0].imshow(pred_grid, cmap = 'hot', interpolation = 'nearest')\n",
    "axes[0].set_title('pred fires')\n",
    "axes[0].set_xlabel('longitude')\n",
    "axes[0].set_ylabel('latitude')\n",
    "axes[0].colorbar = fig.colorbar(axes[0].images[0], ax=axes[0], fraction=0.046, pad=0.04)\n",
    "\n",
    "axes[1].imshow(lab_grid, cmap = 'hot', interpolation = 'nearest')\n",
    "axes[1].set_title('lab fires')\n",
    "axes[1].set_xlabel('longitude')\n",
    "axes[1].set_ylabel('latitude')\n",
    "axes[1].colorbar = fig.colorbar(axes[1].images[0], ax=axes[1], fraction=0.046, pad=0.04)\n",
    "\n",
    "\n",
    "# plt.colorbar(label='Number of predictions')\n",
    "plt.tight_layout()\n",
    "plt.show()"
   ]
  },
  {
   "cell_type": "code",
   "execution_count": 36,
   "metadata": {
    "tags": []
   },
   "outputs": [],
   "source": [
    "torch.save(model.state_dict(), \"aurora_fire_weights_all.pth\")\n",
    "\n",
    "### see aws id for missing line\n",
    "# bucket_name = 'globfire-gooddata'\n",
    "# s3.upload_file(\"aurora_fire_weights.pth\", bucket_name, \"aurora_fire_weights.pth\")"
   ]
  },
  {
   "cell_type": "code",
   "execution_count": null,
   "metadata": {
    "id": "ArQeaY0b8iht"
   },
   "outputs": [],
   "source": [
    "from aurora import Aurora\n",
    "\n",
    "model = Aurora(\n",
    "    use_lora=False,  # Model was not fine-tuned.\n",
    "    autocast=True,  # Use AMP.\n",
    ")\n",
    "model.load_checkpoint(\"microsoft/aurora\", \"aurora-0.25-pretrained.ckpt\")\n",
    "\n",
    "batch = ...  # Load some data.\n",
    "\n",
    "model = model.cuda()\n",
    "model.train()\n",
    "model.configure_activation_checkpointing()\n",
    "\n",
    "pred = model.forward(batch)\n",
    "loss = ...\n",
    "loss.backward()"
   ]
  },
  {
   "cell_type": "markdown",
   "metadata": {},
   "source": [
    "## trying to see if thing works with generic aah data 721 - 720 check\n"
   ]
  },
  {
   "cell_type": "code",
   "execution_count": null,
   "metadata": {},
   "outputs": [],
   "source": [
    "\n",
    "static_vars_ds = xr.open_dataset(f\"../{download_path}/static/static.nc\", engine=\"netcdf4\")\n",
    "surf_vars_ds = xr.open_dataset(f\"../{download_path}/fle/surf_2015-01-04.nc\", engine=\"netcdf4\")\n",
    "atmos_vars_ds = xr.open_dataset(f\"../{download_path}/atmospheric/201501/atmospheric_20150104.nc\", engine=\"netcdf4\")\n",
    "\n",
    "\n",
    "i = 0  # Select this time index in the downloaded data.\n",
    "\n",
    "batch3 = Batch(\n",
    "    surf_vars={\n",
    "        # First select time points `i` and `i - 1`. Afterwards, `[None]` inserts a\n",
    "        # batch dimension of size one.\n",
    "        \"2t\": torch.from_numpy(surf_vars_ds[\"t2m\"].values[[i - 1, i]][None]),\n",
    "        \"10u\": torch.from_numpy(surf_vars_ds[\"u10\"].values[[i - 1, i]][None]),\n",
    "        \"10v\": torch.from_numpy(surf_vars_ds[\"v10\"].values[[i - 1, i]][None]),\n",
    "        \"msl\": torch.from_numpy(surf_vars_ds[\"msl\"].values[[i - 1, i]][None])\n",
    "    },\n",
    "    static_vars={\n",
    "        # The static variables are constant, so we just get them for the first time.\n",
    "        \"z\": torch.from_numpy(static_vars_ds[\"z\"].values[0]),\n",
    "        \"slt\": torch.from_numpy(static_vars_ds[\"slt\"].values[0]),\n",
    "        \"lsm\": torch.from_numpy(static_vars_ds[\"lsm\"].values[0]),\n",
    "    },\n",
    "    atmos_vars={\n",
    "        \"t\": torch.from_numpy(atmos_vars_ds[\"t\"].values[[i - 1, i]][None]),\n",
    "        \"u\": torch.from_numpy(atmos_vars_ds[\"u\"].values[[i - 1, i]][None]),\n",
    "        \"v\": torch.from_numpy(atmos_vars_ds[\"v\"].values[[i - 1, i]][None]),\n",
    "        \"q\": torch.from_numpy(atmos_vars_ds[\"q\"].values[[i - 1, i]][None]),\n",
    "        \"z\": torch.from_numpy(atmos_vars_ds[\"z\"].values[[i - 1, i]][None])\n",
    "    },\n",
    "    metadata=Metadata(\n",
    "        lat=torch.from_numpy(surf_vars_ds.latitude.values),\n",
    "        lon=torch.from_numpy(surf_vars_ds.longitude.values),\n",
    "        # Converting to `datetime64[s]` ensures that the output of `tolist()` gives\n",
    "        # `datetime.datetime`s. Note that this needs to be a tuple of length one:\n",
    "        # one value for every batch element.\n",
    "        time=(surf_vars_ds.valid_time.values.astype(\"datetime64[s]\").tolist()[i],),\n",
    "        atmos_levels=tuple(int(level) for level in atmos_vars_ds.pressure_level.values),\n",
    "    ),\n",
    ")"
   ]
  },
  {
   "cell_type": "code",
   "execution_count": null,
   "metadata": {},
   "outputs": [],
   "source": [
    "i = 0  # Select this time index in the downloaded data.\n",
    "\n",
    "batch4 = Batch(\n",
    "    surf_vars={\n",
    "        # First select time points `i` and `i - 1`. Afterwards, `[None]` inserts a\n",
    "        # batch dimension of size one.\n",
    "        \"2t\": torch.from_numpy(surf_comb[\"t2m\"].values[[i - 1, i]][None]),\n",
    "        \"10u\": torch.from_numpy(surf_comb[\"u10\"].values[[i - 1, i]][None]),\n",
    "        \"10v\": torch.from_numpy(surf_comb[\"v10\"].values[[i - 1, i]][None]),\n",
    "        \"msl\": torch.from_numpy(surf_comb[\"msl\"].values[[i - 1, i]][None]),\n",
    "    },\n",
    "    static_vars={\n",
    "        # The static variables are constant, so we just get them for the first time.\n",
    "        \"z\": torch.from_numpy(static_vars_ds[\"z\"].values[0]),\n",
    "        \"slt\": torch.from_numpy(static_vars_ds[\"slt\"].values[0]),\n",
    "        \"lsm\": torch.from_numpy(static_vars_ds[\"lsm\"].values[0]),\n",
    "    },\n",
    "    atmos_vars={\n",
    "        \"t\": torch.from_numpy(atmos_comb[\"t\"].values[[i - 1, i]][None]),\n",
    "        \"u\": torch.from_numpy(atmos_comb[\"u\"].values[[i - 1, i]][None]),\n",
    "        \"v\": torch.from_numpy(atmos_comb[\"v\"].values[[i - 1, i]][None]),\n",
    "        \"q\": torch.from_numpy(atmos_comb[\"q\"].values[[i - 1, i]][None]),\n",
    "        \"z\": torch.from_numpy(atmos_comb[\"z\"].values[[i - 1, i]][None]),\n",
    "    },\n",
    "    metadata=Metadata(\n",
    "        lat=torch.from_numpy(surf_comb.latitude.values),\n",
    "        lon=torch.from_numpy(surf_comb.longitude.values),\n",
    "        # Converting to `datetime64[s]` ensures that the output of `tolist()` gives\n",
    "        # `datetime.datetime`s. Note that this needs to be a tuple of length one:\n",
    "        # one value for every batch element.\n",
    "        time=(surf_comb.valid_time.values.astype(\"datetime64[s]\").tolist()[i],),\n",
    "        atmos_levels=tuple(int(level) for level in atmos_comb.pressure_level.values),\n",
    "    ),\n",
    ")"
   ]
  },
  {
   "cell_type": "code",
   "execution_count": null,
   "metadata": {},
   "outputs": [],
   "source": [
    "from aurora import Aurora, rollout\n",
    "\n",
    "model2 = Aurora(use_lora=False)  # The pretrained version does not use LoRA.\n",
    "model2.load_checkpoint(\"microsoft/aurora\", \"aurora-0.25-pretrained.ckpt\")\n",
    "\n",
    "model2.eval()\n",
    "model2 = model2.to(\"cuda\")\n"
   ]
  },
  {
   "cell_type": "code",
   "execution_count": null,
   "metadata": {},
   "outputs": [],
   "source": [
    "\n",
    "with torch.inference_mode():\n",
    "    preds = [pred.to(\"cpu\") for pred in rollout(model2, batch4, steps=2)]\n",
    "\n",
    "model2 = model2.to(\"cpu\")\n",
    "\n",
    "# torch.stack(list(pred.surf_vars.values())).size()"
   ]
  },
  {
   "cell_type": "code",
   "execution_count": null,
   "metadata": {},
   "outputs": [],
   "source": [
    "preds[1].surf_vars['2t'].size()"
   ]
  },
  {
   "cell_type": "code",
   "execution_count": null,
   "metadata": {},
   "outputs": [],
   "source": []
  },
  {
   "cell_type": "code",
   "execution_count": null,
   "metadata": {},
   "outputs": [],
   "source": []
  }
 ],
 "metadata": {
  "colab": {
   "provenance": []
  },
  "kernelspec": {
   "display_name": "Python 3 (ipykernel)",
   "language": "python",
   "name": "python3"
  },
  "language_info": {
   "codemirror_mode": {
    "name": "ipython",
    "version": 3
   },
   "file_extension": ".py",
   "mimetype": "text/x-python",
   "name": "python",
   "nbconvert_exporter": "python",
   "pygments_lexer": "ipython3",
   "version": "3.10.12"
  },
  "toc-autonumbering": true
 },
 "nbformat": 4,
 "nbformat_minor": 4
}
